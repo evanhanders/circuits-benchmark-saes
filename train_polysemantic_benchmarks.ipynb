{
 "cells": [
  {
   "cell_type": "code",
   "execution_count": 1,
   "metadata": {},
   "outputs": [],
   "source": [
    "%load_ext autoreload\n",
    "%autoreload 2"
   ]
  },
  {
   "cell_type": "code",
   "execution_count": 4,
   "metadata": {},
   "outputs": [],
   "source": [
    "import torch\n",
    "\n",
    "from iit.model_pairs.strict_iit_model_pair import StrictIITModelPair\n",
    "\n",
    "from poly_bench.cases.paren_checker import HighLevelParensBalanceChecker, BalancedParensDataset\n",
    "from poly_bench.cases.left_greater import HighLevelLeftGreater, LeftGreaterDataset\n",
    "from poly_bench.cases.duplicate_remover import HighLevelDuplicateRemover, DuplicateRemoverDataset\n",
    "from poly_bench.cases.unique_extractor import HighLevelUniqueExtractor, UniqueExtractorDataset\n",
    "from poly_bench.poly_hl_model import PolyHLModel, PolyModelDataset\n",
    "from poly_bench.utils import save_poly_model_to_dir\n",
    "\n",
    "Case0 = HighLevelDuplicateRemover\n",
    "Case1 = HighLevelLeftGreater\n",
    "Case2 = HighLevelParensBalanceChecker\n",
    "Case3 = HighLevelUniqueExtractor\n",
    "\n",
    "dataset_mapping = {\n",
    "    HighLevelDuplicateRemover: DuplicateRemoverDataset,\n",
    "    HighLevelLeftGreater: LeftGreaterDataset,\n",
    "    HighLevelParensBalanceChecker: BalancedParensDataset,\n",
    "    HighLevelUniqueExtractor: UniqueExtractorDataset\n",
    "}"
   ]
  },
  {
   "cell_type": "code",
   "execution_count": 5,
   "metadata": {},
   "outputs": [],
   "source": [
    "n_epochs = 100\n",
    "n_samples = 10_000\n",
    "training_args = {\n",
    "    \"batch_size\": 256,\n",
    "    \"num_workers\": 0,\n",
    "    \"use_single_loss\": True,\n",
    "    \"behavior_weight\": 0.4, #basically doubles the strict weight's job.\n",
    "    \"iit_weight\": 1.,\n",
    "    \"strict_weight\": 0.4,\n",
    "    \"clip_grad_norm\": 1.0,\n",
    "    \"iit_weight_schedule\" : lambda s, i: s,\n",
    "    \"strict_weight_schedule\" : lambda s, i: s,\n",
    "    \"behavior_weight_schedule\" : lambda s, i: s, #0.955*s if 0.955**i > 0.01 else s, #have behavior weight decay over time\n",
    "    \"early_stop\" : True,\n",
    "    \"lr_scheduler\": torch.optim.lr_scheduler.LinearLR,\n",
    "    \"scheduler_kwargs\": dict(start_factor=1, end_factor=0.2, total_iters=int(n_epochs)),\n",
    "    \"optimizer_kwargs\": dict(lr=1e-3, betas=(0.9, 0.9)),\n",
    "    \"scheduler_val_metric\": [\"val/accuracy\", \"val/IIA\"], #for ReduceLRonPlateau\n",
    "    \"scheduler_mode\": \"max\", #for ReduceLRonPlateau\n",
    "    \"siit_sampling\" : \"sample_all\",\n",
    "    \"seed\" : 42\n",
    "}"
   ]
  },
  {
   "cell_type": "code",
   "execution_count": 6,
   "metadata": {},
   "outputs": [],
   "source": [
    "n_ctx = 15\n",
    "seed = 42"
   ]
  },
  {
   "cell_type": "markdown",
   "metadata": {},
   "source": [
    "# (0) DuplicateRemover + (1) LeftGreater"
   ]
  },
  {
   "cell_type": "code",
   "execution_count": 7,
   "metadata": {},
   "outputs": [
    {
     "name": "stdout",
     "output_type": "stream",
     "text": [
      "input_hook {LLNode(name='blocks.0.hook_resid_pre', index=[:], subspace=None)}\n",
      "mlp_hooks.0 {LLNode(name='blocks.0.mlp.hook_post', index=[:], subspace=None)}\n",
      "attn_hooks.0.0 {LLNode(name='blocks.0.attn.hook_z', index=[:, :, 0, :], subspace=None)}\n",
      "attn_hooks.0.1 {LLNode(name='blocks.0.attn.hook_z', index=[:, :, 1, :], subspace=None)}\n",
      "task_hook {LLNode(name='blocks.0.attn.hook_z', index=[:, :, 2, :], subspace=None)}\n",
      "mlp_hooks.1 {LLNode(name='blocks.1.mlp.hook_post', index=[:], subspace=None)}\n",
      "\n",
      "blocks.0.mlp.hook_post [[prev_equal_hook], [mlp0_hook]]\n",
      "blocks.0.attn.hook_z.0 [[prev_token_hook], None]\n",
      "blocks.0.attn.hook_z.1 [None, [paren_counts_hook]]\n",
      "blocks.0.attn.hook_z.2 [None, None]\n",
      "blocks.0.attn.hook_z.3 [None, None]\n",
      "blocks.1.mlp.hook_post [[output_hook], None]\n",
      "blocks.1.attn.hook_z.0 [None, None]\n",
      "blocks.1.attn.hook_z.1 [None, None]\n",
      "blocks.1.attn.hook_z.2 [None, None]\n",
      "blocks.1.attn.hook_z.3 [None, None]\n"
     ]
    }
   ],
   "source": [
    "cases = [Case0, Case1]\n",
    "poly_hl_model = PolyHLModel(hl_classes=cases, size_expansion=1)\n",
    "corr = poly_hl_model.get_correspondence()\n",
    "for k, v in corr.items():\n",
    "    print(k, v)\n",
    "\n",
    "print()\n",
    "for k, v in poly_hl_model.corr_mapping.items():\n",
    "    print(k, v)"
   ]
  },
  {
   "cell_type": "code",
   "execution_count": 8,
   "metadata": {},
   "outputs": [
    {
     "name": "stderr",
     "output_type": "stream",
     "text": [
      "/Users/evananders/far_cluster/polysemantic-benchmark/poly_bench/cases/duplicate_remover.py:163: UserWarning: To copy construct from a tensor, it is recommended to use sourceTensor.clone().detach() or sourceTensor.clone().detach().requires_grad_(True), rather than torch.tensor(sourceTensor).\n",
      "  _, cache = hl_model.run_with_cache((t.tensor(sample).unsqueeze(0), None, None))\n",
      "/Users/evananders/far_cluster/polysemantic-benchmark/poly_bench/utils.py:22: UserWarning: To copy construct from a tensor, it is recommended to use sourceTensor.clone().detach() or sourceTensor.clone().detach().requires_grad_(True), rather than torch.tensor(sourceTensor).\n",
      "  self.inputs = t.tensor(inputs).to(int)\n"
     ]
    }
   ],
   "source": [
    "dataset_cases = [dataset_mapping[case] for case in cases]\n",
    "dsets = [dsetcase(N_samples=n_samples, n_ctx=n_ctx, seed=seed) for dsetcase in dataset_cases]\n",
    "poly_dataset = PolyModelDataset(dsets, n_ctx=poly_hl_model.cfg.n_ctx)"
   ]
  },
  {
   "cell_type": "code",
   "execution_count": 9,
   "metadata": {},
   "outputs": [
    {
     "name": "stdout",
     "output_type": "stream",
     "text": [
      "input_hook {LLNode(name='blocks.0.hook_resid_pre', index=[:], subspace=None)}\n",
      "mlp_hooks.0 {LLNode(name='blocks.0.mlp.hook_post', index=[:], subspace=None)}\n",
      "attn_hooks.0.0 {LLNode(name='blocks.0.attn.hook_z', index=[:, :, 0, :], subspace=None)}\n",
      "attn_hooks.0.1 {LLNode(name='blocks.0.attn.hook_z', index=[:, :, 1, :], subspace=None)}\n",
      "task_hook {LLNode(name='blocks.0.attn.hook_z', index=[:, :, 2, :], subspace=None)}\n",
      "mlp_hooks.1 {LLNode(name='blocks.1.mlp.hook_post', index=[:], subspace=None)}\n",
      "[LLNode(name='blocks.0.attn.hook_z', index=[:, :, 3, :], subspace=None), LLNode(name='blocks.1.attn.hook_z', index=[:, :, 0, :], subspace=None), LLNode(name='blocks.1.attn.hook_z', index=[:, :, 1, :], subspace=None), LLNode(name='blocks.1.attn.hook_z', index=[:, :, 2, :], subspace=None), LLNode(name='blocks.1.attn.hook_z', index=[:, :, 3, :], subspace=None)]\n",
      "training_args={'batch_size': 256, 'num_workers': 0, 'early_stop': True, 'lr_scheduler': <class 'torch.optim.lr_scheduler.LinearLR'>, 'scheduler_val_metric': ['val/accuracy', 'val/IIA'], 'scheduler_mode': 'max', 'scheduler_kwargs': {'start_factor': 1, 'end_factor': 0.2, 'total_iters': 100}, 'optimizer_kwargs': {'lr': 0.001, 'betas': (0.9, 0.9)}, 'clip_grad_norm': 1.0, 'seed': 42, 'detach_while_caching': True, 'lr': 0.001, 'atol': 0.05, 'use_single_loss': True, 'iit_weight': 1.0, 'behavior_weight': 0.4, 'strict_weight': 0.4, 'siit_sampling': 'sample_all', 'iit_weight_schedule': <function <lambda> at 0x164a5f740>, 'strict_weight_schedule': <function <lambda> at 0x164f327a0>, 'behavior_weight_schedule': <function <lambda> at 0x164f31da0>}\n"
     ]
    },
    {
     "data": {
      "application/vnd.jupyter.widget-view+json": {
       "model_id": "1c183336174c4bf9843762acfc9dddd1",
       "version_major": 2,
       "version_minor": 0
      },
      "text/plain": [
       "Training Epochs:   0%|          | 0/100 [00:00<?, ?it/s]"
      ]
     },
     "metadata": {},
     "output_type": "display_data"
    },
    {
     "data": {
      "application/vnd.jupyter.widget-view+json": {
       "model_id": "1fc384d1451f4c279850c500b94e9ef4",
       "version_major": 2,
       "version_minor": 0
      },
      "text/plain": [
       "Training Batches:   0%|          | 0/54 [00:00<?, ?it/s]"
      ]
     },
     "metadata": {},
     "output_type": "display_data"
    },
    {
     "name": "stdout",
     "output_type": "stream",
     "text": [
      "Epoch 1: lr: 9.92e-04, iit_weight: 1.00e+00, behavior_weight: 4.00e-01, strict_weight: 4.00e-01, train/iit_loss: 1.05e+00, train/behavior_loss: 3.68e-01, train/strict_loss: 1.67e-01, val/iit_loss: 8.54e-01, val/IIA: 69.36, val/accuracy: 78.52, val/strict_accuracy: 75.47\n",
      "Epoch 2: lr: 9.84e-04, iit_weight: 1.00e+00, behavior_weight: 4.00e-01, strict_weight: 4.00e-01, train/iit_loss: 6.11e-01, train/behavior_loss: 1.61e-01, train/strict_loss: 1.12e-01, val/iit_loss: 6.56e-01, val/IIA: 78.73, val/accuracy: 87.32, val/strict_accuracy: 83.38\n",
      "Epoch 3: lr: 9.76e-04, iit_weight: 1.00e+00, behavior_weight: 4.00e-01, strict_weight: 4.00e-01, train/iit_loss: 4.32e-01, train/behavior_loss: 1.09e-01, train/strict_loss: 1.08e-01, val/iit_loss: 5.26e-01, val/IIA: 84.12, val/accuracy: 90.63, val/strict_accuracy: 86.45\n",
      "Epoch 4: lr: 9.68e-04, iit_weight: 1.00e+00, behavior_weight: 4.00e-01, strict_weight: 4.00e-01, train/iit_loss: 3.54e-01, train/behavior_loss: 8.48e-02, train/strict_loss: 8.47e-02, val/iit_loss: 4.61e-01, val/IIA: 86.14, val/accuracy: 92.18, val/strict_accuracy: 88.24\n",
      "Epoch 5: lr: 9.60e-04, iit_weight: 1.00e+00, behavior_weight: 4.00e-01, strict_weight: 4.00e-01, train/iit_loss: 2.92e-01, train/behavior_loss: 7.10e-02, train/strict_loss: 8.87e-02, val/iit_loss: 4.53e-01, val/IIA: 87.89, val/accuracy: 93.77, val/strict_accuracy: 89.87\n",
      "Epoch 6: lr: 9.52e-04, iit_weight: 1.00e+00, behavior_weight: 4.00e-01, strict_weight: 4.00e-01, train/iit_loss: 2.61e-01, train/behavior_loss: 5.48e-02, train/strict_loss: 6.77e-02, val/iit_loss: 3.86e-01, val/IIA: 90.06, val/accuracy: 95.67, val/strict_accuracy: 92.21\n",
      "Epoch 7: lr: 9.44e-04, iit_weight: 1.00e+00, behavior_weight: 4.00e-01, strict_weight: 4.00e-01, train/iit_loss: 2.39e-01, train/behavior_loss: 3.64e-02, train/strict_loss: 6.55e-02, val/iit_loss: 2.98e-01, val/IIA: 91.94, val/accuracy: 97.87, val/strict_accuracy: 94.54\n",
      "Epoch 8: lr: 9.36e-04, iit_weight: 1.00e+00, behavior_weight: 4.00e-01, strict_weight: 4.00e-01, train/iit_loss: 1.90e-01, train/behavior_loss: 1.94e-02, train/strict_loss: 4.90e-02, val/iit_loss: 2.53e-01, val/IIA: 93.84, val/accuracy: 99.30, val/strict_accuracy: 96.28\n",
      "Epoch 9: lr: 9.28e-04, iit_weight: 1.00e+00, behavior_weight: 4.00e-01, strict_weight: 4.00e-01, train/iit_loss: 1.42e-01, train/behavior_loss: 1.01e-02, train/strict_loss: 4.30e-02, val/iit_loss: 2.12e-01, val/IIA: 95.13, val/accuracy: 99.78, val/strict_accuracy: 97.32\n",
      "Epoch 10: lr: 9.20e-04, iit_weight: 1.00e+00, behavior_weight: 4.00e-01, strict_weight: 4.00e-01, train/iit_loss: 1.29e-01, train/behavior_loss: 7.40e-03, train/strict_loss: 4.46e-02, val/iit_loss: 1.88e-01, val/IIA: 95.62, val/accuracy: 99.84, val/strict_accuracy: 97.52\n",
      "Epoch 11: lr: 9.12e-04, iit_weight: 1.00e+00, behavior_weight: 4.00e-01, strict_weight: 4.00e-01, train/iit_loss: 1.21e-01, train/behavior_loss: 5.51e-03, train/strict_loss: 4.94e-02, val/iit_loss: 1.67e-01, val/IIA: 96.22, val/accuracy: 99.87, val/strict_accuracy: 98.03\n",
      "Epoch 12: lr: 9.04e-04, iit_weight: 1.00e+00, behavior_weight: 4.00e-01, strict_weight: 4.00e-01, train/iit_loss: 1.07e-01, train/behavior_loss: 4.83e-03, train/strict_loss: 4.56e-02, val/iit_loss: 2.12e-01, val/IIA: 96.59, val/accuracy: 99.91, val/strict_accuracy: 97.60\n",
      "Epoch 13: lr: 8.96e-04, iit_weight: 1.00e+00, behavior_weight: 4.00e-01, strict_weight: 4.00e-01, train/iit_loss: 8.22e-02, train/behavior_loss: 4.07e-03, train/strict_loss: 4.13e-02, val/iit_loss: 1.48e-01, val/IIA: 96.79, val/accuracy: 99.89, val/strict_accuracy: 97.96\n",
      "Epoch 14: lr: 8.88e-04, iit_weight: 1.00e+00, behavior_weight: 4.00e-01, strict_weight: 4.00e-01, train/iit_loss: 7.17e-02, train/behavior_loss: 3.24e-03, train/strict_loss: 4.27e-02, val/iit_loss: 1.44e-01, val/IIA: 97.69, val/accuracy: 99.90, val/strict_accuracy: 98.06\n",
      "Epoch 15: lr: 8.80e-04, iit_weight: 1.00e+00, behavior_weight: 4.00e-01, strict_weight: 4.00e-01, train/iit_loss: 6.83e-02, train/behavior_loss: 2.87e-03, train/strict_loss: 4.47e-02, val/iit_loss: 1.37e-01, val/IIA: 97.97, val/accuracy: 99.92, val/strict_accuracy: 98.12\n",
      "Epoch 16: lr: 8.72e-04, iit_weight: 1.00e+00, behavior_weight: 4.00e-01, strict_weight: 4.00e-01, train/iit_loss: 6.16e-02, train/behavior_loss: 2.88e-03, train/strict_loss: 3.16e-02, val/iit_loss: 1.07e-01, val/IIA: 97.78, val/accuracy: 99.91, val/strict_accuracy: 98.73\n",
      "Epoch 17: lr: 8.64e-04, iit_weight: 1.00e+00, behavior_weight: 4.00e-01, strict_weight: 4.00e-01, train/iit_loss: 5.57e-02, train/behavior_loss: 2.22e-03, train/strict_loss: 3.07e-02, val/iit_loss: 1.21e-01, val/IIA: 98.25, val/accuracy: 99.98, val/strict_accuracy: 98.50\n",
      "Epoch 18: lr: 8.56e-04, iit_weight: 1.00e+00, behavior_weight: 4.00e-01, strict_weight: 4.00e-01, train/iit_loss: 5.08e-02, train/behavior_loss: 2.32e-03, train/strict_loss: 3.74e-02, val/iit_loss: 1.02e-01, val/IIA: 98.52, val/accuracy: 99.98, val/strict_accuracy: 98.66\n",
      "Epoch 19: lr: 8.48e-04, iit_weight: 1.00e+00, behavior_weight: 4.00e-01, strict_weight: 4.00e-01, train/iit_loss: 4.47e-02, train/behavior_loss: 1.78e-03, train/strict_loss: 3.44e-02, val/iit_loss: 1.21e-01, val/IIA: 98.36, val/accuracy: 99.96, val/strict_accuracy: 98.42\n",
      "Epoch 20: lr: 8.40e-04, iit_weight: 1.00e+00, behavior_weight: 4.00e-01, strict_weight: 4.00e-01, train/iit_loss: 4.22e-02, train/behavior_loss: 2.08e-03, train/strict_loss: 3.13e-02, val/iit_loss: 1.37e-01, val/IIA: 98.43, val/accuracy: 99.95, val/strict_accuracy: 98.56\n",
      "Epoch 21: lr: 8.32e-04, iit_weight: 1.00e+00, behavior_weight: 4.00e-01, strict_weight: 4.00e-01, train/iit_loss: 5.35e-02, train/behavior_loss: 1.63e-03, train/strict_loss: 2.71e-02, val/iit_loss: 9.99e-02, val/IIA: 98.74, val/accuracy: 99.97, val/strict_accuracy: 98.61\n",
      "Epoch 22: lr: 8.24e-04, iit_weight: 1.00e+00, behavior_weight: 4.00e-01, strict_weight: 4.00e-01, train/iit_loss: 4.17e-02, train/behavior_loss: 1.71e-03, train/strict_loss: 3.36e-02, val/iit_loss: 9.30e-02, val/IIA: 98.72, val/accuracy: 99.97, val/strict_accuracy: 98.94\n",
      "Epoch 23: lr: 8.16e-04, iit_weight: 1.00e+00, behavior_weight: 4.00e-01, strict_weight: 4.00e-01, train/iit_loss: 3.82e-02, train/behavior_loss: 1.55e-03, train/strict_loss: 2.51e-02, val/iit_loss: 8.76e-02, val/IIA: 98.96, val/accuracy: 99.94, val/strict_accuracy: 98.96\n",
      "Epoch 24: lr: 8.08e-04, iit_weight: 1.00e+00, behavior_weight: 4.00e-01, strict_weight: 4.00e-01, train/iit_loss: 4.10e-02, train/behavior_loss: 1.43e-03, train/strict_loss: 3.24e-02, val/iit_loss: 8.45e-02, val/IIA: 98.90, val/accuracy: 99.96, val/strict_accuracy: 98.98\n",
      "Epoch 25: lr: 8.00e-04, iit_weight: 1.00e+00, behavior_weight: 4.00e-01, strict_weight: 4.00e-01, train/iit_loss: 3.58e-02, train/behavior_loss: 1.70e-03, train/strict_loss: 2.46e-02, val/iit_loss: 7.50e-02, val/IIA: 99.08, val/accuracy: 99.95, val/strict_accuracy: 98.95\n",
      "Epoch 26: lr: 7.92e-04, iit_weight: 1.00e+00, behavior_weight: 4.00e-01, strict_weight: 4.00e-01, train/iit_loss: 3.82e-02, train/behavior_loss: 1.20e-03, train/strict_loss: 2.50e-02, val/iit_loss: 7.27e-02, val/IIA: 99.06, val/accuracy: 99.93, val/strict_accuracy: 99.21\n",
      "Epoch 27: lr: 7.84e-04, iit_weight: 1.00e+00, behavior_weight: 4.00e-01, strict_weight: 4.00e-01, train/iit_loss: 3.39e-02, train/behavior_loss: 1.03e-03, train/strict_loss: 2.01e-02, val/iit_loss: 9.29e-02, val/IIA: 98.97, val/accuracy: 99.97, val/strict_accuracy: 99.30\n",
      "Epoch 28: lr: 7.76e-04, iit_weight: 1.00e+00, behavior_weight: 4.00e-01, strict_weight: 4.00e-01, train/iit_loss: 2.75e-02, train/behavior_loss: 1.19e-03, train/strict_loss: 1.90e-02, val/iit_loss: 7.17e-02, val/IIA: 99.11, val/accuracy: 99.88, val/strict_accuracy: 99.16\n",
      "Epoch 29: lr: 7.68e-04, iit_weight: 1.00e+00, behavior_weight: 4.00e-01, strict_weight: 4.00e-01, train/iit_loss: 2.85e-02, train/behavior_loss: 1.09e-03, train/strict_loss: 1.95e-02, val/iit_loss: 6.26e-02, val/IIA: 99.23, val/accuracy: 99.98, val/strict_accuracy: 99.41\n",
      "Epoch 30: lr: 7.60e-04, iit_weight: 1.00e+00, behavior_weight: 4.00e-01, strict_weight: 4.00e-01, train/iit_loss: 2.96e-02, train/behavior_loss: 1.03e-03, train/strict_loss: 2.23e-02, val/iit_loss: 8.00e-02, val/IIA: 98.90, val/accuracy: 99.94, val/strict_accuracy: 99.26\n",
      "Epoch 31: lr: 7.52e-04, iit_weight: 1.00e+00, behavior_weight: 4.00e-01, strict_weight: 4.00e-01, train/iit_loss: 2.78e-02, train/behavior_loss: 9.63e-04, train/strict_loss: 1.77e-02, val/iit_loss: 1.46e-01, val/IIA: 98.41, val/accuracy: 99.93, val/strict_accuracy: 99.30\n",
      "Epoch 32: lr: 7.44e-04, iit_weight: 1.00e+00, behavior_weight: 4.00e-01, strict_weight: 4.00e-01, train/iit_loss: 3.39e-02, train/behavior_loss: 7.77e-04, train/strict_loss: 1.92e-02, val/iit_loss: 5.52e-02, val/IIA: 99.42, val/accuracy: 99.98, val/strict_accuracy: 99.43\n",
      "Epoch 33: lr: 7.36e-04, iit_weight: 1.00e+00, behavior_weight: 4.00e-01, strict_weight: 4.00e-01, train/iit_loss: 2.28e-02, train/behavior_loss: 7.59e-04, train/strict_loss: 1.74e-02, val/iit_loss: 6.87e-02, val/IIA: 99.14, val/accuracy: 99.96, val/strict_accuracy: 99.31\n",
      "Epoch 34: lr: 7.28e-04, iit_weight: 1.00e+00, behavior_weight: 4.00e-01, strict_weight: 4.00e-01, train/iit_loss: 2.74e-02, train/behavior_loss: 1.08e-03, train/strict_loss: 1.81e-02, val/iit_loss: 5.86e-02, val/IIA: 99.21, val/accuracy: 99.98, val/strict_accuracy: 99.59\n",
      "Epoch 35: lr: 7.20e-04, iit_weight: 1.00e+00, behavior_weight: 4.00e-01, strict_weight: 4.00e-01, train/iit_loss: 2.56e-02, train/behavior_loss: 1.01e-03, train/strict_loss: 1.80e-02, val/iit_loss: 1.10e-01, val/IIA: 98.69, val/accuracy: 99.99, val/strict_accuracy: 99.51\n",
      "Epoch 36: lr: 7.12e-04, iit_weight: 1.00e+00, behavior_weight: 4.00e-01, strict_weight: 4.00e-01, train/iit_loss: 3.14e-02, train/behavior_loss: 9.08e-04, train/strict_loss: 1.30e-02, val/iit_loss: 5.10e-02, val/IIA: 99.36, val/accuracy: 99.97, val/strict_accuracy: 99.50\n",
      "Epoch 37: lr: 7.04e-04, iit_weight: 1.00e+00, behavior_weight: 4.00e-01, strict_weight: 4.00e-01, train/iit_loss: 2.50e-02, train/behavior_loss: 8.51e-04, train/strict_loss: 1.41e-02, val/iit_loss: 5.06e-02, val/IIA: 99.20, val/accuracy: 99.98, val/strict_accuracy: 99.63\n",
      "Epoch 38: lr: 6.96e-04, iit_weight: 1.00e+00, behavior_weight: 4.00e-01, strict_weight: 4.00e-01, train/iit_loss: 2.18e-02, train/behavior_loss: 7.08e-04, train/strict_loss: 1.34e-02, val/iit_loss: 3.94e-02, val/IIA: 99.48, val/accuracy: 99.96, val/strict_accuracy: 99.65\n",
      "Epoch 39: lr: 6.88e-04, iit_weight: 1.00e+00, behavior_weight: 4.00e-01, strict_weight: 4.00e-01, train/iit_loss: 2.07e-02, train/behavior_loss: 4.99e-04, train/strict_loss: 1.14e-02, val/iit_loss: 4.31e-02, val/IIA: 99.38, val/accuracy: 99.98, val/strict_accuracy: 99.76\n",
      "Epoch 40: lr: 6.80e-04, iit_weight: 1.00e+00, behavior_weight: 4.00e-01, strict_weight: 4.00e-01, train/iit_loss: 2.56e-02, train/behavior_loss: 4.79e-04, train/strict_loss: 1.10e-02, val/iit_loss: 4.47e-02, val/IIA: 99.37, val/accuracy: 99.86, val/strict_accuracy: 99.36\n",
      "Epoch 41: lr: 6.72e-04, iit_weight: 1.00e+00, behavior_weight: 4.00e-01, strict_weight: 4.00e-01, train/iit_loss: 2.27e-02, train/behavior_loss: 7.24e-04, train/strict_loss: 1.12e-02, val/iit_loss: 5.64e-02, val/IIA: 99.47, val/accuracy: 99.98, val/strict_accuracy: 99.38\n",
      "Epoch 42: lr: 6.64e-04, iit_weight: 1.00e+00, behavior_weight: 4.00e-01, strict_weight: 4.00e-01, train/iit_loss: 2.11e-02, train/behavior_loss: 6.89e-04, train/strict_loss: 1.20e-02, val/iit_loss: 5.01e-02, val/IIA: 99.16, val/accuracy: 100.00, val/strict_accuracy: 99.76\n",
      "Epoch 43: lr: 6.56e-04, iit_weight: 1.00e+00, behavior_weight: 4.00e-01, strict_weight: 4.00e-01, train/iit_loss: 2.26e-02, train/behavior_loss: 4.56e-04, train/strict_loss: 1.17e-02, val/iit_loss: 6.72e-02, val/IIA: 99.31, val/accuracy: 99.97, val/strict_accuracy: 99.74\n",
      "Epoch 44: lr: 6.48e-04, iit_weight: 1.00e+00, behavior_weight: 4.00e-01, strict_weight: 4.00e-01, train/iit_loss: 1.52e-02, train/behavior_loss: 4.09e-04, train/strict_loss: 1.16e-02, val/iit_loss: 4.51e-02, val/IIA: 99.54, val/accuracy: 99.97, val/strict_accuracy: 99.70\n",
      "Epoch 45: lr: 6.40e-04, iit_weight: 1.00e+00, behavior_weight: 4.00e-01, strict_weight: 4.00e-01, train/iit_loss: 2.06e-02, train/behavior_loss: 5.36e-04, train/strict_loss: 8.88e-03, val/iit_loss: 5.15e-02, val/IIA: 99.32, val/accuracy: 99.85, val/strict_accuracy: 99.41\n",
      "Epoch 46: lr: 6.32e-04, iit_weight: 1.00e+00, behavior_weight: 4.00e-01, strict_weight: 4.00e-01, train/iit_loss: 1.93e-02, train/behavior_loss: 4.57e-04, train/strict_loss: 9.60e-03, val/iit_loss: 4.06e-02, val/IIA: 99.55, val/accuracy: 99.98, val/strict_accuracy: 99.54\n",
      "Epoch 47: lr: 6.24e-04, iit_weight: 1.00e+00, behavior_weight: 4.00e-01, strict_weight: 4.00e-01, train/iit_loss: 1.78e-02, train/behavior_loss: 4.54e-04, train/strict_loss: 8.49e-03, val/iit_loss: 3.32e-02, val/IIA: 99.52, val/accuracy: 99.99, val/strict_accuracy: 99.59\n",
      "Epoch 48: lr: 6.16e-04, iit_weight: 1.00e+00, behavior_weight: 4.00e-01, strict_weight: 4.00e-01, train/iit_loss: 1.70e-02, train/behavior_loss: 3.82e-04, train/strict_loss: 8.19e-03, val/iit_loss: 3.44e-02, val/IIA: 99.62, val/accuracy: 99.99, val/strict_accuracy: 99.69\n",
      "Epoch 49: lr: 6.08e-04, iit_weight: 1.00e+00, behavior_weight: 4.00e-01, strict_weight: 4.00e-01, train/iit_loss: 1.92e-02, train/behavior_loss: 3.73e-04, train/strict_loss: 7.03e-03, val/iit_loss: 4.93e-02, val/IIA: 99.49, val/accuracy: 99.98, val/strict_accuracy: 99.70\n",
      "Epoch 50: lr: 6.00e-04, iit_weight: 1.00e+00, behavior_weight: 4.00e-01, strict_weight: 4.00e-01, train/iit_loss: 1.68e-02, train/behavior_loss: 2.61e-04, train/strict_loss: 6.17e-03, val/iit_loss: 5.46e-02, val/IIA: 99.30, val/accuracy: 100.00, val/strict_accuracy: 99.79\n",
      "Epoch 51: lr: 5.92e-04, iit_weight: 1.00e+00, behavior_weight: 4.00e-01, strict_weight: 4.00e-01, train/iit_loss: 1.66e-02, train/behavior_loss: 2.48e-04, train/strict_loss: 9.14e-03, val/iit_loss: 3.35e-02, val/IIA: 99.65, val/accuracy: 100.00, val/strict_accuracy: 99.85\n",
      "Epoch 52: lr: 5.84e-04, iit_weight: 1.00e+00, behavior_weight: 4.00e-01, strict_weight: 4.00e-01, train/iit_loss: 1.78e-02, train/behavior_loss: 2.87e-04, train/strict_loss: 6.91e-03, val/iit_loss: 3.06e-02, val/IIA: 99.62, val/accuracy: 100.00, val/strict_accuracy: 99.73\n",
      "Epoch 53: lr: 5.76e-04, iit_weight: 1.00e+00, behavior_weight: 4.00e-01, strict_weight: 4.00e-01, train/iit_loss: 1.51e-02, train/behavior_loss: 2.58e-04, train/strict_loss: 7.43e-03, val/iit_loss: 3.02e-02, val/IIA: 99.62, val/accuracy: 99.99, val/strict_accuracy: 99.88\n",
      "Epoch 54: lr: 5.68e-04, iit_weight: 1.00e+00, behavior_weight: 4.00e-01, strict_weight: 4.00e-01, train/iit_loss: 1.39e-02, train/behavior_loss: 2.03e-04, train/strict_loss: 5.55e-03, val/iit_loss: 2.29e-02, val/IIA: 99.53, val/accuracy: 99.99, val/strict_accuracy: 99.86\n",
      "Epoch 55: lr: 5.60e-04, iit_weight: 1.00e+00, behavior_weight: 4.00e-01, strict_weight: 4.00e-01, train/iit_loss: 1.61e-02, train/behavior_loss: 3.08e-04, train/strict_loss: 7.91e-03, val/iit_loss: 3.84e-02, val/IIA: 99.53, val/accuracy: 99.99, val/strict_accuracy: 99.79\n",
      "Epoch 56: lr: 5.52e-04, iit_weight: 1.00e+00, behavior_weight: 4.00e-01, strict_weight: 4.00e-01, train/iit_loss: 1.15e-02, train/behavior_loss: 1.85e-04, train/strict_loss: 6.28e-03, val/iit_loss: 5.76e-02, val/IIA: 99.48, val/accuracy: 99.99, val/strict_accuracy: 99.73\n",
      "Epoch 57: lr: 5.44e-04, iit_weight: 1.00e+00, behavior_weight: 4.00e-01, strict_weight: 4.00e-01, train/iit_loss: 1.30e-02, train/behavior_loss: 1.71e-04, train/strict_loss: 6.20e-03, val/iit_loss: 5.07e-02, val/IIA: 99.44, val/accuracy: 99.99, val/strict_accuracy: 99.69\n",
      "Epoch 58: lr: 5.36e-04, iit_weight: 1.00e+00, behavior_weight: 4.00e-01, strict_weight: 4.00e-01, train/iit_loss: 1.42e-02, train/behavior_loss: 2.04e-04, train/strict_loss: 4.97e-03, val/iit_loss: 2.43e-02, val/IIA: 99.71, val/accuracy: 99.99, val/strict_accuracy: 99.90\n",
      "Epoch 59: lr: 5.28e-04, iit_weight: 1.00e+00, behavior_weight: 4.00e-01, strict_weight: 4.00e-01, train/iit_loss: 1.20e-02, train/behavior_loss: 1.43e-04, train/strict_loss: 5.67e-03, val/iit_loss: 2.60e-02, val/IIA: 99.70, val/accuracy: 99.99, val/strict_accuracy: 99.83\n",
      "Epoch 60: lr: 5.20e-04, iit_weight: 1.00e+00, behavior_weight: 4.00e-01, strict_weight: 4.00e-01, train/iit_loss: 1.24e-02, train/behavior_loss: 1.82e-04, train/strict_loss: 4.43e-03, val/iit_loss: 1.99e-02, val/IIA: 99.46, val/accuracy: 100.00, val/strict_accuracy: 99.90\n",
      "Epoch 61: lr: 5.12e-04, iit_weight: 1.00e+00, behavior_weight: 4.00e-01, strict_weight: 4.00e-01, train/iit_loss: 1.38e-02, train/behavior_loss: 2.46e-04, train/strict_loss: 5.91e-03, val/iit_loss: 5.50e-02, val/IIA: 99.48, val/accuracy: 99.99, val/strict_accuracy: 99.51\n",
      "Epoch 62: lr: 5.04e-04, iit_weight: 1.00e+00, behavior_weight: 4.00e-01, strict_weight: 4.00e-01, train/iit_loss: 1.30e-02, train/behavior_loss: 1.66e-04, train/strict_loss: 3.57e-03, val/iit_loss: 2.19e-02, val/IIA: 99.69, val/accuracy: 100.00, val/strict_accuracy: 99.92\n",
      "Epoch 63: lr: 4.96e-04, iit_weight: 1.00e+00, behavior_weight: 4.00e-01, strict_weight: 4.00e-01, train/iit_loss: 1.17e-02, train/behavior_loss: 1.44e-04, train/strict_loss: 6.56e-03, val/iit_loss: 2.18e-02, val/IIA: 99.72, val/accuracy: 99.99, val/strict_accuracy: 99.84\n",
      "Epoch 64: lr: 4.88e-04, iit_weight: 1.00e+00, behavior_weight: 4.00e-01, strict_weight: 4.00e-01, train/iit_loss: 1.13e-02, train/behavior_loss: 2.00e-04, train/strict_loss: 4.54e-03, val/iit_loss: 1.81e-02, val/IIA: 99.70, val/accuracy: 99.99, val/strict_accuracy: 99.88\n",
      "Epoch 65: lr: 4.80e-04, iit_weight: 1.00e+00, behavior_weight: 4.00e-01, strict_weight: 4.00e-01, train/iit_loss: 1.07e-02, train/behavior_loss: 1.75e-04, train/strict_loss: 4.60e-03, val/iit_loss: 1.99e-02, val/IIA: 99.76, val/accuracy: 100.00, val/strict_accuracy: 99.92\n",
      "Epoch 66: lr: 4.72e-04, iit_weight: 1.00e+00, behavior_weight: 4.00e-01, strict_weight: 4.00e-01, train/iit_loss: 1.06e-02, train/behavior_loss: 1.64e-04, train/strict_loss: 4.16e-03, val/iit_loss: 1.94e-02, val/IIA: 99.74, val/accuracy: 100.00, val/strict_accuracy: 99.83\n",
      "Epoch 67: lr: 4.64e-04, iit_weight: 1.00e+00, behavior_weight: 4.00e-01, strict_weight: 4.00e-01, train/iit_loss: 1.10e-02, train/behavior_loss: 1.47e-04, train/strict_loss: 3.51e-03, val/iit_loss: 1.69e-02, val/IIA: 99.76, val/accuracy: 100.00, val/strict_accuracy: 99.89\n",
      "Epoch 68: lr: 4.56e-04, iit_weight: 1.00e+00, behavior_weight: 4.00e-01, strict_weight: 4.00e-01, train/iit_loss: 1.03e-02, train/behavior_loss: 2.70e-04, train/strict_loss: 4.37e-03, val/iit_loss: 1.90e-02, val/IIA: 99.70, val/accuracy: 99.99, val/strict_accuracy: 99.87\n",
      "Epoch 69: lr: 4.48e-04, iit_weight: 1.00e+00, behavior_weight: 4.00e-01, strict_weight: 4.00e-01, train/iit_loss: 9.32e-03, train/behavior_loss: 1.27e-04, train/strict_loss: 4.36e-03, val/iit_loss: 1.63e-02, val/IIA: 99.80, val/accuracy: 100.00, val/strict_accuracy: 99.93\n",
      "Epoch 70: lr: 4.40e-04, iit_weight: 1.00e+00, behavior_weight: 4.00e-01, strict_weight: 4.00e-01, train/iit_loss: 1.05e-02, train/behavior_loss: 1.00e-04, train/strict_loss: 3.80e-03, val/iit_loss: 1.54e-02, val/IIA: 99.68, val/accuracy: 100.00, val/strict_accuracy: 99.82\n",
      "Epoch 71: lr: 4.32e-04, iit_weight: 1.00e+00, behavior_weight: 4.00e-01, strict_weight: 4.00e-01, train/iit_loss: 8.89e-03, train/behavior_loss: 8.54e-05, train/strict_loss: 4.28e-03, val/iit_loss: 1.26e-02, val/IIA: 99.84, val/accuracy: 100.00, val/strict_accuracy: 99.92\n",
      "Epoch 72: lr: 4.24e-04, iit_weight: 1.00e+00, behavior_weight: 4.00e-01, strict_weight: 4.00e-01, train/iit_loss: 7.70e-03, train/behavior_loss: 8.10e-05, train/strict_loss: 3.96e-03, val/iit_loss: 2.24e-02, val/IIA: 99.78, val/accuracy: 99.98, val/strict_accuracy: 99.90\n",
      "Epoch 73: lr: 4.16e-04, iit_weight: 1.00e+00, behavior_weight: 4.00e-01, strict_weight: 4.00e-01, train/iit_loss: 8.92e-03, train/behavior_loss: 1.35e-04, train/strict_loss: 3.21e-03, val/iit_loss: 2.24e-02, val/IIA: 99.82, val/accuracy: 100.00, val/strict_accuracy: 99.91\n",
      "Epoch 74: lr: 4.08e-04, iit_weight: 1.00e+00, behavior_weight: 4.00e-01, strict_weight: 4.00e-01, train/iit_loss: 7.93e-03, train/behavior_loss: 1.11e-04, train/strict_loss: 3.73e-03, val/iit_loss: 1.92e-02, val/IIA: 99.83, val/accuracy: 100.00, val/strict_accuracy: 99.85\n",
      "Epoch 75: lr: 4.00e-04, iit_weight: 1.00e+00, behavior_weight: 4.00e-01, strict_weight: 4.00e-01, train/iit_loss: 6.32e-03, train/behavior_loss: 7.43e-05, train/strict_loss: 1.92e-03, val/iit_loss: 2.08e-02, val/IIA: 99.80, val/accuracy: 100.00, val/strict_accuracy: 99.94\n",
      "Epoch 76: lr: 3.92e-04, iit_weight: 1.00e+00, behavior_weight: 4.00e-01, strict_weight: 4.00e-01, train/iit_loss: 8.09e-03, train/behavior_loss: 7.44e-05, train/strict_loss: 3.34e-03, val/iit_loss: 1.28e-02, val/IIA: 99.84, val/accuracy: 100.00, val/strict_accuracy: 99.94\n",
      "Epoch 77: lr: 3.84e-04, iit_weight: 1.00e+00, behavior_weight: 4.00e-01, strict_weight: 4.00e-01, train/iit_loss: 8.92e-03, train/behavior_loss: 1.28e-04, train/strict_loss: 2.11e-03, val/iit_loss: 1.18e-02, val/IIA: 99.85, val/accuracy: 100.00, val/strict_accuracy: 99.96\n",
      "Epoch 78: lr: 3.76e-04, iit_weight: 1.00e+00, behavior_weight: 4.00e-01, strict_weight: 4.00e-01, train/iit_loss: 6.46e-03, train/behavior_loss: 8.19e-05, train/strict_loss: 2.78e-03, val/iit_loss: 1.51e-02, val/IIA: 99.87, val/accuracy: 100.00, val/strict_accuracy: 99.95\n",
      "Epoch 79: lr: 3.68e-04, iit_weight: 1.00e+00, behavior_weight: 4.00e-01, strict_weight: 4.00e-01, train/iit_loss: 6.79e-03, train/behavior_loss: 5.27e-05, train/strict_loss: 2.51e-03, val/iit_loss: 1.10e-02, val/IIA: 99.70, val/accuracy: 100.00, val/strict_accuracy: 99.93\n",
      "Epoch 80: lr: 3.60e-04, iit_weight: 1.00e+00, behavior_weight: 4.00e-01, strict_weight: 4.00e-01, train/iit_loss: 8.74e-03, train/behavior_loss: 1.10e-04, train/strict_loss: 2.54e-03, val/iit_loss: 9.00e-03, val/IIA: 99.83, val/accuracy: 100.00, val/strict_accuracy: 99.96\n",
      "Epoch 81: lr: 3.52e-04, iit_weight: 1.00e+00, behavior_weight: 4.00e-01, strict_weight: 4.00e-01, train/iit_loss: 5.88e-03, train/behavior_loss: 5.40e-05, train/strict_loss: 2.45e-03, val/iit_loss: 1.04e-02, val/IIA: 99.85, val/accuracy: 100.00, val/strict_accuracy: 99.95\n",
      "Epoch 82: lr: 3.44e-04, iit_weight: 1.00e+00, behavior_weight: 4.00e-01, strict_weight: 4.00e-01, train/iit_loss: 7.70e-03, train/behavior_loss: 6.31e-05, train/strict_loss: 2.07e-03, val/iit_loss: 1.18e-02, val/IIA: 99.81, val/accuracy: 100.00, val/strict_accuracy: 99.94\n",
      "Epoch 83: lr: 3.36e-04, iit_weight: 1.00e+00, behavior_weight: 4.00e-01, strict_weight: 4.00e-01, train/iit_loss: 6.57e-03, train/behavior_loss: 4.41e-05, train/strict_loss: 2.49e-03, val/iit_loss: 1.60e-02, val/IIA: 99.73, val/accuracy: 100.00, val/strict_accuracy: 99.96\n",
      "Epoch 84: lr: 3.28e-04, iit_weight: 1.00e+00, behavior_weight: 4.00e-01, strict_weight: 4.00e-01, train/iit_loss: 5.66e-03, train/behavior_loss: 3.86e-05, train/strict_loss: 1.90e-03, val/iit_loss: 8.89e-03, val/IIA: 99.86, val/accuracy: 100.00, val/strict_accuracy: 99.95\n",
      "Epoch 85: lr: 3.20e-04, iit_weight: 1.00e+00, behavior_weight: 4.00e-01, strict_weight: 4.00e-01, train/iit_loss: 6.51e-03, train/behavior_loss: 4.58e-05, train/strict_loss: 1.81e-03, val/iit_loss: 8.89e-03, val/IIA: 99.85, val/accuracy: 100.00, val/strict_accuracy: 99.97\n",
      "Epoch 86: lr: 3.12e-04, iit_weight: 1.00e+00, behavior_weight: 4.00e-01, strict_weight: 4.00e-01, train/iit_loss: 5.54e-03, train/behavior_loss: 5.59e-05, train/strict_loss: 2.45e-03, val/iit_loss: 1.15e-02, val/IIA: 99.77, val/accuracy: 99.98, val/strict_accuracy: 99.86\n",
      "Epoch 87: lr: 3.04e-04, iit_weight: 1.00e+00, behavior_weight: 4.00e-01, strict_weight: 4.00e-01, train/iit_loss: 4.59e-03, train/behavior_loss: 3.69e-05, train/strict_loss: 2.02e-03, val/iit_loss: 8.23e-03, val/IIA: 99.84, val/accuracy: 100.00, val/strict_accuracy: 99.97\n",
      "Epoch 88: lr: 2.96e-04, iit_weight: 1.00e+00, behavior_weight: 4.00e-01, strict_weight: 4.00e-01, train/iit_loss: 5.11e-03, train/behavior_loss: 3.20e-05, train/strict_loss: 2.35e-03, val/iit_loss: 7.61e-03, val/IIA: 99.87, val/accuracy: 100.00, val/strict_accuracy: 99.97\n",
      "Epoch 89: lr: 2.88e-04, iit_weight: 1.00e+00, behavior_weight: 4.00e-01, strict_weight: 4.00e-01, train/iit_loss: 5.05e-03, train/behavior_loss: 2.35e-05, train/strict_loss: 1.70e-03, val/iit_loss: 1.08e-02, val/IIA: 99.87, val/accuracy: 100.00, val/strict_accuracy: 99.96\n",
      "Epoch 90: lr: 2.80e-04, iit_weight: 1.00e+00, behavior_weight: 4.00e-01, strict_weight: 4.00e-01, train/iit_loss: 5.68e-03, train/behavior_loss: 7.55e-05, train/strict_loss: 1.99e-03, val/iit_loss: 6.82e-03, val/IIA: 99.87, val/accuracy: 100.00, val/strict_accuracy: 99.98\n",
      "Epoch 91: lr: 2.72e-04, iit_weight: 1.00e+00, behavior_weight: 4.00e-01, strict_weight: 4.00e-01, train/iit_loss: 5.19e-03, train/behavior_loss: 2.75e-05, train/strict_loss: 2.05e-03, val/iit_loss: 9.54e-03, val/IIA: 99.86, val/accuracy: 100.00, val/strict_accuracy: 99.95\n",
      "Epoch 92: lr: 2.64e-04, iit_weight: 1.00e+00, behavior_weight: 4.00e-01, strict_weight: 4.00e-01, train/iit_loss: 5.71e-03, train/behavior_loss: 3.71e-05, train/strict_loss: 1.79e-03, val/iit_loss: 8.74e-03, val/IIA: 99.91, val/accuracy: 100.00, val/strict_accuracy: 99.97\n",
      "Epoch 93: lr: 2.56e-04, iit_weight: 1.00e+00, behavior_weight: 4.00e-01, strict_weight: 4.00e-01, train/iit_loss: 5.57e-03, train/behavior_loss: 3.34e-05, train/strict_loss: 2.08e-03, val/iit_loss: 6.42e-03, val/IIA: 99.91, val/accuracy: 100.00, val/strict_accuracy: 99.98\n",
      "Epoch 94: lr: 2.48e-04, iit_weight: 1.00e+00, behavior_weight: 4.00e-01, strict_weight: 4.00e-01, train/iit_loss: 5.38e-03, train/behavior_loss: 3.17e-05, train/strict_loss: 1.75e-03, val/iit_loss: 7.53e-03, val/IIA: 99.87, val/accuracy: 100.00, val/strict_accuracy: 99.97\n",
      "Epoch 95: lr: 2.40e-04, iit_weight: 1.00e+00, behavior_weight: 4.00e-01, strict_weight: 4.00e-01, train/iit_loss: 4.96e-03, train/behavior_loss: 3.67e-05, train/strict_loss: 1.94e-03, val/iit_loss: 8.31e-03, val/IIA: 99.90, val/accuracy: 100.00, val/strict_accuracy: 99.96\n",
      "Epoch 96: lr: 2.32e-04, iit_weight: 1.00e+00, behavior_weight: 4.00e-01, strict_weight: 4.00e-01, train/iit_loss: 4.34e-03, train/behavior_loss: 2.60e-05, train/strict_loss: 1.22e-03, val/iit_loss: 6.42e-03, val/IIA: 99.90, val/accuracy: 100.00, val/strict_accuracy: 99.97\n",
      "Epoch 97: lr: 2.24e-04, iit_weight: 1.00e+00, behavior_weight: 4.00e-01, strict_weight: 4.00e-01, train/iit_loss: 4.30e-03, train/behavior_loss: 3.28e-05, train/strict_loss: 1.66e-03, val/iit_loss: 6.85e-03, val/IIA: 99.88, val/accuracy: 100.00, val/strict_accuracy: 99.97\n",
      "Epoch 98: lr: 2.16e-04, iit_weight: 1.00e+00, behavior_weight: 4.00e-01, strict_weight: 4.00e-01, train/iit_loss: 4.94e-03, train/behavior_loss: 2.96e-05, train/strict_loss: 1.72e-03, val/iit_loss: 7.26e-03, val/IIA: 99.89, val/accuracy: 100.00, val/strict_accuracy: 99.97\n",
      "Epoch 99: lr: 2.08e-04, iit_weight: 1.00e+00, behavior_weight: 4.00e-01, strict_weight: 4.00e-01, train/iit_loss: 4.64e-03, train/behavior_loss: 2.22e-05, train/strict_loss: 1.77e-03, val/iit_loss: 7.26e-03, val/IIA: 99.92, val/accuracy: 100.00, val/strict_accuracy: 99.96\n",
      "Epoch 100: lr: 2.00e-04, iit_weight: 1.00e+00, behavior_weight: 4.00e-01, strict_weight: 4.00e-01, train/iit_loss: 3.72e-03, train/behavior_loss: 1.86e-05, train/strict_loss: 1.30e-03, val/iit_loss: 6.75e-03, val/IIA: 99.86, val/accuracy: 100.00, val/strict_accuracy: 99.97\n"
     ]
    }
   ],
   "source": [
    "ll_model = poly_hl_model.get_ll_model()\n",
    "corr = poly_hl_model.get_correspondence()\n",
    "for k, v in corr.items():\n",
    "    print(k, v)\n",
    "train_set, test_set = poly_dataset.get_IIT_train_test_set()\n",
    "model_pair = StrictIITModelPair(hl_model=poly_hl_model, ll_model=ll_model, corr=corr, training_args=training_args)\n",
    "print(model_pair.nodes_not_in_circuit)\n",
    "model_pair.train(\n",
    "    train_set=train_set,\n",
    "    test_set=test_set,\n",
    "    optimizer_cls=torch.optim.Adam,\n",
    "    epochs=n_epochs,\n",
    "    # optimizer_kwargs=dict(weight_decay=1e-4),\n",
    ")"
   ]
  },
  {
   "cell_type": "code",
   "execution_count": 11,
   "metadata": {},
   "outputs": [],
   "source": [
    "\n",
    "save_poly_model_to_dir(ll_model, poly_hl_model, f\"./saved_poly_models/cases_0+1\")"
   ]
  },
  {
   "cell_type": "markdown",
   "metadata": {},
   "source": [
    "# (0) DuplicateRemover + (2) ParenChecker"
   ]
  },
  {
   "cell_type": "code",
   "execution_count": 12,
   "metadata": {},
   "outputs": [
    {
     "name": "stdout",
     "output_type": "stream",
     "text": [
      "input_hook {LLNode(name='blocks.0.hook_resid_pre', index=[:], subspace=None)}\n",
      "mlp_hooks.0 {LLNode(name='blocks.0.mlp.hook_post', index=[:], subspace=None)}\n",
      "attn_hooks.0.0 {LLNode(name='blocks.0.attn.hook_z', index=[:, :, 0, :], subspace=None)}\n",
      "task_hook {LLNode(name='blocks.0.attn.hook_z', index=[:, :, 1, :], subspace=None)}\n",
      "attn_hooks.0.3 {LLNode(name='blocks.0.attn.hook_z', index=[:, :, 3, :], subspace=None)}\n",
      "mlp_hooks.1 {LLNode(name='blocks.1.mlp.hook_post', index=[:], subspace=None)}\n",
      "mlp_hooks.2 {LLNode(name='blocks.2.mlp.hook_post', index=[:], subspace=None)}\n",
      "attn_hooks.2.3 {LLNode(name='blocks.2.attn.hook_z', index=[:, :, 3, :], subspace=None)}\n",
      "\n",
      "blocks.0.mlp.hook_post [[prev_equal_hook], [mlp0_hook]]\n",
      "blocks.0.attn.hook_z.0 [[prev_token_hook], None]\n",
      "blocks.0.attn.hook_z.1 [None, None]\n",
      "blocks.0.attn.hook_z.2 [None, None]\n",
      "blocks.0.attn.hook_z.3 [None, [paren_counts_hook]]\n",
      "blocks.1.mlp.hook_post [[output_hook], [mlp1_hook]]\n",
      "blocks.1.attn.hook_z.0 [None, None]\n",
      "blocks.1.attn.hook_z.1 [None, None]\n",
      "blocks.1.attn.hook_z.2 [None, None]\n",
      "blocks.1.attn.hook_z.3 [None, None]\n",
      "blocks.2.mlp.hook_post [None, [mlp2_hook]]\n",
      "blocks.2.attn.hook_z.0 [None, None]\n",
      "blocks.2.attn.hook_z.1 [None, None]\n",
      "blocks.2.attn.hook_z.2 [None, None]\n",
      "blocks.2.attn.hook_z.3 [None, [horizon_lookback_hook]]\n"
     ]
    }
   ],
   "source": [
    "cases = [Case0, Case2]\n",
    "poly_hl_model = PolyHLModel(hl_classes=cases, size_expansion=1)\n",
    "corr = poly_hl_model.get_correspondence()\n",
    "for k, v in corr.items():\n",
    "    print(k, v)\n",
    "\n",
    "print()\n",
    "for k, v in poly_hl_model.corr_mapping.items():\n",
    "    print(k, v)"
   ]
  },
  {
   "cell_type": "code",
   "execution_count": 13,
   "metadata": {},
   "outputs": [
    {
     "name": "stderr",
     "output_type": "stream",
     "text": [
      "/Users/evananders/far_cluster/polysemantic-benchmark/poly_bench/cases/duplicate_remover.py:163: UserWarning: To copy construct from a tensor, it is recommended to use sourceTensor.clone().detach() or sourceTensor.clone().detach().requires_grad_(True), rather than torch.tensor(sourceTensor).\n",
      "  _, cache = hl_model.run_with_cache((t.tensor(sample).unsqueeze(0), None, None))\n",
      "/Users/evananders/far_cluster/polysemantic-benchmark/poly_bench/utils.py:25: UserWarning: To copy construct from a tensor, it is recommended to use sourceTensor.clone().detach() or sourceTensor.clone().detach().requires_grad_(True), rather than torch.tensor(sourceTensor).\n",
      "  self.markers = None\n"
     ]
    }
   ],
   "source": [
    "dataset_cases = [dataset_mapping[case] for case in cases]\n",
    "dsets = [dsetcase(N_samples=n_samples, n_ctx=n_ctx, seed=seed) for dsetcase in dataset_cases]\n",
    "poly_dataset = PolyModelDataset(dsets, n_ctx=poly_hl_model.cfg.n_ctx)"
   ]
  },
  {
   "cell_type": "code",
   "execution_count": 14,
   "metadata": {},
   "outputs": [
    {
     "name": "stdout",
     "output_type": "stream",
     "text": [
      "input_hook {LLNode(name='blocks.0.hook_resid_pre', index=[:], subspace=None)}\n",
      "mlp_hooks.0 {LLNode(name='blocks.0.mlp.hook_post', index=[:], subspace=None)}\n",
      "attn_hooks.0.0 {LLNode(name='blocks.0.attn.hook_z', index=[:, :, 0, :], subspace=None)}\n",
      "task_hook {LLNode(name='blocks.0.attn.hook_z', index=[:, :, 1, :], subspace=None)}\n",
      "attn_hooks.0.3 {LLNode(name='blocks.0.attn.hook_z', index=[:, :, 3, :], subspace=None)}\n",
      "mlp_hooks.1 {LLNode(name='blocks.1.mlp.hook_post', index=[:], subspace=None)}\n",
      "mlp_hooks.2 {LLNode(name='blocks.2.mlp.hook_post', index=[:], subspace=None)}\n",
      "attn_hooks.2.3 {LLNode(name='blocks.2.attn.hook_z', index=[:, :, 3, :], subspace=None)}\n",
      "[LLNode(name='blocks.0.attn.hook_z', index=[:, :, 2, :], subspace=None), LLNode(name='blocks.1.attn.hook_z', index=[:, :, 0, :], subspace=None), LLNode(name='blocks.1.attn.hook_z', index=[:, :, 1, :], subspace=None), LLNode(name='blocks.1.attn.hook_z', index=[:, :, 2, :], subspace=None), LLNode(name='blocks.1.attn.hook_z', index=[:, :, 3, :], subspace=None), LLNode(name='blocks.2.attn.hook_z', index=[:, :, 0, :], subspace=None), LLNode(name='blocks.2.attn.hook_z', index=[:, :, 1, :], subspace=None), LLNode(name='blocks.2.attn.hook_z', index=[:, :, 2, :], subspace=None)]\n",
      "training_args={'batch_size': 256, 'num_workers': 0, 'early_stop': True, 'lr_scheduler': <class 'torch.optim.lr_scheduler.LinearLR'>, 'scheduler_val_metric': ['val/accuracy', 'val/IIA'], 'scheduler_mode': 'max', 'scheduler_kwargs': {'start_factor': 1, 'end_factor': 0.2, 'total_iters': 100}, 'optimizer_kwargs': {'lr': 0.001, 'betas': (0.9, 0.9)}, 'clip_grad_norm': 1.0, 'seed': 42, 'detach_while_caching': True, 'lr': 0.001, 'atol': 0.05, 'use_single_loss': True, 'iit_weight': 1.0, 'behavior_weight': 0.4, 'strict_weight': 0.4, 'siit_sampling': 'sample_all', 'iit_weight_schedule': <function <lambda> at 0x164a5f740>, 'strict_weight_schedule': <function <lambda> at 0x164f327a0>, 'behavior_weight_schedule': <function <lambda> at 0x164f31da0>}\n"
     ]
    },
    {
     "data": {
      "application/vnd.jupyter.widget-view+json": {
       "model_id": "eceea172920f4ee99870f2e906376bf8",
       "version_major": 2,
       "version_minor": 0
      },
      "text/plain": [
       "Training Epochs:   0%|          | 0/100 [00:00<?, ?it/s]"
      ]
     },
     "metadata": {},
     "output_type": "display_data"
    },
    {
     "data": {
      "application/vnd.jupyter.widget-view+json": {
       "model_id": "9d04d156b9774e9a8504798e27ef0b5e",
       "version_major": 2,
       "version_minor": 0
      },
      "text/plain": [
       "Training Batches:   0%|          | 0/54 [00:00<?, ?it/s]"
      ]
     },
     "metadata": {},
     "output_type": "display_data"
    },
    {
     "name": "stdout",
     "output_type": "stream",
     "text": [
      "Epoch 1: lr: 9.92e-04, iit_weight: 1.00e+00, behavior_weight: 4.00e-01, strict_weight: 4.00e-01, train/iit_loss: 1.01e+00, train/behavior_loss: 3.18e-01, train/strict_loss: 1.44e-01, val/iit_loss: 4.25e-01, val/IIA: 72.80, val/accuracy: 82.55, val/strict_accuracy: 82.65\n",
      "Epoch 2: lr: 9.84e-04, iit_weight: 1.00e+00, behavior_weight: 4.00e-01, strict_weight: 4.00e-01, train/iit_loss: 6.49e-01, train/behavior_loss: 1.45e-01, train/strict_loss: 7.75e-02, val/iit_loss: 3.38e-01, val/IIA: 80.60, val/accuracy: 86.44, val/strict_accuracy: 85.75\n",
      "Epoch 3: lr: 9.76e-04, iit_weight: 1.00e+00, behavior_weight: 4.00e-01, strict_weight: 4.00e-01, train/iit_loss: 4.11e-01, train/behavior_loss: 1.10e-01, train/strict_loss: 5.87e-02, val/iit_loss: 2.48e-01, val/IIA: 85.24, val/accuracy: 89.06, val/strict_accuracy: 89.09\n",
      "Epoch 4: lr: 9.68e-04, iit_weight: 1.00e+00, behavior_weight: 4.00e-01, strict_weight: 4.00e-01, train/iit_loss: 3.36e-01, train/behavior_loss: 8.03e-02, train/strict_loss: 4.76e-02, val/iit_loss: 1.87e-01, val/IIA: 88.12, val/accuracy: 95.12, val/strict_accuracy: 93.86\n",
      "Epoch 5: lr: 9.60e-04, iit_weight: 1.00e+00, behavior_weight: 4.00e-01, strict_weight: 4.00e-01, train/iit_loss: 2.89e-01, train/behavior_loss: 5.43e-02, train/strict_loss: 3.85e-02, val/iit_loss: 1.42e-01, val/IIA: 90.90, val/accuracy: 95.64, val/strict_accuracy: 95.12\n",
      "Epoch 6: lr: 9.52e-04, iit_weight: 1.00e+00, behavior_weight: 4.00e-01, strict_weight: 4.00e-01, train/iit_loss: 1.97e-01, train/behavior_loss: 3.44e-02, train/strict_loss: 2.84e-02, val/iit_loss: 7.56e-02, val/IIA: 93.44, val/accuracy: 96.11, val/strict_accuracy: 96.21\n",
      "Epoch 7: lr: 9.44e-04, iit_weight: 1.00e+00, behavior_weight: 4.00e-01, strict_weight: 4.00e-01, train/iit_loss: 1.68e-01, train/behavior_loss: 2.13e-02, train/strict_loss: 1.92e-02, val/iit_loss: 5.43e-02, val/IIA: 94.32, val/accuracy: 97.84, val/strict_accuracy: 97.94\n",
      "Epoch 8: lr: 9.36e-04, iit_weight: 1.00e+00, behavior_weight: 4.00e-01, strict_weight: 4.00e-01, train/iit_loss: 1.47e-01, train/behavior_loss: 1.68e-02, train/strict_loss: 1.55e-02, val/iit_loss: 3.96e-02, val/IIA: 95.48, val/accuracy: 96.94, val/strict_accuracy: 97.33\n",
      "Epoch 9: lr: 9.28e-04, iit_weight: 1.00e+00, behavior_weight: 4.00e-01, strict_weight: 4.00e-01, train/iit_loss: 1.39e-01, train/behavior_loss: 1.48e-02, train/strict_loss: 1.28e-02, val/iit_loss: 4.96e-02, val/IIA: 95.47, val/accuracy: 99.52, val/strict_accuracy: 99.21\n",
      "Epoch 10: lr: 9.20e-04, iit_weight: 1.00e+00, behavior_weight: 4.00e-01, strict_weight: 4.00e-01, train/iit_loss: 1.01e-01, train/behavior_loss: 1.25e-02, train/strict_loss: 9.97e-03, val/iit_loss: 3.46e-02, val/IIA: 96.92, val/accuracy: 96.99, val/strict_accuracy: 97.63\n",
      "Epoch 11: lr: 9.12e-04, iit_weight: 1.00e+00, behavior_weight: 4.00e-01, strict_weight: 4.00e-01, train/iit_loss: 9.60e-02, train/behavior_loss: 1.32e-02, train/strict_loss: 1.00e-02, val/iit_loss: 4.37e-02, val/IIA: 96.10, val/accuracy: 99.65, val/strict_accuracy: 99.58\n",
      "Epoch 12: lr: 9.04e-04, iit_weight: 1.00e+00, behavior_weight: 4.00e-01, strict_weight: 4.00e-01, train/iit_loss: 1.09e-01, train/behavior_loss: 1.05e-02, train/strict_loss: 7.81e-03, val/iit_loss: 4.11e-02, val/IIA: 97.24, val/accuracy: 98.17, val/strict_accuracy: 98.57\n",
      "Epoch 13: lr: 8.96e-04, iit_weight: 1.00e+00, behavior_weight: 4.00e-01, strict_weight: 4.00e-01, train/iit_loss: 7.48e-02, train/behavior_loss: 1.17e-02, train/strict_loss: 7.83e-03, val/iit_loss: 2.69e-02, val/IIA: 97.72, val/accuracy: 97.02, val/strict_accuracy: 97.66\n",
      "Epoch 14: lr: 8.88e-04, iit_weight: 1.00e+00, behavior_weight: 4.00e-01, strict_weight: 4.00e-01, train/iit_loss: 8.33e-02, train/behavior_loss: 1.20e-02, train/strict_loss: 7.17e-03, val/iit_loss: 3.40e-02, val/IIA: 96.86, val/accuracy: 99.68, val/strict_accuracy: 98.92\n",
      "Epoch 15: lr: 8.80e-04, iit_weight: 1.00e+00, behavior_weight: 4.00e-01, strict_weight: 4.00e-01, train/iit_loss: 7.38e-02, train/behavior_loss: 1.21e-02, train/strict_loss: 7.04e-03, val/iit_loss: 3.11e-02, val/IIA: 97.38, val/accuracy: 99.53, val/strict_accuracy: 98.89\n",
      "Epoch 16: lr: 8.72e-04, iit_weight: 1.00e+00, behavior_weight: 4.00e-01, strict_weight: 4.00e-01, train/iit_loss: 5.57e-02, train/behavior_loss: 1.24e-02, train/strict_loss: 5.75e-03, val/iit_loss: 2.62e-02, val/IIA: 97.94, val/accuracy: 97.01, val/strict_accuracy: 97.90\n",
      "Epoch 17: lr: 8.64e-04, iit_weight: 1.00e+00, behavior_weight: 4.00e-01, strict_weight: 4.00e-01, train/iit_loss: 6.31e-02, train/behavior_loss: 1.31e-02, train/strict_loss: 5.75e-03, val/iit_loss: 2.89e-02, val/IIA: 97.29, val/accuracy: 99.69, val/strict_accuracy: 99.19\n",
      "Epoch 18: lr: 8.56e-04, iit_weight: 1.00e+00, behavior_weight: 4.00e-01, strict_weight: 4.00e-01, train/iit_loss: 5.49e-02, train/behavior_loss: 1.01e-02, train/strict_loss: 5.98e-03, val/iit_loss: 2.49e-02, val/IIA: 98.71, val/accuracy: 96.87, val/strict_accuracy: 97.91\n",
      "Epoch 19: lr: 8.48e-04, iit_weight: 1.00e+00, behavior_weight: 4.00e-01, strict_weight: 4.00e-01, train/iit_loss: 4.79e-02, train/behavior_loss: 1.09e-02, train/strict_loss: 4.84e-03, val/iit_loss: 2.72e-02, val/IIA: 97.69, val/accuracy: 99.53, val/strict_accuracy: 99.16\n",
      "Epoch 20: lr: 8.40e-04, iit_weight: 1.00e+00, behavior_weight: 4.00e-01, strict_weight: 4.00e-01, train/iit_loss: 4.98e-02, train/behavior_loss: 1.09e-02, train/strict_loss: 4.67e-03, val/iit_loss: 4.17e-02, val/IIA: 97.73, val/accuracy: 99.68, val/strict_accuracy: 99.61\n",
      "Epoch 21: lr: 8.32e-04, iit_weight: 1.00e+00, behavior_weight: 4.00e-01, strict_weight: 4.00e-01, train/iit_loss: 4.55e-02, train/behavior_loss: 1.04e-02, train/strict_loss: 4.68e-03, val/iit_loss: 2.46e-02, val/IIA: 98.73, val/accuracy: 96.98, val/strict_accuracy: 97.96\n",
      "Epoch 22: lr: 8.24e-04, iit_weight: 1.00e+00, behavior_weight: 4.00e-01, strict_weight: 4.00e-01, train/iit_loss: 4.12e-02, train/behavior_loss: 1.14e-02, train/strict_loss: 4.53e-03, val/iit_loss: 2.85e-02, val/IIA: 97.98, val/accuracy: 99.69, val/strict_accuracy: 99.56\n",
      "Epoch 23: lr: 8.16e-04, iit_weight: 1.00e+00, behavior_weight: 4.00e-01, strict_weight: 4.00e-01, train/iit_loss: 3.91e-02, train/behavior_loss: 1.14e-02, train/strict_loss: 3.85e-03, val/iit_loss: 1.77e-02, val/IIA: 98.92, val/accuracy: 96.79, val/strict_accuracy: 97.85\n",
      "Epoch 24: lr: 8.08e-04, iit_weight: 1.00e+00, behavior_weight: 4.00e-01, strict_weight: 4.00e-01, train/iit_loss: 4.06e-02, train/behavior_loss: 1.24e-02, train/strict_loss: 4.49e-03, val/iit_loss: 2.33e-02, val/IIA: 98.00, val/accuracy: 99.32, val/strict_accuracy: 99.47\n",
      "Epoch 25: lr: 8.00e-04, iit_weight: 1.00e+00, behavior_weight: 4.00e-01, strict_weight: 4.00e-01, train/iit_loss: 3.70e-02, train/behavior_loss: 1.05e-02, train/strict_loss: 3.73e-03, val/iit_loss: 2.43e-02, val/IIA: 98.14, val/accuracy: 99.68, val/strict_accuracy: 99.55\n",
      "Epoch 26: lr: 7.92e-04, iit_weight: 1.00e+00, behavior_weight: 4.00e-01, strict_weight: 4.00e-01, train/iit_loss: 3.10e-02, train/behavior_loss: 1.08e-02, train/strict_loss: 3.70e-03, val/iit_loss: 2.24e-02, val/IIA: 98.01, val/accuracy: 99.53, val/strict_accuracy: 99.50\n",
      "Epoch 27: lr: 7.84e-04, iit_weight: 1.00e+00, behavior_weight: 4.00e-01, strict_weight: 4.00e-01, train/iit_loss: 3.44e-02, train/behavior_loss: 1.13e-02, train/strict_loss: 3.97e-03, val/iit_loss: 1.76e-02, val/IIA: 98.27, val/accuracy: 99.47, val/strict_accuracy: 99.19\n",
      "Epoch 28: lr: 7.76e-04, iit_weight: 1.00e+00, behavior_weight: 4.00e-01, strict_weight: 4.00e-01, train/iit_loss: 3.17e-02, train/behavior_loss: 1.17e-02, train/strict_loss: 3.82e-03, val/iit_loss: 2.90e-02, val/IIA: 98.14, val/accuracy: 99.68, val/strict_accuracy: 99.60\n",
      "Epoch 29: lr: 7.68e-04, iit_weight: 1.00e+00, behavior_weight: 4.00e-01, strict_weight: 4.00e-01, train/iit_loss: 3.20e-02, train/behavior_loss: 1.16e-02, train/strict_loss: 3.58e-03, val/iit_loss: 1.96e-02, val/IIA: 98.20, val/accuracy: 99.63, val/strict_accuracy: 99.43\n",
      "Epoch 30: lr: 7.60e-04, iit_weight: 1.00e+00, behavior_weight: 4.00e-01, strict_weight: 4.00e-01, train/iit_loss: 3.39e-02, train/behavior_loss: 1.08e-02, train/strict_loss: 3.58e-03, val/iit_loss: 1.61e-02, val/IIA: 99.05, val/accuracy: 96.97, val/strict_accuracy: 98.28\n",
      "Epoch 31: lr: 7.52e-04, iit_weight: 1.00e+00, behavior_weight: 4.00e-01, strict_weight: 4.00e-01, train/iit_loss: 3.09e-02, train/behavior_loss: 1.11e-02, train/strict_loss: 3.39e-03, val/iit_loss: 2.67e-02, val/IIA: 98.15, val/accuracy: 99.68, val/strict_accuracy: 99.59\n",
      "Epoch 32: lr: 7.44e-04, iit_weight: 1.00e+00, behavior_weight: 4.00e-01, strict_weight: 4.00e-01, train/iit_loss: 3.10e-02, train/behavior_loss: 9.96e-03, train/strict_loss: 3.42e-03, val/iit_loss: 2.23e-02, val/IIA: 98.26, val/accuracy: 99.63, val/strict_accuracy: 99.56\n",
      "Epoch 33: lr: 7.36e-04, iit_weight: 1.00e+00, behavior_weight: 4.00e-01, strict_weight: 4.00e-01, train/iit_loss: 3.09e-02, train/behavior_loss: 1.02e-02, train/strict_loss: 3.60e-03, val/iit_loss: 1.60e-02, val/IIA: 99.24, val/accuracy: 96.89, val/strict_accuracy: 98.27\n",
      "Epoch 34: lr: 7.28e-04, iit_weight: 1.00e+00, behavior_weight: 4.00e-01, strict_weight: 4.00e-01, train/iit_loss: 2.75e-02, train/behavior_loss: 1.16e-02, train/strict_loss: 3.46e-03, val/iit_loss: 1.22e-02, val/IIA: 99.05, val/accuracy: 96.71, val/strict_accuracy: 98.15\n",
      "Epoch 35: lr: 7.20e-04, iit_weight: 1.00e+00, behavior_weight: 4.00e-01, strict_weight: 4.00e-01, train/iit_loss: 3.03e-02, train/behavior_loss: 1.10e-02, train/strict_loss: 3.49e-03, val/iit_loss: 1.49e-02, val/IIA: 99.27, val/accuracy: 96.81, val/strict_accuracy: 98.33\n",
      "Epoch 36: lr: 7.12e-04, iit_weight: 1.00e+00, behavior_weight: 4.00e-01, strict_weight: 4.00e-01, train/iit_loss: 2.84e-02, train/behavior_loss: 1.00e-02, train/strict_loss: 3.61e-03, val/iit_loss: 1.34e-02, val/IIA: 99.14, val/accuracy: 96.96, val/strict_accuracy: 98.24\n",
      "Epoch 37: lr: 7.04e-04, iit_weight: 1.00e+00, behavior_weight: 4.00e-01, strict_weight: 4.00e-01, train/iit_loss: 2.94e-02, train/behavior_loss: 1.09e-02, train/strict_loss: 3.49e-03, val/iit_loss: 1.27e-02, val/IIA: 99.31, val/accuracy: 96.42, val/strict_accuracy: 98.12\n",
      "Epoch 38: lr: 6.96e-04, iit_weight: 1.00e+00, behavior_weight: 4.00e-01, strict_weight: 4.00e-01, train/iit_loss: 2.78e-02, train/behavior_loss: 9.87e-03, train/strict_loss: 3.30e-03, val/iit_loss: 1.85e-02, val/IIA: 98.29, val/accuracy: 99.64, val/strict_accuracy: 99.37\n",
      "Epoch 39: lr: 6.88e-04, iit_weight: 1.00e+00, behavior_weight: 4.00e-01, strict_weight: 4.00e-01, train/iit_loss: 2.88e-02, train/behavior_loss: 8.51e-03, train/strict_loss: 3.16e-03, val/iit_loss: 2.70e-02, val/IIA: 98.12, val/accuracy: 99.66, val/strict_accuracy: 99.59\n",
      "Epoch 40: lr: 6.80e-04, iit_weight: 1.00e+00, behavior_weight: 4.00e-01, strict_weight: 4.00e-01, train/iit_loss: 3.03e-02, train/behavior_loss: 9.20e-03, train/strict_loss: 3.20e-03, val/iit_loss: 2.15e-02, val/IIA: 98.21, val/accuracy: 99.65, val/strict_accuracy: 99.54\n",
      "Epoch 41: lr: 6.72e-04, iit_weight: 1.00e+00, behavior_weight: 4.00e-01, strict_weight: 4.00e-01, train/iit_loss: 2.92e-02, train/behavior_loss: 9.73e-03, train/strict_loss: 3.30e-03, val/iit_loss: 2.91e-02, val/IIA: 98.12, val/accuracy: 99.68, val/strict_accuracy: 99.58\n",
      "Epoch 42: lr: 6.64e-04, iit_weight: 1.00e+00, behavior_weight: 4.00e-01, strict_weight: 4.00e-01, train/iit_loss: 2.70e-02, train/behavior_loss: 1.15e-02, train/strict_loss: 3.80e-03, val/iit_loss: 1.47e-02, val/IIA: 98.42, val/accuracy: 99.08, val/strict_accuracy: 99.26\n",
      "Epoch 43: lr: 6.56e-04, iit_weight: 1.00e+00, behavior_weight: 4.00e-01, strict_weight: 4.00e-01, train/iit_loss: 2.87e-02, train/behavior_loss: 1.07e-02, train/strict_loss: 3.73e-03, val/iit_loss: 1.38e-02, val/IIA: 99.18, val/accuracy: 96.45, val/strict_accuracy: 98.14\n",
      "Epoch 44: lr: 6.48e-04, iit_weight: 1.00e+00, behavior_weight: 4.00e-01, strict_weight: 4.00e-01, train/iit_loss: 3.22e-02, train/behavior_loss: 1.17e-02, train/strict_loss: 3.72e-03, val/iit_loss: 1.44e-02, val/IIA: 99.22, val/accuracy: 96.98, val/strict_accuracy: 98.37\n",
      "Epoch 45: lr: 6.40e-04, iit_weight: 1.00e+00, behavior_weight: 4.00e-01, strict_weight: 4.00e-01, train/iit_loss: 2.67e-02, train/behavior_loss: 1.03e-02, train/strict_loss: 3.64e-03, val/iit_loss: 1.43e-02, val/IIA: 99.21, val/accuracy: 96.90, val/strict_accuracy: 98.34\n",
      "Epoch 46: lr: 6.32e-04, iit_weight: 1.00e+00, behavior_weight: 4.00e-01, strict_weight: 4.00e-01, train/iit_loss: 2.84e-02, train/behavior_loss: 1.16e-02, train/strict_loss: 3.93e-03, val/iit_loss: 1.91e-02, val/IIA: 98.23, val/accuracy: 99.67, val/strict_accuracy: 99.45\n",
      "Epoch 47: lr: 6.24e-04, iit_weight: 1.00e+00, behavior_weight: 4.00e-01, strict_weight: 4.00e-01, train/iit_loss: 2.66e-02, train/behavior_loss: 1.20e-02, train/strict_loss: 3.76e-03, val/iit_loss: 1.85e-02, val/IIA: 98.06, val/accuracy: 99.66, val/strict_accuracy: 99.41\n",
      "Epoch 48: lr: 6.16e-04, iit_weight: 1.00e+00, behavior_weight: 4.00e-01, strict_weight: 4.00e-01, train/iit_loss: 2.70e-02, train/behavior_loss: 9.82e-03, train/strict_loss: 3.37e-03, val/iit_loss: 1.26e-02, val/IIA: 99.33, val/accuracy: 96.41, val/strict_accuracy: 98.18\n",
      "Epoch 49: lr: 6.08e-04, iit_weight: 1.00e+00, behavior_weight: 4.00e-01, strict_weight: 4.00e-01, train/iit_loss: 2.60e-02, train/behavior_loss: 1.13e-02, train/strict_loss: 3.38e-03, val/iit_loss: 2.83e-02, val/IIA: 98.13, val/accuracy: 99.63, val/strict_accuracy: 99.55\n",
      "Epoch 50: lr: 6.00e-04, iit_weight: 1.00e+00, behavior_weight: 4.00e-01, strict_weight: 4.00e-01, train/iit_loss: 2.50e-02, train/behavior_loss: 1.03e-02, train/strict_loss: 3.23e-03, val/iit_loss: 1.09e-02, val/IIA: 99.34, val/accuracy: 96.90, val/strict_accuracy: 98.19\n",
      "Epoch 51: lr: 5.92e-04, iit_weight: 1.00e+00, behavior_weight: 4.00e-01, strict_weight: 4.00e-01, train/iit_loss: 2.62e-02, train/behavior_loss: 1.04e-02, train/strict_loss: 3.68e-03, val/iit_loss: 1.23e-02, val/IIA: 99.18, val/accuracy: 97.04, val/strict_accuracy: 98.37\n",
      "Epoch 52: lr: 5.84e-04, iit_weight: 1.00e+00, behavior_weight: 4.00e-01, strict_weight: 4.00e-01, train/iit_loss: 2.44e-02, train/behavior_loss: 1.10e-02, train/strict_loss: 3.62e-03, val/iit_loss: 1.19e-02, val/IIA: 99.41, val/accuracy: 96.34, val/strict_accuracy: 98.16\n",
      "Epoch 53: lr: 5.76e-04, iit_weight: 1.00e+00, behavior_weight: 4.00e-01, strict_weight: 4.00e-01, train/iit_loss: 2.35e-02, train/behavior_loss: 1.02e-02, train/strict_loss: 3.40e-03, val/iit_loss: 2.18e-02, val/IIA: 98.24, val/accuracy: 99.67, val/strict_accuracy: 99.64\n",
      "Epoch 54: lr: 5.68e-04, iit_weight: 1.00e+00, behavior_weight: 4.00e-01, strict_weight: 4.00e-01, train/iit_loss: 2.64e-02, train/behavior_loss: 1.06e-02, train/strict_loss: 3.09e-03, val/iit_loss: 1.20e-02, val/IIA: 99.00, val/accuracy: 97.89, val/strict_accuracy: 98.67\n",
      "Epoch 55: lr: 5.60e-04, iit_weight: 1.00e+00, behavior_weight: 4.00e-01, strict_weight: 4.00e-01, train/iit_loss: 2.47e-02, train/behavior_loss: 9.95e-03, train/strict_loss: 3.16e-03, val/iit_loss: 2.01e-02, val/IIA: 98.08, val/accuracy: 99.51, val/strict_accuracy: 99.54\n",
      "Epoch 56: lr: 5.52e-04, iit_weight: 1.00e+00, behavior_weight: 4.00e-01, strict_weight: 4.00e-01, train/iit_loss: 2.55e-02, train/behavior_loss: 9.61e-03, train/strict_loss: 3.39e-03, val/iit_loss: 1.68e-02, val/IIA: 98.32, val/accuracy: 99.68, val/strict_accuracy: 99.47\n",
      "Epoch 57: lr: 5.44e-04, iit_weight: 1.00e+00, behavior_weight: 4.00e-01, strict_weight: 4.00e-01, train/iit_loss: 2.55e-02, train/behavior_loss: 9.33e-03, train/strict_loss: 3.09e-03, val/iit_loss: 1.60e-02, val/IIA: 98.38, val/accuracy: 99.64, val/strict_accuracy: 99.47\n",
      "Epoch 58: lr: 5.36e-04, iit_weight: 1.00e+00, behavior_weight: 4.00e-01, strict_weight: 4.00e-01, train/iit_loss: 2.27e-02, train/behavior_loss: 9.39e-03, train/strict_loss: 3.15e-03, val/iit_loss: 1.63e-02, val/IIA: 98.35, val/accuracy: 99.68, val/strict_accuracy: 99.54\n",
      "Epoch 59: lr: 5.28e-04, iit_weight: 1.00e+00, behavior_weight: 4.00e-01, strict_weight: 4.00e-01, train/iit_loss: 2.56e-02, train/behavior_loss: 1.02e-02, train/strict_loss: 3.11e-03, val/iit_loss: 1.09e-02, val/IIA: 99.38, val/accuracy: 97.02, val/strict_accuracy: 98.35\n",
      "Epoch 60: lr: 5.20e-04, iit_weight: 1.00e+00, behavior_weight: 4.00e-01, strict_weight: 4.00e-01, train/iit_loss: 2.60e-02, train/behavior_loss: 1.01e-02, train/strict_loss: 3.27e-03, val/iit_loss: 1.11e-02, val/IIA: 99.52, val/accuracy: 96.24, val/strict_accuracy: 98.19\n",
      "Epoch 61: lr: 5.12e-04, iit_weight: 1.00e+00, behavior_weight: 4.00e-01, strict_weight: 4.00e-01, train/iit_loss: 2.35e-02, train/behavior_loss: 9.34e-03, train/strict_loss: 3.23e-03, val/iit_loss: 2.22e-02, val/IIA: 98.31, val/accuracy: 99.66, val/strict_accuracy: 99.63\n",
      "Epoch 62: lr: 5.04e-04, iit_weight: 1.00e+00, behavior_weight: 4.00e-01, strict_weight: 4.00e-01, train/iit_loss: 2.42e-02, train/behavior_loss: 1.08e-02, train/strict_loss: 3.29e-03, val/iit_loss: 1.91e-02, val/IIA: 98.36, val/accuracy: 99.64, val/strict_accuracy: 99.58\n",
      "Epoch 63: lr: 4.96e-04, iit_weight: 1.00e+00, behavior_weight: 4.00e-01, strict_weight: 4.00e-01, train/iit_loss: 2.44e-02, train/behavior_loss: 1.03e-02, train/strict_loss: 3.09e-03, val/iit_loss: 8.84e-03, val/IIA: 99.46, val/accuracy: 96.87, val/strict_accuracy: 98.25\n",
      "Epoch 64: lr: 4.88e-04, iit_weight: 1.00e+00, behavior_weight: 4.00e-01, strict_weight: 4.00e-01, train/iit_loss: 2.17e-02, train/behavior_loss: 1.01e-02, train/strict_loss: 3.04e-03, val/iit_loss: 9.59e-03, val/IIA: 99.42, val/accuracy: 96.97, val/strict_accuracy: 98.28\n",
      "Epoch 65: lr: 4.80e-04, iit_weight: 1.00e+00, behavior_weight: 4.00e-01, strict_weight: 4.00e-01, train/iit_loss: 2.33e-02, train/behavior_loss: 1.11e-02, train/strict_loss: 3.21e-03, val/iit_loss: 1.17e-02, val/IIA: 98.84, val/accuracy: 98.40, val/strict_accuracy: 98.88\n",
      "Epoch 66: lr: 4.72e-04, iit_weight: 1.00e+00, behavior_weight: 4.00e-01, strict_weight: 4.00e-01, train/iit_loss: 2.22e-02, train/behavior_loss: 1.10e-02, train/strict_loss: 3.00e-03, val/iit_loss: 1.32e-02, val/IIA: 98.44, val/accuracy: 99.64, val/strict_accuracy: 99.27\n",
      "Epoch 67: lr: 4.64e-04, iit_weight: 1.00e+00, behavior_weight: 4.00e-01, strict_weight: 4.00e-01, train/iit_loss: 2.41e-02, train/behavior_loss: 9.62e-03, train/strict_loss: 3.20e-03, val/iit_loss: 1.40e-02, val/IIA: 99.43, val/accuracy: 96.69, val/strict_accuracy: 98.54\n",
      "Epoch 68: lr: 4.56e-04, iit_weight: 1.00e+00, behavior_weight: 4.00e-01, strict_weight: 4.00e-01, train/iit_loss: 2.11e-02, train/behavior_loss: 1.04e-02, train/strict_loss: 3.24e-03, val/iit_loss: 1.46e-02, val/IIA: 98.41, val/accuracy: 99.67, val/strict_accuracy: 99.53\n",
      "Epoch 69: lr: 4.48e-04, iit_weight: 1.00e+00, behavior_weight: 4.00e-01, strict_weight: 4.00e-01, train/iit_loss: 2.12e-02, train/behavior_loss: 9.76e-03, train/strict_loss: 3.00e-03, val/iit_loss: 1.06e-02, val/IIA: 99.44, val/accuracy: 97.03, val/strict_accuracy: 98.38\n",
      "Epoch 70: lr: 4.40e-04, iit_weight: 1.00e+00, behavior_weight: 4.00e-01, strict_weight: 4.00e-01, train/iit_loss: 2.01e-02, train/behavior_loss: 9.45e-03, train/strict_loss: 2.68e-03, val/iit_loss: 1.73e-02, val/IIA: 98.42, val/accuracy: 99.68, val/strict_accuracy: 99.59\n",
      "Epoch 71: lr: 4.32e-04, iit_weight: 1.00e+00, behavior_weight: 4.00e-01, strict_weight: 4.00e-01, train/iit_loss: 2.16e-02, train/behavior_loss: 1.16e-02, train/strict_loss: 3.08e-03, val/iit_loss: 1.73e-02, val/IIA: 98.36, val/accuracy: 99.69, val/strict_accuracy: 99.65\n",
      "Epoch 72: lr: 4.24e-04, iit_weight: 1.00e+00, behavior_weight: 4.00e-01, strict_weight: 4.00e-01, train/iit_loss: 2.32e-02, train/behavior_loss: 1.01e-02, train/strict_loss: 3.01e-03, val/iit_loss: 1.33e-02, val/IIA: 98.49, val/accuracy: 99.67, val/strict_accuracy: 99.46\n",
      "Epoch 73: lr: 4.16e-04, iit_weight: 1.00e+00, behavior_weight: 4.00e-01, strict_weight: 4.00e-01, train/iit_loss: 2.17e-02, train/behavior_loss: 1.04e-02, train/strict_loss: 2.94e-03, val/iit_loss: 1.25e-02, val/IIA: 98.90, val/accuracy: 97.75, val/strict_accuracy: 98.69\n",
      "Epoch 74: lr: 4.08e-04, iit_weight: 1.00e+00, behavior_weight: 4.00e-01, strict_weight: 4.00e-01, train/iit_loss: 2.16e-02, train/behavior_loss: 1.02e-02, train/strict_loss: 3.04e-03, val/iit_loss: 1.36e-02, val/IIA: 98.49, val/accuracy: 99.65, val/strict_accuracy: 99.45\n",
      "Epoch 75: lr: 4.00e-04, iit_weight: 1.00e+00, behavior_weight: 4.00e-01, strict_weight: 4.00e-01, train/iit_loss: 2.02e-02, train/behavior_loss: 1.01e-02, train/strict_loss: 2.99e-03, val/iit_loss: 1.10e-02, val/IIA: 99.47, val/accuracy: 96.85, val/strict_accuracy: 98.27\n",
      "Epoch 76: lr: 3.92e-04, iit_weight: 1.00e+00, behavior_weight: 4.00e-01, strict_weight: 4.00e-01, train/iit_loss: 2.23e-02, train/behavior_loss: 1.05e-02, train/strict_loss: 3.11e-03, val/iit_loss: 9.92e-03, val/IIA: 99.46, val/accuracy: 97.03, val/strict_accuracy: 98.33\n",
      "Epoch 77: lr: 3.84e-04, iit_weight: 1.00e+00, behavior_weight: 4.00e-01, strict_weight: 4.00e-01, train/iit_loss: 1.94e-02, train/behavior_loss: 1.15e-02, train/strict_loss: 3.07e-03, val/iit_loss: 1.64e-02, val/IIA: 98.41, val/accuracy: 99.68, val/strict_accuracy: 99.62\n",
      "Epoch 78: lr: 3.76e-04, iit_weight: 1.00e+00, behavior_weight: 4.00e-01, strict_weight: 4.00e-01, train/iit_loss: 2.02e-02, train/behavior_loss: 9.64e-03, train/strict_loss: 3.17e-03, val/iit_loss: 1.90e-02, val/IIA: 98.24, val/accuracy: 99.54, val/strict_accuracy: 99.58\n",
      "Epoch 79: lr: 3.68e-04, iit_weight: 1.00e+00, behavior_weight: 4.00e-01, strict_weight: 4.00e-01, train/iit_loss: 1.95e-02, train/behavior_loss: 1.07e-02, train/strict_loss: 2.92e-03, val/iit_loss: 1.33e-02, val/IIA: 98.49, val/accuracy: 99.59, val/strict_accuracy: 99.44\n",
      "Epoch 80: lr: 3.60e-04, iit_weight: 1.00e+00, behavior_weight: 4.00e-01, strict_weight: 4.00e-01, train/iit_loss: 2.35e-02, train/behavior_loss: 1.12e-02, train/strict_loss: 3.13e-03, val/iit_loss: 1.12e-02, val/IIA: 99.48, val/accuracy: 96.87, val/strict_accuracy: 98.38\n",
      "Epoch 81: lr: 3.52e-04, iit_weight: 1.00e+00, behavior_weight: 4.00e-01, strict_weight: 4.00e-01, train/iit_loss: 1.96e-02, train/behavior_loss: 9.96e-03, train/strict_loss: 2.91e-03, val/iit_loss: 2.16e-02, val/IIA: 98.41, val/accuracy: 99.66, val/strict_accuracy: 99.61\n",
      "Epoch 82: lr: 3.44e-04, iit_weight: 1.00e+00, behavior_weight: 4.00e-01, strict_weight: 4.00e-01, train/iit_loss: 1.82e-02, train/behavior_loss: 1.02e-02, train/strict_loss: 3.16e-03, val/iit_loss: 1.49e-02, val/IIA: 98.54, val/accuracy: 99.69, val/strict_accuracy: 99.57\n",
      "Epoch 83: lr: 3.36e-04, iit_weight: 1.00e+00, behavior_weight: 4.00e-01, strict_weight: 4.00e-01, train/iit_loss: 1.93e-02, train/behavior_loss: 1.05e-02, train/strict_loss: 3.02e-03, val/iit_loss: 1.15e-02, val/IIA: 99.03, val/accuracy: 98.12, val/strict_accuracy: 98.94\n",
      "Epoch 84: lr: 3.28e-04, iit_weight: 1.00e+00, behavior_weight: 4.00e-01, strict_weight: 4.00e-01, train/iit_loss: 1.99e-02, train/behavior_loss: 9.92e-03, train/strict_loss: 3.00e-03, val/iit_loss: 8.86e-03, val/IIA: 99.62, val/accuracy: 96.23, val/strict_accuracy: 98.05\n",
      "Epoch 85: lr: 3.20e-04, iit_weight: 1.00e+00, behavior_weight: 4.00e-01, strict_weight: 4.00e-01, train/iit_loss: 2.26e-02, train/behavior_loss: 1.07e-02, train/strict_loss: 2.90e-03, val/iit_loss: 1.93e-02, val/IIA: 98.51, val/accuracy: 99.67, val/strict_accuracy: 99.65\n",
      "Epoch 86: lr: 3.12e-04, iit_weight: 1.00e+00, behavior_weight: 4.00e-01, strict_weight: 4.00e-01, train/iit_loss: 2.19e-02, train/behavior_loss: 1.04e-02, train/strict_loss: 3.14e-03, val/iit_loss: 8.44e-03, val/IIA: 99.53, val/accuracy: 96.95, val/strict_accuracy: 98.31\n",
      "Epoch 87: lr: 3.04e-04, iit_weight: 1.00e+00, behavior_weight: 4.00e-01, strict_weight: 4.00e-01, train/iit_loss: 2.12e-02, train/behavior_loss: 1.20e-02, train/strict_loss: 3.14e-03, val/iit_loss: 1.02e-02, val/IIA: 99.61, val/accuracy: 96.44, val/strict_accuracy: 98.38\n",
      "Epoch 88: lr: 2.96e-04, iit_weight: 1.00e+00, behavior_weight: 4.00e-01, strict_weight: 4.00e-01, train/iit_loss: 1.96e-02, train/behavior_loss: 1.03e-02, train/strict_loss: 2.97e-03, val/iit_loss: 1.15e-02, val/IIA: 98.88, val/accuracy: 98.49, val/strict_accuracy: 99.00\n",
      "Epoch 89: lr: 2.88e-04, iit_weight: 1.00e+00, behavior_weight: 4.00e-01, strict_weight: 4.00e-01, train/iit_loss: 2.16e-02, train/behavior_loss: 1.08e-02, train/strict_loss: 3.13e-03, val/iit_loss: 1.45e-02, val/IIA: 98.54, val/accuracy: 99.68, val/strict_accuracy: 99.57\n",
      "Epoch 90: lr: 2.80e-04, iit_weight: 1.00e+00, behavior_weight: 4.00e-01, strict_weight: 4.00e-01, train/iit_loss: 2.04e-02, train/behavior_loss: 1.02e-02, train/strict_loss: 2.88e-03, val/iit_loss: 1.09e-02, val/IIA: 99.52, val/accuracy: 97.01, val/strict_accuracy: 98.49\n",
      "Epoch 91: lr: 2.72e-04, iit_weight: 1.00e+00, behavior_weight: 4.00e-01, strict_weight: 4.00e-01, train/iit_loss: 2.10e-02, train/behavior_loss: 9.30e-03, train/strict_loss: 2.70e-03, val/iit_loss: 9.65e-03, val/IIA: 99.44, val/accuracy: 97.00, val/strict_accuracy: 98.27\n",
      "Epoch 92: lr: 2.64e-04, iit_weight: 1.00e+00, behavior_weight: 4.00e-01, strict_weight: 4.00e-01, train/iit_loss: 2.00e-02, train/behavior_loss: 1.02e-02, train/strict_loss: 2.94e-03, val/iit_loss: 1.25e-02, val/IIA: 98.59, val/accuracy: 99.63, val/strict_accuracy: 99.45\n",
      "Epoch 93: lr: 2.56e-04, iit_weight: 1.00e+00, behavior_weight: 4.00e-01, strict_weight: 4.00e-01, train/iit_loss: 2.14e-02, train/behavior_loss: 1.01e-02, train/strict_loss: 2.77e-03, val/iit_loss: 1.17e-02, val/IIA: 98.55, val/accuracy: 99.67, val/strict_accuracy: 99.29\n",
      "Epoch 94: lr: 2.48e-04, iit_weight: 1.00e+00, behavior_weight: 4.00e-01, strict_weight: 4.00e-01, train/iit_loss: 1.95e-02, train/behavior_loss: 9.49e-03, train/strict_loss: 2.82e-03, val/iit_loss: 1.28e-02, val/IIA: 98.54, val/accuracy: 99.61, val/strict_accuracy: 99.33\n",
      "Epoch 95: lr: 2.40e-04, iit_weight: 1.00e+00, behavior_weight: 4.00e-01, strict_weight: 4.00e-01, train/iit_loss: 1.84e-02, train/behavior_loss: 9.72e-03, train/strict_loss: 3.00e-03, val/iit_loss: 1.45e-02, val/IIA: 98.57, val/accuracy: 99.68, val/strict_accuracy: 99.46\n",
      "Epoch 96: lr: 2.32e-04, iit_weight: 1.00e+00, behavior_weight: 4.00e-01, strict_weight: 4.00e-01, train/iit_loss: 2.16e-02, train/behavior_loss: 9.96e-03, train/strict_loss: 2.93e-03, val/iit_loss: 1.19e-02, val/IIA: 98.57, val/accuracy: 99.68, val/strict_accuracy: 99.28\n",
      "Epoch 97: lr: 2.24e-04, iit_weight: 1.00e+00, behavior_weight: 4.00e-01, strict_weight: 4.00e-01, train/iit_loss: 2.08e-02, train/behavior_loss: 9.76e-03, train/strict_loss: 2.77e-03, val/iit_loss: 1.55e-02, val/IIA: 98.52, val/accuracy: 99.68, val/strict_accuracy: 99.44\n",
      "Epoch 98: lr: 2.16e-04, iit_weight: 1.00e+00, behavior_weight: 4.00e-01, strict_weight: 4.00e-01, train/iit_loss: 1.78e-02, train/behavior_loss: 8.43e-03, train/strict_loss: 2.88e-03, val/iit_loss: 1.72e-02, val/IIA: 98.49, val/accuracy: 99.68, val/strict_accuracy: 99.44\n",
      "Epoch 99: lr: 2.08e-04, iit_weight: 1.00e+00, behavior_weight: 4.00e-01, strict_weight: 4.00e-01, train/iit_loss: 1.90e-02, train/behavior_loss: 8.80e-03, train/strict_loss: 2.69e-03, val/iit_loss: 1.77e-02, val/IIA: 98.52, val/accuracy: 99.68, val/strict_accuracy: 99.58\n",
      "Epoch 100: lr: 2.00e-04, iit_weight: 1.00e+00, behavior_weight: 4.00e-01, strict_weight: 4.00e-01, train/iit_loss: 2.09e-02, train/behavior_loss: 8.44e-03, train/strict_loss: 2.63e-03, val/iit_loss: 1.24e-02, val/IIA: 98.58, val/accuracy: 99.68, val/strict_accuracy: 99.32\n"
     ]
    }
   ],
   "source": [
    "ll_model = poly_hl_model.get_ll_model()\n",
    "corr = poly_hl_model.get_correspondence()\n",
    "for k, v in corr.items():\n",
    "    print(k, v)\n",
    "train_set, test_set = poly_dataset.get_IIT_train_test_set()\n",
    "model_pair = StrictIITModelPair(hl_model=poly_hl_model, ll_model=ll_model, corr=corr, training_args=training_args)\n",
    "print(model_pair.nodes_not_in_circuit)\n",
    "model_pair.train(\n",
    "    train_set=train_set,\n",
    "    test_set=test_set,\n",
    "    optimizer_cls=torch.optim.Adam,\n",
    "    epochs=n_epochs,\n",
    "    # optimizer_kwargs=dict(weight_decay=1e-4),\n",
    ")"
   ]
  },
  {
   "cell_type": "code",
   "execution_count": 15,
   "metadata": {},
   "outputs": [],
   "source": [
    "\n",
    "save_poly_model_to_dir(ll_model, poly_hl_model, f\"./saved_poly_models/cases_0+2\")"
   ]
  },
  {
   "cell_type": "markdown",
   "metadata": {},
   "source": [
    "# (0) DuplicateRemover + (3) UniqueExtractor"
   ]
  },
  {
   "cell_type": "code",
   "execution_count": 19,
   "metadata": {},
   "outputs": [
    {
     "name": "stdout",
     "output_type": "stream",
     "text": [
      "input_hook {LLNode(name='blocks.0.hook_resid_pre', index=[:], subspace=None)}\n",
      "mlp_hooks.0 {LLNode(name='blocks.0.mlp.hook_post', index=[:], subspace=None)}\n",
      "attn_hooks.0.0 {LLNode(name='blocks.0.attn.hook_z', index=[:, :, 0, :], subspace=None)}\n",
      "task_hook {LLNode(name='blocks.0.attn.hook_z', index=[:, :, 1, :], subspace=None)}\n",
      "attn_hooks.0.2 {LLNode(name='blocks.0.attn.hook_z', index=[:, :, 2, :], subspace=None)}\n",
      "mlp_hooks.1 {LLNode(name='blocks.1.mlp.hook_post', index=[:], subspace=None)}\n",
      "mlp_hooks.2 {LLNode(name='blocks.2.mlp.hook_post', index=[:], subspace=None)}\n",
      "\n",
      "blocks.0.mlp.hook_post [[prev_equal_hook], [appeared_mlp]]\n",
      "blocks.0.attn.hook_z.0 [[prev_token_hook], None]\n",
      "blocks.0.attn.hook_z.1 [None, None]\n",
      "blocks.0.attn.hook_z.2 [None, [counter_head]]\n",
      "blocks.0.attn.hook_z.3 [None, None]\n",
      "blocks.1.mlp.hook_post [[output_hook], [mask_mlp]]\n",
      "blocks.1.attn.hook_z.0 [None, None]\n",
      "blocks.1.attn.hook_z.1 [None, None]\n",
      "blocks.1.attn.hook_z.2 [None, None]\n",
      "blocks.1.attn.hook_z.3 [None, None]\n",
      "blocks.2.mlp.hook_post [None, [output_mlp]]\n",
      "blocks.2.attn.hook_z.0 [None, None]\n",
      "blocks.2.attn.hook_z.1 [None, None]\n",
      "blocks.2.attn.hook_z.2 [None, None]\n",
      "blocks.2.attn.hook_z.3 [None, None]\n"
     ]
    }
   ],
   "source": [
    "cases = [Case0, Case3]\n",
    "poly_hl_model = PolyHLModel(hl_classes=cases, size_expansion=1)\n",
    "corr = poly_hl_model.get_correspondence()\n",
    "for k, v in corr.items():\n",
    "    print(k, v)\n",
    "\n",
    "print()\n",
    "for k, v in poly_hl_model.corr_mapping.items():\n",
    "    print(k, v)"
   ]
  },
  {
   "cell_type": "code",
   "execution_count": 20,
   "metadata": {},
   "outputs": [],
   "source": [
    "dataset_cases = [dataset_mapping[case] for case in cases]\n",
    "dsets = [dsetcase(N_samples=n_samples, n_ctx=n_ctx, seed=seed) for dsetcase in dataset_cases]\n",
    "poly_dataset = PolyModelDataset(dsets, n_ctx=poly_hl_model.cfg.n_ctx)"
   ]
  },
  {
   "cell_type": "code",
   "execution_count": 21,
   "metadata": {},
   "outputs": [
    {
     "name": "stdout",
     "output_type": "stream",
     "text": [
      "input_hook {LLNode(name='blocks.0.hook_resid_pre', index=[:], subspace=None)}\n",
      "mlp_hooks.0 {LLNode(name='blocks.0.mlp.hook_post', index=[:], subspace=None)}\n",
      "attn_hooks.0.0 {LLNode(name='blocks.0.attn.hook_z', index=[:, :, 0, :], subspace=None)}\n",
      "task_hook {LLNode(name='blocks.0.attn.hook_z', index=[:, :, 1, :], subspace=None)}\n",
      "attn_hooks.0.2 {LLNode(name='blocks.0.attn.hook_z', index=[:, :, 2, :], subspace=None)}\n",
      "mlp_hooks.1 {LLNode(name='blocks.1.mlp.hook_post', index=[:], subspace=None)}\n",
      "mlp_hooks.2 {LLNode(name='blocks.2.mlp.hook_post', index=[:], subspace=None)}\n",
      "[LLNode(name='blocks.0.attn.hook_z', index=[:, :, 3, :], subspace=None), LLNode(name='blocks.1.attn.hook_z', index=[:, :, 0, :], subspace=None), LLNode(name='blocks.1.attn.hook_z', index=[:, :, 1, :], subspace=None), LLNode(name='blocks.1.attn.hook_z', index=[:, :, 2, :], subspace=None), LLNode(name='blocks.1.attn.hook_z', index=[:, :, 3, :], subspace=None), LLNode(name='blocks.2.attn.hook_z', index=[:, :, 0, :], subspace=None), LLNode(name='blocks.2.attn.hook_z', index=[:, :, 1, :], subspace=None), LLNode(name='blocks.2.attn.hook_z', index=[:, :, 2, :], subspace=None), LLNode(name='blocks.2.attn.hook_z', index=[:, :, 3, :], subspace=None)]\n",
      "training_args={'batch_size': 256, 'num_workers': 0, 'early_stop': True, 'lr_scheduler': <class 'torch.optim.lr_scheduler.LinearLR'>, 'scheduler_val_metric': ['val/accuracy', 'val/IIA'], 'scheduler_mode': 'max', 'scheduler_kwargs': {'start_factor': 1, 'end_factor': 0.2, 'total_iters': 100}, 'optimizer_kwargs': {'lr': 0.001, 'betas': (0.9, 0.9)}, 'clip_grad_norm': 1.0, 'seed': 42, 'detach_while_caching': True, 'lr': 0.001, 'atol': 0.05, 'use_single_loss': True, 'iit_weight': 1.0, 'behavior_weight': 0.4, 'strict_weight': 0.4, 'siit_sampling': 'sample_all', 'iit_weight_schedule': <function <lambda> at 0x164a5f740>, 'strict_weight_schedule': <function <lambda> at 0x164f327a0>, 'behavior_weight_schedule': <function <lambda> at 0x164f31da0>}\n"
     ]
    },
    {
     "data": {
      "application/vnd.jupyter.widget-view+json": {
       "model_id": "26520af7a191485db2586368a2e50dce",
       "version_major": 2,
       "version_minor": 0
      },
      "text/plain": [
       "Training Epochs:   0%|          | 0/100 [00:00<?, ?it/s]"
      ]
     },
     "metadata": {},
     "output_type": "display_data"
    },
    {
     "data": {
      "application/vnd.jupyter.widget-view+json": {
       "model_id": "9e51bf21cb9942dc89687235aee3a8f2",
       "version_major": 2,
       "version_minor": 0
      },
      "text/plain": [
       "Training Batches:   0%|          | 0/63 [00:00<?, ?it/s]"
      ]
     },
     "metadata": {},
     "output_type": "display_data"
    },
    {
     "name": "stdout",
     "output_type": "stream",
     "text": [
      "Epoch 1: lr: 9.92e-04, iit_weight: 1.00e+00, behavior_weight: 4.00e-01, strict_weight: 4.00e-01, train/iit_loss: 7.06e-01, train/behavior_loss: 2.14e-01, train/strict_loss: 9.88e-02, val/iit_loss: 4.96e-01, val/IIA: 81.89, val/accuracy: 86.72, val/strict_accuracy: 86.84\n",
      "Epoch 2: lr: 9.84e-04, iit_weight: 1.00e+00, behavior_weight: 4.00e-01, strict_weight: 4.00e-01, train/iit_loss: 3.54e-01, train/behavior_loss: 8.13e-02, train/strict_loss: 5.61e-02, val/iit_loss: 4.51e-01, val/IIA: 88.03, val/accuracy: 97.54, val/strict_accuracy: 95.17\n",
      "Epoch 3: lr: 9.76e-04, iit_weight: 1.00e+00, behavior_weight: 4.00e-01, strict_weight: 4.00e-01, train/iit_loss: 2.02e-01, train/behavior_loss: 2.80e-02, train/strict_loss: 4.32e-02, val/iit_loss: 3.07e-01, val/IIA: 93.38, val/accuracy: 99.77, val/strict_accuracy: 97.99\n",
      "Epoch 4: lr: 9.68e-04, iit_weight: 1.00e+00, behavior_weight: 4.00e-01, strict_weight: 4.00e-01, train/iit_loss: 1.05e-01, train/behavior_loss: 1.43e-02, train/strict_loss: 3.91e-02, val/iit_loss: 2.62e-01, val/IIA: 97.21, val/accuracy: 96.72, val/strict_accuracy: 96.86\n",
      "Epoch 5: lr: 9.60e-04, iit_weight: 1.00e+00, behavior_weight: 4.00e-01, strict_weight: 4.00e-01, train/iit_loss: 6.77e-02, train/behavior_loss: 1.21e-02, train/strict_loss: 3.44e-02, val/iit_loss: 1.61e-01, val/IIA: 96.06, val/accuracy: 99.97, val/strict_accuracy: 98.78\n",
      "Epoch 6: lr: 9.52e-04, iit_weight: 1.00e+00, behavior_weight: 4.00e-01, strict_weight: 4.00e-01, train/iit_loss: 7.85e-02, train/behavior_loss: 1.21e-02, train/strict_loss: 2.76e-02, val/iit_loss: 1.04e-01, val/IIA: 98.45, val/accuracy: 96.73, val/strict_accuracy: 97.14\n",
      "Epoch 7: lr: 9.44e-04, iit_weight: 1.00e+00, behavior_weight: 4.00e-01, strict_weight: 4.00e-01, train/iit_loss: 5.92e-02, train/behavior_loss: 1.17e-02, train/strict_loss: 1.98e-02, val/iit_loss: 8.43e-02, val/IIA: 98.80, val/accuracy: 96.73, val/strict_accuracy: 97.53\n",
      "Epoch 8: lr: 9.36e-04, iit_weight: 1.00e+00, behavior_weight: 4.00e-01, strict_weight: 4.00e-01, train/iit_loss: 4.98e-02, train/behavior_loss: 1.07e-02, train/strict_loss: 1.58e-02, val/iit_loss: 7.47e-02, val/IIA: 98.93, val/accuracy: 96.74, val/strict_accuracy: 97.51\n",
      "Epoch 9: lr: 9.28e-04, iit_weight: 1.00e+00, behavior_weight: 4.00e-01, strict_weight: 4.00e-01, train/iit_loss: 4.19e-02, train/behavior_loss: 1.05e-02, train/strict_loss: 1.03e-02, val/iit_loss: 6.60e-02, val/IIA: 97.46, val/accuracy: 99.97, val/strict_accuracy: 99.36\n",
      "Epoch 10: lr: 9.20e-04, iit_weight: 1.00e+00, behavior_weight: 4.00e-01, strict_weight: 4.00e-01, train/iit_loss: 4.08e-02, train/behavior_loss: 1.09e-02, train/strict_loss: 1.07e-02, val/iit_loss: 1.19e-01, val/IIA: 99.06, val/accuracy: 96.74, val/strict_accuracy: 97.61\n",
      "Epoch 11: lr: 9.12e-04, iit_weight: 1.00e+00, behavior_weight: 4.00e-01, strict_weight: 4.00e-01, train/iit_loss: 3.27e-02, train/behavior_loss: 1.01e-02, train/strict_loss: 8.73e-03, val/iit_loss: 7.00e-02, val/IIA: 97.53, val/accuracy: 99.99, val/strict_accuracy: 99.64\n",
      "Epoch 12: lr: 9.04e-04, iit_weight: 1.00e+00, behavior_weight: 4.00e-01, strict_weight: 4.00e-01, train/iit_loss: 3.82e-02, train/behavior_loss: 1.09e-02, train/strict_loss: 8.43e-03, val/iit_loss: 5.70e-02, val/IIA: 99.34, val/accuracy: 96.73, val/strict_accuracy: 97.67\n",
      "Epoch 13: lr: 8.96e-04, iit_weight: 1.00e+00, behavior_weight: 4.00e-01, strict_weight: 4.00e-01, train/iit_loss: 3.87e-02, train/behavior_loss: 1.11e-02, train/strict_loss: 8.43e-03, val/iit_loss: 8.01e-02, val/IIA: 99.19, val/accuracy: 96.74, val/strict_accuracy: 97.55\n",
      "Epoch 14: lr: 8.88e-04, iit_weight: 1.00e+00, behavior_weight: 4.00e-01, strict_weight: 4.00e-01, train/iit_loss: 3.75e-02, train/behavior_loss: 1.10e-02, train/strict_loss: 7.43e-03, val/iit_loss: 7.14e-02, val/IIA: 99.35, val/accuracy: 96.73, val/strict_accuracy: 97.25\n",
      "Epoch 15: lr: 8.80e-04, iit_weight: 1.00e+00, behavior_weight: 4.00e-01, strict_weight: 4.00e-01, train/iit_loss: 2.74e-02, train/behavior_loss: 1.10e-02, train/strict_loss: 7.44e-03, val/iit_loss: 6.64e-02, val/IIA: 99.14, val/accuracy: 96.74, val/strict_accuracy: 98.20\n",
      "Epoch 16: lr: 8.72e-04, iit_weight: 1.00e+00, behavior_weight: 4.00e-01, strict_weight: 4.00e-01, train/iit_loss: 2.54e-02, train/behavior_loss: 1.01e-02, train/strict_loss: 6.28e-03, val/iit_loss: 6.75e-02, val/IIA: 99.49, val/accuracy: 96.74, val/strict_accuracy: 97.84\n",
      "Epoch 17: lr: 8.64e-04, iit_weight: 1.00e+00, behavior_weight: 4.00e-01, strict_weight: 4.00e-01, train/iit_loss: 2.46e-02, train/behavior_loss: 1.04e-02, train/strict_loss: 6.41e-03, val/iit_loss: 6.55e-02, val/IIA: 99.46, val/accuracy: 96.75, val/strict_accuracy: 97.83\n",
      "Epoch 18: lr: 8.56e-04, iit_weight: 1.00e+00, behavior_weight: 4.00e-01, strict_weight: 4.00e-01, train/iit_loss: 2.82e-02, train/behavior_loss: 1.01e-02, train/strict_loss: 5.93e-03, val/iit_loss: 9.27e-02, val/IIA: 99.21, val/accuracy: 96.75, val/strict_accuracy: 98.25\n",
      "Epoch 19: lr: 8.48e-04, iit_weight: 1.00e+00, behavior_weight: 4.00e-01, strict_weight: 4.00e-01, train/iit_loss: 2.49e-02, train/behavior_loss: 1.05e-02, train/strict_loss: 5.82e-03, val/iit_loss: 6.53e-02, val/IIA: 97.69, val/accuracy: 100.00, val/strict_accuracy: 99.87\n",
      "Epoch 20: lr: 8.40e-04, iit_weight: 1.00e+00, behavior_weight: 4.00e-01, strict_weight: 4.00e-01, train/iit_loss: 2.98e-02, train/behavior_loss: 1.04e-02, train/strict_loss: 5.02e-03, val/iit_loss: 8.84e-02, val/IIA: 97.61, val/accuracy: 100.00, val/strict_accuracy: 99.88\n",
      "Epoch 21: lr: 8.32e-04, iit_weight: 1.00e+00, behavior_weight: 4.00e-01, strict_weight: 4.00e-01, train/iit_loss: 2.42e-02, train/behavior_loss: 1.01e-02, train/strict_loss: 5.02e-03, val/iit_loss: 6.80e-02, val/IIA: 99.53, val/accuracy: 96.74, val/strict_accuracy: 98.17\n",
      "Epoch 22: lr: 8.24e-04, iit_weight: 1.00e+00, behavior_weight: 4.00e-01, strict_weight: 4.00e-01, train/iit_loss: 2.80e-02, train/behavior_loss: 1.01e-02, train/strict_loss: 5.14e-03, val/iit_loss: 5.60e-02, val/IIA: 99.56, val/accuracy: 96.73, val/strict_accuracy: 98.19\n",
      "Epoch 23: lr: 8.16e-04, iit_weight: 1.00e+00, behavior_weight: 4.00e-01, strict_weight: 4.00e-01, train/iit_loss: 2.60e-02, train/behavior_loss: 9.99e-03, train/strict_loss: 4.64e-03, val/iit_loss: 5.30e-02, val/IIA: 99.65, val/accuracy: 96.75, val/strict_accuracy: 97.88\n",
      "Epoch 24: lr: 8.08e-04, iit_weight: 1.00e+00, behavior_weight: 4.00e-01, strict_weight: 4.00e-01, train/iit_loss: 2.52e-02, train/behavior_loss: 1.06e-02, train/strict_loss: 4.93e-03, val/iit_loss: 5.70e-02, val/IIA: 97.63, val/accuracy: 100.00, val/strict_accuracy: 99.91\n",
      "Epoch 25: lr: 8.00e-04, iit_weight: 1.00e+00, behavior_weight: 4.00e-01, strict_weight: 4.00e-01, train/iit_loss: 2.47e-02, train/behavior_loss: 1.05e-02, train/strict_loss: 4.62e-03, val/iit_loss: 6.48e-02, val/IIA: 99.64, val/accuracy: 96.75, val/strict_accuracy: 98.25\n",
      "Epoch 26: lr: 7.92e-04, iit_weight: 1.00e+00, behavior_weight: 4.00e-01, strict_weight: 4.00e-01, train/iit_loss: 2.15e-02, train/behavior_loss: 1.05e-02, train/strict_loss: 4.10e-03, val/iit_loss: 6.41e-02, val/IIA: 97.72, val/accuracy: 100.00, val/strict_accuracy: 99.90\n",
      "Epoch 27: lr: 7.84e-04, iit_weight: 1.00e+00, behavior_weight: 4.00e-01, strict_weight: 4.00e-01, train/iit_loss: 2.43e-02, train/behavior_loss: 1.03e-02, train/strict_loss: 4.72e-03, val/iit_loss: 6.08e-02, val/IIA: 97.76, val/accuracy: 100.00, val/strict_accuracy: 99.94\n",
      "Epoch 28: lr: 7.76e-04, iit_weight: 1.00e+00, behavior_weight: 4.00e-01, strict_weight: 4.00e-01, train/iit_loss: 2.65e-02, train/behavior_loss: 9.71e-03, train/strict_loss: 3.89e-03, val/iit_loss: 1.33e-01, val/IIA: 99.05, val/accuracy: 96.75, val/strict_accuracy: 97.87\n",
      "Epoch 29: lr: 7.68e-04, iit_weight: 1.00e+00, behavior_weight: 4.00e-01, strict_weight: 4.00e-01, train/iit_loss: 2.19e-02, train/behavior_loss: 1.04e-02, train/strict_loss: 4.02e-03, val/iit_loss: 5.23e-02, val/IIA: 97.84, val/accuracy: 100.00, val/strict_accuracy: 99.95\n",
      "Epoch 30: lr: 7.60e-04, iit_weight: 1.00e+00, behavior_weight: 4.00e-01, strict_weight: 4.00e-01, train/iit_loss: 3.33e-02, train/behavior_loss: 1.04e-02, train/strict_loss: 4.13e-03, val/iit_loss: 7.95e-02, val/IIA: 99.50, val/accuracy: 96.75, val/strict_accuracy: 98.12\n",
      "Epoch 31: lr: 7.52e-04, iit_weight: 1.00e+00, behavior_weight: 4.00e-01, strict_weight: 4.00e-01, train/iit_loss: 2.39e-02, train/behavior_loss: 1.01e-02, train/strict_loss: 4.26e-03, val/iit_loss: 4.96e-02, val/IIA: 99.57, val/accuracy: 96.75, val/strict_accuracy: 98.30\n",
      "Epoch 32: lr: 7.44e-04, iit_weight: 1.00e+00, behavior_weight: 4.00e-01, strict_weight: 4.00e-01, train/iit_loss: 2.14e-02, train/behavior_loss: 9.95e-03, train/strict_loss: 4.00e-03, val/iit_loss: 4.90e-02, val/IIA: 99.69, val/accuracy: 96.75, val/strict_accuracy: 98.04\n",
      "Epoch 33: lr: 7.36e-04, iit_weight: 1.00e+00, behavior_weight: 4.00e-01, strict_weight: 4.00e-01, train/iit_loss: 2.15e-02, train/behavior_loss: 9.52e-03, train/strict_loss: 3.40e-03, val/iit_loss: 5.25e-02, val/IIA: 97.82, val/accuracy: 100.00, val/strict_accuracy: 99.93\n",
      "Epoch 34: lr: 7.28e-04, iit_weight: 1.00e+00, behavior_weight: 4.00e-01, strict_weight: 4.00e-01, train/iit_loss: 2.04e-02, train/behavior_loss: 1.01e-02, train/strict_loss: 3.47e-03, val/iit_loss: 5.25e-02, val/IIA: 99.67, val/accuracy: 96.74, val/strict_accuracy: 98.25\n",
      "Epoch 35: lr: 7.20e-04, iit_weight: 1.00e+00, behavior_weight: 4.00e-01, strict_weight: 4.00e-01, train/iit_loss: 2.07e-02, train/behavior_loss: 9.49e-03, train/strict_loss: 3.34e-03, val/iit_loss: 4.93e-02, val/IIA: 99.71, val/accuracy: 96.75, val/strict_accuracy: 97.78\n",
      "Epoch 36: lr: 7.12e-04, iit_weight: 1.00e+00, behavior_weight: 4.00e-01, strict_weight: 4.00e-01, train/iit_loss: 2.07e-02, train/behavior_loss: 1.05e-02, train/strict_loss: 3.58e-03, val/iit_loss: 5.07e-02, val/IIA: 99.55, val/accuracy: 96.74, val/strict_accuracy: 97.76\n"
     ]
    }
   ],
   "source": [
    "ll_model = poly_hl_model.get_ll_model()\n",
    "corr = poly_hl_model.get_correspondence()\n",
    "for k, v in corr.items():\n",
    "    print(k, v)\n",
    "train_set, test_set = poly_dataset.get_IIT_train_test_set()\n",
    "model_pair = StrictIITModelPair(hl_model=poly_hl_model, ll_model=ll_model, corr=corr, training_args=training_args)\n",
    "print(model_pair.nodes_not_in_circuit)\n",
    "model_pair.train(\n",
    "    train_set=train_set,\n",
    "    test_set=test_set,\n",
    "    optimizer_cls=torch.optim.Adam,\n",
    "    epochs=n_epochs,\n",
    "    # optimizer_kwargs=dict(weight_decay=1e-4),\n",
    ")"
   ]
  },
  {
   "cell_type": "code",
   "execution_count": null,
   "metadata": {},
   "outputs": [],
   "source": [
    "\n",
    "save_poly_model_to_dir(ll_model, poly_hl_model, f\"./saved_poly_models/cases_0+3\")"
   ]
  },
  {
   "cell_type": "markdown",
   "metadata": {},
   "source": [
    "# (1) LeftGreater + (2) ParenChecker"
   ]
  },
  {
   "cell_type": "code",
   "execution_count": null,
   "metadata": {},
   "outputs": [],
   "source": [
    "cases = [Case1, Case2]\n",
    "poly_hl_model = PolyHLModel(hl_classes=cases, size_expansion=1)\n",
    "corr = poly_hl_model.get_correspondence()\n",
    "for k, v in corr.items():\n",
    "    print(k, v)\n",
    "\n",
    "print()\n",
    "for k, v in poly_hl_model.corr_mapping.items():\n",
    "    print(k, v)\n",
    "\n",
    "dataset_cases = [dataset_mapping[case] for case in cases]\n",
    "dsets = [dsetcase(N_samples=n_samples, n_ctx=n_ctx, seed=seed) for dsetcase in dataset_cases]\n",
    "poly_dataset = PolyModelDataset(dsets, n_ctx=poly_hl_model.cfg.n_ctx)"
   ]
  },
  {
   "cell_type": "code",
   "execution_count": null,
   "metadata": {},
   "outputs": [
    {
     "name": "stdout",
     "output_type": "stream",
     "text": [
      "input_hook {LLNode(name='blocks.0.hook_resid_pre', index=[:], subspace=None)}\n",
      "mlp_hooks.0 {LLNode(name='blocks.0.mlp.hook_post', index=[:], subspace=None)}\n",
      "attn_hooks.0.0 {LLNode(name='blocks.0.attn.hook_z', index=[:, :, 0, :], subspace=None)}\n",
      "task_hook {LLNode(name='blocks.0.attn.hook_z', index=[:, :, 1, :], subspace=None)}\n",
      "attn_hooks.0.2 {LLNode(name='blocks.0.attn.hook_z', index=[:, :, 2, :], subspace=None)}\n",
      "mlp_hooks.1 {LLNode(name='blocks.1.mlp.hook_post', index=[:], subspace=None)}\n",
      "mlp_hooks.2 {LLNode(name='blocks.2.mlp.hook_post', index=[:], subspace=None)}\n",
      "[LLNode(name='blocks.0.attn.hook_z', index=[:, :, 3, :], subspace=None), LLNode(name='blocks.1.attn.hook_z', index=[:, :, 0, :], subspace=None), LLNode(name='blocks.1.attn.hook_z', index=[:, :, 1, :], subspace=None), LLNode(name='blocks.1.attn.hook_z', index=[:, :, 2, :], subspace=None), LLNode(name='blocks.1.attn.hook_z', index=[:, :, 3, :], subspace=None), LLNode(name='blocks.2.attn.hook_z', index=[:, :, 0, :], subspace=None), LLNode(name='blocks.2.attn.hook_z', index=[:, :, 1, :], subspace=None), LLNode(name='blocks.2.attn.hook_z', index=[:, :, 2, :], subspace=None), LLNode(name='blocks.2.attn.hook_z', index=[:, :, 3, :], subspace=None)]\n",
      "training_args={'batch_size': 256, 'num_workers': 0, 'early_stop': True, 'lr_scheduler': <class 'torch.optim.lr_scheduler.LinearLR'>, 'scheduler_val_metric': ['val/accuracy', 'val/IIA'], 'scheduler_mode': 'max', 'scheduler_kwargs': {'start_factor': 1, 'end_factor': 0.2, 'total_iters': 100}, 'optimizer_kwargs': {'lr': 0.001, 'betas': (0.9, 0.9)}, 'clip_grad_norm': 1.0, 'seed': 42, 'detach_while_caching': True, 'lr': 0.001, 'atol': 0.05, 'use_single_loss': True, 'iit_weight': 1.0, 'behavior_weight': 0.4, 'strict_weight': 0.4, 'siit_sampling': 'sample_all', 'iit_weight_schedule': <function <lambda> at 0x164a5f740>, 'strict_weight_schedule': <function <lambda> at 0x164f327a0>, 'behavior_weight_schedule': <function <lambda> at 0x164f31da0>}\n"
     ]
    },
    {
     "data": {
      "application/vnd.jupyter.widget-view+json": {
       "model_id": "26520af7a191485db2586368a2e50dce",
       "version_major": 2,
       "version_minor": 0
      },
      "text/plain": [
       "Training Epochs:   0%|          | 0/100 [00:00<?, ?it/s]"
      ]
     },
     "metadata": {},
     "output_type": "display_data"
    },
    {
     "data": {
      "application/vnd.jupyter.widget-view+json": {
       "model_id": "9e51bf21cb9942dc89687235aee3a8f2",
       "version_major": 2,
       "version_minor": 0
      },
      "text/plain": [
       "Training Batches:   0%|          | 0/63 [00:00<?, ?it/s]"
      ]
     },
     "metadata": {},
     "output_type": "display_data"
    },
    {
     "name": "stdout",
     "output_type": "stream",
     "text": [
      "Epoch 1: lr: 9.92e-04, iit_weight: 1.00e+00, behavior_weight: 4.00e-01, strict_weight: 4.00e-01, train/iit_loss: 7.06e-01, train/behavior_loss: 2.14e-01, train/strict_loss: 9.88e-02, val/iit_loss: 4.96e-01, val/IIA: 81.89, val/accuracy: 86.72, val/strict_accuracy: 86.84\n",
      "Epoch 2: lr: 9.84e-04, iit_weight: 1.00e+00, behavior_weight: 4.00e-01, strict_weight: 4.00e-01, train/iit_loss: 3.54e-01, train/behavior_loss: 8.13e-02, train/strict_loss: 5.61e-02, val/iit_loss: 4.51e-01, val/IIA: 88.03, val/accuracy: 97.54, val/strict_accuracy: 95.17\n",
      "Epoch 3: lr: 9.76e-04, iit_weight: 1.00e+00, behavior_weight: 4.00e-01, strict_weight: 4.00e-01, train/iit_loss: 2.02e-01, train/behavior_loss: 2.80e-02, train/strict_loss: 4.32e-02, val/iit_loss: 3.07e-01, val/IIA: 93.38, val/accuracy: 99.77, val/strict_accuracy: 97.99\n",
      "Epoch 4: lr: 9.68e-04, iit_weight: 1.00e+00, behavior_weight: 4.00e-01, strict_weight: 4.00e-01, train/iit_loss: 1.05e-01, train/behavior_loss: 1.43e-02, train/strict_loss: 3.91e-02, val/iit_loss: 2.62e-01, val/IIA: 97.21, val/accuracy: 96.72, val/strict_accuracy: 96.86\n",
      "Epoch 5: lr: 9.60e-04, iit_weight: 1.00e+00, behavior_weight: 4.00e-01, strict_weight: 4.00e-01, train/iit_loss: 6.77e-02, train/behavior_loss: 1.21e-02, train/strict_loss: 3.44e-02, val/iit_loss: 1.61e-01, val/IIA: 96.06, val/accuracy: 99.97, val/strict_accuracy: 98.78\n",
      "Epoch 6: lr: 9.52e-04, iit_weight: 1.00e+00, behavior_weight: 4.00e-01, strict_weight: 4.00e-01, train/iit_loss: 7.85e-02, train/behavior_loss: 1.21e-02, train/strict_loss: 2.76e-02, val/iit_loss: 1.04e-01, val/IIA: 98.45, val/accuracy: 96.73, val/strict_accuracy: 97.14\n",
      "Epoch 7: lr: 9.44e-04, iit_weight: 1.00e+00, behavior_weight: 4.00e-01, strict_weight: 4.00e-01, train/iit_loss: 5.92e-02, train/behavior_loss: 1.17e-02, train/strict_loss: 1.98e-02, val/iit_loss: 8.43e-02, val/IIA: 98.80, val/accuracy: 96.73, val/strict_accuracy: 97.53\n",
      "Epoch 8: lr: 9.36e-04, iit_weight: 1.00e+00, behavior_weight: 4.00e-01, strict_weight: 4.00e-01, train/iit_loss: 4.98e-02, train/behavior_loss: 1.07e-02, train/strict_loss: 1.58e-02, val/iit_loss: 7.47e-02, val/IIA: 98.93, val/accuracy: 96.74, val/strict_accuracy: 97.51\n",
      "Epoch 9: lr: 9.28e-04, iit_weight: 1.00e+00, behavior_weight: 4.00e-01, strict_weight: 4.00e-01, train/iit_loss: 4.19e-02, train/behavior_loss: 1.05e-02, train/strict_loss: 1.03e-02, val/iit_loss: 6.60e-02, val/IIA: 97.46, val/accuracy: 99.97, val/strict_accuracy: 99.36\n",
      "Epoch 10: lr: 9.20e-04, iit_weight: 1.00e+00, behavior_weight: 4.00e-01, strict_weight: 4.00e-01, train/iit_loss: 4.08e-02, train/behavior_loss: 1.09e-02, train/strict_loss: 1.07e-02, val/iit_loss: 1.19e-01, val/IIA: 99.06, val/accuracy: 96.74, val/strict_accuracy: 97.61\n",
      "Epoch 11: lr: 9.12e-04, iit_weight: 1.00e+00, behavior_weight: 4.00e-01, strict_weight: 4.00e-01, train/iit_loss: 3.27e-02, train/behavior_loss: 1.01e-02, train/strict_loss: 8.73e-03, val/iit_loss: 7.00e-02, val/IIA: 97.53, val/accuracy: 99.99, val/strict_accuracy: 99.64\n",
      "Epoch 12: lr: 9.04e-04, iit_weight: 1.00e+00, behavior_weight: 4.00e-01, strict_weight: 4.00e-01, train/iit_loss: 3.82e-02, train/behavior_loss: 1.09e-02, train/strict_loss: 8.43e-03, val/iit_loss: 5.70e-02, val/IIA: 99.34, val/accuracy: 96.73, val/strict_accuracy: 97.67\n",
      "Epoch 13: lr: 8.96e-04, iit_weight: 1.00e+00, behavior_weight: 4.00e-01, strict_weight: 4.00e-01, train/iit_loss: 3.87e-02, train/behavior_loss: 1.11e-02, train/strict_loss: 8.43e-03, val/iit_loss: 8.01e-02, val/IIA: 99.19, val/accuracy: 96.74, val/strict_accuracy: 97.55\n",
      "Epoch 14: lr: 8.88e-04, iit_weight: 1.00e+00, behavior_weight: 4.00e-01, strict_weight: 4.00e-01, train/iit_loss: 3.75e-02, train/behavior_loss: 1.10e-02, train/strict_loss: 7.43e-03, val/iit_loss: 7.14e-02, val/IIA: 99.35, val/accuracy: 96.73, val/strict_accuracy: 97.25\n",
      "Epoch 15: lr: 8.80e-04, iit_weight: 1.00e+00, behavior_weight: 4.00e-01, strict_weight: 4.00e-01, train/iit_loss: 2.74e-02, train/behavior_loss: 1.10e-02, train/strict_loss: 7.44e-03, val/iit_loss: 6.64e-02, val/IIA: 99.14, val/accuracy: 96.74, val/strict_accuracy: 98.20\n",
      "Epoch 16: lr: 8.72e-04, iit_weight: 1.00e+00, behavior_weight: 4.00e-01, strict_weight: 4.00e-01, train/iit_loss: 2.54e-02, train/behavior_loss: 1.01e-02, train/strict_loss: 6.28e-03, val/iit_loss: 6.75e-02, val/IIA: 99.49, val/accuracy: 96.74, val/strict_accuracy: 97.84\n",
      "Epoch 17: lr: 8.64e-04, iit_weight: 1.00e+00, behavior_weight: 4.00e-01, strict_weight: 4.00e-01, train/iit_loss: 2.46e-02, train/behavior_loss: 1.04e-02, train/strict_loss: 6.41e-03, val/iit_loss: 6.55e-02, val/IIA: 99.46, val/accuracy: 96.75, val/strict_accuracy: 97.83\n",
      "Epoch 18: lr: 8.56e-04, iit_weight: 1.00e+00, behavior_weight: 4.00e-01, strict_weight: 4.00e-01, train/iit_loss: 2.82e-02, train/behavior_loss: 1.01e-02, train/strict_loss: 5.93e-03, val/iit_loss: 9.27e-02, val/IIA: 99.21, val/accuracy: 96.75, val/strict_accuracy: 98.25\n",
      "Epoch 19: lr: 8.48e-04, iit_weight: 1.00e+00, behavior_weight: 4.00e-01, strict_weight: 4.00e-01, train/iit_loss: 2.49e-02, train/behavior_loss: 1.05e-02, train/strict_loss: 5.82e-03, val/iit_loss: 6.53e-02, val/IIA: 97.69, val/accuracy: 100.00, val/strict_accuracy: 99.87\n",
      "Epoch 20: lr: 8.40e-04, iit_weight: 1.00e+00, behavior_weight: 4.00e-01, strict_weight: 4.00e-01, train/iit_loss: 2.98e-02, train/behavior_loss: 1.04e-02, train/strict_loss: 5.02e-03, val/iit_loss: 8.84e-02, val/IIA: 97.61, val/accuracy: 100.00, val/strict_accuracy: 99.88\n",
      "Epoch 21: lr: 8.32e-04, iit_weight: 1.00e+00, behavior_weight: 4.00e-01, strict_weight: 4.00e-01, train/iit_loss: 2.42e-02, train/behavior_loss: 1.01e-02, train/strict_loss: 5.02e-03, val/iit_loss: 6.80e-02, val/IIA: 99.53, val/accuracy: 96.74, val/strict_accuracy: 98.17\n",
      "Epoch 22: lr: 8.24e-04, iit_weight: 1.00e+00, behavior_weight: 4.00e-01, strict_weight: 4.00e-01, train/iit_loss: 2.80e-02, train/behavior_loss: 1.01e-02, train/strict_loss: 5.14e-03, val/iit_loss: 5.60e-02, val/IIA: 99.56, val/accuracy: 96.73, val/strict_accuracy: 98.19\n",
      "Epoch 23: lr: 8.16e-04, iit_weight: 1.00e+00, behavior_weight: 4.00e-01, strict_weight: 4.00e-01, train/iit_loss: 2.60e-02, train/behavior_loss: 9.99e-03, train/strict_loss: 4.64e-03, val/iit_loss: 5.30e-02, val/IIA: 99.65, val/accuracy: 96.75, val/strict_accuracy: 97.88\n",
      "Epoch 24: lr: 8.08e-04, iit_weight: 1.00e+00, behavior_weight: 4.00e-01, strict_weight: 4.00e-01, train/iit_loss: 2.52e-02, train/behavior_loss: 1.06e-02, train/strict_loss: 4.93e-03, val/iit_loss: 5.70e-02, val/IIA: 97.63, val/accuracy: 100.00, val/strict_accuracy: 99.91\n",
      "Epoch 25: lr: 8.00e-04, iit_weight: 1.00e+00, behavior_weight: 4.00e-01, strict_weight: 4.00e-01, train/iit_loss: 2.47e-02, train/behavior_loss: 1.05e-02, train/strict_loss: 4.62e-03, val/iit_loss: 6.48e-02, val/IIA: 99.64, val/accuracy: 96.75, val/strict_accuracy: 98.25\n",
      "Epoch 26: lr: 7.92e-04, iit_weight: 1.00e+00, behavior_weight: 4.00e-01, strict_weight: 4.00e-01, train/iit_loss: 2.15e-02, train/behavior_loss: 1.05e-02, train/strict_loss: 4.10e-03, val/iit_loss: 6.41e-02, val/IIA: 97.72, val/accuracy: 100.00, val/strict_accuracy: 99.90\n",
      "Epoch 27: lr: 7.84e-04, iit_weight: 1.00e+00, behavior_weight: 4.00e-01, strict_weight: 4.00e-01, train/iit_loss: 2.43e-02, train/behavior_loss: 1.03e-02, train/strict_loss: 4.72e-03, val/iit_loss: 6.08e-02, val/IIA: 97.76, val/accuracy: 100.00, val/strict_accuracy: 99.94\n",
      "Epoch 28: lr: 7.76e-04, iit_weight: 1.00e+00, behavior_weight: 4.00e-01, strict_weight: 4.00e-01, train/iit_loss: 2.65e-02, train/behavior_loss: 9.71e-03, train/strict_loss: 3.89e-03, val/iit_loss: 1.33e-01, val/IIA: 99.05, val/accuracy: 96.75, val/strict_accuracy: 97.87\n",
      "Epoch 29: lr: 7.68e-04, iit_weight: 1.00e+00, behavior_weight: 4.00e-01, strict_weight: 4.00e-01, train/iit_loss: 2.19e-02, train/behavior_loss: 1.04e-02, train/strict_loss: 4.02e-03, val/iit_loss: 5.23e-02, val/IIA: 97.84, val/accuracy: 100.00, val/strict_accuracy: 99.95\n",
      "Epoch 30: lr: 7.60e-04, iit_weight: 1.00e+00, behavior_weight: 4.00e-01, strict_weight: 4.00e-01, train/iit_loss: 3.33e-02, train/behavior_loss: 1.04e-02, train/strict_loss: 4.13e-03, val/iit_loss: 7.95e-02, val/IIA: 99.50, val/accuracy: 96.75, val/strict_accuracy: 98.12\n",
      "Epoch 31: lr: 7.52e-04, iit_weight: 1.00e+00, behavior_weight: 4.00e-01, strict_weight: 4.00e-01, train/iit_loss: 2.39e-02, train/behavior_loss: 1.01e-02, train/strict_loss: 4.26e-03, val/iit_loss: 4.96e-02, val/IIA: 99.57, val/accuracy: 96.75, val/strict_accuracy: 98.30\n",
      "Epoch 32: lr: 7.44e-04, iit_weight: 1.00e+00, behavior_weight: 4.00e-01, strict_weight: 4.00e-01, train/iit_loss: 2.14e-02, train/behavior_loss: 9.95e-03, train/strict_loss: 4.00e-03, val/iit_loss: 4.90e-02, val/IIA: 99.69, val/accuracy: 96.75, val/strict_accuracy: 98.04\n",
      "Epoch 33: lr: 7.36e-04, iit_weight: 1.00e+00, behavior_weight: 4.00e-01, strict_weight: 4.00e-01, train/iit_loss: 2.15e-02, train/behavior_loss: 9.52e-03, train/strict_loss: 3.40e-03, val/iit_loss: 5.25e-02, val/IIA: 97.82, val/accuracy: 100.00, val/strict_accuracy: 99.93\n",
      "Epoch 34: lr: 7.28e-04, iit_weight: 1.00e+00, behavior_weight: 4.00e-01, strict_weight: 4.00e-01, train/iit_loss: 2.04e-02, train/behavior_loss: 1.01e-02, train/strict_loss: 3.47e-03, val/iit_loss: 5.25e-02, val/IIA: 99.67, val/accuracy: 96.74, val/strict_accuracy: 98.25\n",
      "Epoch 35: lr: 7.20e-04, iit_weight: 1.00e+00, behavior_weight: 4.00e-01, strict_weight: 4.00e-01, train/iit_loss: 2.07e-02, train/behavior_loss: 9.49e-03, train/strict_loss: 3.34e-03, val/iit_loss: 4.93e-02, val/IIA: 99.71, val/accuracy: 96.75, val/strict_accuracy: 97.78\n",
      "Epoch 36: lr: 7.12e-04, iit_weight: 1.00e+00, behavior_weight: 4.00e-01, strict_weight: 4.00e-01, train/iit_loss: 2.07e-02, train/behavior_loss: 1.05e-02, train/strict_loss: 3.58e-03, val/iit_loss: 5.07e-02, val/IIA: 99.55, val/accuracy: 96.74, val/strict_accuracy: 97.76\n"
     ]
    }
   ],
   "source": [
    "ll_model = poly_hl_model.get_ll_model()\n",
    "corr = poly_hl_model.get_correspondence()\n",
    "for k, v in corr.items():\n",
    "    print(k, v)\n",
    "train_set, test_set = poly_dataset.get_IIT_train_test_set()\n",
    "model_pair = StrictIITModelPair(hl_model=poly_hl_model, ll_model=ll_model, corr=corr, training_args=training_args)\n",
    "print(model_pair.nodes_not_in_circuit)\n",
    "model_pair.train(\n",
    "    train_set=train_set,\n",
    "    test_set=test_set,\n",
    "    optimizer_cls=torch.optim.Adam,\n",
    "    epochs=n_epochs,\n",
    "    # optimizer_kwargs=dict(weight_decay=1e-4),\n",
    ")"
   ]
  },
  {
   "cell_type": "code",
   "execution_count": null,
   "metadata": {},
   "outputs": [],
   "source": [
    "\n",
    "save_poly_model_to_dir(ll_model, poly_hl_model, f\"./saved_poly_models/cases_1+2\")"
   ]
  },
  {
   "cell_type": "markdown",
   "metadata": {},
   "source": [
    "# (1) LeftGreater + (3) UniqueExtractor"
   ]
  },
  {
   "cell_type": "code",
   "execution_count": null,
   "metadata": {},
   "outputs": [],
   "source": [
    "cases = [Case1, Case3]\n",
    "poly_hl_model = PolyHLModel(hl_classes=cases, size_expansion=1)\n",
    "corr = poly_hl_model.get_correspondence()\n",
    "for k, v in corr.items():\n",
    "    print(k, v)\n",
    "\n",
    "print()\n",
    "for k, v in poly_hl_model.corr_mapping.items():\n",
    "    print(k, v)\n",
    "\n",
    "dataset_cases = [dataset_mapping[case] for case in cases]\n",
    "dsets = [dsetcase(N_samples=n_samples, n_ctx=n_ctx, seed=seed) for dsetcase in dataset_cases]\n",
    "poly_dataset = PolyModelDataset(dsets, n_ctx=poly_hl_model.cfg.n_ctx)"
   ]
  },
  {
   "cell_type": "code",
   "execution_count": null,
   "metadata": {},
   "outputs": [
    {
     "name": "stdout",
     "output_type": "stream",
     "text": [
      "input_hook {LLNode(name='blocks.0.hook_resid_pre', index=[:], subspace=None)}\n",
      "mlp_hooks.0 {LLNode(name='blocks.0.mlp.hook_post', index=[:], subspace=None)}\n",
      "attn_hooks.0.0 {LLNode(name='blocks.0.attn.hook_z', index=[:, :, 0, :], subspace=None)}\n",
      "task_hook {LLNode(name='blocks.0.attn.hook_z', index=[:, :, 1, :], subspace=None)}\n",
      "attn_hooks.0.2 {LLNode(name='blocks.0.attn.hook_z', index=[:, :, 2, :], subspace=None)}\n",
      "mlp_hooks.1 {LLNode(name='blocks.1.mlp.hook_post', index=[:], subspace=None)}\n",
      "mlp_hooks.2 {LLNode(name='blocks.2.mlp.hook_post', index=[:], subspace=None)}\n",
      "[LLNode(name='blocks.0.attn.hook_z', index=[:, :, 3, :], subspace=None), LLNode(name='blocks.1.attn.hook_z', index=[:, :, 0, :], subspace=None), LLNode(name='blocks.1.attn.hook_z', index=[:, :, 1, :], subspace=None), LLNode(name='blocks.1.attn.hook_z', index=[:, :, 2, :], subspace=None), LLNode(name='blocks.1.attn.hook_z', index=[:, :, 3, :], subspace=None), LLNode(name='blocks.2.attn.hook_z', index=[:, :, 0, :], subspace=None), LLNode(name='blocks.2.attn.hook_z', index=[:, :, 1, :], subspace=None), LLNode(name='blocks.2.attn.hook_z', index=[:, :, 2, :], subspace=None), LLNode(name='blocks.2.attn.hook_z', index=[:, :, 3, :], subspace=None)]\n",
      "training_args={'batch_size': 256, 'num_workers': 0, 'early_stop': True, 'lr_scheduler': <class 'torch.optim.lr_scheduler.LinearLR'>, 'scheduler_val_metric': ['val/accuracy', 'val/IIA'], 'scheduler_mode': 'max', 'scheduler_kwargs': {'start_factor': 1, 'end_factor': 0.2, 'total_iters': 100}, 'optimizer_kwargs': {'lr': 0.001, 'betas': (0.9, 0.9)}, 'clip_grad_norm': 1.0, 'seed': 42, 'detach_while_caching': True, 'lr': 0.001, 'atol': 0.05, 'use_single_loss': True, 'iit_weight': 1.0, 'behavior_weight': 0.4, 'strict_weight': 0.4, 'siit_sampling': 'sample_all', 'iit_weight_schedule': <function <lambda> at 0x164a5f740>, 'strict_weight_schedule': <function <lambda> at 0x164f327a0>, 'behavior_weight_schedule': <function <lambda> at 0x164f31da0>}\n"
     ]
    },
    {
     "data": {
      "application/vnd.jupyter.widget-view+json": {
       "model_id": "26520af7a191485db2586368a2e50dce",
       "version_major": 2,
       "version_minor": 0
      },
      "text/plain": [
       "Training Epochs:   0%|          | 0/100 [00:00<?, ?it/s]"
      ]
     },
     "metadata": {},
     "output_type": "display_data"
    },
    {
     "data": {
      "application/vnd.jupyter.widget-view+json": {
       "model_id": "9e51bf21cb9942dc89687235aee3a8f2",
       "version_major": 2,
       "version_minor": 0
      },
      "text/plain": [
       "Training Batches:   0%|          | 0/63 [00:00<?, ?it/s]"
      ]
     },
     "metadata": {},
     "output_type": "display_data"
    },
    {
     "name": "stdout",
     "output_type": "stream",
     "text": [
      "Epoch 1: lr: 9.92e-04, iit_weight: 1.00e+00, behavior_weight: 4.00e-01, strict_weight: 4.00e-01, train/iit_loss: 7.06e-01, train/behavior_loss: 2.14e-01, train/strict_loss: 9.88e-02, val/iit_loss: 4.96e-01, val/IIA: 81.89, val/accuracy: 86.72, val/strict_accuracy: 86.84\n",
      "Epoch 2: lr: 9.84e-04, iit_weight: 1.00e+00, behavior_weight: 4.00e-01, strict_weight: 4.00e-01, train/iit_loss: 3.54e-01, train/behavior_loss: 8.13e-02, train/strict_loss: 5.61e-02, val/iit_loss: 4.51e-01, val/IIA: 88.03, val/accuracy: 97.54, val/strict_accuracy: 95.17\n",
      "Epoch 3: lr: 9.76e-04, iit_weight: 1.00e+00, behavior_weight: 4.00e-01, strict_weight: 4.00e-01, train/iit_loss: 2.02e-01, train/behavior_loss: 2.80e-02, train/strict_loss: 4.32e-02, val/iit_loss: 3.07e-01, val/IIA: 93.38, val/accuracy: 99.77, val/strict_accuracy: 97.99\n",
      "Epoch 4: lr: 9.68e-04, iit_weight: 1.00e+00, behavior_weight: 4.00e-01, strict_weight: 4.00e-01, train/iit_loss: 1.05e-01, train/behavior_loss: 1.43e-02, train/strict_loss: 3.91e-02, val/iit_loss: 2.62e-01, val/IIA: 97.21, val/accuracy: 96.72, val/strict_accuracy: 96.86\n",
      "Epoch 5: lr: 9.60e-04, iit_weight: 1.00e+00, behavior_weight: 4.00e-01, strict_weight: 4.00e-01, train/iit_loss: 6.77e-02, train/behavior_loss: 1.21e-02, train/strict_loss: 3.44e-02, val/iit_loss: 1.61e-01, val/IIA: 96.06, val/accuracy: 99.97, val/strict_accuracy: 98.78\n",
      "Epoch 6: lr: 9.52e-04, iit_weight: 1.00e+00, behavior_weight: 4.00e-01, strict_weight: 4.00e-01, train/iit_loss: 7.85e-02, train/behavior_loss: 1.21e-02, train/strict_loss: 2.76e-02, val/iit_loss: 1.04e-01, val/IIA: 98.45, val/accuracy: 96.73, val/strict_accuracy: 97.14\n",
      "Epoch 7: lr: 9.44e-04, iit_weight: 1.00e+00, behavior_weight: 4.00e-01, strict_weight: 4.00e-01, train/iit_loss: 5.92e-02, train/behavior_loss: 1.17e-02, train/strict_loss: 1.98e-02, val/iit_loss: 8.43e-02, val/IIA: 98.80, val/accuracy: 96.73, val/strict_accuracy: 97.53\n",
      "Epoch 8: lr: 9.36e-04, iit_weight: 1.00e+00, behavior_weight: 4.00e-01, strict_weight: 4.00e-01, train/iit_loss: 4.98e-02, train/behavior_loss: 1.07e-02, train/strict_loss: 1.58e-02, val/iit_loss: 7.47e-02, val/IIA: 98.93, val/accuracy: 96.74, val/strict_accuracy: 97.51\n",
      "Epoch 9: lr: 9.28e-04, iit_weight: 1.00e+00, behavior_weight: 4.00e-01, strict_weight: 4.00e-01, train/iit_loss: 4.19e-02, train/behavior_loss: 1.05e-02, train/strict_loss: 1.03e-02, val/iit_loss: 6.60e-02, val/IIA: 97.46, val/accuracy: 99.97, val/strict_accuracy: 99.36\n",
      "Epoch 10: lr: 9.20e-04, iit_weight: 1.00e+00, behavior_weight: 4.00e-01, strict_weight: 4.00e-01, train/iit_loss: 4.08e-02, train/behavior_loss: 1.09e-02, train/strict_loss: 1.07e-02, val/iit_loss: 1.19e-01, val/IIA: 99.06, val/accuracy: 96.74, val/strict_accuracy: 97.61\n",
      "Epoch 11: lr: 9.12e-04, iit_weight: 1.00e+00, behavior_weight: 4.00e-01, strict_weight: 4.00e-01, train/iit_loss: 3.27e-02, train/behavior_loss: 1.01e-02, train/strict_loss: 8.73e-03, val/iit_loss: 7.00e-02, val/IIA: 97.53, val/accuracy: 99.99, val/strict_accuracy: 99.64\n",
      "Epoch 12: lr: 9.04e-04, iit_weight: 1.00e+00, behavior_weight: 4.00e-01, strict_weight: 4.00e-01, train/iit_loss: 3.82e-02, train/behavior_loss: 1.09e-02, train/strict_loss: 8.43e-03, val/iit_loss: 5.70e-02, val/IIA: 99.34, val/accuracy: 96.73, val/strict_accuracy: 97.67\n",
      "Epoch 13: lr: 8.96e-04, iit_weight: 1.00e+00, behavior_weight: 4.00e-01, strict_weight: 4.00e-01, train/iit_loss: 3.87e-02, train/behavior_loss: 1.11e-02, train/strict_loss: 8.43e-03, val/iit_loss: 8.01e-02, val/IIA: 99.19, val/accuracy: 96.74, val/strict_accuracy: 97.55\n",
      "Epoch 14: lr: 8.88e-04, iit_weight: 1.00e+00, behavior_weight: 4.00e-01, strict_weight: 4.00e-01, train/iit_loss: 3.75e-02, train/behavior_loss: 1.10e-02, train/strict_loss: 7.43e-03, val/iit_loss: 7.14e-02, val/IIA: 99.35, val/accuracy: 96.73, val/strict_accuracy: 97.25\n",
      "Epoch 15: lr: 8.80e-04, iit_weight: 1.00e+00, behavior_weight: 4.00e-01, strict_weight: 4.00e-01, train/iit_loss: 2.74e-02, train/behavior_loss: 1.10e-02, train/strict_loss: 7.44e-03, val/iit_loss: 6.64e-02, val/IIA: 99.14, val/accuracy: 96.74, val/strict_accuracy: 98.20\n",
      "Epoch 16: lr: 8.72e-04, iit_weight: 1.00e+00, behavior_weight: 4.00e-01, strict_weight: 4.00e-01, train/iit_loss: 2.54e-02, train/behavior_loss: 1.01e-02, train/strict_loss: 6.28e-03, val/iit_loss: 6.75e-02, val/IIA: 99.49, val/accuracy: 96.74, val/strict_accuracy: 97.84\n",
      "Epoch 17: lr: 8.64e-04, iit_weight: 1.00e+00, behavior_weight: 4.00e-01, strict_weight: 4.00e-01, train/iit_loss: 2.46e-02, train/behavior_loss: 1.04e-02, train/strict_loss: 6.41e-03, val/iit_loss: 6.55e-02, val/IIA: 99.46, val/accuracy: 96.75, val/strict_accuracy: 97.83\n",
      "Epoch 18: lr: 8.56e-04, iit_weight: 1.00e+00, behavior_weight: 4.00e-01, strict_weight: 4.00e-01, train/iit_loss: 2.82e-02, train/behavior_loss: 1.01e-02, train/strict_loss: 5.93e-03, val/iit_loss: 9.27e-02, val/IIA: 99.21, val/accuracy: 96.75, val/strict_accuracy: 98.25\n",
      "Epoch 19: lr: 8.48e-04, iit_weight: 1.00e+00, behavior_weight: 4.00e-01, strict_weight: 4.00e-01, train/iit_loss: 2.49e-02, train/behavior_loss: 1.05e-02, train/strict_loss: 5.82e-03, val/iit_loss: 6.53e-02, val/IIA: 97.69, val/accuracy: 100.00, val/strict_accuracy: 99.87\n",
      "Epoch 20: lr: 8.40e-04, iit_weight: 1.00e+00, behavior_weight: 4.00e-01, strict_weight: 4.00e-01, train/iit_loss: 2.98e-02, train/behavior_loss: 1.04e-02, train/strict_loss: 5.02e-03, val/iit_loss: 8.84e-02, val/IIA: 97.61, val/accuracy: 100.00, val/strict_accuracy: 99.88\n",
      "Epoch 21: lr: 8.32e-04, iit_weight: 1.00e+00, behavior_weight: 4.00e-01, strict_weight: 4.00e-01, train/iit_loss: 2.42e-02, train/behavior_loss: 1.01e-02, train/strict_loss: 5.02e-03, val/iit_loss: 6.80e-02, val/IIA: 99.53, val/accuracy: 96.74, val/strict_accuracy: 98.17\n",
      "Epoch 22: lr: 8.24e-04, iit_weight: 1.00e+00, behavior_weight: 4.00e-01, strict_weight: 4.00e-01, train/iit_loss: 2.80e-02, train/behavior_loss: 1.01e-02, train/strict_loss: 5.14e-03, val/iit_loss: 5.60e-02, val/IIA: 99.56, val/accuracy: 96.73, val/strict_accuracy: 98.19\n",
      "Epoch 23: lr: 8.16e-04, iit_weight: 1.00e+00, behavior_weight: 4.00e-01, strict_weight: 4.00e-01, train/iit_loss: 2.60e-02, train/behavior_loss: 9.99e-03, train/strict_loss: 4.64e-03, val/iit_loss: 5.30e-02, val/IIA: 99.65, val/accuracy: 96.75, val/strict_accuracy: 97.88\n",
      "Epoch 24: lr: 8.08e-04, iit_weight: 1.00e+00, behavior_weight: 4.00e-01, strict_weight: 4.00e-01, train/iit_loss: 2.52e-02, train/behavior_loss: 1.06e-02, train/strict_loss: 4.93e-03, val/iit_loss: 5.70e-02, val/IIA: 97.63, val/accuracy: 100.00, val/strict_accuracy: 99.91\n",
      "Epoch 25: lr: 8.00e-04, iit_weight: 1.00e+00, behavior_weight: 4.00e-01, strict_weight: 4.00e-01, train/iit_loss: 2.47e-02, train/behavior_loss: 1.05e-02, train/strict_loss: 4.62e-03, val/iit_loss: 6.48e-02, val/IIA: 99.64, val/accuracy: 96.75, val/strict_accuracy: 98.25\n",
      "Epoch 26: lr: 7.92e-04, iit_weight: 1.00e+00, behavior_weight: 4.00e-01, strict_weight: 4.00e-01, train/iit_loss: 2.15e-02, train/behavior_loss: 1.05e-02, train/strict_loss: 4.10e-03, val/iit_loss: 6.41e-02, val/IIA: 97.72, val/accuracy: 100.00, val/strict_accuracy: 99.90\n",
      "Epoch 27: lr: 7.84e-04, iit_weight: 1.00e+00, behavior_weight: 4.00e-01, strict_weight: 4.00e-01, train/iit_loss: 2.43e-02, train/behavior_loss: 1.03e-02, train/strict_loss: 4.72e-03, val/iit_loss: 6.08e-02, val/IIA: 97.76, val/accuracy: 100.00, val/strict_accuracy: 99.94\n",
      "Epoch 28: lr: 7.76e-04, iit_weight: 1.00e+00, behavior_weight: 4.00e-01, strict_weight: 4.00e-01, train/iit_loss: 2.65e-02, train/behavior_loss: 9.71e-03, train/strict_loss: 3.89e-03, val/iit_loss: 1.33e-01, val/IIA: 99.05, val/accuracy: 96.75, val/strict_accuracy: 97.87\n",
      "Epoch 29: lr: 7.68e-04, iit_weight: 1.00e+00, behavior_weight: 4.00e-01, strict_weight: 4.00e-01, train/iit_loss: 2.19e-02, train/behavior_loss: 1.04e-02, train/strict_loss: 4.02e-03, val/iit_loss: 5.23e-02, val/IIA: 97.84, val/accuracy: 100.00, val/strict_accuracy: 99.95\n",
      "Epoch 30: lr: 7.60e-04, iit_weight: 1.00e+00, behavior_weight: 4.00e-01, strict_weight: 4.00e-01, train/iit_loss: 3.33e-02, train/behavior_loss: 1.04e-02, train/strict_loss: 4.13e-03, val/iit_loss: 7.95e-02, val/IIA: 99.50, val/accuracy: 96.75, val/strict_accuracy: 98.12\n",
      "Epoch 31: lr: 7.52e-04, iit_weight: 1.00e+00, behavior_weight: 4.00e-01, strict_weight: 4.00e-01, train/iit_loss: 2.39e-02, train/behavior_loss: 1.01e-02, train/strict_loss: 4.26e-03, val/iit_loss: 4.96e-02, val/IIA: 99.57, val/accuracy: 96.75, val/strict_accuracy: 98.30\n",
      "Epoch 32: lr: 7.44e-04, iit_weight: 1.00e+00, behavior_weight: 4.00e-01, strict_weight: 4.00e-01, train/iit_loss: 2.14e-02, train/behavior_loss: 9.95e-03, train/strict_loss: 4.00e-03, val/iit_loss: 4.90e-02, val/IIA: 99.69, val/accuracy: 96.75, val/strict_accuracy: 98.04\n",
      "Epoch 33: lr: 7.36e-04, iit_weight: 1.00e+00, behavior_weight: 4.00e-01, strict_weight: 4.00e-01, train/iit_loss: 2.15e-02, train/behavior_loss: 9.52e-03, train/strict_loss: 3.40e-03, val/iit_loss: 5.25e-02, val/IIA: 97.82, val/accuracy: 100.00, val/strict_accuracy: 99.93\n",
      "Epoch 34: lr: 7.28e-04, iit_weight: 1.00e+00, behavior_weight: 4.00e-01, strict_weight: 4.00e-01, train/iit_loss: 2.04e-02, train/behavior_loss: 1.01e-02, train/strict_loss: 3.47e-03, val/iit_loss: 5.25e-02, val/IIA: 99.67, val/accuracy: 96.74, val/strict_accuracy: 98.25\n",
      "Epoch 35: lr: 7.20e-04, iit_weight: 1.00e+00, behavior_weight: 4.00e-01, strict_weight: 4.00e-01, train/iit_loss: 2.07e-02, train/behavior_loss: 9.49e-03, train/strict_loss: 3.34e-03, val/iit_loss: 4.93e-02, val/IIA: 99.71, val/accuracy: 96.75, val/strict_accuracy: 97.78\n",
      "Epoch 36: lr: 7.12e-04, iit_weight: 1.00e+00, behavior_weight: 4.00e-01, strict_weight: 4.00e-01, train/iit_loss: 2.07e-02, train/behavior_loss: 1.05e-02, train/strict_loss: 3.58e-03, val/iit_loss: 5.07e-02, val/IIA: 99.55, val/accuracy: 96.74, val/strict_accuracy: 97.76\n"
     ]
    }
   ],
   "source": [
    "ll_model = poly_hl_model.get_ll_model()\n",
    "corr = poly_hl_model.get_correspondence()\n",
    "for k, v in corr.items():\n",
    "    print(k, v)\n",
    "train_set, test_set = poly_dataset.get_IIT_train_test_set()\n",
    "model_pair = StrictIITModelPair(hl_model=poly_hl_model, ll_model=ll_model, corr=corr, training_args=training_args)\n",
    "print(model_pair.nodes_not_in_circuit)\n",
    "model_pair.train(\n",
    "    train_set=train_set,\n",
    "    test_set=test_set,\n",
    "    optimizer_cls=torch.optim.Adam,\n",
    "    epochs=n_epochs,\n",
    "    # optimizer_kwargs=dict(weight_decay=1e-4),\n",
    ")"
   ]
  },
  {
   "cell_type": "code",
   "execution_count": null,
   "metadata": {},
   "outputs": [],
   "source": [
    "\n",
    "save_poly_model_to_dir(ll_model, poly_hl_model, f\"./saved_poly_models/cases_1+3\")"
   ]
  },
  {
   "cell_type": "markdown",
   "metadata": {},
   "source": [
    "# (2) ParenChecker + (3) UniqueExtractor"
   ]
  },
  {
   "cell_type": "code",
   "execution_count": null,
   "metadata": {},
   "outputs": [],
   "source": [
    "cases = [Case2, Case3]\n",
    "poly_hl_model = PolyHLModel(hl_classes=cases, size_expansion=1)\n",
    "corr = poly_hl_model.get_correspondence()\n",
    "for k, v in corr.items():\n",
    "    print(k, v)\n",
    "\n",
    "print()\n",
    "for k, v in poly_hl_model.corr_mapping.items():\n",
    "    print(k, v)\n",
    "\n",
    "dataset_cases = [dataset_mapping[case] for case in cases]\n",
    "dsets = [dsetcase(N_samples=n_samples, n_ctx=n_ctx, seed=seed) for dsetcase in dataset_cases]\n",
    "poly_dataset = PolyModelDataset(dsets, n_ctx=poly_hl_model.cfg.n_ctx)"
   ]
  },
  {
   "cell_type": "code",
   "execution_count": null,
   "metadata": {},
   "outputs": [
    {
     "name": "stdout",
     "output_type": "stream",
     "text": [
      "input_hook {LLNode(name='blocks.0.hook_resid_pre', index=[:], subspace=None)}\n",
      "mlp_hooks.0 {LLNode(name='blocks.0.mlp.hook_post', index=[:], subspace=None)}\n",
      "attn_hooks.0.0 {LLNode(name='blocks.0.attn.hook_z', index=[:, :, 0, :], subspace=None)}\n",
      "task_hook {LLNode(name='blocks.0.attn.hook_z', index=[:, :, 1, :], subspace=None)}\n",
      "attn_hooks.0.2 {LLNode(name='blocks.0.attn.hook_z', index=[:, :, 2, :], subspace=None)}\n",
      "mlp_hooks.1 {LLNode(name='blocks.1.mlp.hook_post', index=[:], subspace=None)}\n",
      "mlp_hooks.2 {LLNode(name='blocks.2.mlp.hook_post', index=[:], subspace=None)}\n",
      "[LLNode(name='blocks.0.attn.hook_z', index=[:, :, 3, :], subspace=None), LLNode(name='blocks.1.attn.hook_z', index=[:, :, 0, :], subspace=None), LLNode(name='blocks.1.attn.hook_z', index=[:, :, 1, :], subspace=None), LLNode(name='blocks.1.attn.hook_z', index=[:, :, 2, :], subspace=None), LLNode(name='blocks.1.attn.hook_z', index=[:, :, 3, :], subspace=None), LLNode(name='blocks.2.attn.hook_z', index=[:, :, 0, :], subspace=None), LLNode(name='blocks.2.attn.hook_z', index=[:, :, 1, :], subspace=None), LLNode(name='blocks.2.attn.hook_z', index=[:, :, 2, :], subspace=None), LLNode(name='blocks.2.attn.hook_z', index=[:, :, 3, :], subspace=None)]\n",
      "training_args={'batch_size': 256, 'num_workers': 0, 'early_stop': True, 'lr_scheduler': <class 'torch.optim.lr_scheduler.LinearLR'>, 'scheduler_val_metric': ['val/accuracy', 'val/IIA'], 'scheduler_mode': 'max', 'scheduler_kwargs': {'start_factor': 1, 'end_factor': 0.2, 'total_iters': 100}, 'optimizer_kwargs': {'lr': 0.001, 'betas': (0.9, 0.9)}, 'clip_grad_norm': 1.0, 'seed': 42, 'detach_while_caching': True, 'lr': 0.001, 'atol': 0.05, 'use_single_loss': True, 'iit_weight': 1.0, 'behavior_weight': 0.4, 'strict_weight': 0.4, 'siit_sampling': 'sample_all', 'iit_weight_schedule': <function <lambda> at 0x164a5f740>, 'strict_weight_schedule': <function <lambda> at 0x164f327a0>, 'behavior_weight_schedule': <function <lambda> at 0x164f31da0>}\n"
     ]
    },
    {
     "data": {
      "application/vnd.jupyter.widget-view+json": {
       "model_id": "26520af7a191485db2586368a2e50dce",
       "version_major": 2,
       "version_minor": 0
      },
      "text/plain": [
       "Training Epochs:   0%|          | 0/100 [00:00<?, ?it/s]"
      ]
     },
     "metadata": {},
     "output_type": "display_data"
    },
    {
     "data": {
      "application/vnd.jupyter.widget-view+json": {
       "model_id": "9e51bf21cb9942dc89687235aee3a8f2",
       "version_major": 2,
       "version_minor": 0
      },
      "text/plain": [
       "Training Batches:   0%|          | 0/63 [00:00<?, ?it/s]"
      ]
     },
     "metadata": {},
     "output_type": "display_data"
    },
    {
     "name": "stdout",
     "output_type": "stream",
     "text": [
      "Epoch 1: lr: 9.92e-04, iit_weight: 1.00e+00, behavior_weight: 4.00e-01, strict_weight: 4.00e-01, train/iit_loss: 7.06e-01, train/behavior_loss: 2.14e-01, train/strict_loss: 9.88e-02, val/iit_loss: 4.96e-01, val/IIA: 81.89, val/accuracy: 86.72, val/strict_accuracy: 86.84\n",
      "Epoch 2: lr: 9.84e-04, iit_weight: 1.00e+00, behavior_weight: 4.00e-01, strict_weight: 4.00e-01, train/iit_loss: 3.54e-01, train/behavior_loss: 8.13e-02, train/strict_loss: 5.61e-02, val/iit_loss: 4.51e-01, val/IIA: 88.03, val/accuracy: 97.54, val/strict_accuracy: 95.17\n",
      "Epoch 3: lr: 9.76e-04, iit_weight: 1.00e+00, behavior_weight: 4.00e-01, strict_weight: 4.00e-01, train/iit_loss: 2.02e-01, train/behavior_loss: 2.80e-02, train/strict_loss: 4.32e-02, val/iit_loss: 3.07e-01, val/IIA: 93.38, val/accuracy: 99.77, val/strict_accuracy: 97.99\n",
      "Epoch 4: lr: 9.68e-04, iit_weight: 1.00e+00, behavior_weight: 4.00e-01, strict_weight: 4.00e-01, train/iit_loss: 1.05e-01, train/behavior_loss: 1.43e-02, train/strict_loss: 3.91e-02, val/iit_loss: 2.62e-01, val/IIA: 97.21, val/accuracy: 96.72, val/strict_accuracy: 96.86\n",
      "Epoch 5: lr: 9.60e-04, iit_weight: 1.00e+00, behavior_weight: 4.00e-01, strict_weight: 4.00e-01, train/iit_loss: 6.77e-02, train/behavior_loss: 1.21e-02, train/strict_loss: 3.44e-02, val/iit_loss: 1.61e-01, val/IIA: 96.06, val/accuracy: 99.97, val/strict_accuracy: 98.78\n",
      "Epoch 6: lr: 9.52e-04, iit_weight: 1.00e+00, behavior_weight: 4.00e-01, strict_weight: 4.00e-01, train/iit_loss: 7.85e-02, train/behavior_loss: 1.21e-02, train/strict_loss: 2.76e-02, val/iit_loss: 1.04e-01, val/IIA: 98.45, val/accuracy: 96.73, val/strict_accuracy: 97.14\n",
      "Epoch 7: lr: 9.44e-04, iit_weight: 1.00e+00, behavior_weight: 4.00e-01, strict_weight: 4.00e-01, train/iit_loss: 5.92e-02, train/behavior_loss: 1.17e-02, train/strict_loss: 1.98e-02, val/iit_loss: 8.43e-02, val/IIA: 98.80, val/accuracy: 96.73, val/strict_accuracy: 97.53\n",
      "Epoch 8: lr: 9.36e-04, iit_weight: 1.00e+00, behavior_weight: 4.00e-01, strict_weight: 4.00e-01, train/iit_loss: 4.98e-02, train/behavior_loss: 1.07e-02, train/strict_loss: 1.58e-02, val/iit_loss: 7.47e-02, val/IIA: 98.93, val/accuracy: 96.74, val/strict_accuracy: 97.51\n",
      "Epoch 9: lr: 9.28e-04, iit_weight: 1.00e+00, behavior_weight: 4.00e-01, strict_weight: 4.00e-01, train/iit_loss: 4.19e-02, train/behavior_loss: 1.05e-02, train/strict_loss: 1.03e-02, val/iit_loss: 6.60e-02, val/IIA: 97.46, val/accuracy: 99.97, val/strict_accuracy: 99.36\n",
      "Epoch 10: lr: 9.20e-04, iit_weight: 1.00e+00, behavior_weight: 4.00e-01, strict_weight: 4.00e-01, train/iit_loss: 4.08e-02, train/behavior_loss: 1.09e-02, train/strict_loss: 1.07e-02, val/iit_loss: 1.19e-01, val/IIA: 99.06, val/accuracy: 96.74, val/strict_accuracy: 97.61\n",
      "Epoch 11: lr: 9.12e-04, iit_weight: 1.00e+00, behavior_weight: 4.00e-01, strict_weight: 4.00e-01, train/iit_loss: 3.27e-02, train/behavior_loss: 1.01e-02, train/strict_loss: 8.73e-03, val/iit_loss: 7.00e-02, val/IIA: 97.53, val/accuracy: 99.99, val/strict_accuracy: 99.64\n",
      "Epoch 12: lr: 9.04e-04, iit_weight: 1.00e+00, behavior_weight: 4.00e-01, strict_weight: 4.00e-01, train/iit_loss: 3.82e-02, train/behavior_loss: 1.09e-02, train/strict_loss: 8.43e-03, val/iit_loss: 5.70e-02, val/IIA: 99.34, val/accuracy: 96.73, val/strict_accuracy: 97.67\n",
      "Epoch 13: lr: 8.96e-04, iit_weight: 1.00e+00, behavior_weight: 4.00e-01, strict_weight: 4.00e-01, train/iit_loss: 3.87e-02, train/behavior_loss: 1.11e-02, train/strict_loss: 8.43e-03, val/iit_loss: 8.01e-02, val/IIA: 99.19, val/accuracy: 96.74, val/strict_accuracy: 97.55\n",
      "Epoch 14: lr: 8.88e-04, iit_weight: 1.00e+00, behavior_weight: 4.00e-01, strict_weight: 4.00e-01, train/iit_loss: 3.75e-02, train/behavior_loss: 1.10e-02, train/strict_loss: 7.43e-03, val/iit_loss: 7.14e-02, val/IIA: 99.35, val/accuracy: 96.73, val/strict_accuracy: 97.25\n",
      "Epoch 15: lr: 8.80e-04, iit_weight: 1.00e+00, behavior_weight: 4.00e-01, strict_weight: 4.00e-01, train/iit_loss: 2.74e-02, train/behavior_loss: 1.10e-02, train/strict_loss: 7.44e-03, val/iit_loss: 6.64e-02, val/IIA: 99.14, val/accuracy: 96.74, val/strict_accuracy: 98.20\n",
      "Epoch 16: lr: 8.72e-04, iit_weight: 1.00e+00, behavior_weight: 4.00e-01, strict_weight: 4.00e-01, train/iit_loss: 2.54e-02, train/behavior_loss: 1.01e-02, train/strict_loss: 6.28e-03, val/iit_loss: 6.75e-02, val/IIA: 99.49, val/accuracy: 96.74, val/strict_accuracy: 97.84\n",
      "Epoch 17: lr: 8.64e-04, iit_weight: 1.00e+00, behavior_weight: 4.00e-01, strict_weight: 4.00e-01, train/iit_loss: 2.46e-02, train/behavior_loss: 1.04e-02, train/strict_loss: 6.41e-03, val/iit_loss: 6.55e-02, val/IIA: 99.46, val/accuracy: 96.75, val/strict_accuracy: 97.83\n",
      "Epoch 18: lr: 8.56e-04, iit_weight: 1.00e+00, behavior_weight: 4.00e-01, strict_weight: 4.00e-01, train/iit_loss: 2.82e-02, train/behavior_loss: 1.01e-02, train/strict_loss: 5.93e-03, val/iit_loss: 9.27e-02, val/IIA: 99.21, val/accuracy: 96.75, val/strict_accuracy: 98.25\n",
      "Epoch 19: lr: 8.48e-04, iit_weight: 1.00e+00, behavior_weight: 4.00e-01, strict_weight: 4.00e-01, train/iit_loss: 2.49e-02, train/behavior_loss: 1.05e-02, train/strict_loss: 5.82e-03, val/iit_loss: 6.53e-02, val/IIA: 97.69, val/accuracy: 100.00, val/strict_accuracy: 99.87\n",
      "Epoch 20: lr: 8.40e-04, iit_weight: 1.00e+00, behavior_weight: 4.00e-01, strict_weight: 4.00e-01, train/iit_loss: 2.98e-02, train/behavior_loss: 1.04e-02, train/strict_loss: 5.02e-03, val/iit_loss: 8.84e-02, val/IIA: 97.61, val/accuracy: 100.00, val/strict_accuracy: 99.88\n",
      "Epoch 21: lr: 8.32e-04, iit_weight: 1.00e+00, behavior_weight: 4.00e-01, strict_weight: 4.00e-01, train/iit_loss: 2.42e-02, train/behavior_loss: 1.01e-02, train/strict_loss: 5.02e-03, val/iit_loss: 6.80e-02, val/IIA: 99.53, val/accuracy: 96.74, val/strict_accuracy: 98.17\n",
      "Epoch 22: lr: 8.24e-04, iit_weight: 1.00e+00, behavior_weight: 4.00e-01, strict_weight: 4.00e-01, train/iit_loss: 2.80e-02, train/behavior_loss: 1.01e-02, train/strict_loss: 5.14e-03, val/iit_loss: 5.60e-02, val/IIA: 99.56, val/accuracy: 96.73, val/strict_accuracy: 98.19\n",
      "Epoch 23: lr: 8.16e-04, iit_weight: 1.00e+00, behavior_weight: 4.00e-01, strict_weight: 4.00e-01, train/iit_loss: 2.60e-02, train/behavior_loss: 9.99e-03, train/strict_loss: 4.64e-03, val/iit_loss: 5.30e-02, val/IIA: 99.65, val/accuracy: 96.75, val/strict_accuracy: 97.88\n",
      "Epoch 24: lr: 8.08e-04, iit_weight: 1.00e+00, behavior_weight: 4.00e-01, strict_weight: 4.00e-01, train/iit_loss: 2.52e-02, train/behavior_loss: 1.06e-02, train/strict_loss: 4.93e-03, val/iit_loss: 5.70e-02, val/IIA: 97.63, val/accuracy: 100.00, val/strict_accuracy: 99.91\n",
      "Epoch 25: lr: 8.00e-04, iit_weight: 1.00e+00, behavior_weight: 4.00e-01, strict_weight: 4.00e-01, train/iit_loss: 2.47e-02, train/behavior_loss: 1.05e-02, train/strict_loss: 4.62e-03, val/iit_loss: 6.48e-02, val/IIA: 99.64, val/accuracy: 96.75, val/strict_accuracy: 98.25\n",
      "Epoch 26: lr: 7.92e-04, iit_weight: 1.00e+00, behavior_weight: 4.00e-01, strict_weight: 4.00e-01, train/iit_loss: 2.15e-02, train/behavior_loss: 1.05e-02, train/strict_loss: 4.10e-03, val/iit_loss: 6.41e-02, val/IIA: 97.72, val/accuracy: 100.00, val/strict_accuracy: 99.90\n",
      "Epoch 27: lr: 7.84e-04, iit_weight: 1.00e+00, behavior_weight: 4.00e-01, strict_weight: 4.00e-01, train/iit_loss: 2.43e-02, train/behavior_loss: 1.03e-02, train/strict_loss: 4.72e-03, val/iit_loss: 6.08e-02, val/IIA: 97.76, val/accuracy: 100.00, val/strict_accuracy: 99.94\n",
      "Epoch 28: lr: 7.76e-04, iit_weight: 1.00e+00, behavior_weight: 4.00e-01, strict_weight: 4.00e-01, train/iit_loss: 2.65e-02, train/behavior_loss: 9.71e-03, train/strict_loss: 3.89e-03, val/iit_loss: 1.33e-01, val/IIA: 99.05, val/accuracy: 96.75, val/strict_accuracy: 97.87\n",
      "Epoch 29: lr: 7.68e-04, iit_weight: 1.00e+00, behavior_weight: 4.00e-01, strict_weight: 4.00e-01, train/iit_loss: 2.19e-02, train/behavior_loss: 1.04e-02, train/strict_loss: 4.02e-03, val/iit_loss: 5.23e-02, val/IIA: 97.84, val/accuracy: 100.00, val/strict_accuracy: 99.95\n",
      "Epoch 30: lr: 7.60e-04, iit_weight: 1.00e+00, behavior_weight: 4.00e-01, strict_weight: 4.00e-01, train/iit_loss: 3.33e-02, train/behavior_loss: 1.04e-02, train/strict_loss: 4.13e-03, val/iit_loss: 7.95e-02, val/IIA: 99.50, val/accuracy: 96.75, val/strict_accuracy: 98.12\n",
      "Epoch 31: lr: 7.52e-04, iit_weight: 1.00e+00, behavior_weight: 4.00e-01, strict_weight: 4.00e-01, train/iit_loss: 2.39e-02, train/behavior_loss: 1.01e-02, train/strict_loss: 4.26e-03, val/iit_loss: 4.96e-02, val/IIA: 99.57, val/accuracy: 96.75, val/strict_accuracy: 98.30\n",
      "Epoch 32: lr: 7.44e-04, iit_weight: 1.00e+00, behavior_weight: 4.00e-01, strict_weight: 4.00e-01, train/iit_loss: 2.14e-02, train/behavior_loss: 9.95e-03, train/strict_loss: 4.00e-03, val/iit_loss: 4.90e-02, val/IIA: 99.69, val/accuracy: 96.75, val/strict_accuracy: 98.04\n",
      "Epoch 33: lr: 7.36e-04, iit_weight: 1.00e+00, behavior_weight: 4.00e-01, strict_weight: 4.00e-01, train/iit_loss: 2.15e-02, train/behavior_loss: 9.52e-03, train/strict_loss: 3.40e-03, val/iit_loss: 5.25e-02, val/IIA: 97.82, val/accuracy: 100.00, val/strict_accuracy: 99.93\n",
      "Epoch 34: lr: 7.28e-04, iit_weight: 1.00e+00, behavior_weight: 4.00e-01, strict_weight: 4.00e-01, train/iit_loss: 2.04e-02, train/behavior_loss: 1.01e-02, train/strict_loss: 3.47e-03, val/iit_loss: 5.25e-02, val/IIA: 99.67, val/accuracy: 96.74, val/strict_accuracy: 98.25\n",
      "Epoch 35: lr: 7.20e-04, iit_weight: 1.00e+00, behavior_weight: 4.00e-01, strict_weight: 4.00e-01, train/iit_loss: 2.07e-02, train/behavior_loss: 9.49e-03, train/strict_loss: 3.34e-03, val/iit_loss: 4.93e-02, val/IIA: 99.71, val/accuracy: 96.75, val/strict_accuracy: 97.78\n",
      "Epoch 36: lr: 7.12e-04, iit_weight: 1.00e+00, behavior_weight: 4.00e-01, strict_weight: 4.00e-01, train/iit_loss: 2.07e-02, train/behavior_loss: 1.05e-02, train/strict_loss: 3.58e-03, val/iit_loss: 5.07e-02, val/IIA: 99.55, val/accuracy: 96.74, val/strict_accuracy: 97.76\n"
     ]
    }
   ],
   "source": [
    "ll_model = poly_hl_model.get_ll_model()\n",
    "corr = poly_hl_model.get_correspondence()\n",
    "for k, v in corr.items():\n",
    "    print(k, v)\n",
    "train_set, test_set = poly_dataset.get_IIT_train_test_set()\n",
    "model_pair = StrictIITModelPair(hl_model=poly_hl_model, ll_model=ll_model, corr=corr, training_args=training_args)\n",
    "print(model_pair.nodes_not_in_circuit)\n",
    "model_pair.train(\n",
    "    train_set=train_set,\n",
    "    test_set=test_set,\n",
    "    optimizer_cls=torch.optim.Adam,\n",
    "    epochs=n_epochs,\n",
    "    # optimizer_kwargs=dict(weight_decay=1e-4),\n",
    ")"
   ]
  },
  {
   "cell_type": "code",
   "execution_count": null,
   "metadata": {},
   "outputs": [],
   "source": [
    "\n",
    "save_poly_model_to_dir(ll_model, poly_hl_model, f\"./saved_poly_models/cases_2+3\")"
   ]
  },
  {
   "cell_type": "markdown",
   "metadata": {},
   "source": [
    "# (0) DuplicateRemover + (1) LeftGreater + (2) ParenChecker"
   ]
  },
  {
   "cell_type": "code",
   "execution_count": null,
   "metadata": {},
   "outputs": [],
   "source": [
    "cases = [Case0, Case1, Case2]\n",
    "poly_hl_model = PolyHLModel(hl_classes=cases, size_expansion=1)\n",
    "corr = poly_hl_model.get_correspondence()\n",
    "for k, v in corr.items():\n",
    "    print(k, v)\n",
    "\n",
    "print()\n",
    "for k, v in poly_hl_model.corr_mapping.items():\n",
    "    print(k, v)\n",
    "\n",
    "dataset_cases = [dataset_mapping[case] for case in cases]\n",
    "dsets = [dsetcase(N_samples=n_samples, n_ctx=n_ctx, seed=seed) for dsetcase in dataset_cases]\n",
    "poly_dataset = PolyModelDataset(dsets, n_ctx=poly_hl_model.cfg.n_ctx)"
   ]
  },
  {
   "cell_type": "code",
   "execution_count": null,
   "metadata": {},
   "outputs": [
    {
     "name": "stdout",
     "output_type": "stream",
     "text": [
      "input_hook {LLNode(name='blocks.0.hook_resid_pre', index=[:], subspace=None)}\n",
      "mlp_hooks.0 {LLNode(name='blocks.0.mlp.hook_post', index=[:], subspace=None)}\n",
      "attn_hooks.0.0 {LLNode(name='blocks.0.attn.hook_z', index=[:, :, 0, :], subspace=None)}\n",
      "task_hook {LLNode(name='blocks.0.attn.hook_z', index=[:, :, 1, :], subspace=None)}\n",
      "attn_hooks.0.2 {LLNode(name='blocks.0.attn.hook_z', index=[:, :, 2, :], subspace=None)}\n",
      "mlp_hooks.1 {LLNode(name='blocks.1.mlp.hook_post', index=[:], subspace=None)}\n",
      "mlp_hooks.2 {LLNode(name='blocks.2.mlp.hook_post', index=[:], subspace=None)}\n",
      "[LLNode(name='blocks.0.attn.hook_z', index=[:, :, 3, :], subspace=None), LLNode(name='blocks.1.attn.hook_z', index=[:, :, 0, :], subspace=None), LLNode(name='blocks.1.attn.hook_z', index=[:, :, 1, :], subspace=None), LLNode(name='blocks.1.attn.hook_z', index=[:, :, 2, :], subspace=None), LLNode(name='blocks.1.attn.hook_z', index=[:, :, 3, :], subspace=None), LLNode(name='blocks.2.attn.hook_z', index=[:, :, 0, :], subspace=None), LLNode(name='blocks.2.attn.hook_z', index=[:, :, 1, :], subspace=None), LLNode(name='blocks.2.attn.hook_z', index=[:, :, 2, :], subspace=None), LLNode(name='blocks.2.attn.hook_z', index=[:, :, 3, :], subspace=None)]\n",
      "training_args={'batch_size': 256, 'num_workers': 0, 'early_stop': True, 'lr_scheduler': <class 'torch.optim.lr_scheduler.LinearLR'>, 'scheduler_val_metric': ['val/accuracy', 'val/IIA'], 'scheduler_mode': 'max', 'scheduler_kwargs': {'start_factor': 1, 'end_factor': 0.2, 'total_iters': 100}, 'optimizer_kwargs': {'lr': 0.001, 'betas': (0.9, 0.9)}, 'clip_grad_norm': 1.0, 'seed': 42, 'detach_while_caching': True, 'lr': 0.001, 'atol': 0.05, 'use_single_loss': True, 'iit_weight': 1.0, 'behavior_weight': 0.4, 'strict_weight': 0.4, 'siit_sampling': 'sample_all', 'iit_weight_schedule': <function <lambda> at 0x164a5f740>, 'strict_weight_schedule': <function <lambda> at 0x164f327a0>, 'behavior_weight_schedule': <function <lambda> at 0x164f31da0>}\n"
     ]
    },
    {
     "data": {
      "application/vnd.jupyter.widget-view+json": {
       "model_id": "26520af7a191485db2586368a2e50dce",
       "version_major": 2,
       "version_minor": 0
      },
      "text/plain": [
       "Training Epochs:   0%|          | 0/100 [00:00<?, ?it/s]"
      ]
     },
     "metadata": {},
     "output_type": "display_data"
    },
    {
     "data": {
      "application/vnd.jupyter.widget-view+json": {
       "model_id": "9e51bf21cb9942dc89687235aee3a8f2",
       "version_major": 2,
       "version_minor": 0
      },
      "text/plain": [
       "Training Batches:   0%|          | 0/63 [00:00<?, ?it/s]"
      ]
     },
     "metadata": {},
     "output_type": "display_data"
    },
    {
     "name": "stdout",
     "output_type": "stream",
     "text": [
      "Epoch 1: lr: 9.92e-04, iit_weight: 1.00e+00, behavior_weight: 4.00e-01, strict_weight: 4.00e-01, train/iit_loss: 7.06e-01, train/behavior_loss: 2.14e-01, train/strict_loss: 9.88e-02, val/iit_loss: 4.96e-01, val/IIA: 81.89, val/accuracy: 86.72, val/strict_accuracy: 86.84\n",
      "Epoch 2: lr: 9.84e-04, iit_weight: 1.00e+00, behavior_weight: 4.00e-01, strict_weight: 4.00e-01, train/iit_loss: 3.54e-01, train/behavior_loss: 8.13e-02, train/strict_loss: 5.61e-02, val/iit_loss: 4.51e-01, val/IIA: 88.03, val/accuracy: 97.54, val/strict_accuracy: 95.17\n",
      "Epoch 3: lr: 9.76e-04, iit_weight: 1.00e+00, behavior_weight: 4.00e-01, strict_weight: 4.00e-01, train/iit_loss: 2.02e-01, train/behavior_loss: 2.80e-02, train/strict_loss: 4.32e-02, val/iit_loss: 3.07e-01, val/IIA: 93.38, val/accuracy: 99.77, val/strict_accuracy: 97.99\n",
      "Epoch 4: lr: 9.68e-04, iit_weight: 1.00e+00, behavior_weight: 4.00e-01, strict_weight: 4.00e-01, train/iit_loss: 1.05e-01, train/behavior_loss: 1.43e-02, train/strict_loss: 3.91e-02, val/iit_loss: 2.62e-01, val/IIA: 97.21, val/accuracy: 96.72, val/strict_accuracy: 96.86\n",
      "Epoch 5: lr: 9.60e-04, iit_weight: 1.00e+00, behavior_weight: 4.00e-01, strict_weight: 4.00e-01, train/iit_loss: 6.77e-02, train/behavior_loss: 1.21e-02, train/strict_loss: 3.44e-02, val/iit_loss: 1.61e-01, val/IIA: 96.06, val/accuracy: 99.97, val/strict_accuracy: 98.78\n",
      "Epoch 6: lr: 9.52e-04, iit_weight: 1.00e+00, behavior_weight: 4.00e-01, strict_weight: 4.00e-01, train/iit_loss: 7.85e-02, train/behavior_loss: 1.21e-02, train/strict_loss: 2.76e-02, val/iit_loss: 1.04e-01, val/IIA: 98.45, val/accuracy: 96.73, val/strict_accuracy: 97.14\n",
      "Epoch 7: lr: 9.44e-04, iit_weight: 1.00e+00, behavior_weight: 4.00e-01, strict_weight: 4.00e-01, train/iit_loss: 5.92e-02, train/behavior_loss: 1.17e-02, train/strict_loss: 1.98e-02, val/iit_loss: 8.43e-02, val/IIA: 98.80, val/accuracy: 96.73, val/strict_accuracy: 97.53\n",
      "Epoch 8: lr: 9.36e-04, iit_weight: 1.00e+00, behavior_weight: 4.00e-01, strict_weight: 4.00e-01, train/iit_loss: 4.98e-02, train/behavior_loss: 1.07e-02, train/strict_loss: 1.58e-02, val/iit_loss: 7.47e-02, val/IIA: 98.93, val/accuracy: 96.74, val/strict_accuracy: 97.51\n",
      "Epoch 9: lr: 9.28e-04, iit_weight: 1.00e+00, behavior_weight: 4.00e-01, strict_weight: 4.00e-01, train/iit_loss: 4.19e-02, train/behavior_loss: 1.05e-02, train/strict_loss: 1.03e-02, val/iit_loss: 6.60e-02, val/IIA: 97.46, val/accuracy: 99.97, val/strict_accuracy: 99.36\n",
      "Epoch 10: lr: 9.20e-04, iit_weight: 1.00e+00, behavior_weight: 4.00e-01, strict_weight: 4.00e-01, train/iit_loss: 4.08e-02, train/behavior_loss: 1.09e-02, train/strict_loss: 1.07e-02, val/iit_loss: 1.19e-01, val/IIA: 99.06, val/accuracy: 96.74, val/strict_accuracy: 97.61\n",
      "Epoch 11: lr: 9.12e-04, iit_weight: 1.00e+00, behavior_weight: 4.00e-01, strict_weight: 4.00e-01, train/iit_loss: 3.27e-02, train/behavior_loss: 1.01e-02, train/strict_loss: 8.73e-03, val/iit_loss: 7.00e-02, val/IIA: 97.53, val/accuracy: 99.99, val/strict_accuracy: 99.64\n",
      "Epoch 12: lr: 9.04e-04, iit_weight: 1.00e+00, behavior_weight: 4.00e-01, strict_weight: 4.00e-01, train/iit_loss: 3.82e-02, train/behavior_loss: 1.09e-02, train/strict_loss: 8.43e-03, val/iit_loss: 5.70e-02, val/IIA: 99.34, val/accuracy: 96.73, val/strict_accuracy: 97.67\n",
      "Epoch 13: lr: 8.96e-04, iit_weight: 1.00e+00, behavior_weight: 4.00e-01, strict_weight: 4.00e-01, train/iit_loss: 3.87e-02, train/behavior_loss: 1.11e-02, train/strict_loss: 8.43e-03, val/iit_loss: 8.01e-02, val/IIA: 99.19, val/accuracy: 96.74, val/strict_accuracy: 97.55\n",
      "Epoch 14: lr: 8.88e-04, iit_weight: 1.00e+00, behavior_weight: 4.00e-01, strict_weight: 4.00e-01, train/iit_loss: 3.75e-02, train/behavior_loss: 1.10e-02, train/strict_loss: 7.43e-03, val/iit_loss: 7.14e-02, val/IIA: 99.35, val/accuracy: 96.73, val/strict_accuracy: 97.25\n",
      "Epoch 15: lr: 8.80e-04, iit_weight: 1.00e+00, behavior_weight: 4.00e-01, strict_weight: 4.00e-01, train/iit_loss: 2.74e-02, train/behavior_loss: 1.10e-02, train/strict_loss: 7.44e-03, val/iit_loss: 6.64e-02, val/IIA: 99.14, val/accuracy: 96.74, val/strict_accuracy: 98.20\n",
      "Epoch 16: lr: 8.72e-04, iit_weight: 1.00e+00, behavior_weight: 4.00e-01, strict_weight: 4.00e-01, train/iit_loss: 2.54e-02, train/behavior_loss: 1.01e-02, train/strict_loss: 6.28e-03, val/iit_loss: 6.75e-02, val/IIA: 99.49, val/accuracy: 96.74, val/strict_accuracy: 97.84\n",
      "Epoch 17: lr: 8.64e-04, iit_weight: 1.00e+00, behavior_weight: 4.00e-01, strict_weight: 4.00e-01, train/iit_loss: 2.46e-02, train/behavior_loss: 1.04e-02, train/strict_loss: 6.41e-03, val/iit_loss: 6.55e-02, val/IIA: 99.46, val/accuracy: 96.75, val/strict_accuracy: 97.83\n",
      "Epoch 18: lr: 8.56e-04, iit_weight: 1.00e+00, behavior_weight: 4.00e-01, strict_weight: 4.00e-01, train/iit_loss: 2.82e-02, train/behavior_loss: 1.01e-02, train/strict_loss: 5.93e-03, val/iit_loss: 9.27e-02, val/IIA: 99.21, val/accuracy: 96.75, val/strict_accuracy: 98.25\n",
      "Epoch 19: lr: 8.48e-04, iit_weight: 1.00e+00, behavior_weight: 4.00e-01, strict_weight: 4.00e-01, train/iit_loss: 2.49e-02, train/behavior_loss: 1.05e-02, train/strict_loss: 5.82e-03, val/iit_loss: 6.53e-02, val/IIA: 97.69, val/accuracy: 100.00, val/strict_accuracy: 99.87\n",
      "Epoch 20: lr: 8.40e-04, iit_weight: 1.00e+00, behavior_weight: 4.00e-01, strict_weight: 4.00e-01, train/iit_loss: 2.98e-02, train/behavior_loss: 1.04e-02, train/strict_loss: 5.02e-03, val/iit_loss: 8.84e-02, val/IIA: 97.61, val/accuracy: 100.00, val/strict_accuracy: 99.88\n",
      "Epoch 21: lr: 8.32e-04, iit_weight: 1.00e+00, behavior_weight: 4.00e-01, strict_weight: 4.00e-01, train/iit_loss: 2.42e-02, train/behavior_loss: 1.01e-02, train/strict_loss: 5.02e-03, val/iit_loss: 6.80e-02, val/IIA: 99.53, val/accuracy: 96.74, val/strict_accuracy: 98.17\n",
      "Epoch 22: lr: 8.24e-04, iit_weight: 1.00e+00, behavior_weight: 4.00e-01, strict_weight: 4.00e-01, train/iit_loss: 2.80e-02, train/behavior_loss: 1.01e-02, train/strict_loss: 5.14e-03, val/iit_loss: 5.60e-02, val/IIA: 99.56, val/accuracy: 96.73, val/strict_accuracy: 98.19\n",
      "Epoch 23: lr: 8.16e-04, iit_weight: 1.00e+00, behavior_weight: 4.00e-01, strict_weight: 4.00e-01, train/iit_loss: 2.60e-02, train/behavior_loss: 9.99e-03, train/strict_loss: 4.64e-03, val/iit_loss: 5.30e-02, val/IIA: 99.65, val/accuracy: 96.75, val/strict_accuracy: 97.88\n",
      "Epoch 24: lr: 8.08e-04, iit_weight: 1.00e+00, behavior_weight: 4.00e-01, strict_weight: 4.00e-01, train/iit_loss: 2.52e-02, train/behavior_loss: 1.06e-02, train/strict_loss: 4.93e-03, val/iit_loss: 5.70e-02, val/IIA: 97.63, val/accuracy: 100.00, val/strict_accuracy: 99.91\n",
      "Epoch 25: lr: 8.00e-04, iit_weight: 1.00e+00, behavior_weight: 4.00e-01, strict_weight: 4.00e-01, train/iit_loss: 2.47e-02, train/behavior_loss: 1.05e-02, train/strict_loss: 4.62e-03, val/iit_loss: 6.48e-02, val/IIA: 99.64, val/accuracy: 96.75, val/strict_accuracy: 98.25\n",
      "Epoch 26: lr: 7.92e-04, iit_weight: 1.00e+00, behavior_weight: 4.00e-01, strict_weight: 4.00e-01, train/iit_loss: 2.15e-02, train/behavior_loss: 1.05e-02, train/strict_loss: 4.10e-03, val/iit_loss: 6.41e-02, val/IIA: 97.72, val/accuracy: 100.00, val/strict_accuracy: 99.90\n",
      "Epoch 27: lr: 7.84e-04, iit_weight: 1.00e+00, behavior_weight: 4.00e-01, strict_weight: 4.00e-01, train/iit_loss: 2.43e-02, train/behavior_loss: 1.03e-02, train/strict_loss: 4.72e-03, val/iit_loss: 6.08e-02, val/IIA: 97.76, val/accuracy: 100.00, val/strict_accuracy: 99.94\n",
      "Epoch 28: lr: 7.76e-04, iit_weight: 1.00e+00, behavior_weight: 4.00e-01, strict_weight: 4.00e-01, train/iit_loss: 2.65e-02, train/behavior_loss: 9.71e-03, train/strict_loss: 3.89e-03, val/iit_loss: 1.33e-01, val/IIA: 99.05, val/accuracy: 96.75, val/strict_accuracy: 97.87\n",
      "Epoch 29: lr: 7.68e-04, iit_weight: 1.00e+00, behavior_weight: 4.00e-01, strict_weight: 4.00e-01, train/iit_loss: 2.19e-02, train/behavior_loss: 1.04e-02, train/strict_loss: 4.02e-03, val/iit_loss: 5.23e-02, val/IIA: 97.84, val/accuracy: 100.00, val/strict_accuracy: 99.95\n",
      "Epoch 30: lr: 7.60e-04, iit_weight: 1.00e+00, behavior_weight: 4.00e-01, strict_weight: 4.00e-01, train/iit_loss: 3.33e-02, train/behavior_loss: 1.04e-02, train/strict_loss: 4.13e-03, val/iit_loss: 7.95e-02, val/IIA: 99.50, val/accuracy: 96.75, val/strict_accuracy: 98.12\n",
      "Epoch 31: lr: 7.52e-04, iit_weight: 1.00e+00, behavior_weight: 4.00e-01, strict_weight: 4.00e-01, train/iit_loss: 2.39e-02, train/behavior_loss: 1.01e-02, train/strict_loss: 4.26e-03, val/iit_loss: 4.96e-02, val/IIA: 99.57, val/accuracy: 96.75, val/strict_accuracy: 98.30\n",
      "Epoch 32: lr: 7.44e-04, iit_weight: 1.00e+00, behavior_weight: 4.00e-01, strict_weight: 4.00e-01, train/iit_loss: 2.14e-02, train/behavior_loss: 9.95e-03, train/strict_loss: 4.00e-03, val/iit_loss: 4.90e-02, val/IIA: 99.69, val/accuracy: 96.75, val/strict_accuracy: 98.04\n",
      "Epoch 33: lr: 7.36e-04, iit_weight: 1.00e+00, behavior_weight: 4.00e-01, strict_weight: 4.00e-01, train/iit_loss: 2.15e-02, train/behavior_loss: 9.52e-03, train/strict_loss: 3.40e-03, val/iit_loss: 5.25e-02, val/IIA: 97.82, val/accuracy: 100.00, val/strict_accuracy: 99.93\n",
      "Epoch 34: lr: 7.28e-04, iit_weight: 1.00e+00, behavior_weight: 4.00e-01, strict_weight: 4.00e-01, train/iit_loss: 2.04e-02, train/behavior_loss: 1.01e-02, train/strict_loss: 3.47e-03, val/iit_loss: 5.25e-02, val/IIA: 99.67, val/accuracy: 96.74, val/strict_accuracy: 98.25\n",
      "Epoch 35: lr: 7.20e-04, iit_weight: 1.00e+00, behavior_weight: 4.00e-01, strict_weight: 4.00e-01, train/iit_loss: 2.07e-02, train/behavior_loss: 9.49e-03, train/strict_loss: 3.34e-03, val/iit_loss: 4.93e-02, val/IIA: 99.71, val/accuracy: 96.75, val/strict_accuracy: 97.78\n",
      "Epoch 36: lr: 7.12e-04, iit_weight: 1.00e+00, behavior_weight: 4.00e-01, strict_weight: 4.00e-01, train/iit_loss: 2.07e-02, train/behavior_loss: 1.05e-02, train/strict_loss: 3.58e-03, val/iit_loss: 5.07e-02, val/IIA: 99.55, val/accuracy: 96.74, val/strict_accuracy: 97.76\n"
     ]
    }
   ],
   "source": [
    "ll_model = poly_hl_model.get_ll_model()\n",
    "corr = poly_hl_model.get_correspondence()\n",
    "for k, v in corr.items():\n",
    "    print(k, v)\n",
    "train_set, test_set = poly_dataset.get_IIT_train_test_set()\n",
    "model_pair = StrictIITModelPair(hl_model=poly_hl_model, ll_model=ll_model, corr=corr, training_args=training_args)\n",
    "print(model_pair.nodes_not_in_circuit)\n",
    "model_pair.train(\n",
    "    train_set=train_set,\n",
    "    test_set=test_set,\n",
    "    optimizer_cls=torch.optim.Adam,\n",
    "    epochs=n_epochs,\n",
    "    # optimizer_kwargs=dict(weight_decay=1e-4),\n",
    ")"
   ]
  },
  {
   "cell_type": "code",
   "execution_count": null,
   "metadata": {},
   "outputs": [],
   "source": [
    "\n",
    "save_poly_model_to_dir(ll_model, poly_hl_model, f\"./saved_poly_models/cases_0+1+2\")"
   ]
  },
  {
   "cell_type": "markdown",
   "metadata": {},
   "source": [
    "# (0) DuplicateRemover + (1) LeftGreater + (3) UniqueExtractor"
   ]
  },
  {
   "cell_type": "code",
   "execution_count": null,
   "metadata": {},
   "outputs": [],
   "source": [
    "cases = [Case0, Case1, Case3]\n",
    "poly_hl_model = PolyHLModel(hl_classes=cases, size_expansion=1)\n",
    "corr = poly_hl_model.get_correspondence()\n",
    "for k, v in corr.items():\n",
    "    print(k, v)\n",
    "\n",
    "print()\n",
    "for k, v in poly_hl_model.corr_mapping.items():\n",
    "    print(k, v)\n",
    "\n",
    "dataset_cases = [dataset_mapping[case] for case in cases]\n",
    "dsets = [dsetcase(N_samples=n_samples, n_ctx=n_ctx, seed=seed) for dsetcase in dataset_cases]\n",
    "poly_dataset = PolyModelDataset(dsets, n_ctx=poly_hl_model.cfg.n_ctx)"
   ]
  },
  {
   "cell_type": "code",
   "execution_count": null,
   "metadata": {},
   "outputs": [
    {
     "name": "stdout",
     "output_type": "stream",
     "text": [
      "input_hook {LLNode(name='blocks.0.hook_resid_pre', index=[:], subspace=None)}\n",
      "mlp_hooks.0 {LLNode(name='blocks.0.mlp.hook_post', index=[:], subspace=None)}\n",
      "attn_hooks.0.0 {LLNode(name='blocks.0.attn.hook_z', index=[:, :, 0, :], subspace=None)}\n",
      "task_hook {LLNode(name='blocks.0.attn.hook_z', index=[:, :, 1, :], subspace=None)}\n",
      "attn_hooks.0.2 {LLNode(name='blocks.0.attn.hook_z', index=[:, :, 2, :], subspace=None)}\n",
      "mlp_hooks.1 {LLNode(name='blocks.1.mlp.hook_post', index=[:], subspace=None)}\n",
      "mlp_hooks.2 {LLNode(name='blocks.2.mlp.hook_post', index=[:], subspace=None)}\n",
      "[LLNode(name='blocks.0.attn.hook_z', index=[:, :, 3, :], subspace=None), LLNode(name='blocks.1.attn.hook_z', index=[:, :, 0, :], subspace=None), LLNode(name='blocks.1.attn.hook_z', index=[:, :, 1, :], subspace=None), LLNode(name='blocks.1.attn.hook_z', index=[:, :, 2, :], subspace=None), LLNode(name='blocks.1.attn.hook_z', index=[:, :, 3, :], subspace=None), LLNode(name='blocks.2.attn.hook_z', index=[:, :, 0, :], subspace=None), LLNode(name='blocks.2.attn.hook_z', index=[:, :, 1, :], subspace=None), LLNode(name='blocks.2.attn.hook_z', index=[:, :, 2, :], subspace=None), LLNode(name='blocks.2.attn.hook_z', index=[:, :, 3, :], subspace=None)]\n",
      "training_args={'batch_size': 256, 'num_workers': 0, 'early_stop': True, 'lr_scheduler': <class 'torch.optim.lr_scheduler.LinearLR'>, 'scheduler_val_metric': ['val/accuracy', 'val/IIA'], 'scheduler_mode': 'max', 'scheduler_kwargs': {'start_factor': 1, 'end_factor': 0.2, 'total_iters': 100}, 'optimizer_kwargs': {'lr': 0.001, 'betas': (0.9, 0.9)}, 'clip_grad_norm': 1.0, 'seed': 42, 'detach_while_caching': True, 'lr': 0.001, 'atol': 0.05, 'use_single_loss': True, 'iit_weight': 1.0, 'behavior_weight': 0.4, 'strict_weight': 0.4, 'siit_sampling': 'sample_all', 'iit_weight_schedule': <function <lambda> at 0x164a5f740>, 'strict_weight_schedule': <function <lambda> at 0x164f327a0>, 'behavior_weight_schedule': <function <lambda> at 0x164f31da0>}\n"
     ]
    },
    {
     "data": {
      "application/vnd.jupyter.widget-view+json": {
       "model_id": "26520af7a191485db2586368a2e50dce",
       "version_major": 2,
       "version_minor": 0
      },
      "text/plain": [
       "Training Epochs:   0%|          | 0/100 [00:00<?, ?it/s]"
      ]
     },
     "metadata": {},
     "output_type": "display_data"
    },
    {
     "data": {
      "application/vnd.jupyter.widget-view+json": {
       "model_id": "9e51bf21cb9942dc89687235aee3a8f2",
       "version_major": 2,
       "version_minor": 0
      },
      "text/plain": [
       "Training Batches:   0%|          | 0/63 [00:00<?, ?it/s]"
      ]
     },
     "metadata": {},
     "output_type": "display_data"
    },
    {
     "name": "stdout",
     "output_type": "stream",
     "text": [
      "Epoch 1: lr: 9.92e-04, iit_weight: 1.00e+00, behavior_weight: 4.00e-01, strict_weight: 4.00e-01, train/iit_loss: 7.06e-01, train/behavior_loss: 2.14e-01, train/strict_loss: 9.88e-02, val/iit_loss: 4.96e-01, val/IIA: 81.89, val/accuracy: 86.72, val/strict_accuracy: 86.84\n",
      "Epoch 2: lr: 9.84e-04, iit_weight: 1.00e+00, behavior_weight: 4.00e-01, strict_weight: 4.00e-01, train/iit_loss: 3.54e-01, train/behavior_loss: 8.13e-02, train/strict_loss: 5.61e-02, val/iit_loss: 4.51e-01, val/IIA: 88.03, val/accuracy: 97.54, val/strict_accuracy: 95.17\n",
      "Epoch 3: lr: 9.76e-04, iit_weight: 1.00e+00, behavior_weight: 4.00e-01, strict_weight: 4.00e-01, train/iit_loss: 2.02e-01, train/behavior_loss: 2.80e-02, train/strict_loss: 4.32e-02, val/iit_loss: 3.07e-01, val/IIA: 93.38, val/accuracy: 99.77, val/strict_accuracy: 97.99\n",
      "Epoch 4: lr: 9.68e-04, iit_weight: 1.00e+00, behavior_weight: 4.00e-01, strict_weight: 4.00e-01, train/iit_loss: 1.05e-01, train/behavior_loss: 1.43e-02, train/strict_loss: 3.91e-02, val/iit_loss: 2.62e-01, val/IIA: 97.21, val/accuracy: 96.72, val/strict_accuracy: 96.86\n",
      "Epoch 5: lr: 9.60e-04, iit_weight: 1.00e+00, behavior_weight: 4.00e-01, strict_weight: 4.00e-01, train/iit_loss: 6.77e-02, train/behavior_loss: 1.21e-02, train/strict_loss: 3.44e-02, val/iit_loss: 1.61e-01, val/IIA: 96.06, val/accuracy: 99.97, val/strict_accuracy: 98.78\n",
      "Epoch 6: lr: 9.52e-04, iit_weight: 1.00e+00, behavior_weight: 4.00e-01, strict_weight: 4.00e-01, train/iit_loss: 7.85e-02, train/behavior_loss: 1.21e-02, train/strict_loss: 2.76e-02, val/iit_loss: 1.04e-01, val/IIA: 98.45, val/accuracy: 96.73, val/strict_accuracy: 97.14\n",
      "Epoch 7: lr: 9.44e-04, iit_weight: 1.00e+00, behavior_weight: 4.00e-01, strict_weight: 4.00e-01, train/iit_loss: 5.92e-02, train/behavior_loss: 1.17e-02, train/strict_loss: 1.98e-02, val/iit_loss: 8.43e-02, val/IIA: 98.80, val/accuracy: 96.73, val/strict_accuracy: 97.53\n",
      "Epoch 8: lr: 9.36e-04, iit_weight: 1.00e+00, behavior_weight: 4.00e-01, strict_weight: 4.00e-01, train/iit_loss: 4.98e-02, train/behavior_loss: 1.07e-02, train/strict_loss: 1.58e-02, val/iit_loss: 7.47e-02, val/IIA: 98.93, val/accuracy: 96.74, val/strict_accuracy: 97.51\n",
      "Epoch 9: lr: 9.28e-04, iit_weight: 1.00e+00, behavior_weight: 4.00e-01, strict_weight: 4.00e-01, train/iit_loss: 4.19e-02, train/behavior_loss: 1.05e-02, train/strict_loss: 1.03e-02, val/iit_loss: 6.60e-02, val/IIA: 97.46, val/accuracy: 99.97, val/strict_accuracy: 99.36\n",
      "Epoch 10: lr: 9.20e-04, iit_weight: 1.00e+00, behavior_weight: 4.00e-01, strict_weight: 4.00e-01, train/iit_loss: 4.08e-02, train/behavior_loss: 1.09e-02, train/strict_loss: 1.07e-02, val/iit_loss: 1.19e-01, val/IIA: 99.06, val/accuracy: 96.74, val/strict_accuracy: 97.61\n",
      "Epoch 11: lr: 9.12e-04, iit_weight: 1.00e+00, behavior_weight: 4.00e-01, strict_weight: 4.00e-01, train/iit_loss: 3.27e-02, train/behavior_loss: 1.01e-02, train/strict_loss: 8.73e-03, val/iit_loss: 7.00e-02, val/IIA: 97.53, val/accuracy: 99.99, val/strict_accuracy: 99.64\n",
      "Epoch 12: lr: 9.04e-04, iit_weight: 1.00e+00, behavior_weight: 4.00e-01, strict_weight: 4.00e-01, train/iit_loss: 3.82e-02, train/behavior_loss: 1.09e-02, train/strict_loss: 8.43e-03, val/iit_loss: 5.70e-02, val/IIA: 99.34, val/accuracy: 96.73, val/strict_accuracy: 97.67\n",
      "Epoch 13: lr: 8.96e-04, iit_weight: 1.00e+00, behavior_weight: 4.00e-01, strict_weight: 4.00e-01, train/iit_loss: 3.87e-02, train/behavior_loss: 1.11e-02, train/strict_loss: 8.43e-03, val/iit_loss: 8.01e-02, val/IIA: 99.19, val/accuracy: 96.74, val/strict_accuracy: 97.55\n",
      "Epoch 14: lr: 8.88e-04, iit_weight: 1.00e+00, behavior_weight: 4.00e-01, strict_weight: 4.00e-01, train/iit_loss: 3.75e-02, train/behavior_loss: 1.10e-02, train/strict_loss: 7.43e-03, val/iit_loss: 7.14e-02, val/IIA: 99.35, val/accuracy: 96.73, val/strict_accuracy: 97.25\n",
      "Epoch 15: lr: 8.80e-04, iit_weight: 1.00e+00, behavior_weight: 4.00e-01, strict_weight: 4.00e-01, train/iit_loss: 2.74e-02, train/behavior_loss: 1.10e-02, train/strict_loss: 7.44e-03, val/iit_loss: 6.64e-02, val/IIA: 99.14, val/accuracy: 96.74, val/strict_accuracy: 98.20\n",
      "Epoch 16: lr: 8.72e-04, iit_weight: 1.00e+00, behavior_weight: 4.00e-01, strict_weight: 4.00e-01, train/iit_loss: 2.54e-02, train/behavior_loss: 1.01e-02, train/strict_loss: 6.28e-03, val/iit_loss: 6.75e-02, val/IIA: 99.49, val/accuracy: 96.74, val/strict_accuracy: 97.84\n",
      "Epoch 17: lr: 8.64e-04, iit_weight: 1.00e+00, behavior_weight: 4.00e-01, strict_weight: 4.00e-01, train/iit_loss: 2.46e-02, train/behavior_loss: 1.04e-02, train/strict_loss: 6.41e-03, val/iit_loss: 6.55e-02, val/IIA: 99.46, val/accuracy: 96.75, val/strict_accuracy: 97.83\n",
      "Epoch 18: lr: 8.56e-04, iit_weight: 1.00e+00, behavior_weight: 4.00e-01, strict_weight: 4.00e-01, train/iit_loss: 2.82e-02, train/behavior_loss: 1.01e-02, train/strict_loss: 5.93e-03, val/iit_loss: 9.27e-02, val/IIA: 99.21, val/accuracy: 96.75, val/strict_accuracy: 98.25\n",
      "Epoch 19: lr: 8.48e-04, iit_weight: 1.00e+00, behavior_weight: 4.00e-01, strict_weight: 4.00e-01, train/iit_loss: 2.49e-02, train/behavior_loss: 1.05e-02, train/strict_loss: 5.82e-03, val/iit_loss: 6.53e-02, val/IIA: 97.69, val/accuracy: 100.00, val/strict_accuracy: 99.87\n",
      "Epoch 20: lr: 8.40e-04, iit_weight: 1.00e+00, behavior_weight: 4.00e-01, strict_weight: 4.00e-01, train/iit_loss: 2.98e-02, train/behavior_loss: 1.04e-02, train/strict_loss: 5.02e-03, val/iit_loss: 8.84e-02, val/IIA: 97.61, val/accuracy: 100.00, val/strict_accuracy: 99.88\n",
      "Epoch 21: lr: 8.32e-04, iit_weight: 1.00e+00, behavior_weight: 4.00e-01, strict_weight: 4.00e-01, train/iit_loss: 2.42e-02, train/behavior_loss: 1.01e-02, train/strict_loss: 5.02e-03, val/iit_loss: 6.80e-02, val/IIA: 99.53, val/accuracy: 96.74, val/strict_accuracy: 98.17\n",
      "Epoch 22: lr: 8.24e-04, iit_weight: 1.00e+00, behavior_weight: 4.00e-01, strict_weight: 4.00e-01, train/iit_loss: 2.80e-02, train/behavior_loss: 1.01e-02, train/strict_loss: 5.14e-03, val/iit_loss: 5.60e-02, val/IIA: 99.56, val/accuracy: 96.73, val/strict_accuracy: 98.19\n",
      "Epoch 23: lr: 8.16e-04, iit_weight: 1.00e+00, behavior_weight: 4.00e-01, strict_weight: 4.00e-01, train/iit_loss: 2.60e-02, train/behavior_loss: 9.99e-03, train/strict_loss: 4.64e-03, val/iit_loss: 5.30e-02, val/IIA: 99.65, val/accuracy: 96.75, val/strict_accuracy: 97.88\n",
      "Epoch 24: lr: 8.08e-04, iit_weight: 1.00e+00, behavior_weight: 4.00e-01, strict_weight: 4.00e-01, train/iit_loss: 2.52e-02, train/behavior_loss: 1.06e-02, train/strict_loss: 4.93e-03, val/iit_loss: 5.70e-02, val/IIA: 97.63, val/accuracy: 100.00, val/strict_accuracy: 99.91\n",
      "Epoch 25: lr: 8.00e-04, iit_weight: 1.00e+00, behavior_weight: 4.00e-01, strict_weight: 4.00e-01, train/iit_loss: 2.47e-02, train/behavior_loss: 1.05e-02, train/strict_loss: 4.62e-03, val/iit_loss: 6.48e-02, val/IIA: 99.64, val/accuracy: 96.75, val/strict_accuracy: 98.25\n",
      "Epoch 26: lr: 7.92e-04, iit_weight: 1.00e+00, behavior_weight: 4.00e-01, strict_weight: 4.00e-01, train/iit_loss: 2.15e-02, train/behavior_loss: 1.05e-02, train/strict_loss: 4.10e-03, val/iit_loss: 6.41e-02, val/IIA: 97.72, val/accuracy: 100.00, val/strict_accuracy: 99.90\n",
      "Epoch 27: lr: 7.84e-04, iit_weight: 1.00e+00, behavior_weight: 4.00e-01, strict_weight: 4.00e-01, train/iit_loss: 2.43e-02, train/behavior_loss: 1.03e-02, train/strict_loss: 4.72e-03, val/iit_loss: 6.08e-02, val/IIA: 97.76, val/accuracy: 100.00, val/strict_accuracy: 99.94\n",
      "Epoch 28: lr: 7.76e-04, iit_weight: 1.00e+00, behavior_weight: 4.00e-01, strict_weight: 4.00e-01, train/iit_loss: 2.65e-02, train/behavior_loss: 9.71e-03, train/strict_loss: 3.89e-03, val/iit_loss: 1.33e-01, val/IIA: 99.05, val/accuracy: 96.75, val/strict_accuracy: 97.87\n",
      "Epoch 29: lr: 7.68e-04, iit_weight: 1.00e+00, behavior_weight: 4.00e-01, strict_weight: 4.00e-01, train/iit_loss: 2.19e-02, train/behavior_loss: 1.04e-02, train/strict_loss: 4.02e-03, val/iit_loss: 5.23e-02, val/IIA: 97.84, val/accuracy: 100.00, val/strict_accuracy: 99.95\n",
      "Epoch 30: lr: 7.60e-04, iit_weight: 1.00e+00, behavior_weight: 4.00e-01, strict_weight: 4.00e-01, train/iit_loss: 3.33e-02, train/behavior_loss: 1.04e-02, train/strict_loss: 4.13e-03, val/iit_loss: 7.95e-02, val/IIA: 99.50, val/accuracy: 96.75, val/strict_accuracy: 98.12\n",
      "Epoch 31: lr: 7.52e-04, iit_weight: 1.00e+00, behavior_weight: 4.00e-01, strict_weight: 4.00e-01, train/iit_loss: 2.39e-02, train/behavior_loss: 1.01e-02, train/strict_loss: 4.26e-03, val/iit_loss: 4.96e-02, val/IIA: 99.57, val/accuracy: 96.75, val/strict_accuracy: 98.30\n",
      "Epoch 32: lr: 7.44e-04, iit_weight: 1.00e+00, behavior_weight: 4.00e-01, strict_weight: 4.00e-01, train/iit_loss: 2.14e-02, train/behavior_loss: 9.95e-03, train/strict_loss: 4.00e-03, val/iit_loss: 4.90e-02, val/IIA: 99.69, val/accuracy: 96.75, val/strict_accuracy: 98.04\n",
      "Epoch 33: lr: 7.36e-04, iit_weight: 1.00e+00, behavior_weight: 4.00e-01, strict_weight: 4.00e-01, train/iit_loss: 2.15e-02, train/behavior_loss: 9.52e-03, train/strict_loss: 3.40e-03, val/iit_loss: 5.25e-02, val/IIA: 97.82, val/accuracy: 100.00, val/strict_accuracy: 99.93\n",
      "Epoch 34: lr: 7.28e-04, iit_weight: 1.00e+00, behavior_weight: 4.00e-01, strict_weight: 4.00e-01, train/iit_loss: 2.04e-02, train/behavior_loss: 1.01e-02, train/strict_loss: 3.47e-03, val/iit_loss: 5.25e-02, val/IIA: 99.67, val/accuracy: 96.74, val/strict_accuracy: 98.25\n",
      "Epoch 35: lr: 7.20e-04, iit_weight: 1.00e+00, behavior_weight: 4.00e-01, strict_weight: 4.00e-01, train/iit_loss: 2.07e-02, train/behavior_loss: 9.49e-03, train/strict_loss: 3.34e-03, val/iit_loss: 4.93e-02, val/IIA: 99.71, val/accuracy: 96.75, val/strict_accuracy: 97.78\n",
      "Epoch 36: lr: 7.12e-04, iit_weight: 1.00e+00, behavior_weight: 4.00e-01, strict_weight: 4.00e-01, train/iit_loss: 2.07e-02, train/behavior_loss: 1.05e-02, train/strict_loss: 3.58e-03, val/iit_loss: 5.07e-02, val/IIA: 99.55, val/accuracy: 96.74, val/strict_accuracy: 97.76\n"
     ]
    }
   ],
   "source": [
    "ll_model = poly_hl_model.get_ll_model()\n",
    "corr = poly_hl_model.get_correspondence()\n",
    "for k, v in corr.items():\n",
    "    print(k, v)\n",
    "train_set, test_set = poly_dataset.get_IIT_train_test_set()\n",
    "model_pair = StrictIITModelPair(hl_model=poly_hl_model, ll_model=ll_model, corr=corr, training_args=training_args)\n",
    "print(model_pair.nodes_not_in_circuit)\n",
    "model_pair.train(\n",
    "    train_set=train_set,\n",
    "    test_set=test_set,\n",
    "    optimizer_cls=torch.optim.Adam,\n",
    "    epochs=n_epochs,\n",
    "    # optimizer_kwargs=dict(weight_decay=1e-4),\n",
    ")"
   ]
  },
  {
   "cell_type": "code",
   "execution_count": null,
   "metadata": {},
   "outputs": [],
   "source": [
    "\n",
    "save_poly_model_to_dir(ll_model, poly_hl_model, f\"./saved_poly_models/cases_0+1+3\")"
   ]
  },
  {
   "cell_type": "markdown",
   "metadata": {},
   "source": [
    "# (0) DuplicateRemover + (2) ParenChecker + (3) UniqueExtractor "
   ]
  },
  {
   "cell_type": "code",
   "execution_count": null,
   "metadata": {},
   "outputs": [],
   "source": [
    "cases = [Case0, Case2, Case3]\n",
    "poly_hl_model = PolyHLModel(hl_classes=cases, size_expansion=1)\n",
    "corr = poly_hl_model.get_correspondence()\n",
    "for k, v in corr.items():\n",
    "    print(k, v)\n",
    "\n",
    "print()\n",
    "for k, v in poly_hl_model.corr_mapping.items():\n",
    "    print(k, v)\n",
    "\n",
    "dataset_cases = [dataset_mapping[case] for case in cases]\n",
    "dsets = [dsetcase(N_samples=n_samples, n_ctx=n_ctx, seed=seed) for dsetcase in dataset_cases]\n",
    "poly_dataset = PolyModelDataset(dsets, n_ctx=poly_hl_model.cfg.n_ctx)"
   ]
  },
  {
   "cell_type": "code",
   "execution_count": null,
   "metadata": {},
   "outputs": [
    {
     "name": "stdout",
     "output_type": "stream",
     "text": [
      "input_hook {LLNode(name='blocks.0.hook_resid_pre', index=[:], subspace=None)}\n",
      "mlp_hooks.0 {LLNode(name='blocks.0.mlp.hook_post', index=[:], subspace=None)}\n",
      "attn_hooks.0.0 {LLNode(name='blocks.0.attn.hook_z', index=[:, :, 0, :], subspace=None)}\n",
      "task_hook {LLNode(name='blocks.0.attn.hook_z', index=[:, :, 1, :], subspace=None)}\n",
      "attn_hooks.0.2 {LLNode(name='blocks.0.attn.hook_z', index=[:, :, 2, :], subspace=None)}\n",
      "mlp_hooks.1 {LLNode(name='blocks.1.mlp.hook_post', index=[:], subspace=None)}\n",
      "mlp_hooks.2 {LLNode(name='blocks.2.mlp.hook_post', index=[:], subspace=None)}\n",
      "[LLNode(name='blocks.0.attn.hook_z', index=[:, :, 3, :], subspace=None), LLNode(name='blocks.1.attn.hook_z', index=[:, :, 0, :], subspace=None), LLNode(name='blocks.1.attn.hook_z', index=[:, :, 1, :], subspace=None), LLNode(name='blocks.1.attn.hook_z', index=[:, :, 2, :], subspace=None), LLNode(name='blocks.1.attn.hook_z', index=[:, :, 3, :], subspace=None), LLNode(name='blocks.2.attn.hook_z', index=[:, :, 0, :], subspace=None), LLNode(name='blocks.2.attn.hook_z', index=[:, :, 1, :], subspace=None), LLNode(name='blocks.2.attn.hook_z', index=[:, :, 2, :], subspace=None), LLNode(name='blocks.2.attn.hook_z', index=[:, :, 3, :], subspace=None)]\n",
      "training_args={'batch_size': 256, 'num_workers': 0, 'early_stop': True, 'lr_scheduler': <class 'torch.optim.lr_scheduler.LinearLR'>, 'scheduler_val_metric': ['val/accuracy', 'val/IIA'], 'scheduler_mode': 'max', 'scheduler_kwargs': {'start_factor': 1, 'end_factor': 0.2, 'total_iters': 100}, 'optimizer_kwargs': {'lr': 0.001, 'betas': (0.9, 0.9)}, 'clip_grad_norm': 1.0, 'seed': 42, 'detach_while_caching': True, 'lr': 0.001, 'atol': 0.05, 'use_single_loss': True, 'iit_weight': 1.0, 'behavior_weight': 0.4, 'strict_weight': 0.4, 'siit_sampling': 'sample_all', 'iit_weight_schedule': <function <lambda> at 0x164a5f740>, 'strict_weight_schedule': <function <lambda> at 0x164f327a0>, 'behavior_weight_schedule': <function <lambda> at 0x164f31da0>}\n"
     ]
    },
    {
     "data": {
      "application/vnd.jupyter.widget-view+json": {
       "model_id": "26520af7a191485db2586368a2e50dce",
       "version_major": 2,
       "version_minor": 0
      },
      "text/plain": [
       "Training Epochs:   0%|          | 0/100 [00:00<?, ?it/s]"
      ]
     },
     "metadata": {},
     "output_type": "display_data"
    },
    {
     "data": {
      "application/vnd.jupyter.widget-view+json": {
       "model_id": "9e51bf21cb9942dc89687235aee3a8f2",
       "version_major": 2,
       "version_minor": 0
      },
      "text/plain": [
       "Training Batches:   0%|          | 0/63 [00:00<?, ?it/s]"
      ]
     },
     "metadata": {},
     "output_type": "display_data"
    },
    {
     "name": "stdout",
     "output_type": "stream",
     "text": [
      "Epoch 1: lr: 9.92e-04, iit_weight: 1.00e+00, behavior_weight: 4.00e-01, strict_weight: 4.00e-01, train/iit_loss: 7.06e-01, train/behavior_loss: 2.14e-01, train/strict_loss: 9.88e-02, val/iit_loss: 4.96e-01, val/IIA: 81.89, val/accuracy: 86.72, val/strict_accuracy: 86.84\n",
      "Epoch 2: lr: 9.84e-04, iit_weight: 1.00e+00, behavior_weight: 4.00e-01, strict_weight: 4.00e-01, train/iit_loss: 3.54e-01, train/behavior_loss: 8.13e-02, train/strict_loss: 5.61e-02, val/iit_loss: 4.51e-01, val/IIA: 88.03, val/accuracy: 97.54, val/strict_accuracy: 95.17\n",
      "Epoch 3: lr: 9.76e-04, iit_weight: 1.00e+00, behavior_weight: 4.00e-01, strict_weight: 4.00e-01, train/iit_loss: 2.02e-01, train/behavior_loss: 2.80e-02, train/strict_loss: 4.32e-02, val/iit_loss: 3.07e-01, val/IIA: 93.38, val/accuracy: 99.77, val/strict_accuracy: 97.99\n",
      "Epoch 4: lr: 9.68e-04, iit_weight: 1.00e+00, behavior_weight: 4.00e-01, strict_weight: 4.00e-01, train/iit_loss: 1.05e-01, train/behavior_loss: 1.43e-02, train/strict_loss: 3.91e-02, val/iit_loss: 2.62e-01, val/IIA: 97.21, val/accuracy: 96.72, val/strict_accuracy: 96.86\n",
      "Epoch 5: lr: 9.60e-04, iit_weight: 1.00e+00, behavior_weight: 4.00e-01, strict_weight: 4.00e-01, train/iit_loss: 6.77e-02, train/behavior_loss: 1.21e-02, train/strict_loss: 3.44e-02, val/iit_loss: 1.61e-01, val/IIA: 96.06, val/accuracy: 99.97, val/strict_accuracy: 98.78\n",
      "Epoch 6: lr: 9.52e-04, iit_weight: 1.00e+00, behavior_weight: 4.00e-01, strict_weight: 4.00e-01, train/iit_loss: 7.85e-02, train/behavior_loss: 1.21e-02, train/strict_loss: 2.76e-02, val/iit_loss: 1.04e-01, val/IIA: 98.45, val/accuracy: 96.73, val/strict_accuracy: 97.14\n",
      "Epoch 7: lr: 9.44e-04, iit_weight: 1.00e+00, behavior_weight: 4.00e-01, strict_weight: 4.00e-01, train/iit_loss: 5.92e-02, train/behavior_loss: 1.17e-02, train/strict_loss: 1.98e-02, val/iit_loss: 8.43e-02, val/IIA: 98.80, val/accuracy: 96.73, val/strict_accuracy: 97.53\n",
      "Epoch 8: lr: 9.36e-04, iit_weight: 1.00e+00, behavior_weight: 4.00e-01, strict_weight: 4.00e-01, train/iit_loss: 4.98e-02, train/behavior_loss: 1.07e-02, train/strict_loss: 1.58e-02, val/iit_loss: 7.47e-02, val/IIA: 98.93, val/accuracy: 96.74, val/strict_accuracy: 97.51\n",
      "Epoch 9: lr: 9.28e-04, iit_weight: 1.00e+00, behavior_weight: 4.00e-01, strict_weight: 4.00e-01, train/iit_loss: 4.19e-02, train/behavior_loss: 1.05e-02, train/strict_loss: 1.03e-02, val/iit_loss: 6.60e-02, val/IIA: 97.46, val/accuracy: 99.97, val/strict_accuracy: 99.36\n",
      "Epoch 10: lr: 9.20e-04, iit_weight: 1.00e+00, behavior_weight: 4.00e-01, strict_weight: 4.00e-01, train/iit_loss: 4.08e-02, train/behavior_loss: 1.09e-02, train/strict_loss: 1.07e-02, val/iit_loss: 1.19e-01, val/IIA: 99.06, val/accuracy: 96.74, val/strict_accuracy: 97.61\n",
      "Epoch 11: lr: 9.12e-04, iit_weight: 1.00e+00, behavior_weight: 4.00e-01, strict_weight: 4.00e-01, train/iit_loss: 3.27e-02, train/behavior_loss: 1.01e-02, train/strict_loss: 8.73e-03, val/iit_loss: 7.00e-02, val/IIA: 97.53, val/accuracy: 99.99, val/strict_accuracy: 99.64\n",
      "Epoch 12: lr: 9.04e-04, iit_weight: 1.00e+00, behavior_weight: 4.00e-01, strict_weight: 4.00e-01, train/iit_loss: 3.82e-02, train/behavior_loss: 1.09e-02, train/strict_loss: 8.43e-03, val/iit_loss: 5.70e-02, val/IIA: 99.34, val/accuracy: 96.73, val/strict_accuracy: 97.67\n",
      "Epoch 13: lr: 8.96e-04, iit_weight: 1.00e+00, behavior_weight: 4.00e-01, strict_weight: 4.00e-01, train/iit_loss: 3.87e-02, train/behavior_loss: 1.11e-02, train/strict_loss: 8.43e-03, val/iit_loss: 8.01e-02, val/IIA: 99.19, val/accuracy: 96.74, val/strict_accuracy: 97.55\n",
      "Epoch 14: lr: 8.88e-04, iit_weight: 1.00e+00, behavior_weight: 4.00e-01, strict_weight: 4.00e-01, train/iit_loss: 3.75e-02, train/behavior_loss: 1.10e-02, train/strict_loss: 7.43e-03, val/iit_loss: 7.14e-02, val/IIA: 99.35, val/accuracy: 96.73, val/strict_accuracy: 97.25\n",
      "Epoch 15: lr: 8.80e-04, iit_weight: 1.00e+00, behavior_weight: 4.00e-01, strict_weight: 4.00e-01, train/iit_loss: 2.74e-02, train/behavior_loss: 1.10e-02, train/strict_loss: 7.44e-03, val/iit_loss: 6.64e-02, val/IIA: 99.14, val/accuracy: 96.74, val/strict_accuracy: 98.20\n",
      "Epoch 16: lr: 8.72e-04, iit_weight: 1.00e+00, behavior_weight: 4.00e-01, strict_weight: 4.00e-01, train/iit_loss: 2.54e-02, train/behavior_loss: 1.01e-02, train/strict_loss: 6.28e-03, val/iit_loss: 6.75e-02, val/IIA: 99.49, val/accuracy: 96.74, val/strict_accuracy: 97.84\n",
      "Epoch 17: lr: 8.64e-04, iit_weight: 1.00e+00, behavior_weight: 4.00e-01, strict_weight: 4.00e-01, train/iit_loss: 2.46e-02, train/behavior_loss: 1.04e-02, train/strict_loss: 6.41e-03, val/iit_loss: 6.55e-02, val/IIA: 99.46, val/accuracy: 96.75, val/strict_accuracy: 97.83\n",
      "Epoch 18: lr: 8.56e-04, iit_weight: 1.00e+00, behavior_weight: 4.00e-01, strict_weight: 4.00e-01, train/iit_loss: 2.82e-02, train/behavior_loss: 1.01e-02, train/strict_loss: 5.93e-03, val/iit_loss: 9.27e-02, val/IIA: 99.21, val/accuracy: 96.75, val/strict_accuracy: 98.25\n",
      "Epoch 19: lr: 8.48e-04, iit_weight: 1.00e+00, behavior_weight: 4.00e-01, strict_weight: 4.00e-01, train/iit_loss: 2.49e-02, train/behavior_loss: 1.05e-02, train/strict_loss: 5.82e-03, val/iit_loss: 6.53e-02, val/IIA: 97.69, val/accuracy: 100.00, val/strict_accuracy: 99.87\n",
      "Epoch 20: lr: 8.40e-04, iit_weight: 1.00e+00, behavior_weight: 4.00e-01, strict_weight: 4.00e-01, train/iit_loss: 2.98e-02, train/behavior_loss: 1.04e-02, train/strict_loss: 5.02e-03, val/iit_loss: 8.84e-02, val/IIA: 97.61, val/accuracy: 100.00, val/strict_accuracy: 99.88\n",
      "Epoch 21: lr: 8.32e-04, iit_weight: 1.00e+00, behavior_weight: 4.00e-01, strict_weight: 4.00e-01, train/iit_loss: 2.42e-02, train/behavior_loss: 1.01e-02, train/strict_loss: 5.02e-03, val/iit_loss: 6.80e-02, val/IIA: 99.53, val/accuracy: 96.74, val/strict_accuracy: 98.17\n",
      "Epoch 22: lr: 8.24e-04, iit_weight: 1.00e+00, behavior_weight: 4.00e-01, strict_weight: 4.00e-01, train/iit_loss: 2.80e-02, train/behavior_loss: 1.01e-02, train/strict_loss: 5.14e-03, val/iit_loss: 5.60e-02, val/IIA: 99.56, val/accuracy: 96.73, val/strict_accuracy: 98.19\n",
      "Epoch 23: lr: 8.16e-04, iit_weight: 1.00e+00, behavior_weight: 4.00e-01, strict_weight: 4.00e-01, train/iit_loss: 2.60e-02, train/behavior_loss: 9.99e-03, train/strict_loss: 4.64e-03, val/iit_loss: 5.30e-02, val/IIA: 99.65, val/accuracy: 96.75, val/strict_accuracy: 97.88\n",
      "Epoch 24: lr: 8.08e-04, iit_weight: 1.00e+00, behavior_weight: 4.00e-01, strict_weight: 4.00e-01, train/iit_loss: 2.52e-02, train/behavior_loss: 1.06e-02, train/strict_loss: 4.93e-03, val/iit_loss: 5.70e-02, val/IIA: 97.63, val/accuracy: 100.00, val/strict_accuracy: 99.91\n",
      "Epoch 25: lr: 8.00e-04, iit_weight: 1.00e+00, behavior_weight: 4.00e-01, strict_weight: 4.00e-01, train/iit_loss: 2.47e-02, train/behavior_loss: 1.05e-02, train/strict_loss: 4.62e-03, val/iit_loss: 6.48e-02, val/IIA: 99.64, val/accuracy: 96.75, val/strict_accuracy: 98.25\n",
      "Epoch 26: lr: 7.92e-04, iit_weight: 1.00e+00, behavior_weight: 4.00e-01, strict_weight: 4.00e-01, train/iit_loss: 2.15e-02, train/behavior_loss: 1.05e-02, train/strict_loss: 4.10e-03, val/iit_loss: 6.41e-02, val/IIA: 97.72, val/accuracy: 100.00, val/strict_accuracy: 99.90\n",
      "Epoch 27: lr: 7.84e-04, iit_weight: 1.00e+00, behavior_weight: 4.00e-01, strict_weight: 4.00e-01, train/iit_loss: 2.43e-02, train/behavior_loss: 1.03e-02, train/strict_loss: 4.72e-03, val/iit_loss: 6.08e-02, val/IIA: 97.76, val/accuracy: 100.00, val/strict_accuracy: 99.94\n",
      "Epoch 28: lr: 7.76e-04, iit_weight: 1.00e+00, behavior_weight: 4.00e-01, strict_weight: 4.00e-01, train/iit_loss: 2.65e-02, train/behavior_loss: 9.71e-03, train/strict_loss: 3.89e-03, val/iit_loss: 1.33e-01, val/IIA: 99.05, val/accuracy: 96.75, val/strict_accuracy: 97.87\n",
      "Epoch 29: lr: 7.68e-04, iit_weight: 1.00e+00, behavior_weight: 4.00e-01, strict_weight: 4.00e-01, train/iit_loss: 2.19e-02, train/behavior_loss: 1.04e-02, train/strict_loss: 4.02e-03, val/iit_loss: 5.23e-02, val/IIA: 97.84, val/accuracy: 100.00, val/strict_accuracy: 99.95\n",
      "Epoch 30: lr: 7.60e-04, iit_weight: 1.00e+00, behavior_weight: 4.00e-01, strict_weight: 4.00e-01, train/iit_loss: 3.33e-02, train/behavior_loss: 1.04e-02, train/strict_loss: 4.13e-03, val/iit_loss: 7.95e-02, val/IIA: 99.50, val/accuracy: 96.75, val/strict_accuracy: 98.12\n",
      "Epoch 31: lr: 7.52e-04, iit_weight: 1.00e+00, behavior_weight: 4.00e-01, strict_weight: 4.00e-01, train/iit_loss: 2.39e-02, train/behavior_loss: 1.01e-02, train/strict_loss: 4.26e-03, val/iit_loss: 4.96e-02, val/IIA: 99.57, val/accuracy: 96.75, val/strict_accuracy: 98.30\n",
      "Epoch 32: lr: 7.44e-04, iit_weight: 1.00e+00, behavior_weight: 4.00e-01, strict_weight: 4.00e-01, train/iit_loss: 2.14e-02, train/behavior_loss: 9.95e-03, train/strict_loss: 4.00e-03, val/iit_loss: 4.90e-02, val/IIA: 99.69, val/accuracy: 96.75, val/strict_accuracy: 98.04\n",
      "Epoch 33: lr: 7.36e-04, iit_weight: 1.00e+00, behavior_weight: 4.00e-01, strict_weight: 4.00e-01, train/iit_loss: 2.15e-02, train/behavior_loss: 9.52e-03, train/strict_loss: 3.40e-03, val/iit_loss: 5.25e-02, val/IIA: 97.82, val/accuracy: 100.00, val/strict_accuracy: 99.93\n",
      "Epoch 34: lr: 7.28e-04, iit_weight: 1.00e+00, behavior_weight: 4.00e-01, strict_weight: 4.00e-01, train/iit_loss: 2.04e-02, train/behavior_loss: 1.01e-02, train/strict_loss: 3.47e-03, val/iit_loss: 5.25e-02, val/IIA: 99.67, val/accuracy: 96.74, val/strict_accuracy: 98.25\n",
      "Epoch 35: lr: 7.20e-04, iit_weight: 1.00e+00, behavior_weight: 4.00e-01, strict_weight: 4.00e-01, train/iit_loss: 2.07e-02, train/behavior_loss: 9.49e-03, train/strict_loss: 3.34e-03, val/iit_loss: 4.93e-02, val/IIA: 99.71, val/accuracy: 96.75, val/strict_accuracy: 97.78\n",
      "Epoch 36: lr: 7.12e-04, iit_weight: 1.00e+00, behavior_weight: 4.00e-01, strict_weight: 4.00e-01, train/iit_loss: 2.07e-02, train/behavior_loss: 1.05e-02, train/strict_loss: 3.58e-03, val/iit_loss: 5.07e-02, val/IIA: 99.55, val/accuracy: 96.74, val/strict_accuracy: 97.76\n"
     ]
    }
   ],
   "source": [
    "ll_model = poly_hl_model.get_ll_model()\n",
    "corr = poly_hl_model.get_correspondence()\n",
    "for k, v in corr.items():\n",
    "    print(k, v)\n",
    "train_set, test_set = poly_dataset.get_IIT_train_test_set()\n",
    "model_pair = StrictIITModelPair(hl_model=poly_hl_model, ll_model=ll_model, corr=corr, training_args=training_args)\n",
    "print(model_pair.nodes_not_in_circuit)\n",
    "model_pair.train(\n",
    "    train_set=train_set,\n",
    "    test_set=test_set,\n",
    "    optimizer_cls=torch.optim.Adam,\n",
    "    epochs=n_epochs,\n",
    "    # optimizer_kwargs=dict(weight_decay=1e-4),\n",
    ")"
   ]
  },
  {
   "cell_type": "code",
   "execution_count": null,
   "metadata": {},
   "outputs": [],
   "source": [
    "\n",
    "save_poly_model_to_dir(ll_model, poly_hl_model, f\"./saved_poly_models/cases_0+2+3\")"
   ]
  },
  {
   "cell_type": "markdown",
   "metadata": {},
   "source": [
    "# (1) LeftGreater + (2) ParenChecker + (3) UniqueExtractor "
   ]
  },
  {
   "cell_type": "code",
   "execution_count": null,
   "metadata": {},
   "outputs": [],
   "source": [
    "cases = [Case1, Case2, Case3]\n",
    "poly_hl_model = PolyHLModel(hl_classes=cases, size_expansion=1)\n",
    "corr = poly_hl_model.get_correspondence()\n",
    "for k, v in corr.items():\n",
    "    print(k, v)\n",
    "\n",
    "print()\n",
    "for k, v in poly_hl_model.corr_mapping.items():\n",
    "    print(k, v)\n",
    "\n",
    "dataset_cases = [dataset_mapping[case] for case in cases]\n",
    "dsets = [dsetcase(N_samples=n_samples, n_ctx=n_ctx, seed=seed) for dsetcase in dataset_cases]\n",
    "poly_dataset = PolyModelDataset(dsets, n_ctx=poly_hl_model.cfg.n_ctx)"
   ]
  },
  {
   "cell_type": "code",
   "execution_count": null,
   "metadata": {},
   "outputs": [
    {
     "name": "stdout",
     "output_type": "stream",
     "text": [
      "input_hook {LLNode(name='blocks.0.hook_resid_pre', index=[:], subspace=None)}\n",
      "mlp_hooks.0 {LLNode(name='blocks.0.mlp.hook_post', index=[:], subspace=None)}\n",
      "attn_hooks.0.0 {LLNode(name='blocks.0.attn.hook_z', index=[:, :, 0, :], subspace=None)}\n",
      "task_hook {LLNode(name='blocks.0.attn.hook_z', index=[:, :, 1, :], subspace=None)}\n",
      "attn_hooks.0.2 {LLNode(name='blocks.0.attn.hook_z', index=[:, :, 2, :], subspace=None)}\n",
      "mlp_hooks.1 {LLNode(name='blocks.1.mlp.hook_post', index=[:], subspace=None)}\n",
      "mlp_hooks.2 {LLNode(name='blocks.2.mlp.hook_post', index=[:], subspace=None)}\n",
      "[LLNode(name='blocks.0.attn.hook_z', index=[:, :, 3, :], subspace=None), LLNode(name='blocks.1.attn.hook_z', index=[:, :, 0, :], subspace=None), LLNode(name='blocks.1.attn.hook_z', index=[:, :, 1, :], subspace=None), LLNode(name='blocks.1.attn.hook_z', index=[:, :, 2, :], subspace=None), LLNode(name='blocks.1.attn.hook_z', index=[:, :, 3, :], subspace=None), LLNode(name='blocks.2.attn.hook_z', index=[:, :, 0, :], subspace=None), LLNode(name='blocks.2.attn.hook_z', index=[:, :, 1, :], subspace=None), LLNode(name='blocks.2.attn.hook_z', index=[:, :, 2, :], subspace=None), LLNode(name='blocks.2.attn.hook_z', index=[:, :, 3, :], subspace=None)]\n",
      "training_args={'batch_size': 256, 'num_workers': 0, 'early_stop': True, 'lr_scheduler': <class 'torch.optim.lr_scheduler.LinearLR'>, 'scheduler_val_metric': ['val/accuracy', 'val/IIA'], 'scheduler_mode': 'max', 'scheduler_kwargs': {'start_factor': 1, 'end_factor': 0.2, 'total_iters': 100}, 'optimizer_kwargs': {'lr': 0.001, 'betas': (0.9, 0.9)}, 'clip_grad_norm': 1.0, 'seed': 42, 'detach_while_caching': True, 'lr': 0.001, 'atol': 0.05, 'use_single_loss': True, 'iit_weight': 1.0, 'behavior_weight': 0.4, 'strict_weight': 0.4, 'siit_sampling': 'sample_all', 'iit_weight_schedule': <function <lambda> at 0x164a5f740>, 'strict_weight_schedule': <function <lambda> at 0x164f327a0>, 'behavior_weight_schedule': <function <lambda> at 0x164f31da0>}\n"
     ]
    },
    {
     "data": {
      "application/vnd.jupyter.widget-view+json": {
       "model_id": "26520af7a191485db2586368a2e50dce",
       "version_major": 2,
       "version_minor": 0
      },
      "text/plain": [
       "Training Epochs:   0%|          | 0/100 [00:00<?, ?it/s]"
      ]
     },
     "metadata": {},
     "output_type": "display_data"
    },
    {
     "data": {
      "application/vnd.jupyter.widget-view+json": {
       "model_id": "9e51bf21cb9942dc89687235aee3a8f2",
       "version_major": 2,
       "version_minor": 0
      },
      "text/plain": [
       "Training Batches:   0%|          | 0/63 [00:00<?, ?it/s]"
      ]
     },
     "metadata": {},
     "output_type": "display_data"
    },
    {
     "name": "stdout",
     "output_type": "stream",
     "text": [
      "Epoch 1: lr: 9.92e-04, iit_weight: 1.00e+00, behavior_weight: 4.00e-01, strict_weight: 4.00e-01, train/iit_loss: 7.06e-01, train/behavior_loss: 2.14e-01, train/strict_loss: 9.88e-02, val/iit_loss: 4.96e-01, val/IIA: 81.89, val/accuracy: 86.72, val/strict_accuracy: 86.84\n",
      "Epoch 2: lr: 9.84e-04, iit_weight: 1.00e+00, behavior_weight: 4.00e-01, strict_weight: 4.00e-01, train/iit_loss: 3.54e-01, train/behavior_loss: 8.13e-02, train/strict_loss: 5.61e-02, val/iit_loss: 4.51e-01, val/IIA: 88.03, val/accuracy: 97.54, val/strict_accuracy: 95.17\n",
      "Epoch 3: lr: 9.76e-04, iit_weight: 1.00e+00, behavior_weight: 4.00e-01, strict_weight: 4.00e-01, train/iit_loss: 2.02e-01, train/behavior_loss: 2.80e-02, train/strict_loss: 4.32e-02, val/iit_loss: 3.07e-01, val/IIA: 93.38, val/accuracy: 99.77, val/strict_accuracy: 97.99\n",
      "Epoch 4: lr: 9.68e-04, iit_weight: 1.00e+00, behavior_weight: 4.00e-01, strict_weight: 4.00e-01, train/iit_loss: 1.05e-01, train/behavior_loss: 1.43e-02, train/strict_loss: 3.91e-02, val/iit_loss: 2.62e-01, val/IIA: 97.21, val/accuracy: 96.72, val/strict_accuracy: 96.86\n",
      "Epoch 5: lr: 9.60e-04, iit_weight: 1.00e+00, behavior_weight: 4.00e-01, strict_weight: 4.00e-01, train/iit_loss: 6.77e-02, train/behavior_loss: 1.21e-02, train/strict_loss: 3.44e-02, val/iit_loss: 1.61e-01, val/IIA: 96.06, val/accuracy: 99.97, val/strict_accuracy: 98.78\n",
      "Epoch 6: lr: 9.52e-04, iit_weight: 1.00e+00, behavior_weight: 4.00e-01, strict_weight: 4.00e-01, train/iit_loss: 7.85e-02, train/behavior_loss: 1.21e-02, train/strict_loss: 2.76e-02, val/iit_loss: 1.04e-01, val/IIA: 98.45, val/accuracy: 96.73, val/strict_accuracy: 97.14\n",
      "Epoch 7: lr: 9.44e-04, iit_weight: 1.00e+00, behavior_weight: 4.00e-01, strict_weight: 4.00e-01, train/iit_loss: 5.92e-02, train/behavior_loss: 1.17e-02, train/strict_loss: 1.98e-02, val/iit_loss: 8.43e-02, val/IIA: 98.80, val/accuracy: 96.73, val/strict_accuracy: 97.53\n",
      "Epoch 8: lr: 9.36e-04, iit_weight: 1.00e+00, behavior_weight: 4.00e-01, strict_weight: 4.00e-01, train/iit_loss: 4.98e-02, train/behavior_loss: 1.07e-02, train/strict_loss: 1.58e-02, val/iit_loss: 7.47e-02, val/IIA: 98.93, val/accuracy: 96.74, val/strict_accuracy: 97.51\n",
      "Epoch 9: lr: 9.28e-04, iit_weight: 1.00e+00, behavior_weight: 4.00e-01, strict_weight: 4.00e-01, train/iit_loss: 4.19e-02, train/behavior_loss: 1.05e-02, train/strict_loss: 1.03e-02, val/iit_loss: 6.60e-02, val/IIA: 97.46, val/accuracy: 99.97, val/strict_accuracy: 99.36\n",
      "Epoch 10: lr: 9.20e-04, iit_weight: 1.00e+00, behavior_weight: 4.00e-01, strict_weight: 4.00e-01, train/iit_loss: 4.08e-02, train/behavior_loss: 1.09e-02, train/strict_loss: 1.07e-02, val/iit_loss: 1.19e-01, val/IIA: 99.06, val/accuracy: 96.74, val/strict_accuracy: 97.61\n",
      "Epoch 11: lr: 9.12e-04, iit_weight: 1.00e+00, behavior_weight: 4.00e-01, strict_weight: 4.00e-01, train/iit_loss: 3.27e-02, train/behavior_loss: 1.01e-02, train/strict_loss: 8.73e-03, val/iit_loss: 7.00e-02, val/IIA: 97.53, val/accuracy: 99.99, val/strict_accuracy: 99.64\n",
      "Epoch 12: lr: 9.04e-04, iit_weight: 1.00e+00, behavior_weight: 4.00e-01, strict_weight: 4.00e-01, train/iit_loss: 3.82e-02, train/behavior_loss: 1.09e-02, train/strict_loss: 8.43e-03, val/iit_loss: 5.70e-02, val/IIA: 99.34, val/accuracy: 96.73, val/strict_accuracy: 97.67\n",
      "Epoch 13: lr: 8.96e-04, iit_weight: 1.00e+00, behavior_weight: 4.00e-01, strict_weight: 4.00e-01, train/iit_loss: 3.87e-02, train/behavior_loss: 1.11e-02, train/strict_loss: 8.43e-03, val/iit_loss: 8.01e-02, val/IIA: 99.19, val/accuracy: 96.74, val/strict_accuracy: 97.55\n",
      "Epoch 14: lr: 8.88e-04, iit_weight: 1.00e+00, behavior_weight: 4.00e-01, strict_weight: 4.00e-01, train/iit_loss: 3.75e-02, train/behavior_loss: 1.10e-02, train/strict_loss: 7.43e-03, val/iit_loss: 7.14e-02, val/IIA: 99.35, val/accuracy: 96.73, val/strict_accuracy: 97.25\n",
      "Epoch 15: lr: 8.80e-04, iit_weight: 1.00e+00, behavior_weight: 4.00e-01, strict_weight: 4.00e-01, train/iit_loss: 2.74e-02, train/behavior_loss: 1.10e-02, train/strict_loss: 7.44e-03, val/iit_loss: 6.64e-02, val/IIA: 99.14, val/accuracy: 96.74, val/strict_accuracy: 98.20\n",
      "Epoch 16: lr: 8.72e-04, iit_weight: 1.00e+00, behavior_weight: 4.00e-01, strict_weight: 4.00e-01, train/iit_loss: 2.54e-02, train/behavior_loss: 1.01e-02, train/strict_loss: 6.28e-03, val/iit_loss: 6.75e-02, val/IIA: 99.49, val/accuracy: 96.74, val/strict_accuracy: 97.84\n",
      "Epoch 17: lr: 8.64e-04, iit_weight: 1.00e+00, behavior_weight: 4.00e-01, strict_weight: 4.00e-01, train/iit_loss: 2.46e-02, train/behavior_loss: 1.04e-02, train/strict_loss: 6.41e-03, val/iit_loss: 6.55e-02, val/IIA: 99.46, val/accuracy: 96.75, val/strict_accuracy: 97.83\n",
      "Epoch 18: lr: 8.56e-04, iit_weight: 1.00e+00, behavior_weight: 4.00e-01, strict_weight: 4.00e-01, train/iit_loss: 2.82e-02, train/behavior_loss: 1.01e-02, train/strict_loss: 5.93e-03, val/iit_loss: 9.27e-02, val/IIA: 99.21, val/accuracy: 96.75, val/strict_accuracy: 98.25\n",
      "Epoch 19: lr: 8.48e-04, iit_weight: 1.00e+00, behavior_weight: 4.00e-01, strict_weight: 4.00e-01, train/iit_loss: 2.49e-02, train/behavior_loss: 1.05e-02, train/strict_loss: 5.82e-03, val/iit_loss: 6.53e-02, val/IIA: 97.69, val/accuracy: 100.00, val/strict_accuracy: 99.87\n",
      "Epoch 20: lr: 8.40e-04, iit_weight: 1.00e+00, behavior_weight: 4.00e-01, strict_weight: 4.00e-01, train/iit_loss: 2.98e-02, train/behavior_loss: 1.04e-02, train/strict_loss: 5.02e-03, val/iit_loss: 8.84e-02, val/IIA: 97.61, val/accuracy: 100.00, val/strict_accuracy: 99.88\n",
      "Epoch 21: lr: 8.32e-04, iit_weight: 1.00e+00, behavior_weight: 4.00e-01, strict_weight: 4.00e-01, train/iit_loss: 2.42e-02, train/behavior_loss: 1.01e-02, train/strict_loss: 5.02e-03, val/iit_loss: 6.80e-02, val/IIA: 99.53, val/accuracy: 96.74, val/strict_accuracy: 98.17\n",
      "Epoch 22: lr: 8.24e-04, iit_weight: 1.00e+00, behavior_weight: 4.00e-01, strict_weight: 4.00e-01, train/iit_loss: 2.80e-02, train/behavior_loss: 1.01e-02, train/strict_loss: 5.14e-03, val/iit_loss: 5.60e-02, val/IIA: 99.56, val/accuracy: 96.73, val/strict_accuracy: 98.19\n",
      "Epoch 23: lr: 8.16e-04, iit_weight: 1.00e+00, behavior_weight: 4.00e-01, strict_weight: 4.00e-01, train/iit_loss: 2.60e-02, train/behavior_loss: 9.99e-03, train/strict_loss: 4.64e-03, val/iit_loss: 5.30e-02, val/IIA: 99.65, val/accuracy: 96.75, val/strict_accuracy: 97.88\n",
      "Epoch 24: lr: 8.08e-04, iit_weight: 1.00e+00, behavior_weight: 4.00e-01, strict_weight: 4.00e-01, train/iit_loss: 2.52e-02, train/behavior_loss: 1.06e-02, train/strict_loss: 4.93e-03, val/iit_loss: 5.70e-02, val/IIA: 97.63, val/accuracy: 100.00, val/strict_accuracy: 99.91\n",
      "Epoch 25: lr: 8.00e-04, iit_weight: 1.00e+00, behavior_weight: 4.00e-01, strict_weight: 4.00e-01, train/iit_loss: 2.47e-02, train/behavior_loss: 1.05e-02, train/strict_loss: 4.62e-03, val/iit_loss: 6.48e-02, val/IIA: 99.64, val/accuracy: 96.75, val/strict_accuracy: 98.25\n",
      "Epoch 26: lr: 7.92e-04, iit_weight: 1.00e+00, behavior_weight: 4.00e-01, strict_weight: 4.00e-01, train/iit_loss: 2.15e-02, train/behavior_loss: 1.05e-02, train/strict_loss: 4.10e-03, val/iit_loss: 6.41e-02, val/IIA: 97.72, val/accuracy: 100.00, val/strict_accuracy: 99.90\n",
      "Epoch 27: lr: 7.84e-04, iit_weight: 1.00e+00, behavior_weight: 4.00e-01, strict_weight: 4.00e-01, train/iit_loss: 2.43e-02, train/behavior_loss: 1.03e-02, train/strict_loss: 4.72e-03, val/iit_loss: 6.08e-02, val/IIA: 97.76, val/accuracy: 100.00, val/strict_accuracy: 99.94\n",
      "Epoch 28: lr: 7.76e-04, iit_weight: 1.00e+00, behavior_weight: 4.00e-01, strict_weight: 4.00e-01, train/iit_loss: 2.65e-02, train/behavior_loss: 9.71e-03, train/strict_loss: 3.89e-03, val/iit_loss: 1.33e-01, val/IIA: 99.05, val/accuracy: 96.75, val/strict_accuracy: 97.87\n",
      "Epoch 29: lr: 7.68e-04, iit_weight: 1.00e+00, behavior_weight: 4.00e-01, strict_weight: 4.00e-01, train/iit_loss: 2.19e-02, train/behavior_loss: 1.04e-02, train/strict_loss: 4.02e-03, val/iit_loss: 5.23e-02, val/IIA: 97.84, val/accuracy: 100.00, val/strict_accuracy: 99.95\n",
      "Epoch 30: lr: 7.60e-04, iit_weight: 1.00e+00, behavior_weight: 4.00e-01, strict_weight: 4.00e-01, train/iit_loss: 3.33e-02, train/behavior_loss: 1.04e-02, train/strict_loss: 4.13e-03, val/iit_loss: 7.95e-02, val/IIA: 99.50, val/accuracy: 96.75, val/strict_accuracy: 98.12\n",
      "Epoch 31: lr: 7.52e-04, iit_weight: 1.00e+00, behavior_weight: 4.00e-01, strict_weight: 4.00e-01, train/iit_loss: 2.39e-02, train/behavior_loss: 1.01e-02, train/strict_loss: 4.26e-03, val/iit_loss: 4.96e-02, val/IIA: 99.57, val/accuracy: 96.75, val/strict_accuracy: 98.30\n",
      "Epoch 32: lr: 7.44e-04, iit_weight: 1.00e+00, behavior_weight: 4.00e-01, strict_weight: 4.00e-01, train/iit_loss: 2.14e-02, train/behavior_loss: 9.95e-03, train/strict_loss: 4.00e-03, val/iit_loss: 4.90e-02, val/IIA: 99.69, val/accuracy: 96.75, val/strict_accuracy: 98.04\n",
      "Epoch 33: lr: 7.36e-04, iit_weight: 1.00e+00, behavior_weight: 4.00e-01, strict_weight: 4.00e-01, train/iit_loss: 2.15e-02, train/behavior_loss: 9.52e-03, train/strict_loss: 3.40e-03, val/iit_loss: 5.25e-02, val/IIA: 97.82, val/accuracy: 100.00, val/strict_accuracy: 99.93\n",
      "Epoch 34: lr: 7.28e-04, iit_weight: 1.00e+00, behavior_weight: 4.00e-01, strict_weight: 4.00e-01, train/iit_loss: 2.04e-02, train/behavior_loss: 1.01e-02, train/strict_loss: 3.47e-03, val/iit_loss: 5.25e-02, val/IIA: 99.67, val/accuracy: 96.74, val/strict_accuracy: 98.25\n",
      "Epoch 35: lr: 7.20e-04, iit_weight: 1.00e+00, behavior_weight: 4.00e-01, strict_weight: 4.00e-01, train/iit_loss: 2.07e-02, train/behavior_loss: 9.49e-03, train/strict_loss: 3.34e-03, val/iit_loss: 4.93e-02, val/IIA: 99.71, val/accuracy: 96.75, val/strict_accuracy: 97.78\n",
      "Epoch 36: lr: 7.12e-04, iit_weight: 1.00e+00, behavior_weight: 4.00e-01, strict_weight: 4.00e-01, train/iit_loss: 2.07e-02, train/behavior_loss: 1.05e-02, train/strict_loss: 3.58e-03, val/iit_loss: 5.07e-02, val/IIA: 99.55, val/accuracy: 96.74, val/strict_accuracy: 97.76\n"
     ]
    }
   ],
   "source": [
    "ll_model = poly_hl_model.get_ll_model()\n",
    "corr = poly_hl_model.get_correspondence()\n",
    "for k, v in corr.items():\n",
    "    print(k, v)\n",
    "train_set, test_set = poly_dataset.get_IIT_train_test_set()\n",
    "model_pair = StrictIITModelPair(hl_model=poly_hl_model, ll_model=ll_model, corr=corr, training_args=training_args)\n",
    "print(model_pair.nodes_not_in_circuit)\n",
    "model_pair.train(\n",
    "    train_set=train_set,\n",
    "    test_set=test_set,\n",
    "    optimizer_cls=torch.optim.Adam,\n",
    "    epochs=n_epochs,\n",
    "    # optimizer_kwargs=dict(weight_decay=1e-4),\n",
    ")"
   ]
  },
  {
   "cell_type": "code",
   "execution_count": null,
   "metadata": {},
   "outputs": [],
   "source": [
    "\n",
    "save_poly_model_to_dir(ll_model, poly_hl_model, f\"./saved_poly_models/cases_1+2+3\")"
   ]
  },
  {
   "cell_type": "markdown",
   "metadata": {},
   "source": [
    "# (0) DuplicateRemover + (1) LeftGreater + (2) ParenChecker + (3) UniqueExtractor "
   ]
  },
  {
   "cell_type": "code",
   "execution_count": null,
   "metadata": {},
   "outputs": [],
   "source": [
    "cases = [Case0, Case1, Case2, Case3]\n",
    "poly_hl_model = PolyHLModel(hl_classes=cases, size_expansion=1)\n",
    "corr = poly_hl_model.get_correspondence()\n",
    "for k, v in corr.items():\n",
    "    print(k, v)\n",
    "\n",
    "print()\n",
    "for k, v in poly_hl_model.corr_mapping.items():\n",
    "    print(k, v)\n",
    "\n",
    "dataset_cases = [dataset_mapping[case] for case in cases]\n",
    "dsets = [dsetcase(N_samples=n_samples, n_ctx=n_ctx, seed=seed) for dsetcase in dataset_cases]\n",
    "poly_dataset = PolyModelDataset(dsets, n_ctx=poly_hl_model.cfg.n_ctx)"
   ]
  },
  {
   "cell_type": "code",
   "execution_count": null,
   "metadata": {},
   "outputs": [
    {
     "name": "stdout",
     "output_type": "stream",
     "text": [
      "input_hook {LLNode(name='blocks.0.hook_resid_pre', index=[:], subspace=None)}\n",
      "mlp_hooks.0 {LLNode(name='blocks.0.mlp.hook_post', index=[:], subspace=None)}\n",
      "attn_hooks.0.0 {LLNode(name='blocks.0.attn.hook_z', index=[:, :, 0, :], subspace=None)}\n",
      "task_hook {LLNode(name='blocks.0.attn.hook_z', index=[:, :, 1, :], subspace=None)}\n",
      "attn_hooks.0.2 {LLNode(name='blocks.0.attn.hook_z', index=[:, :, 2, :], subspace=None)}\n",
      "mlp_hooks.1 {LLNode(name='blocks.1.mlp.hook_post', index=[:], subspace=None)}\n",
      "mlp_hooks.2 {LLNode(name='blocks.2.mlp.hook_post', index=[:], subspace=None)}\n",
      "[LLNode(name='blocks.0.attn.hook_z', index=[:, :, 3, :], subspace=None), LLNode(name='blocks.1.attn.hook_z', index=[:, :, 0, :], subspace=None), LLNode(name='blocks.1.attn.hook_z', index=[:, :, 1, :], subspace=None), LLNode(name='blocks.1.attn.hook_z', index=[:, :, 2, :], subspace=None), LLNode(name='blocks.1.attn.hook_z', index=[:, :, 3, :], subspace=None), LLNode(name='blocks.2.attn.hook_z', index=[:, :, 0, :], subspace=None), LLNode(name='blocks.2.attn.hook_z', index=[:, :, 1, :], subspace=None), LLNode(name='blocks.2.attn.hook_z', index=[:, :, 2, :], subspace=None), LLNode(name='blocks.2.attn.hook_z', index=[:, :, 3, :], subspace=None)]\n",
      "training_args={'batch_size': 256, 'num_workers': 0, 'early_stop': True, 'lr_scheduler': <class 'torch.optim.lr_scheduler.LinearLR'>, 'scheduler_val_metric': ['val/accuracy', 'val/IIA'], 'scheduler_mode': 'max', 'scheduler_kwargs': {'start_factor': 1, 'end_factor': 0.2, 'total_iters': 100}, 'optimizer_kwargs': {'lr': 0.001, 'betas': (0.9, 0.9)}, 'clip_grad_norm': 1.0, 'seed': 42, 'detach_while_caching': True, 'lr': 0.001, 'atol': 0.05, 'use_single_loss': True, 'iit_weight': 1.0, 'behavior_weight': 0.4, 'strict_weight': 0.4, 'siit_sampling': 'sample_all', 'iit_weight_schedule': <function <lambda> at 0x164a5f740>, 'strict_weight_schedule': <function <lambda> at 0x164f327a0>, 'behavior_weight_schedule': <function <lambda> at 0x164f31da0>}\n"
     ]
    },
    {
     "data": {
      "application/vnd.jupyter.widget-view+json": {
       "model_id": "26520af7a191485db2586368a2e50dce",
       "version_major": 2,
       "version_minor": 0
      },
      "text/plain": [
       "Training Epochs:   0%|          | 0/100 [00:00<?, ?it/s]"
      ]
     },
     "metadata": {},
     "output_type": "display_data"
    },
    {
     "data": {
      "application/vnd.jupyter.widget-view+json": {
       "model_id": "9e51bf21cb9942dc89687235aee3a8f2",
       "version_major": 2,
       "version_minor": 0
      },
      "text/plain": [
       "Training Batches:   0%|          | 0/63 [00:00<?, ?it/s]"
      ]
     },
     "metadata": {},
     "output_type": "display_data"
    },
    {
     "name": "stdout",
     "output_type": "stream",
     "text": [
      "Epoch 1: lr: 9.92e-04, iit_weight: 1.00e+00, behavior_weight: 4.00e-01, strict_weight: 4.00e-01, train/iit_loss: 7.06e-01, train/behavior_loss: 2.14e-01, train/strict_loss: 9.88e-02, val/iit_loss: 4.96e-01, val/IIA: 81.89, val/accuracy: 86.72, val/strict_accuracy: 86.84\n",
      "Epoch 2: lr: 9.84e-04, iit_weight: 1.00e+00, behavior_weight: 4.00e-01, strict_weight: 4.00e-01, train/iit_loss: 3.54e-01, train/behavior_loss: 8.13e-02, train/strict_loss: 5.61e-02, val/iit_loss: 4.51e-01, val/IIA: 88.03, val/accuracy: 97.54, val/strict_accuracy: 95.17\n",
      "Epoch 3: lr: 9.76e-04, iit_weight: 1.00e+00, behavior_weight: 4.00e-01, strict_weight: 4.00e-01, train/iit_loss: 2.02e-01, train/behavior_loss: 2.80e-02, train/strict_loss: 4.32e-02, val/iit_loss: 3.07e-01, val/IIA: 93.38, val/accuracy: 99.77, val/strict_accuracy: 97.99\n",
      "Epoch 4: lr: 9.68e-04, iit_weight: 1.00e+00, behavior_weight: 4.00e-01, strict_weight: 4.00e-01, train/iit_loss: 1.05e-01, train/behavior_loss: 1.43e-02, train/strict_loss: 3.91e-02, val/iit_loss: 2.62e-01, val/IIA: 97.21, val/accuracy: 96.72, val/strict_accuracy: 96.86\n",
      "Epoch 5: lr: 9.60e-04, iit_weight: 1.00e+00, behavior_weight: 4.00e-01, strict_weight: 4.00e-01, train/iit_loss: 6.77e-02, train/behavior_loss: 1.21e-02, train/strict_loss: 3.44e-02, val/iit_loss: 1.61e-01, val/IIA: 96.06, val/accuracy: 99.97, val/strict_accuracy: 98.78\n",
      "Epoch 6: lr: 9.52e-04, iit_weight: 1.00e+00, behavior_weight: 4.00e-01, strict_weight: 4.00e-01, train/iit_loss: 7.85e-02, train/behavior_loss: 1.21e-02, train/strict_loss: 2.76e-02, val/iit_loss: 1.04e-01, val/IIA: 98.45, val/accuracy: 96.73, val/strict_accuracy: 97.14\n",
      "Epoch 7: lr: 9.44e-04, iit_weight: 1.00e+00, behavior_weight: 4.00e-01, strict_weight: 4.00e-01, train/iit_loss: 5.92e-02, train/behavior_loss: 1.17e-02, train/strict_loss: 1.98e-02, val/iit_loss: 8.43e-02, val/IIA: 98.80, val/accuracy: 96.73, val/strict_accuracy: 97.53\n",
      "Epoch 8: lr: 9.36e-04, iit_weight: 1.00e+00, behavior_weight: 4.00e-01, strict_weight: 4.00e-01, train/iit_loss: 4.98e-02, train/behavior_loss: 1.07e-02, train/strict_loss: 1.58e-02, val/iit_loss: 7.47e-02, val/IIA: 98.93, val/accuracy: 96.74, val/strict_accuracy: 97.51\n",
      "Epoch 9: lr: 9.28e-04, iit_weight: 1.00e+00, behavior_weight: 4.00e-01, strict_weight: 4.00e-01, train/iit_loss: 4.19e-02, train/behavior_loss: 1.05e-02, train/strict_loss: 1.03e-02, val/iit_loss: 6.60e-02, val/IIA: 97.46, val/accuracy: 99.97, val/strict_accuracy: 99.36\n",
      "Epoch 10: lr: 9.20e-04, iit_weight: 1.00e+00, behavior_weight: 4.00e-01, strict_weight: 4.00e-01, train/iit_loss: 4.08e-02, train/behavior_loss: 1.09e-02, train/strict_loss: 1.07e-02, val/iit_loss: 1.19e-01, val/IIA: 99.06, val/accuracy: 96.74, val/strict_accuracy: 97.61\n",
      "Epoch 11: lr: 9.12e-04, iit_weight: 1.00e+00, behavior_weight: 4.00e-01, strict_weight: 4.00e-01, train/iit_loss: 3.27e-02, train/behavior_loss: 1.01e-02, train/strict_loss: 8.73e-03, val/iit_loss: 7.00e-02, val/IIA: 97.53, val/accuracy: 99.99, val/strict_accuracy: 99.64\n",
      "Epoch 12: lr: 9.04e-04, iit_weight: 1.00e+00, behavior_weight: 4.00e-01, strict_weight: 4.00e-01, train/iit_loss: 3.82e-02, train/behavior_loss: 1.09e-02, train/strict_loss: 8.43e-03, val/iit_loss: 5.70e-02, val/IIA: 99.34, val/accuracy: 96.73, val/strict_accuracy: 97.67\n",
      "Epoch 13: lr: 8.96e-04, iit_weight: 1.00e+00, behavior_weight: 4.00e-01, strict_weight: 4.00e-01, train/iit_loss: 3.87e-02, train/behavior_loss: 1.11e-02, train/strict_loss: 8.43e-03, val/iit_loss: 8.01e-02, val/IIA: 99.19, val/accuracy: 96.74, val/strict_accuracy: 97.55\n",
      "Epoch 14: lr: 8.88e-04, iit_weight: 1.00e+00, behavior_weight: 4.00e-01, strict_weight: 4.00e-01, train/iit_loss: 3.75e-02, train/behavior_loss: 1.10e-02, train/strict_loss: 7.43e-03, val/iit_loss: 7.14e-02, val/IIA: 99.35, val/accuracy: 96.73, val/strict_accuracy: 97.25\n",
      "Epoch 15: lr: 8.80e-04, iit_weight: 1.00e+00, behavior_weight: 4.00e-01, strict_weight: 4.00e-01, train/iit_loss: 2.74e-02, train/behavior_loss: 1.10e-02, train/strict_loss: 7.44e-03, val/iit_loss: 6.64e-02, val/IIA: 99.14, val/accuracy: 96.74, val/strict_accuracy: 98.20\n",
      "Epoch 16: lr: 8.72e-04, iit_weight: 1.00e+00, behavior_weight: 4.00e-01, strict_weight: 4.00e-01, train/iit_loss: 2.54e-02, train/behavior_loss: 1.01e-02, train/strict_loss: 6.28e-03, val/iit_loss: 6.75e-02, val/IIA: 99.49, val/accuracy: 96.74, val/strict_accuracy: 97.84\n",
      "Epoch 17: lr: 8.64e-04, iit_weight: 1.00e+00, behavior_weight: 4.00e-01, strict_weight: 4.00e-01, train/iit_loss: 2.46e-02, train/behavior_loss: 1.04e-02, train/strict_loss: 6.41e-03, val/iit_loss: 6.55e-02, val/IIA: 99.46, val/accuracy: 96.75, val/strict_accuracy: 97.83\n",
      "Epoch 18: lr: 8.56e-04, iit_weight: 1.00e+00, behavior_weight: 4.00e-01, strict_weight: 4.00e-01, train/iit_loss: 2.82e-02, train/behavior_loss: 1.01e-02, train/strict_loss: 5.93e-03, val/iit_loss: 9.27e-02, val/IIA: 99.21, val/accuracy: 96.75, val/strict_accuracy: 98.25\n",
      "Epoch 19: lr: 8.48e-04, iit_weight: 1.00e+00, behavior_weight: 4.00e-01, strict_weight: 4.00e-01, train/iit_loss: 2.49e-02, train/behavior_loss: 1.05e-02, train/strict_loss: 5.82e-03, val/iit_loss: 6.53e-02, val/IIA: 97.69, val/accuracy: 100.00, val/strict_accuracy: 99.87\n",
      "Epoch 20: lr: 8.40e-04, iit_weight: 1.00e+00, behavior_weight: 4.00e-01, strict_weight: 4.00e-01, train/iit_loss: 2.98e-02, train/behavior_loss: 1.04e-02, train/strict_loss: 5.02e-03, val/iit_loss: 8.84e-02, val/IIA: 97.61, val/accuracy: 100.00, val/strict_accuracy: 99.88\n",
      "Epoch 21: lr: 8.32e-04, iit_weight: 1.00e+00, behavior_weight: 4.00e-01, strict_weight: 4.00e-01, train/iit_loss: 2.42e-02, train/behavior_loss: 1.01e-02, train/strict_loss: 5.02e-03, val/iit_loss: 6.80e-02, val/IIA: 99.53, val/accuracy: 96.74, val/strict_accuracy: 98.17\n",
      "Epoch 22: lr: 8.24e-04, iit_weight: 1.00e+00, behavior_weight: 4.00e-01, strict_weight: 4.00e-01, train/iit_loss: 2.80e-02, train/behavior_loss: 1.01e-02, train/strict_loss: 5.14e-03, val/iit_loss: 5.60e-02, val/IIA: 99.56, val/accuracy: 96.73, val/strict_accuracy: 98.19\n",
      "Epoch 23: lr: 8.16e-04, iit_weight: 1.00e+00, behavior_weight: 4.00e-01, strict_weight: 4.00e-01, train/iit_loss: 2.60e-02, train/behavior_loss: 9.99e-03, train/strict_loss: 4.64e-03, val/iit_loss: 5.30e-02, val/IIA: 99.65, val/accuracy: 96.75, val/strict_accuracy: 97.88\n",
      "Epoch 24: lr: 8.08e-04, iit_weight: 1.00e+00, behavior_weight: 4.00e-01, strict_weight: 4.00e-01, train/iit_loss: 2.52e-02, train/behavior_loss: 1.06e-02, train/strict_loss: 4.93e-03, val/iit_loss: 5.70e-02, val/IIA: 97.63, val/accuracy: 100.00, val/strict_accuracy: 99.91\n",
      "Epoch 25: lr: 8.00e-04, iit_weight: 1.00e+00, behavior_weight: 4.00e-01, strict_weight: 4.00e-01, train/iit_loss: 2.47e-02, train/behavior_loss: 1.05e-02, train/strict_loss: 4.62e-03, val/iit_loss: 6.48e-02, val/IIA: 99.64, val/accuracy: 96.75, val/strict_accuracy: 98.25\n",
      "Epoch 26: lr: 7.92e-04, iit_weight: 1.00e+00, behavior_weight: 4.00e-01, strict_weight: 4.00e-01, train/iit_loss: 2.15e-02, train/behavior_loss: 1.05e-02, train/strict_loss: 4.10e-03, val/iit_loss: 6.41e-02, val/IIA: 97.72, val/accuracy: 100.00, val/strict_accuracy: 99.90\n",
      "Epoch 27: lr: 7.84e-04, iit_weight: 1.00e+00, behavior_weight: 4.00e-01, strict_weight: 4.00e-01, train/iit_loss: 2.43e-02, train/behavior_loss: 1.03e-02, train/strict_loss: 4.72e-03, val/iit_loss: 6.08e-02, val/IIA: 97.76, val/accuracy: 100.00, val/strict_accuracy: 99.94\n",
      "Epoch 28: lr: 7.76e-04, iit_weight: 1.00e+00, behavior_weight: 4.00e-01, strict_weight: 4.00e-01, train/iit_loss: 2.65e-02, train/behavior_loss: 9.71e-03, train/strict_loss: 3.89e-03, val/iit_loss: 1.33e-01, val/IIA: 99.05, val/accuracy: 96.75, val/strict_accuracy: 97.87\n",
      "Epoch 29: lr: 7.68e-04, iit_weight: 1.00e+00, behavior_weight: 4.00e-01, strict_weight: 4.00e-01, train/iit_loss: 2.19e-02, train/behavior_loss: 1.04e-02, train/strict_loss: 4.02e-03, val/iit_loss: 5.23e-02, val/IIA: 97.84, val/accuracy: 100.00, val/strict_accuracy: 99.95\n",
      "Epoch 30: lr: 7.60e-04, iit_weight: 1.00e+00, behavior_weight: 4.00e-01, strict_weight: 4.00e-01, train/iit_loss: 3.33e-02, train/behavior_loss: 1.04e-02, train/strict_loss: 4.13e-03, val/iit_loss: 7.95e-02, val/IIA: 99.50, val/accuracy: 96.75, val/strict_accuracy: 98.12\n",
      "Epoch 31: lr: 7.52e-04, iit_weight: 1.00e+00, behavior_weight: 4.00e-01, strict_weight: 4.00e-01, train/iit_loss: 2.39e-02, train/behavior_loss: 1.01e-02, train/strict_loss: 4.26e-03, val/iit_loss: 4.96e-02, val/IIA: 99.57, val/accuracy: 96.75, val/strict_accuracy: 98.30\n",
      "Epoch 32: lr: 7.44e-04, iit_weight: 1.00e+00, behavior_weight: 4.00e-01, strict_weight: 4.00e-01, train/iit_loss: 2.14e-02, train/behavior_loss: 9.95e-03, train/strict_loss: 4.00e-03, val/iit_loss: 4.90e-02, val/IIA: 99.69, val/accuracy: 96.75, val/strict_accuracy: 98.04\n",
      "Epoch 33: lr: 7.36e-04, iit_weight: 1.00e+00, behavior_weight: 4.00e-01, strict_weight: 4.00e-01, train/iit_loss: 2.15e-02, train/behavior_loss: 9.52e-03, train/strict_loss: 3.40e-03, val/iit_loss: 5.25e-02, val/IIA: 97.82, val/accuracy: 100.00, val/strict_accuracy: 99.93\n",
      "Epoch 34: lr: 7.28e-04, iit_weight: 1.00e+00, behavior_weight: 4.00e-01, strict_weight: 4.00e-01, train/iit_loss: 2.04e-02, train/behavior_loss: 1.01e-02, train/strict_loss: 3.47e-03, val/iit_loss: 5.25e-02, val/IIA: 99.67, val/accuracy: 96.74, val/strict_accuracy: 98.25\n",
      "Epoch 35: lr: 7.20e-04, iit_weight: 1.00e+00, behavior_weight: 4.00e-01, strict_weight: 4.00e-01, train/iit_loss: 2.07e-02, train/behavior_loss: 9.49e-03, train/strict_loss: 3.34e-03, val/iit_loss: 4.93e-02, val/IIA: 99.71, val/accuracy: 96.75, val/strict_accuracy: 97.78\n",
      "Epoch 36: lr: 7.12e-04, iit_weight: 1.00e+00, behavior_weight: 4.00e-01, strict_weight: 4.00e-01, train/iit_loss: 2.07e-02, train/behavior_loss: 1.05e-02, train/strict_loss: 3.58e-03, val/iit_loss: 5.07e-02, val/IIA: 99.55, val/accuracy: 96.74, val/strict_accuracy: 97.76\n"
     ]
    }
   ],
   "source": [
    "ll_model = poly_hl_model.get_ll_model()\n",
    "corr = poly_hl_model.get_correspondence()\n",
    "for k, v in corr.items():\n",
    "    print(k, v)\n",
    "train_set, test_set = poly_dataset.get_IIT_train_test_set()\n",
    "model_pair = StrictIITModelPair(hl_model=poly_hl_model, ll_model=ll_model, corr=corr, training_args=training_args)\n",
    "print(model_pair.nodes_not_in_circuit)\n",
    "model_pair.train(\n",
    "    train_set=train_set,\n",
    "    test_set=test_set,\n",
    "    optimizer_cls=torch.optim.Adam,\n",
    "    epochs=n_epochs,\n",
    "    # optimizer_kwargs=dict(weight_decay=1e-4),\n",
    ")"
   ]
  },
  {
   "cell_type": "code",
   "execution_count": null,
   "metadata": {},
   "outputs": [],
   "source": [
    "\n",
    "save_poly_model_to_dir(ll_model, poly_hl_model, f\"./saved_poly_models/cases_0+1+2+3\")"
   ]
  }
 ],
 "metadata": {
  "kernelspec": {
   "display_name": "circuits_bench",
   "language": "python",
   "name": "python3"
  },
  "language_info": {
   "codemirror_mode": {
    "name": "ipython",
    "version": 3
   },
   "file_extension": ".py",
   "mimetype": "text/x-python",
   "name": "python",
   "nbconvert_exporter": "python",
   "pygments_lexer": "ipython3",
   "version": "3.12.5"
  }
 },
 "nbformat": 4,
 "nbformat_minor": 2
}
