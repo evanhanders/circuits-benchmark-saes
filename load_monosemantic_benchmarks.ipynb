{
 "cells": [
  {
   "cell_type": "code",
   "execution_count": 1,
   "metadata": {},
   "outputs": [],
   "source": [
    "%load_ext autoreload\n",
    "%autoreload 2"
   ]
  },
  {
   "cell_type": "code",
   "execution_count": 2,
   "metadata": {},
   "outputs": [],
   "source": [
    "import torch\n",
    "from poly_bench.cases import HighLevelDuplicateRemover, HighLevelLeftGreater, HighLevelParensBalanceChecker, HighLevelUniqueExtractor\n",
    "from poly_bench.io import load_from_hf\n",
    "\n",
    "n_samples = 10_000\n",
    "n_ctx = 15"
   ]
  },
  {
   "cell_type": "markdown",
   "metadata": {},
   "source": [
    "# Paren Checker"
   ]
  },
  {
   "cell_type": "code",
   "execution_count": 3,
   "metadata": {},
   "outputs": [
    {
     "name": "stdout",
     "output_type": "stream",
     "text": [
      "parens_checker_model/model.safetensors\n"
     ]
    }
   ],
   "source": [
    "ll_model, hl_model, dset_class = load_from_hf(model_name=str(HighLevelParensBalanceChecker()))"
   ]
  },
  {
   "cell_type": "code",
   "execution_count": 8,
   "metadata": {},
   "outputs": [],
   "source": [
    "dataset = dset_class(N_samples=n_samples, n_ctx=n_ctx).get_dataset()\n",
    "inputs = torch.tensor(dataset['tokens'], dtype=torch.long)\n",
    "labels = torch.tensor(dataset['labels'])\n",
    "ll_output = ll_model(inputs)\n",
    "hl_output = hl_model((inputs, None, None))\n",
    "assert torch.allclose(hl_output, labels.to(hl_output.device))\n",
    "assert torch.allclose(torch.argmax(hl_output, dim=-1), torch.argmax(ll_output, dim=-1))"
   ]
  },
  {
   "cell_type": "markdown",
   "metadata": {},
   "source": [
    "# Left > Right"
   ]
  },
  {
   "cell_type": "code",
   "execution_count": 9,
   "metadata": {},
   "outputs": [
    {
     "data": {
      "application/vnd.jupyter.widget-view+json": {
       "model_id": "9b4c8b85b1ba4060a9fcd8cffb7168c1",
       "version_major": 2,
       "version_minor": 0
      },
      "text/plain": [
       "model.safetensors:   0%|          | 0.00/161k [00:00<?, ?B/s]"
      ]
     },
     "metadata": {},
     "output_type": "display_data"
    },
    {
     "data": {
      "application/vnd.jupyter.widget-view+json": {
       "model_id": "7eceb5ce21a842edb9485c72bc812866",
       "version_major": 2,
       "version_minor": 0
      },
      "text/plain": [
       "unique_extractor_model/config.yaml:   0%|          | 0.00/77.0 [00:00<?, ?B/s]"
      ]
     },
     "metadata": {},
     "output_type": "display_data"
    }
   ],
   "source": [
    "ll_model, hl_model, dset_class = load_from_hf(model_name=str(HighLevelUniqueExtractor()))"
   ]
  },
  {
   "cell_type": "code",
   "execution_count": 10,
   "metadata": {},
   "outputs": [],
   "source": [
    "dataset = dset_class(N_samples=n_samples, n_ctx=n_ctx).get_dataset()\n",
    "inputs = torch.tensor(dataset['tokens'], dtype=torch.long)\n",
    "labels = torch.tensor(dataset['labels'])\n",
    "ll_output = ll_model(inputs)\n",
    "hl_output = hl_model((inputs, None, None))\n",
    "assert torch.allclose(hl_output, labels.to(hl_output.device))\n",
    "assert torch.allclose(torch.argmax(hl_output, dim=-1), torch.argmax(ll_output, dim=-1))"
   ]
  },
  {
   "cell_type": "markdown",
   "metadata": {},
   "source": [
    "# Duplicate remover\n",
    "case 19 in circuits-bench"
   ]
  },
  {
   "cell_type": "code",
   "execution_count": 11,
   "metadata": {},
   "outputs": [
    {
     "data": {
      "application/vnd.jupyter.widget-view+json": {
       "model_id": "187ab0e36eec4a33a54be9a88eaa0c9e",
       "version_major": 2,
       "version_minor": 0
      },
      "text/plain": [
       "model.safetensors:   0%|          | 0.00/46.4k [00:00<?, ?B/s]"
      ]
     },
     "metadata": {},
     "output_type": "display_data"
    },
    {
     "data": {
      "application/vnd.jupyter.widget-view+json": {
       "model_id": "7415a53462b04768a5e1fead308d0888",
       "version_major": 2,
       "version_minor": 0
      },
      "text/plain": [
       "duplicate_remover_model/config.yaml:   0%|          | 0.00/77.0 [00:00<?, ?B/s]"
      ]
     },
     "metadata": {},
     "output_type": "display_data"
    }
   ],
   "source": [
    "ll_model, hl_model, dset_class = load_from_hf(model_name=str(HighLevelDuplicateRemover()))"
   ]
  },
  {
   "cell_type": "code",
   "execution_count": 12,
   "metadata": {},
   "outputs": [],
   "source": [
    "dataset = dset_class(N_samples=n_samples, n_ctx=n_ctx).get_dataset()\n",
    "inputs = torch.tensor(dataset['tokens'], dtype=torch.long)\n",
    "labels = torch.tensor(dataset['labels'])\n",
    "ll_output = ll_model(inputs)\n",
    "hl_output = hl_model((inputs, None, None))\n",
    "assert torch.allclose(hl_output, labels.to(hl_output.device))\n",
    "assert torch.allclose(torch.argmax(hl_output, dim=-1), torch.argmax(ll_output, dim=-1))"
   ]
  },
  {
   "cell_type": "markdown",
   "metadata": {},
   "source": [
    "# Unique Extractor"
   ]
  },
  {
   "cell_type": "code",
   "execution_count": 13,
   "metadata": {},
   "outputs": [],
   "source": [
    "ll_model, hl_model, dset_class = load_from_hf(model_name=str(HighLevelDuplicateRemover()))"
   ]
  },
  {
   "cell_type": "code",
   "execution_count": 14,
   "metadata": {},
   "outputs": [],
   "source": [
    "dataset = dset_class(N_samples=n_samples, n_ctx=n_ctx).get_dataset()\n",
    "inputs = torch.tensor(dataset['tokens'], dtype=torch.long)\n",
    "labels = torch.tensor(dataset['labels'])\n",
    "ll_output = ll_model(inputs)\n",
    "hl_output = hl_model((inputs, None, None))\n",
    "assert torch.allclose(hl_output, labels.to(hl_output.device))\n",
    "assert torch.allclose(torch.argmax(hl_output, dim=-1), torch.argmax(ll_output, dim=-1))"
   ]
  }
 ],
 "metadata": {
  "kernelspec": {
   "display_name": "circuits_bench",
   "language": "python",
   "name": "python3"
  },
  "language_info": {
   "codemirror_mode": {
    "name": "ipython",
    "version": 3
   },
   "file_extension": ".py",
   "mimetype": "text/x-python",
   "name": "python",
   "nbconvert_exporter": "python",
   "pygments_lexer": "ipython3",
   "version": "3.12.5"
  }
 },
 "nbformat": 4,
 "nbformat_minor": 2
}
