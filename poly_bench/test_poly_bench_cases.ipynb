{
 "cells": [
  {
   "cell_type": "code",
   "execution_count": 1,
   "metadata": {},
   "outputs": [],
   "source": [
    "%load_ext autoreload\n",
    "%autoreload 2"
   ]
  },
  {
   "cell_type": "markdown",
   "metadata": {},
   "source": [
    "# Paren Checker"
   ]
  },
  {
   "cell_type": "code",
   "execution_count": 2,
   "metadata": {},
   "outputs": [],
   "source": [
    "import torch\n",
    "from cases.paren_checker import HighLevelParensBalanceChecker, test_HL_parens_balancer_components, BalancedParensDataset"
   ]
  },
  {
   "cell_type": "code",
   "execution_count": 3,
   "metadata": {},
   "outputs": [
    {
     "name": "stdout",
     "output_type": "stream",
     "text": [
      "here\n",
      "All Balance tests passed!\n"
     ]
    },
    {
     "data": {
      "text/plain": [
       "True"
      ]
     },
     "execution_count": 3,
     "metadata": {},
     "output_type": "execute_result"
    }
   ],
   "source": [
    "test_HL_parens_balancer_components()"
   ]
  },
  {
   "cell_type": "code",
   "execution_count": 4,
   "metadata": {},
   "outputs": [
    {
     "name": "stdout",
     "output_type": "stream",
     "text": [
      "here\n",
      "making IIT dataset\n"
     ]
    }
   ],
   "source": [
    "hl_model = HighLevelParensBalanceChecker()\n",
    "corr = hl_model.get_correspondence()\n",
    "dataset = BalancedParensDataset(N_samples=5_000, n_ctx=hl_model.get_ll_model_cfg().n_ctx, seed=42)\n",
    "train_set, test_set = dataset.get_IIT_train_test_set()"
   ]
  },
  {
   "cell_type": "code",
   "execution_count": 5,
   "metadata": {},
   "outputs": [
    {
     "name": "stdout",
     "output_type": "stream",
     "text": [
      "(5000, 4)\n",
      "[[3, 0, 0, 0, 1, 0, 0, 0, 1, 0, 0, 0, 0, 0, 0, 0, 0, 0, 0, 0, 0], [3, 0, 0, 0, 1, 0, 0, 1, 0, 0, 0, 1, 0, 1, 0, 1, 1, 1, 1, 0, 0], [3, 1, 1, 1, 1, 0, 1, 1, 1, 1, 1, 1, 0, 1, 1, 1, 1, 1, 1, 1, 0], [3, 0, 1, 0, 0, 1, 0, 0, 1, 0, 1, 0, 0, 1, 1, 1, 1, 0, 0, 1, 1], [3, 1, 1, 1, 1, 1, 0, 1, 0, 0, 0, 0, 0, 1, 0, 0, 1, 1, 1, 1, 1], [3, 0, 1, 0, 0, 0, 1, 0, 1, 0, 1, 1, 0, 1, 0, 0, 1, 1, 1, 0, 1], [3, 1, 0, 1, 1, 0, 1, 0, 0, 1, 0, 0, 0, 1, 0, 0, 1, 0, 0, 0, 0], [3, 0, 1, 0, 0, 0, 1, 0, 0, 0, 0, 1, 0, 0, 0, 0, 0, 0, 0, 0, 0], [3, 1, 1, 1, 1, 0, 1, 1, 1, 0, 1, 1, 1, 1, 0, 1, 1, 1, 1, 1, 0], [3, 1, 0, 0, 1, 0, 0, 1, 1, 0, 0, 1, 0, 1, 1, 0, 0, 1, 1, 1, 0]]\n",
      "[[[0.0, 0.0, 1.0, 0.0], [1.0, 0.0, 0.0, 0.0], [1.0, 0.0, 0.0, 0.0], [1.0, 0.0, 0.0, 0.0], [1.0, 0.0, 0.0, 0.0], [1.0, 0.0, 0.0, 0.0], [1.0, 0.0, 0.0, 0.0], [1.0, 0.0, 0.0, 0.0], [1.0, 0.0, 0.0, 0.0], [1.0, 0.0, 0.0, 0.0], [1.0, 0.0, 0.0, 0.0], [1.0, 0.0, 0.0, 0.0], [1.0, 0.0, 0.0, 0.0], [1.0, 0.0, 0.0, 0.0], [1.0, 0.0, 0.0, 0.0], [1.0, 0.0, 0.0, 0.0], [1.0, 0.0, 0.0, 0.0], [1.0, 0.0, 0.0, 0.0], [1.0, 0.0, 0.0, 0.0], [1.0, 0.0, 0.0, 0.0], [1.0, 0.0, 0.0, 0.0]], [[0.0, 0.0, 1.0, 0.0], [1.0, 0.0, 0.0, 0.0], [1.0, 0.0, 0.0, 0.0], [1.0, 0.0, 0.0, 0.0], [1.0, 0.0, 0.0, 0.0], [1.0, 0.0, 0.0, 0.0], [1.0, 0.0, 0.0, 0.0], [1.0, 0.0, 0.0, 0.0], [1.0, 0.0, 0.0, 0.0], [1.0, 0.0, 0.0, 0.0], [1.0, 0.0, 0.0, 0.0], [1.0, 0.0, 0.0, 0.0], [1.0, 0.0, 0.0, 0.0], [1.0, 0.0, 0.0, 0.0], [1.0, 0.0, 0.0, 0.0], [1.0, 0.0, 0.0, 0.0], [1.0, 0.0, 0.0, 0.0], [1.0, 0.0, 0.0, 0.0], [1.0, 0.0, 0.0, 0.0], [1.0, 0.0, 0.0, 0.0], [1.0, 0.0, 0.0, 0.0]], [[0.0, 0.0, 1.0, 0.0], [1.0, 0.0, 0.0, 0.0], [1.0, 0.0, 0.0, 0.0], [1.0, 0.0, 0.0, 0.0], [1.0, 0.0, 0.0, 0.0], [1.0, 0.0, 0.0, 0.0], [1.0, 0.0, 0.0, 0.0], [1.0, 0.0, 0.0, 0.0], [1.0, 0.0, 0.0, 0.0], [1.0, 0.0, 0.0, 0.0], [1.0, 0.0, 0.0, 0.0], [1.0, 0.0, 0.0, 0.0], [1.0, 0.0, 0.0, 0.0], [1.0, 0.0, 0.0, 0.0], [1.0, 0.0, 0.0, 0.0], [1.0, 0.0, 0.0, 0.0], [1.0, 0.0, 0.0, 0.0], [1.0, 0.0, 0.0, 0.0], [1.0, 0.0, 0.0, 0.0], [1.0, 0.0, 0.0, 0.0], [1.0, 0.0, 0.0, 0.0]], [[0.0, 0.0, 1.0, 0.0], [1.0, 0.0, 0.0, 0.0], [0.0, 1.0, 0.0, 0.0], [1.0, 0.0, 0.0, 0.0], [1.0, 0.0, 0.0, 0.0], [1.0, 0.0, 0.0, 0.0], [1.0, 0.0, 0.0, 0.0], [1.0, 0.0, 0.0, 0.0], [1.0, 0.0, 0.0, 0.0], [1.0, 0.0, 0.0, 0.0], [1.0, 0.0, 0.0, 0.0], [1.0, 0.0, 0.0, 0.0], [1.0, 0.0, 0.0, 0.0], [1.0, 0.0, 0.0, 0.0], [1.0, 0.0, 0.0, 0.0], [1.0, 0.0, 0.0, 0.0], [0.0, 1.0, 0.0, 0.0], [1.0, 0.0, 0.0, 0.0], [1.0, 0.0, 0.0, 0.0], [1.0, 0.0, 0.0, 0.0], [0.0, 1.0, 0.0, 0.0]], [[0.0, 0.0, 1.0, 0.0], [1.0, 0.0, 0.0, 0.0], [1.0, 0.0, 0.0, 0.0], [1.0, 0.0, 0.0, 0.0], [1.0, 0.0, 0.0, 0.0], [1.0, 0.0, 0.0, 0.0], [1.0, 0.0, 0.0, 0.0], [1.0, 0.0, 0.0, 0.0], [1.0, 0.0, 0.0, 0.0], [1.0, 0.0, 0.0, 0.0], [1.0, 0.0, 0.0, 0.0], [1.0, 0.0, 0.0, 0.0], [1.0, 0.0, 0.0, 0.0], [1.0, 0.0, 0.0, 0.0], [1.0, 0.0, 0.0, 0.0], [1.0, 0.0, 0.0, 0.0], [1.0, 0.0, 0.0, 0.0], [1.0, 0.0, 0.0, 0.0], [1.0, 0.0, 0.0, 0.0], [1.0, 0.0, 0.0, 0.0], [1.0, 0.0, 0.0, 0.0]], [[0.0, 0.0, 1.0, 0.0], [1.0, 0.0, 0.0, 0.0], [0.0, 1.0, 0.0, 0.0], [1.0, 0.0, 0.0, 0.0], [1.0, 0.0, 0.0, 0.0], [1.0, 0.0, 0.0, 0.0], [1.0, 0.0, 0.0, 0.0], [1.0, 0.0, 0.0, 0.0], [1.0, 0.0, 0.0, 0.0], [1.0, 0.0, 0.0, 0.0], [1.0, 0.0, 0.0, 0.0], [1.0, 0.0, 0.0, 0.0], [1.0, 0.0, 0.0, 0.0], [1.0, 0.0, 0.0, 0.0], [1.0, 0.0, 0.0, 0.0], [1.0, 0.0, 0.0, 0.0], [1.0, 0.0, 0.0, 0.0], [1.0, 0.0, 0.0, 0.0], [0.0, 1.0, 0.0, 0.0], [1.0, 0.0, 0.0, 0.0], [0.0, 1.0, 0.0, 0.0]], [[0.0, 0.0, 1.0, 0.0], [1.0, 0.0, 0.0, 0.0], [1.0, 0.0, 0.0, 0.0], [1.0, 0.0, 0.0, 0.0], [1.0, 0.0, 0.0, 0.0], [1.0, 0.0, 0.0, 0.0], [1.0, 0.0, 0.0, 0.0], [1.0, 0.0, 0.0, 0.0], [1.0, 0.0, 0.0, 0.0], [1.0, 0.0, 0.0, 0.0], [1.0, 0.0, 0.0, 0.0], [1.0, 0.0, 0.0, 0.0], [1.0, 0.0, 0.0, 0.0], [1.0, 0.0, 0.0, 0.0], [1.0, 0.0, 0.0, 0.0], [1.0, 0.0, 0.0, 0.0], [1.0, 0.0, 0.0, 0.0], [1.0, 0.0, 0.0, 0.0], [1.0, 0.0, 0.0, 0.0], [1.0, 0.0, 0.0, 0.0], [1.0, 0.0, 0.0, 0.0]], [[0.0, 0.0, 1.0, 0.0], [1.0, 0.0, 0.0, 0.0], [0.0, 1.0, 0.0, 0.0], [1.0, 0.0, 0.0, 0.0], [1.0, 0.0, 0.0, 0.0], [1.0, 0.0, 0.0, 0.0], [1.0, 0.0, 0.0, 0.0], [1.0, 0.0, 0.0, 0.0], [1.0, 0.0, 0.0, 0.0], [1.0, 0.0, 0.0, 0.0], [1.0, 0.0, 0.0, 0.0], [1.0, 0.0, 0.0, 0.0], [1.0, 0.0, 0.0, 0.0], [1.0, 0.0, 0.0, 0.0], [1.0, 0.0, 0.0, 0.0], [1.0, 0.0, 0.0, 0.0], [1.0, 0.0, 0.0, 0.0], [1.0, 0.0, 0.0, 0.0], [1.0, 0.0, 0.0, 0.0], [1.0, 0.0, 0.0, 0.0], [1.0, 0.0, 0.0, 0.0]], [[0.0, 0.0, 1.0, 0.0], [1.0, 0.0, 0.0, 0.0], [1.0, 0.0, 0.0, 0.0], [1.0, 0.0, 0.0, 0.0], [1.0, 0.0, 0.0, 0.0], [1.0, 0.0, 0.0, 0.0], [1.0, 0.0, 0.0, 0.0], [1.0, 0.0, 0.0, 0.0], [1.0, 0.0, 0.0, 0.0], [1.0, 0.0, 0.0, 0.0], [1.0, 0.0, 0.0, 0.0], [1.0, 0.0, 0.0, 0.0], [1.0, 0.0, 0.0, 0.0], [1.0, 0.0, 0.0, 0.0], [1.0, 0.0, 0.0, 0.0], [1.0, 0.0, 0.0, 0.0], [1.0, 0.0, 0.0, 0.0], [1.0, 0.0, 0.0, 0.0], [1.0, 0.0, 0.0, 0.0], [1.0, 0.0, 0.0, 0.0], [1.0, 0.0, 0.0, 0.0]], [[0.0, 0.0, 1.0, 0.0], [1.0, 0.0, 0.0, 0.0], [1.0, 0.0, 0.0, 0.0], [1.0, 0.0, 0.0, 0.0], [1.0, 0.0, 0.0, 0.0], [1.0, 0.0, 0.0, 0.0], [1.0, 0.0, 0.0, 0.0], [1.0, 0.0, 0.0, 0.0], [1.0, 0.0, 0.0, 0.0], [1.0, 0.0, 0.0, 0.0], [1.0, 0.0, 0.0, 0.0], [1.0, 0.0, 0.0, 0.0], [1.0, 0.0, 0.0, 0.0], [1.0, 0.0, 0.0, 0.0], [1.0, 0.0, 0.0, 0.0], [1.0, 0.0, 0.0, 0.0], [1.0, 0.0, 0.0, 0.0], [1.0, 0.0, 0.0, 0.0], [1.0, 0.0, 0.0, 0.0], [1.0, 0.0, 0.0, 0.0], [1.0, 0.0, 0.0, 0.0]]]\n"
     ]
    }
   ],
   "source": [
    "print(dataset.get_dataset().shape)\n",
    "print(dataset.get_dataset()[:10]['tokens'])\n",
    "print(dataset.get_dataset()[:10]['labels'])\n",
    "for i in range(10):\n",
    "    tokens, labels, hl_outputs = dataset.get_dataset()[i]['tokens'], dataset.get_dataset()[i]['labels'], hl_model((torch.tensor(dataset.get_dataset()[i]['tokens'])[None,:], None, None))\n",
    "    nonzero = (torch.tensor(labels) - hl_outputs[0].cpu()).nonzero()\n",
    "    if nonzero.numel() > 0:\n",
    "        print(tokens, torch.unique(nonzero[:,0]))\n",
    "        bad_indices = torch.unique(nonzero[:,0]).tolist()\n",
    "        for idx in bad_indices:\n",
    "            print(labels[idx], hl_outputs[0,idx])"
   ]
  },
  {
   "cell_type": "code",
   "execution_count": 6,
   "metadata": {},
   "outputs": [],
   "source": [
    "from iit.model_pairs.strict_iit_model_pair import StrictIITModelPair\n",
    "from iit.utils.index import Ix\n",
    "import torch\n",
    "\n",
    "n_epochs = 100\n",
    "training_args = {\n",
    "    \"batch_size\": 256,\n",
    "    \"lr\": 0.001,\n",
    "    \"num_workers\": 0,\n",
    "    \"use_single_loss\": False,\n",
    "    \"behavior_weight\": 0., #basically doubles the strict weight's job.\n",
    "    \"iit_weight\": 1.,\n",
    "    \"strict_weight\": 1.0,\n",
    "    \"clip_grad_norm\": 1.0,\n",
    "    \"iit_weight_schedule\" : lambda s, i: s,\n",
    "    \"strict_weight_schedule\" : lambda s, i: s,\n",
    "    \"behavior_weight_schedule\" : lambda s, i: s, #0.955*s if 0.955**i > 0.01 else s, #have behavior weight decay over time\n",
    "    \"early_stop\" : True,\n",
    "    \"lr_scheduler\": torch.optim.lr_scheduler.LinearLR,\n",
    "    \"scheduler_kwargs\": dict(start_factor=1, end_factor=0, total_iters=n_epochs),\n",
    "    \"scheduler_val_metric\": [\"val/accuracy\", \"val/IIA\"], #for ReduceLRonPlateau\n",
    "    \"scheduler_mode\": \"max\", #for ReduceLRonPlateau\n",
    "}\n",
    "\n",
    "class LastTokenStrictIITModelPair(StrictIITModelPair):\n",
    "    def get_label_idxs(self):\n",
    "        return Ix[[None,-1]]\n",
    "\n",
    "    # def loss_fn(self) -> Callable[[torch.Tensor, torch.Tensor], torch.Tensor]:\n",
    "    #     return torch.nn.CrossEntropyLoss()\n",
    "\n",
    "ll_model = hl_model.get_ll_model()\n",
    "model_pair = StrictIITModelPair(hl_model=hl_model, ll_model=ll_model, corr=corr, training_args=training_args)"
   ]
  },
  {
   "cell_type": "code",
   "execution_count": 7,
   "metadata": {},
   "outputs": [
    {
     "name": "stdout",
     "output_type": "stream",
     "text": [
      "training_args={'batch_size': 256, 'lr': 0.001, 'num_workers': 0, 'early_stop': True, 'lr_scheduler': <class 'torch.optim.lr_scheduler.LinearLR'>, 'scheduler_val_metric': ['val/accuracy', 'val/IIA'], 'scheduler_mode': 'max', 'scheduler_kwargs': {'start_factor': 1, 'end_factor': 0, 'total_iters': 100}, 'clip_grad_norm': 1.0, 'seed': 0, 'detach_while_caching': True, 'iit_weight_schedule': <function <lambda> at 0x1041b6ca0>, 'strict_weight_schedule': <function <lambda> at 0x1041b68e0>, 'behavior_weight_schedule': <function <lambda> at 0x1677a6c00>, 'atol': 0.05, 'use_single_loss': False, 'iit_weight': 1.0, 'behavior_weight': 0.0, 'strict_weight': 1.0}\n"
     ]
    },
    {
     "data": {
      "application/vnd.jupyter.widget-view+json": {
       "model_id": "2514e844ca7e4089b4aacebc64564f4c",
       "version_major": 2,
       "version_minor": 0
      },
      "text/plain": [
       "VBox(children=(Training Epochs:   0%|          | 0/100 [00:00<?, ?it/s],))"
      ]
     },
     "metadata": {},
     "output_type": "display_data"
    },
    {
     "name": "stdout",
     "output_type": "stream",
     "text": [
      "Epoch 1: lr: 9.90e-04, iit_weight: 1.00e+00, behavior_weight: 0.00e+00, strict_weight: 1.00e+00, train/iit_loss: 4.07e-01, train/behavior_loss: 0.00e+00, train/strict_loss: 3.60e-01, val/iit_loss: 1.82e-01, val/IIA: 95.50, val/accuracy: 95.16, val/strict_accuracy: 95.16\n",
      "Epoch 2: lr: 9.80e-04, iit_weight: 1.00e+00, behavior_weight: 0.00e+00, strict_weight: 1.00e+00, train/iit_loss: 1.68e-01, train/behavior_loss: 0.00e+00, train/strict_loss: 1.29e-01, val/iit_loss: 1.33e-01, val/IIA: 95.79, val/accuracy: 96.67, val/strict_accuracy: 96.67\n",
      "Epoch 3: lr: 9.70e-04, iit_weight: 1.00e+00, behavior_weight: 0.00e+00, strict_weight: 1.00e+00, train/iit_loss: 1.45e-01, train/behavior_loss: 0.00e+00, train/strict_loss: 7.62e-02, val/iit_loss: 1.09e-01, val/IIA: 96.75, val/accuracy: 98.90, val/strict_accuracy: 98.90\n",
      "Epoch 4: lr: 9.60e-04, iit_weight: 1.00e+00, behavior_weight: 0.00e+00, strict_weight: 1.00e+00, train/iit_loss: 1.19e-01, train/behavior_loss: 0.00e+00, train/strict_loss: 5.31e-02, val/iit_loss: 1.25e-01, val/IIA: 96.22, val/accuracy: 97.81, val/strict_accuracy: 97.81\n",
      "Epoch 5: lr: 9.50e-04, iit_weight: 1.00e+00, behavior_weight: 0.00e+00, strict_weight: 1.00e+00, train/iit_loss: 7.52e-02, train/behavior_loss: 0.00e+00, train/strict_loss: 3.43e-02, val/iit_loss: 8.67e-02, val/IIA: 97.42, val/accuracy: 99.20, val/strict_accuracy: 99.20\n",
      "Epoch 6: lr: 9.40e-04, iit_weight: 1.00e+00, behavior_weight: 0.00e+00, strict_weight: 1.00e+00, train/iit_loss: 7.24e-02, train/behavior_loss: 0.00e+00, train/strict_loss: 2.23e-02, val/iit_loss: 3.80e-02, val/IIA: 98.61, val/accuracy: 99.49, val/strict_accuracy: 99.49\n",
      "Epoch 7: lr: 9.30e-04, iit_weight: 1.00e+00, behavior_weight: 0.00e+00, strict_weight: 1.00e+00, train/iit_loss: 8.82e-02, train/behavior_loss: 0.00e+00, train/strict_loss: 3.83e-02, val/iit_loss: 1.49e-01, val/IIA: 95.22, val/accuracy: 96.93, val/strict_accuracy: 96.93\n",
      "Epoch 8: lr: 9.20e-04, iit_weight: 1.00e+00, behavior_weight: 0.00e+00, strict_weight: 1.00e+00, train/iit_loss: 1.08e-01, train/behavior_loss: 0.00e+00, train/strict_loss: 2.72e-02, val/iit_loss: 2.49e-02, val/IIA: 99.63, val/accuracy: 99.93, val/strict_accuracy: 99.93\n",
      "Epoch 9: lr: 9.10e-04, iit_weight: 1.00e+00, behavior_weight: 0.00e+00, strict_weight: 1.00e+00, train/iit_loss: 5.86e-02, train/behavior_loss: 0.00e+00, train/strict_loss: 1.33e-02, val/iit_loss: 1.65e-02, val/IIA: 99.66, val/accuracy: 99.91, val/strict_accuracy: 99.91\n",
      "Epoch 10: lr: 9.00e-04, iit_weight: 1.00e+00, behavior_weight: 0.00e+00, strict_weight: 1.00e+00, train/iit_loss: 5.71e-02, train/behavior_loss: 0.00e+00, train/strict_loss: 1.47e-02, val/iit_loss: 5.43e-02, val/IIA: 98.01, val/accuracy: 98.81, val/strict_accuracy: 98.81\n",
      "Epoch 11: lr: 8.90e-04, iit_weight: 1.00e+00, behavior_weight: 0.00e+00, strict_weight: 1.00e+00, train/iit_loss: 6.00e-02, train/behavior_loss: 0.00e+00, train/strict_loss: 1.33e-02, val/iit_loss: 3.68e-02, val/IIA: 98.86, val/accuracy: 99.99, val/strict_accuracy: 99.99\n",
      "Epoch 12: lr: 8.80e-04, iit_weight: 1.00e+00, behavior_weight: 0.00e+00, strict_weight: 1.00e+00, train/iit_loss: 4.78e-02, train/behavior_loss: 0.00e+00, train/strict_loss: 9.44e-03, val/iit_loss: 8.18e-02, val/IIA: 97.12, val/accuracy: 99.66, val/strict_accuracy: 99.66\n",
      "Epoch 13: lr: 8.70e-04, iit_weight: 1.00e+00, behavior_weight: 0.00e+00, strict_weight: 1.00e+00, train/iit_loss: 4.53e-02, train/behavior_loss: 0.00e+00, train/strict_loss: 8.97e-03, val/iit_loss: 5.55e-02, val/IIA: 98.03, val/accuracy: 99.96, val/strict_accuracy: 99.96\n",
      "Epoch 14: lr: 8.60e-04, iit_weight: 1.00e+00, behavior_weight: 0.00e+00, strict_weight: 1.00e+00, train/iit_loss: 3.61e-02, train/behavior_loss: 0.00e+00, train/strict_loss: 8.01e-03, val/iit_loss: 2.68e-02, val/IIA: 99.04, val/accuracy: 99.95, val/strict_accuracy: 99.95\n",
      "Epoch 15: lr: 8.50e-04, iit_weight: 1.00e+00, behavior_weight: 0.00e+00, strict_weight: 1.00e+00, train/iit_loss: 3.63e-02, train/behavior_loss: 0.00e+00, train/strict_loss: 8.16e-03, val/iit_loss: 3.59e-02, val/IIA: 98.91, val/accuracy: 100.00, val/strict_accuracy: 100.00\n",
      "Epoch 16: lr: 8.40e-04, iit_weight: 1.00e+00, behavior_weight: 0.00e+00, strict_weight: 1.00e+00, train/iit_loss: 3.64e-02, train/behavior_loss: 0.00e+00, train/strict_loss: 2.97e-03, val/iit_loss: 4.22e-02, val/IIA: 98.60, val/accuracy: 99.99, val/strict_accuracy: 99.99\n",
      "Epoch 17: lr: 8.30e-04, iit_weight: 1.00e+00, behavior_weight: 0.00e+00, strict_weight: 1.00e+00, train/iit_loss: 1.42e-02, train/behavior_loss: 0.00e+00, train/strict_loss: 6.63e-03, val/iit_loss: 4.91e-02, val/IIA: 98.78, val/accuracy: 99.88, val/strict_accuracy: 99.88\n",
      "Epoch 18: lr: 8.20e-04, iit_weight: 1.00e+00, behavior_weight: 0.00e+00, strict_weight: 1.00e+00, train/iit_loss: 4.64e-02, train/behavior_loss: 0.00e+00, train/strict_loss: 4.98e-03, val/iit_loss: 9.05e-03, val/IIA: 99.78, val/accuracy: 99.89, val/strict_accuracy: 99.89\n",
      "Epoch 19: lr: 8.10e-04, iit_weight: 1.00e+00, behavior_weight: 0.00e+00, strict_weight: 1.00e+00, train/iit_loss: 2.76e-02, train/behavior_loss: 0.00e+00, train/strict_loss: 2.19e-03, val/iit_loss: 2.72e-02, val/IIA: 99.04, val/accuracy: 99.88, val/strict_accuracy: 99.88\n",
      "Epoch 20: lr: 8.00e-04, iit_weight: 1.00e+00, behavior_weight: 0.00e+00, strict_weight: 1.00e+00, train/iit_loss: 2.37e-02, train/behavior_loss: 0.00e+00, train/strict_loss: 5.25e-03, val/iit_loss: 1.90e-02, val/IIA: 99.30, val/accuracy: 99.98, val/strict_accuracy: 99.98\n",
      "Epoch 21: lr: 7.90e-04, iit_weight: 1.00e+00, behavior_weight: 0.00e+00, strict_weight: 1.00e+00, train/iit_loss: 1.56e-02, train/behavior_loss: 0.00e+00, train/strict_loss: 7.86e-03, val/iit_loss: 1.52e-02, val/IIA: 99.44, val/accuracy: 99.99, val/strict_accuracy: 99.99\n",
      "Epoch 22: lr: 7.80e-04, iit_weight: 1.00e+00, behavior_weight: 0.00e+00, strict_weight: 1.00e+00, train/iit_loss: 1.81e-02, train/behavior_loss: 0.00e+00, train/strict_loss: 2.78e-03, val/iit_loss: 3.27e-02, val/IIA: 98.87, val/accuracy: 99.98, val/strict_accuracy: 99.98\n",
      "Epoch 23: lr: 7.70e-04, iit_weight: 1.00e+00, behavior_weight: 0.00e+00, strict_weight: 1.00e+00, train/iit_loss: 5.89e-03, train/behavior_loss: 0.00e+00, train/strict_loss: 1.31e-03, val/iit_loss: 3.62e-03, val/IIA: 99.89, val/accuracy: 100.00, val/strict_accuracy: 100.00\n",
      "Epoch 24: lr: 7.60e-04, iit_weight: 1.00e+00, behavior_weight: 0.00e+00, strict_weight: 1.00e+00, train/iit_loss: 2.32e-02, train/behavior_loss: 0.00e+00, train/strict_loss: 3.35e-03, val/iit_loss: 1.12e-02, val/IIA: 99.58, val/accuracy: 99.91, val/strict_accuracy: 99.91\n",
      "Epoch 25: lr: 7.50e-04, iit_weight: 1.00e+00, behavior_weight: 0.00e+00, strict_weight: 1.00e+00, train/iit_loss: 2.02e-02, train/behavior_loss: 0.00e+00, train/strict_loss: 2.52e-03, val/iit_loss: 1.59e-02, val/IIA: 99.46, val/accuracy: 99.99, val/strict_accuracy: 99.99\n",
      "Epoch 26: lr: 7.40e-04, iit_weight: 1.00e+00, behavior_weight: 0.00e+00, strict_weight: 1.00e+00, train/iit_loss: 8.52e-03, train/behavior_loss: 0.00e+00, train/strict_loss: 1.20e-03, val/iit_loss: 7.88e-03, val/IIA: 99.77, val/accuracy: 99.97, val/strict_accuracy: 99.97\n",
      "Epoch 27: lr: 7.30e-04, iit_weight: 1.00e+00, behavior_weight: 0.00e+00, strict_weight: 1.00e+00, train/iit_loss: 1.52e-02, train/behavior_loss: 0.00e+00, train/strict_loss: 2.06e-03, val/iit_loss: 6.51e-03, val/IIA: 99.80, val/accuracy: 100.00, val/strict_accuracy: 100.00\n",
      "Epoch 28: lr: 7.20e-04, iit_weight: 1.00e+00, behavior_weight: 0.00e+00, strict_weight: 1.00e+00, train/iit_loss: 3.74e-03, train/behavior_loss: 0.00e+00, train/strict_loss: 8.90e-04, val/iit_loss: 1.59e-03, val/IIA: 99.98, val/accuracy: 100.00, val/strict_accuracy: 100.00\n",
      "Epoch 29: lr: 7.10e-04, iit_weight: 1.00e+00, behavior_weight: 0.00e+00, strict_weight: 1.00e+00, train/iit_loss: 4.98e-03, train/behavior_loss: 0.00e+00, train/strict_loss: 1.88e-03, val/iit_loss: 4.22e-03, val/IIA: 99.90, val/accuracy: 100.00, val/strict_accuracy: 100.00\n",
      "Epoch 30: lr: 7.00e-04, iit_weight: 1.00e+00, behavior_weight: 0.00e+00, strict_weight: 1.00e+00, train/iit_loss: 7.87e-03, train/behavior_loss: 0.00e+00, train/strict_loss: 1.37e-03, val/iit_loss: 2.45e-02, val/IIA: 99.06, val/accuracy: 99.89, val/strict_accuracy: 99.89\n",
      "Epoch 31: lr: 6.90e-04, iit_weight: 1.00e+00, behavior_weight: 0.00e+00, strict_weight: 1.00e+00, train/iit_loss: 5.77e-03, train/behavior_loss: 0.00e+00, train/strict_loss: 1.19e-03, val/iit_loss: 6.97e-03, val/IIA: 99.79, val/accuracy: 99.89, val/strict_accuracy: 99.89\n",
      "Epoch 32: lr: 6.80e-04, iit_weight: 1.00e+00, behavior_weight: 0.00e+00, strict_weight: 1.00e+00, train/iit_loss: 7.24e-03, train/behavior_loss: 0.00e+00, train/strict_loss: 1.31e-03, val/iit_loss: 1.17e-02, val/IIA: 99.59, val/accuracy: 100.00, val/strict_accuracy: 100.00\n",
      "Epoch 33: lr: 6.70e-04, iit_weight: 1.00e+00, behavior_weight: 0.00e+00, strict_weight: 1.00e+00, train/iit_loss: 8.82e-03, train/behavior_loss: 0.00e+00, train/strict_loss: 5.69e-04, val/iit_loss: 1.32e-03, val/IIA: 99.97, val/accuracy: 100.00, val/strict_accuracy: 100.00\n",
      "Epoch 34: lr: 6.60e-04, iit_weight: 1.00e+00, behavior_weight: 0.00e+00, strict_weight: 1.00e+00, train/iit_loss: 7.39e-03, train/behavior_loss: 0.00e+00, train/strict_loss: 6.89e-04, val/iit_loss: 2.27e-03, val/IIA: 99.95, val/accuracy: 100.00, val/strict_accuracy: 100.00\n",
      "Epoch 35: lr: 6.50e-04, iit_weight: 1.00e+00, behavior_weight: 0.00e+00, strict_weight: 1.00e+00, train/iit_loss: 5.82e-03, train/behavior_loss: 0.00e+00, train/strict_loss: 4.99e-04, val/iit_loss: 2.13e-02, val/IIA: 99.37, val/accuracy: 100.00, val/strict_accuracy: 100.00\n",
      "Epoch 36: lr: 6.40e-04, iit_weight: 1.00e+00, behavior_weight: 0.00e+00, strict_weight: 1.00e+00, train/iit_loss: 1.35e-02, train/behavior_loss: 0.00e+00, train/strict_loss: 6.17e-04, val/iit_loss: 5.24e-03, val/IIA: 99.80, val/accuracy: 100.00, val/strict_accuracy: 100.00\n",
      "Epoch 37: lr: 6.30e-04, iit_weight: 1.00e+00, behavior_weight: 0.00e+00, strict_weight: 1.00e+00, train/iit_loss: 2.20e-03, train/behavior_loss: 0.00e+00, train/strict_loss: 5.23e-04, val/iit_loss: 7.58e-04, val/IIA: 99.99, val/accuracy: 100.00, val/strict_accuracy: 100.00\n",
      "Epoch 38: lr: 6.20e-04, iit_weight: 1.00e+00, behavior_weight: 0.00e+00, strict_weight: 1.00e+00, train/iit_loss: 6.97e-03, train/behavior_loss: 0.00e+00, train/strict_loss: 6.21e-04, val/iit_loss: 4.14e-03, val/IIA: 99.82, val/accuracy: 100.00, val/strict_accuracy: 100.00\n",
      "Epoch 39: lr: 6.10e-04, iit_weight: 1.00e+00, behavior_weight: 0.00e+00, strict_weight: 1.00e+00, train/iit_loss: 3.55e-03, train/behavior_loss: 0.00e+00, train/strict_loss: 4.22e-04, val/iit_loss: 1.36e-03, val/IIA: 99.98, val/accuracy: 100.00, val/strict_accuracy: 100.00\n",
      "Epoch 40: lr: 6.00e-04, iit_weight: 1.00e+00, behavior_weight: 0.00e+00, strict_weight: 1.00e+00, train/iit_loss: 5.94e-03, train/behavior_loss: 0.00e+00, train/strict_loss: 5.18e-04, val/iit_loss: 1.11e-02, val/IIA: 99.56, val/accuracy: 100.00, val/strict_accuracy: 100.00\n",
      "Epoch 41: lr: 5.90e-04, iit_weight: 1.00e+00, behavior_weight: 0.00e+00, strict_weight: 1.00e+00, train/iit_loss: 7.88e-03, train/behavior_loss: 0.00e+00, train/strict_loss: 4.09e-04, val/iit_loss: 6.94e-03, val/IIA: 99.66, val/accuracy: 100.00, val/strict_accuracy: 100.00\n",
      "Epoch 42: lr: 5.80e-04, iit_weight: 1.00e+00, behavior_weight: 0.00e+00, strict_weight: 1.00e+00, train/iit_loss: 5.47e-03, train/behavior_loss: 0.00e+00, train/strict_loss: 8.54e-04, val/iit_loss: 5.81e-03, val/IIA: 99.86, val/accuracy: 100.00, val/strict_accuracy: 100.00\n",
      "Epoch 43: lr: 5.70e-04, iit_weight: 1.00e+00, behavior_weight: 0.00e+00, strict_weight: 1.00e+00, train/iit_loss: 5.84e-03, train/behavior_loss: 0.00e+00, train/strict_loss: 8.57e-04, val/iit_loss: 2.75e-02, val/IIA: 98.91, val/accuracy: 99.93, val/strict_accuracy: 99.93\n",
      "Epoch 44: lr: 5.60e-04, iit_weight: 1.00e+00, behavior_weight: 0.00e+00, strict_weight: 1.00e+00, train/iit_loss: 7.26e-03, train/behavior_loss: 0.00e+00, train/strict_loss: 8.21e-04, val/iit_loss: 1.37e-03, val/IIA: 99.99, val/accuracy: 100.00, val/strict_accuracy: 100.00\n",
      "Epoch 45: lr: 5.50e-04, iit_weight: 1.00e+00, behavior_weight: 0.00e+00, strict_weight: 1.00e+00, train/iit_loss: 5.72e-03, train/behavior_loss: 0.00e+00, train/strict_loss: 6.61e-04, val/iit_loss: 9.80e-04, val/IIA: 99.99, val/accuracy: 99.99, val/strict_accuracy: 99.99\n",
      "Epoch 46: lr: 5.40e-04, iit_weight: 1.00e+00, behavior_weight: 0.00e+00, strict_weight: 1.00e+00, train/iit_loss: 3.76e-03, train/behavior_loss: 0.00e+00, train/strict_loss: 3.38e-04, val/iit_loss: 4.15e-04, val/IIA: 100.00, val/accuracy: 100.00, val/strict_accuracy: 100.00\n",
      "Epoch 47: lr: 5.30e-04, iit_weight: 1.00e+00, behavior_weight: 0.00e+00, strict_weight: 1.00e+00, train/iit_loss: 2.12e-03, train/behavior_loss: 0.00e+00, train/strict_loss: 2.37e-04, val/iit_loss: 1.69e-02, val/IIA: 99.25, val/accuracy: 100.00, val/strict_accuracy: 100.00\n",
      "Epoch 48: lr: 5.20e-04, iit_weight: 1.00e+00, behavior_weight: 0.00e+00, strict_weight: 1.00e+00, train/iit_loss: 8.80e-03, train/behavior_loss: 0.00e+00, train/strict_loss: 5.74e-04, val/iit_loss: 1.47e-02, val/IIA: 99.40, val/accuracy: 100.00, val/strict_accuracy: 100.00\n",
      "Epoch 49: lr: 5.10e-04, iit_weight: 1.00e+00, behavior_weight: 0.00e+00, strict_weight: 1.00e+00, train/iit_loss: 3.50e-03, train/behavior_loss: 0.00e+00, train/strict_loss: 2.67e-04, val/iit_loss: 8.17e-03, val/IIA: 99.74, val/accuracy: 100.00, val/strict_accuracy: 100.00\n",
      "Epoch 50: lr: 5.00e-04, iit_weight: 1.00e+00, behavior_weight: 0.00e+00, strict_weight: 1.00e+00, train/iit_loss: 3.12e-03, train/behavior_loss: 0.00e+00, train/strict_loss: 7.23e-04, val/iit_loss: 6.10e-03, val/IIA: 99.80, val/accuracy: 100.00, val/strict_accuracy: 100.00\n",
      "Epoch 51: lr: 4.90e-04, iit_weight: 1.00e+00, behavior_weight: 0.00e+00, strict_weight: 1.00e+00, train/iit_loss: 1.54e-03, train/behavior_loss: 0.00e+00, train/strict_loss: 2.33e-04, val/iit_loss: 4.94e-04, val/IIA: 100.00, val/accuracy: 100.00, val/strict_accuracy: 100.00\n",
      "Epoch 52: lr: 4.80e-04, iit_weight: 1.00e+00, behavior_weight: 0.00e+00, strict_weight: 1.00e+00, train/iit_loss: 4.13e-03, train/behavior_loss: 0.00e+00, train/strict_loss: 3.64e-04, val/iit_loss: 1.00e-02, val/IIA: 99.47, val/accuracy: 100.00, val/strict_accuracy: 100.00\n",
      "Epoch 53: lr: 4.70e-04, iit_weight: 1.00e+00, behavior_weight: 0.00e+00, strict_weight: 1.00e+00, train/iit_loss: 3.35e-03, train/behavior_loss: 0.00e+00, train/strict_loss: 5.39e-04, val/iit_loss: 3.13e-03, val/IIA: 99.92, val/accuracy: 100.00, val/strict_accuracy: 100.00\n",
      "Epoch 54: lr: 4.60e-04, iit_weight: 1.00e+00, behavior_weight: 0.00e+00, strict_weight: 1.00e+00, train/iit_loss: 6.71e-04, train/behavior_loss: 0.00e+00, train/strict_loss: 2.25e-04, val/iit_loss: 4.66e-04, val/IIA: 100.00, val/accuracy: 100.00, val/strict_accuracy: 100.00\n",
      "Epoch 55: lr: 4.50e-04, iit_weight: 1.00e+00, behavior_weight: 0.00e+00, strict_weight: 1.00e+00, train/iit_loss: 7.61e-03, train/behavior_loss: 0.00e+00, train/strict_loss: 3.52e-04, val/iit_loss: 1.61e-02, val/IIA: 99.38, val/accuracy: 99.96, val/strict_accuracy: 99.96\n",
      "Epoch 56: lr: 4.40e-04, iit_weight: 1.00e+00, behavior_weight: 0.00e+00, strict_weight: 1.00e+00, train/iit_loss: 6.01e-03, train/behavior_loss: 0.00e+00, train/strict_loss: 4.12e-04, val/iit_loss: 6.91e-03, val/IIA: 99.75, val/accuracy: 100.00, val/strict_accuracy: 100.00\n",
      "Epoch 57: lr: 4.30e-04, iit_weight: 1.00e+00, behavior_weight: 0.00e+00, strict_weight: 1.00e+00, train/iit_loss: 4.44e-03, train/behavior_loss: 0.00e+00, train/strict_loss: 2.07e-04, val/iit_loss: 1.60e-03, val/IIA: 99.94, val/accuracy: 99.97, val/strict_accuracy: 99.97\n",
      "Epoch 58: lr: 4.20e-04, iit_weight: 1.00e+00, behavior_weight: 0.00e+00, strict_weight: 1.00e+00, train/iit_loss: 3.13e-03, train/behavior_loss: 0.00e+00, train/strict_loss: 4.52e-04, val/iit_loss: 3.00e-04, val/IIA: 100.00, val/accuracy: 100.00, val/strict_accuracy: 100.00\n",
      "Epoch 59: lr: 4.10e-04, iit_weight: 1.00e+00, behavior_weight: 0.00e+00, strict_weight: 1.00e+00, train/iit_loss: 3.73e-03, train/behavior_loss: 0.00e+00, train/strict_loss: 2.91e-04, val/iit_loss: 5.87e-04, val/IIA: 99.98, val/accuracy: 100.00, val/strict_accuracy: 100.00\n",
      "Epoch 60: lr: 4.00e-04, iit_weight: 1.00e+00, behavior_weight: 0.00e+00, strict_weight: 1.00e+00, train/iit_loss: 3.24e-04, train/behavior_loss: 0.00e+00, train/strict_loss: 1.48e-04, val/iit_loss: 2.62e-03, val/IIA: 99.93, val/accuracy: 100.00, val/strict_accuracy: 100.00\n",
      "Epoch 61: lr: 3.90e-04, iit_weight: 1.00e+00, behavior_weight: 0.00e+00, strict_weight: 1.00e+00, train/iit_loss: 1.03e-03, train/behavior_loss: 0.00e+00, train/strict_loss: 1.62e-04, val/iit_loss: 2.10e-03, val/IIA: 99.95, val/accuracy: 100.00, val/strict_accuracy: 100.00\n",
      "Epoch 62: lr: 3.80e-04, iit_weight: 1.00e+00, behavior_weight: 0.00e+00, strict_weight: 1.00e+00, train/iit_loss: 1.20e-03, train/behavior_loss: 0.00e+00, train/strict_loss: 1.45e-04, val/iit_loss: 2.49e-04, val/IIA: 100.00, val/accuracy: 100.00, val/strict_accuracy: 100.00\n",
      "Epoch 63: lr: 3.70e-04, iit_weight: 1.00e+00, behavior_weight: 0.00e+00, strict_weight: 1.00e+00, train/iit_loss: 1.98e-03, train/behavior_loss: 0.00e+00, train/strict_loss: 4.12e-04, val/iit_loss: 2.52e-03, val/IIA: 99.94, val/accuracy: 100.00, val/strict_accuracy: 100.00\n",
      "Epoch 64: lr: 3.60e-04, iit_weight: 1.00e+00, behavior_weight: 0.00e+00, strict_weight: 1.00e+00, train/iit_loss: 2.02e-03, train/behavior_loss: 0.00e+00, train/strict_loss: 1.56e-04, val/iit_loss: 2.50e-04, val/IIA: 100.00, val/accuracy: 100.00, val/strict_accuracy: 100.00\n",
      "Epoch 65: lr: 3.50e-04, iit_weight: 1.00e+00, behavior_weight: 0.00e+00, strict_weight: 1.00e+00, train/iit_loss: 3.43e-04, train/behavior_loss: 0.00e+00, train/strict_loss: 1.31e-04, val/iit_loss: 2.45e-03, val/IIA: 99.93, val/accuracy: 100.00, val/strict_accuracy: 100.00\n",
      "Epoch 66: lr: 3.40e-04, iit_weight: 1.00e+00, behavior_weight: 0.00e+00, strict_weight: 1.00e+00, train/iit_loss: 2.94e-03, train/behavior_loss: 0.00e+00, train/strict_loss: 1.49e-04, val/iit_loss: 3.58e-04, val/IIA: 100.00, val/accuracy: 100.00, val/strict_accuracy: 100.00\n",
      "Epoch 67: lr: 3.30e-04, iit_weight: 1.00e+00, behavior_weight: 0.00e+00, strict_weight: 1.00e+00, train/iit_loss: 4.63e-03, train/behavior_loss: 0.00e+00, train/strict_loss: 1.32e-04, val/iit_loss: 6.10e-04, val/IIA: 99.99, val/accuracy: 100.00, val/strict_accuracy: 100.00\n",
      "Epoch 68: lr: 3.20e-04, iit_weight: 1.00e+00, behavior_weight: 0.00e+00, strict_weight: 1.00e+00, train/iit_loss: 2.21e-03, train/behavior_loss: 0.00e+00, train/strict_loss: 2.03e-04, val/iit_loss: 5.54e-04, val/IIA: 99.99, val/accuracy: 100.00, val/strict_accuracy: 100.00\n",
      "Epoch 69: lr: 3.10e-04, iit_weight: 1.00e+00, behavior_weight: 0.00e+00, strict_weight: 1.00e+00, train/iit_loss: 8.76e-03, train/behavior_loss: 0.00e+00, train/strict_loss: 1.79e-04, val/iit_loss: 3.59e-04, val/IIA: 100.00, val/accuracy: 100.00, val/strict_accuracy: 100.00\n",
      "Epoch 70: lr: 3.00e-04, iit_weight: 1.00e+00, behavior_weight: 0.00e+00, strict_weight: 1.00e+00, train/iit_loss: 3.00e-03, train/behavior_loss: 0.00e+00, train/strict_loss: 3.06e-04, val/iit_loss: 2.26e-04, val/IIA: 100.00, val/accuracy: 100.00, val/strict_accuracy: 100.00\n",
      "Epoch 71: lr: 2.90e-04, iit_weight: 1.00e+00, behavior_weight: 0.00e+00, strict_weight: 1.00e+00, train/iit_loss: 3.32e-03, train/behavior_loss: 0.00e+00, train/strict_loss: 1.36e-04, val/iit_loss: 4.28e-04, val/IIA: 99.99, val/accuracy: 100.00, val/strict_accuracy: 100.00\n",
      "Epoch 72: lr: 2.80e-04, iit_weight: 1.00e+00, behavior_weight: 0.00e+00, strict_weight: 1.00e+00, train/iit_loss: 5.39e-03, train/behavior_loss: 0.00e+00, train/strict_loss: 1.64e-04, val/iit_loss: 1.68e-03, val/IIA: 99.94, val/accuracy: 100.00, val/strict_accuracy: 100.00\n",
      "Epoch 73: lr: 2.70e-04, iit_weight: 1.00e+00, behavior_weight: 0.00e+00, strict_weight: 1.00e+00, train/iit_loss: 9.91e-04, train/behavior_loss: 0.00e+00, train/strict_loss: 1.25e-04, val/iit_loss: 2.57e-04, val/IIA: 100.00, val/accuracy: 100.00, val/strict_accuracy: 100.00\n",
      "Epoch 74: lr: 2.60e-04, iit_weight: 1.00e+00, behavior_weight: 0.00e+00, strict_weight: 1.00e+00, train/iit_loss: 3.55e-03, train/behavior_loss: 0.00e+00, train/strict_loss: 1.19e-04, val/iit_loss: 2.74e-03, val/IIA: 99.90, val/accuracy: 100.00, val/strict_accuracy: 100.00\n",
      "Epoch 75: lr: 2.50e-04, iit_weight: 1.00e+00, behavior_weight: 0.00e+00, strict_weight: 1.00e+00, train/iit_loss: 3.69e-03, train/behavior_loss: 0.00e+00, train/strict_loss: 1.28e-04, val/iit_loss: 8.37e-04, val/IIA: 99.97, val/accuracy: 100.00, val/strict_accuracy: 100.00\n",
      "Epoch 76: lr: 2.40e-04, iit_weight: 1.00e+00, behavior_weight: 0.00e+00, strict_weight: 1.00e+00, train/iit_loss: 3.32e-03, train/behavior_loss: 0.00e+00, train/strict_loss: 1.69e-04, val/iit_loss: 1.93e-04, val/IIA: 100.00, val/accuracy: 100.00, val/strict_accuracy: 100.00\n",
      "Epoch 77: lr: 2.30e-04, iit_weight: 1.00e+00, behavior_weight: 0.00e+00, strict_weight: 1.00e+00, train/iit_loss: 1.95e-03, train/behavior_loss: 0.00e+00, train/strict_loss: 1.04e-04, val/iit_loss: 4.08e-04, val/IIA: 100.00, val/accuracy: 100.00, val/strict_accuracy: 100.00\n",
      "Epoch 78: lr: 2.20e-04, iit_weight: 1.00e+00, behavior_weight: 0.00e+00, strict_weight: 1.00e+00, train/iit_loss: 5.96e-03, train/behavior_loss: 0.00e+00, train/strict_loss: 1.33e-04, val/iit_loss: 1.67e-03, val/IIA: 99.95, val/accuracy: 100.00, val/strict_accuracy: 100.00\n",
      "Epoch 79: lr: 2.10e-04, iit_weight: 1.00e+00, behavior_weight: 0.00e+00, strict_weight: 1.00e+00, train/iit_loss: 4.30e-03, train/behavior_loss: 0.00e+00, train/strict_loss: 2.50e-04, val/iit_loss: 1.96e-03, val/IIA: 99.93, val/accuracy: 100.00, val/strict_accuracy: 100.00\n",
      "Epoch 80: lr: 2.00e-04, iit_weight: 1.00e+00, behavior_weight: 0.00e+00, strict_weight: 1.00e+00, train/iit_loss: 4.31e-03, train/behavior_loss: 0.00e+00, train/strict_loss: 1.79e-04, val/iit_loss: 1.83e-03, val/IIA: 99.95, val/accuracy: 100.00, val/strict_accuracy: 100.00\n",
      "Epoch 81: lr: 1.90e-04, iit_weight: 1.00e+00, behavior_weight: 0.00e+00, strict_weight: 1.00e+00, train/iit_loss: 1.43e-03, train/behavior_loss: 0.00e+00, train/strict_loss: 1.30e-04, val/iit_loss: 3.05e-03, val/IIA: 99.93, val/accuracy: 100.00, val/strict_accuracy: 100.00\n",
      "Epoch 82: lr: 1.80e-04, iit_weight: 1.00e+00, behavior_weight: 0.00e+00, strict_weight: 1.00e+00, train/iit_loss: 4.68e-04, train/behavior_loss: 0.00e+00, train/strict_loss: 1.24e-04, val/iit_loss: 1.70e-03, val/IIA: 99.97, val/accuracy: 100.00, val/strict_accuracy: 100.00\n",
      "Epoch 83: lr: 1.70e-04, iit_weight: 1.00e+00, behavior_weight: 0.00e+00, strict_weight: 1.00e+00, train/iit_loss: 1.42e-03, train/behavior_loss: 0.00e+00, train/strict_loss: 1.22e-04, val/iit_loss: 3.25e-04, val/IIA: 100.00, val/accuracy: 100.00, val/strict_accuracy: 100.00\n",
      "Epoch 84: lr: 1.60e-04, iit_weight: 1.00e+00, behavior_weight: 0.00e+00, strict_weight: 1.00e+00, train/iit_loss: 2.14e-03, train/behavior_loss: 0.00e+00, train/strict_loss: 1.20e-04, val/iit_loss: 2.68e-04, val/IIA: 100.00, val/accuracy: 100.00, val/strict_accuracy: 100.00\n",
      "Epoch 85: lr: 1.50e-04, iit_weight: 1.00e+00, behavior_weight: 0.00e+00, strict_weight: 1.00e+00, train/iit_loss: 2.60e-03, train/behavior_loss: 0.00e+00, train/strict_loss: 1.05e-04, val/iit_loss: 2.52e-03, val/IIA: 99.96, val/accuracy: 100.00, val/strict_accuracy: 100.00\n",
      "Epoch 86: lr: 1.40e-04, iit_weight: 1.00e+00, behavior_weight: 0.00e+00, strict_weight: 1.00e+00, train/iit_loss: 1.58e-03, train/behavior_loss: 0.00e+00, train/strict_loss: 9.73e-05, val/iit_loss: 1.58e-03, val/IIA: 99.97, val/accuracy: 100.00, val/strict_accuracy: 100.00\n",
      "Epoch 87: lr: 1.30e-04, iit_weight: 1.00e+00, behavior_weight: 0.00e+00, strict_weight: 1.00e+00, train/iit_loss: 9.12e-04, train/behavior_loss: 0.00e+00, train/strict_loss: 1.05e-04, val/iit_loss: 3.34e-04, val/IIA: 100.00, val/accuracy: 100.00, val/strict_accuracy: 100.00\n",
      "Epoch 88: lr: 1.20e-04, iit_weight: 1.00e+00, behavior_weight: 0.00e+00, strict_weight: 1.00e+00, train/iit_loss: 6.58e-04, train/behavior_loss: 0.00e+00, train/strict_loss: 9.85e-05, val/iit_loss: 4.02e-04, val/IIA: 100.00, val/accuracy: 100.00, val/strict_accuracy: 100.00\n",
      "Epoch 89: lr: 1.10e-04, iit_weight: 1.00e+00, behavior_weight: 0.00e+00, strict_weight: 1.00e+00, train/iit_loss: 1.48e-03, train/behavior_loss: 0.00e+00, train/strict_loss: 1.03e-04, val/iit_loss: 2.23e-03, val/IIA: 99.93, val/accuracy: 100.00, val/strict_accuracy: 100.00\n",
      "Epoch 90: lr: 1.00e-04, iit_weight: 1.00e+00, behavior_weight: 0.00e+00, strict_weight: 1.00e+00, train/iit_loss: 1.27e-03, train/behavior_loss: 0.00e+00, train/strict_loss: 1.00e-04, val/iit_loss: 1.77e-03, val/IIA: 99.97, val/accuracy: 100.00, val/strict_accuracy: 100.00\n",
      "Epoch 91: lr: 9.00e-05, iit_weight: 1.00e+00, behavior_weight: 0.00e+00, strict_weight: 1.00e+00, train/iit_loss: 6.16e-04, train/behavior_loss: 0.00e+00, train/strict_loss: 9.83e-05, val/iit_loss: 1.32e-04, val/IIA: 100.00, val/accuracy: 100.00, val/strict_accuracy: 100.00\n",
      "Epoch 92: lr: 8.00e-05, iit_weight: 1.00e+00, behavior_weight: 0.00e+00, strict_weight: 1.00e+00, train/iit_loss: 2.09e-04, train/behavior_loss: 0.00e+00, train/strict_loss: 9.62e-05, val/iit_loss: 1.74e-03, val/IIA: 99.97, val/accuracy: 100.00, val/strict_accuracy: 100.00\n",
      "Epoch 93: lr: 7.00e-05, iit_weight: 1.00e+00, behavior_weight: 0.00e+00, strict_weight: 1.00e+00, train/iit_loss: 7.17e-04, train/behavior_loss: 0.00e+00, train/strict_loss: 9.54e-05, val/iit_loss: 1.93e-04, val/IIA: 100.00, val/accuracy: 100.00, val/strict_accuracy: 100.00\n",
      "Epoch 94: lr: 6.00e-05, iit_weight: 1.00e+00, behavior_weight: 0.00e+00, strict_weight: 1.00e+00, train/iit_loss: 2.10e-03, train/behavior_loss: 0.00e+00, train/strict_loss: 9.57e-05, val/iit_loss: 2.37e-04, val/IIA: 100.00, val/accuracy: 100.00, val/strict_accuracy: 100.00\n",
      "Epoch 95: lr: 5.00e-05, iit_weight: 1.00e+00, behavior_weight: 0.00e+00, strict_weight: 1.00e+00, train/iit_loss: 1.41e-03, train/behavior_loss: 0.00e+00, train/strict_loss: 9.29e-05, val/iit_loss: 1.52e-04, val/IIA: 100.00, val/accuracy: 100.00, val/strict_accuracy: 100.00\n",
      "Epoch 96: lr: 4.00e-05, iit_weight: 1.00e+00, behavior_weight: 0.00e+00, strict_weight: 1.00e+00, train/iit_loss: 1.40e-03, train/behavior_loss: 0.00e+00, train/strict_loss: 9.12e-05, val/iit_loss: 3.13e-04, val/IIA: 100.00, val/accuracy: 100.00, val/strict_accuracy: 100.00\n",
      "Epoch 97: lr: 3.00e-05, iit_weight: 1.00e+00, behavior_weight: 0.00e+00, strict_weight: 1.00e+00, train/iit_loss: 2.07e-03, train/behavior_loss: 0.00e+00, train/strict_loss: 9.63e-05, val/iit_loss: 1.66e-03, val/IIA: 99.97, val/accuracy: 100.00, val/strict_accuracy: 100.00\n",
      "Epoch 98: lr: 2.00e-05, iit_weight: 1.00e+00, behavior_weight: 0.00e+00, strict_weight: 1.00e+00, train/iit_loss: 2.47e-03, train/behavior_loss: 0.00e+00, train/strict_loss: 9.44e-05, val/iit_loss: 4.16e-04, val/IIA: 100.00, val/accuracy: 100.00, val/strict_accuracy: 100.00\n",
      "Epoch 99: lr: 1.00e-05, iit_weight: 1.00e+00, behavior_weight: 0.00e+00, strict_weight: 1.00e+00, train/iit_loss: 2.34e-03, train/behavior_loss: 0.00e+00, train/strict_loss: 9.43e-05, val/iit_loss: 3.02e-04, val/IIA: 100.00, val/accuracy: 100.00, val/strict_accuracy: 100.00\n",
      "Epoch 100: lr: 0.00e+00, iit_weight: 1.00e+00, behavior_weight: 0.00e+00, strict_weight: 1.00e+00, train/iit_loss: 1.65e-03, train/behavior_loss: 0.00e+00, train/strict_loss: 9.41e-05, val/iit_loss: 1.55e-03, val/IIA: 99.97, val/accuracy: 100.00, val/strict_accuracy: 100.00\n"
     ]
    }
   ],
   "source": [
    "model_pair.train(\n",
    "    train_set=train_set,\n",
    "    test_set=test_set,\n",
    "    optimizer_cls=torch.optim.AdamW,\n",
    "    epochs=n_epochs,\n",
    "    optimizer_kwargs=dict(weight_decay=1e-4),\n",
    ")"
   ]
  },
  {
   "cell_type": "markdown",
   "metadata": {},
   "source": [
    "# Left > Right"
   ]
  },
  {
   "cell_type": "code",
   "execution_count": 11,
   "metadata": {},
   "outputs": [
    {
     "name": "stdout",
     "output_type": "stream",
     "text": [
      "here\n",
      "All left greater tests passed!\n"
     ]
    },
    {
     "data": {
      "text/plain": [
       "True"
      ]
     },
     "execution_count": 11,
     "metadata": {},
     "output_type": "execute_result"
    }
   ],
   "source": [
    "from cases.left_greater import HighLevelLeftGreater, test_HL_left_greater_components, LeftGreaterDataset\n",
    "\n",
    "test_HL_left_greater_components()"
   ]
  },
  {
   "cell_type": "code",
   "execution_count": 12,
   "metadata": {},
   "outputs": [
    {
     "name": "stdout",
     "output_type": "stream",
     "text": [
      "here\n",
      "making IIT dataset\n",
      "{'input_hook': HookPoint(), 'paren_counts_hook': HookPoint(), 'mlp0_hook': HookPoint()}\n",
      "[input_hook, paren_counts_hook, mlp0_hook]\n"
     ]
    }
   ],
   "source": [
    "hl_model = HighLevelLeftGreater()\n",
    "corr = hl_model.get_correspondence()\n",
    "dataset = LeftGreaterDataset(N_samples=1_000, n_ctx=hl_model.get_ll_model_cfg().n_ctx, seed=42)\n",
    "train_set, test_set = dataset.get_IIT_train_test_set()\n",
    "print(hl_model.hook_dict)\n",
    "print(list(corr.keys()))"
   ]
  },
  {
   "cell_type": "code",
   "execution_count": 13,
   "metadata": {},
   "outputs": [
    {
     "name": "stdout",
     "output_type": "stream",
     "text": [
      "training_args={'batch_size': 256, 'lr': 0.001, 'num_workers': 0, 'early_stop': True, 'lr_scheduler': <class 'torch.optim.lr_scheduler.LinearLR'>, 'scheduler_val_metric': ['val/accuracy', 'val/IIA'], 'scheduler_mode': 'max', 'scheduler_kwargs': {'start_factor': 1, 'end_factor': 0, 'total_iters': 100}, 'clip_grad_norm': 1.0, 'seed': 0, 'detach_while_caching': True, 'iit_weight_schedule': <function <lambda> at 0x1041b6ca0>, 'strict_weight_schedule': <function <lambda> at 0x1041b68e0>, 'behavior_weight_schedule': <function <lambda> at 0x1677a6c00>, 'atol': 0.05, 'use_single_loss': False, 'iit_weight': 1.0, 'behavior_weight': 0.0, 'strict_weight': 1.0}\n"
     ]
    },
    {
     "data": {
      "application/vnd.jupyter.widget-view+json": {
       "model_id": "b2a9be099c764a3a8ca48780f365cfd5",
       "version_major": 2,
       "version_minor": 0
      },
      "text/plain": [
       "VBox(children=(Training Epochs:   0%|          | 0/100 [00:00<?, ?it/s],))"
      ]
     },
     "metadata": {},
     "output_type": "display_data"
    },
    {
     "name": "stdout",
     "output_type": "stream",
     "text": [
      "Epoch 1: lr: 9.90e-04, iit_weight: 1.00e+00, behavior_weight: 0.00e+00, strict_weight: 1.00e+00, train/iit_loss: 1.25e+00, train/behavior_loss: 0.00e+00, train/strict_loss: 1.23e+00, val/iit_loss: 9.13e-01, val/IIA: 57.05, val/accuracy: 52.19, val/strict_accuracy: 52.19\n",
      "Epoch 2: lr: 9.80e-04, iit_weight: 1.00e+00, behavior_weight: 0.00e+00, strict_weight: 1.00e+00, train/iit_loss: 8.54e-01, train/behavior_loss: 0.00e+00, train/strict_loss: 8.03e-01, val/iit_loss: 7.66e-01, val/IIA: 63.89, val/accuracy: 70.82, val/strict_accuracy: 70.82\n",
      "Epoch 3: lr: 9.70e-04, iit_weight: 1.00e+00, behavior_weight: 0.00e+00, strict_weight: 1.00e+00, train/iit_loss: 7.00e-01, train/behavior_loss: 0.00e+00, train/strict_loss: 6.53e-01, val/iit_loss: 6.86e-01, val/IIA: 67.87, val/accuracy: 80.80, val/strict_accuracy: 80.80\n",
      "Epoch 4: lr: 9.60e-04, iit_weight: 1.00e+00, behavior_weight: 0.00e+00, strict_weight: 1.00e+00, train/iit_loss: 5.85e-01, train/behavior_loss: 0.00e+00, train/strict_loss: 5.47e-01, val/iit_loss: 6.45e-01, val/IIA: 69.28, val/accuracy: 84.86, val/strict_accuracy: 84.86\n",
      "Epoch 5: lr: 9.50e-04, iit_weight: 1.00e+00, behavior_weight: 0.00e+00, strict_weight: 1.00e+00, train/iit_loss: 5.51e-01, train/behavior_loss: 0.00e+00, train/strict_loss: 4.69e-01, val/iit_loss: 4.32e-01, val/IIA: 88.01, val/accuracy: 87.40, val/strict_accuracy: 87.40\n",
      "Epoch 6: lr: 9.40e-04, iit_weight: 1.00e+00, behavior_weight: 0.00e+00, strict_weight: 1.00e+00, train/iit_loss: 5.53e-01, train/behavior_loss: 0.00e+00, train/strict_loss: 3.88e-01, val/iit_loss: 4.09e-01, val/IIA: 88.07, val/accuracy: 89.98, val/strict_accuracy: 89.98\n",
      "Epoch 7: lr: 9.30e-04, iit_weight: 1.00e+00, behavior_weight: 0.00e+00, strict_weight: 1.00e+00, train/iit_loss: 4.13e-01, train/behavior_loss: 0.00e+00, train/strict_loss: 3.36e-01, val/iit_loss: 3.41e-01, val/IIA: 92.80, val/accuracy: 93.47, val/strict_accuracy: 93.47\n",
      "Epoch 8: lr: 9.20e-04, iit_weight: 1.00e+00, behavior_weight: 0.00e+00, strict_weight: 1.00e+00, train/iit_loss: 3.47e-01, train/behavior_loss: 0.00e+00, train/strict_loss: 2.65e-01, val/iit_loss: 2.34e-01, val/IIA: 95.28, val/accuracy: 95.71, val/strict_accuracy: 95.71\n",
      "Epoch 9: lr: 9.10e-04, iit_weight: 1.00e+00, behavior_weight: 0.00e+00, strict_weight: 1.00e+00, train/iit_loss: 2.94e-01, train/behavior_loss: 0.00e+00, train/strict_loss: 2.07e-01, val/iit_loss: 2.20e-01, val/IIA: 96.11, val/accuracy: 97.29, val/strict_accuracy: 97.29\n",
      "Epoch 10: lr: 9.00e-04, iit_weight: 1.00e+00, behavior_weight: 0.00e+00, strict_weight: 1.00e+00, train/iit_loss: 2.41e-01, train/behavior_loss: 0.00e+00, train/strict_loss: 1.65e-01, val/iit_loss: 2.15e-01, val/IIA: 95.04, val/accuracy: 97.92, val/strict_accuracy: 97.92\n",
      "Epoch 11: lr: 8.90e-04, iit_weight: 1.00e+00, behavior_weight: 0.00e+00, strict_weight: 1.00e+00, train/iit_loss: 1.47e-01, train/behavior_loss: 0.00e+00, train/strict_loss: 1.34e-01, val/iit_loss: 1.80e-01, val/IIA: 95.91, val/accuracy: 98.93, val/strict_accuracy: 98.93\n",
      "Epoch 12: lr: 8.80e-04, iit_weight: 1.00e+00, behavior_weight: 0.00e+00, strict_weight: 1.00e+00, train/iit_loss: 1.30e-01, train/behavior_loss: 0.00e+00, train/strict_loss: 1.08e-01, val/iit_loss: 1.01e-01, val/IIA: 99.30, val/accuracy: 99.26, val/strict_accuracy: 99.26\n",
      "Epoch 13: lr: 8.70e-04, iit_weight: 1.00e+00, behavior_weight: 0.00e+00, strict_weight: 1.00e+00, train/iit_loss: 1.28e-01, train/behavior_loss: 0.00e+00, train/strict_loss: 8.86e-02, val/iit_loss: 1.11e-01, val/IIA: 98.66, val/accuracy: 99.50, val/strict_accuracy: 99.50\n",
      "Epoch 14: lr: 8.60e-04, iit_weight: 1.00e+00, behavior_weight: 0.00e+00, strict_weight: 1.00e+00, train/iit_loss: 9.49e-02, train/behavior_loss: 0.00e+00, train/strict_loss: 7.43e-02, val/iit_loss: 7.47e-02, val/IIA: 99.43, val/accuracy: 99.60, val/strict_accuracy: 99.60\n",
      "Epoch 15: lr: 8.50e-04, iit_weight: 1.00e+00, behavior_weight: 0.00e+00, strict_weight: 1.00e+00, train/iit_loss: 9.58e-02, train/behavior_loss: 0.00e+00, train/strict_loss: 6.69e-02, val/iit_loss: 8.89e-02, val/IIA: 99.13, val/accuracy: 99.70, val/strict_accuracy: 99.70\n",
      "Epoch 16: lr: 8.40e-04, iit_weight: 1.00e+00, behavior_weight: 0.00e+00, strict_weight: 1.00e+00, train/iit_loss: 7.95e-02, train/behavior_loss: 0.00e+00, train/strict_loss: 5.83e-02, val/iit_loss: 7.72e-02, val/IIA: 99.40, val/accuracy: 99.83, val/strict_accuracy: 99.83\n",
      "Epoch 17: lr: 8.30e-04, iit_weight: 1.00e+00, behavior_weight: 0.00e+00, strict_weight: 1.00e+00, train/iit_loss: 6.51e-02, train/behavior_loss: 0.00e+00, train/strict_loss: 5.09e-02, val/iit_loss: 7.20e-02, val/IIA: 99.46, val/accuracy: 99.83, val/strict_accuracy: 99.83\n",
      "Epoch 18: lr: 8.20e-04, iit_weight: 1.00e+00, behavior_weight: 0.00e+00, strict_weight: 1.00e+00, train/iit_loss: 6.55e-02, train/behavior_loss: 0.00e+00, train/strict_loss: 4.69e-02, val/iit_loss: 6.52e-02, val/IIA: 99.43, val/accuracy: 99.83, val/strict_accuracy: 99.83\n",
      "Epoch 19: lr: 8.10e-04, iit_weight: 1.00e+00, behavior_weight: 0.00e+00, strict_weight: 1.00e+00, train/iit_loss: 5.03e-02, train/behavior_loss: 0.00e+00, train/strict_loss: 4.27e-02, val/iit_loss: 4.36e-02, val/IIA: 99.83, val/accuracy: 99.93, val/strict_accuracy: 99.93\n",
      "Epoch 20: lr: 8.00e-04, iit_weight: 1.00e+00, behavior_weight: 0.00e+00, strict_weight: 1.00e+00, train/iit_loss: 4.96e-02, train/behavior_loss: 0.00e+00, train/strict_loss: 3.78e-02, val/iit_loss: 5.25e-02, val/IIA: 99.70, val/accuracy: 100.00, val/strict_accuracy: 100.00\n",
      "Epoch 21: lr: 7.90e-04, iit_weight: 1.00e+00, behavior_weight: 0.00e+00, strict_weight: 1.00e+00, train/iit_loss: 4.40e-02, train/behavior_loss: 0.00e+00, train/strict_loss: 3.38e-02, val/iit_loss: 3.54e-02, val/IIA: 99.93, val/accuracy: 100.00, val/strict_accuracy: 100.00\n",
      "Epoch 22: lr: 7.80e-04, iit_weight: 1.00e+00, behavior_weight: 0.00e+00, strict_weight: 1.00e+00, train/iit_loss: 4.12e-02, train/behavior_loss: 0.00e+00, train/strict_loss: 3.07e-02, val/iit_loss: 4.39e-02, val/IIA: 99.73, val/accuracy: 99.97, val/strict_accuracy: 99.97\n",
      "Epoch 23: lr: 7.70e-04, iit_weight: 1.00e+00, behavior_weight: 0.00e+00, strict_weight: 1.00e+00, train/iit_loss: 3.64e-02, train/behavior_loss: 0.00e+00, train/strict_loss: 2.84e-02, val/iit_loss: 3.00e-02, val/IIA: 100.00, val/accuracy: 100.00, val/strict_accuracy: 100.00\n"
     ]
    }
   ],
   "source": [
    "ll_model = hl_model.get_ll_model()\n",
    "model_pair = StrictIITModelPair(hl_model=hl_model, ll_model=ll_model, corr=corr, training_args=training_args)\n",
    "model_pair.train(\n",
    "    train_set=train_set,\n",
    "    test_set=test_set,\n",
    "    optimizer_cls=torch.optim.AdamW,\n",
    "    epochs=n_epochs,\n",
    "    optimizer_kwargs=dict(weight_decay=1e-4),\n",
    ")"
   ]
  },
  {
   "cell_type": "markdown",
   "metadata": {},
   "source": [
    "# Duplicate remover\n",
    "case 19 in circuits-bench"
   ]
  },
  {
   "cell_type": "code",
   "execution_count": 15,
   "metadata": {},
   "outputs": [
    {
     "name": "stdout",
     "output_type": "stream",
     "text": [
      "[[4, 0, 0, 1, 2, 0, 1, 3, 3], [4, 0, 1, 2, 2, 2, 2, 2, 2], [4, 0, 1, 2, 3, 3, 3, 3, 3]]\n",
      "[[False, False, True, False, False, False, False, False, True], [False, False, False, False, True, True, True, True, True], [False, False, False, False, False, True, True, True, True]]\n",
      "here\n",
      "All DuplicateRemover tests passed!\n"
     ]
    },
    {
     "data": {
      "text/plain": [
       "True"
      ]
     },
     "execution_count": 15,
     "metadata": {},
     "output_type": "execute_result"
    }
   ],
   "source": [
    "from cases.duplicate_remover import HighLevelDuplicateRemover, test_HL_duplicate_remover_components, DuplicateRemoverDataset\n",
    "test_HL_duplicate_remover_components()"
   ]
  },
  {
   "cell_type": "code",
   "execution_count": 16,
   "metadata": {},
   "outputs": [
    {
     "name": "stdout",
     "output_type": "stream",
     "text": [
      "here\n",
      "here\n",
      "(1000, 15, 5)\n",
      "making IIT dataset\n",
      "{'input_hook': HookPoint(), 'prev_token_hook': HookPoint(), 'prev_equal_hook': HookPoint(), 'output_hook': HookPoint()}\n",
      "[input_hook, prev_token_hook, prev_equal_hook, output_hook]\n"
     ]
    }
   ],
   "source": [
    "hl_model = HighLevelDuplicateRemover()\n",
    "corr = hl_model.get_correspondence()\n",
    "dataset = DuplicateRemoverDataset(N_samples=1_000, n_ctx=hl_model.get_ll_model_cfg().n_ctx, seed=42)\n",
    "train_set, test_set = dataset.get_IIT_train_test_set()\n",
    "print(hl_model.hook_dict)\n",
    "print(list(corr.keys()))"
   ]
  },
  {
   "cell_type": "code",
   "execution_count": 17,
   "metadata": {},
   "outputs": [
    {
     "name": "stdout",
     "output_type": "stream",
     "text": [
      "training_args={'batch_size': 256, 'lr': 0.001, 'num_workers': 0, 'early_stop': True, 'lr_scheduler': <class 'torch.optim.lr_scheduler.LinearLR'>, 'scheduler_val_metric': ['val/accuracy', 'val/IIA'], 'scheduler_mode': 'max', 'scheduler_kwargs': {'start_factor': 1, 'end_factor': 0, 'total_iters': 100}, 'clip_grad_norm': 1.0, 'seed': 0, 'detach_while_caching': True, 'iit_weight_schedule': <function <lambda> at 0x1041b6ca0>, 'strict_weight_schedule': <function <lambda> at 0x1041b68e0>, 'behavior_weight_schedule': <function <lambda> at 0x1677a6c00>, 'atol': 0.05, 'use_single_loss': False, 'iit_weight': 1.0, 'behavior_weight': 0.0, 'strict_weight': 1.0}\n"
     ]
    },
    {
     "data": {
      "application/vnd.jupyter.widget-view+json": {
       "model_id": "b9dd9b3659f7449b801f658b6fc75485",
       "version_major": 2,
       "version_minor": 0
      },
      "text/plain": [
       "VBox(children=(Training Epochs:   0%|          | 0/100 [00:00<?, ?it/s],))"
      ]
     },
     "metadata": {},
     "output_type": "display_data"
    },
    {
     "name": "stdout",
     "output_type": "stream",
     "text": [
      "Epoch 1: lr: 9.90e-04, iit_weight: 1.00e+00, behavior_weight: 0.00e+00, strict_weight: 1.00e+00, train/iit_loss: 1.63e+00, train/behavior_loss: 0.00e+00, train/strict_loss: 1.55e+00, val/iit_loss: 1.30e+00, val/IIA: 37.89, val/accuracy: 38.26, val/strict_accuracy: 38.26\n",
      "Epoch 2: lr: 9.80e-04, iit_weight: 1.00e+00, behavior_weight: 0.00e+00, strict_weight: 1.00e+00, train/iit_loss: 1.37e+00, train/behavior_loss: 0.00e+00, train/strict_loss: 1.18e+00, val/iit_loss: 1.32e+00, val/IIA: 42.28, val/accuracy: 60.10, val/strict_accuracy: 60.10\n",
      "Epoch 3: lr: 9.70e-04, iit_weight: 1.00e+00, behavior_weight: 0.00e+00, strict_weight: 1.00e+00, train/iit_loss: 1.12e+00, train/behavior_loss: 0.00e+00, train/strict_loss: 9.40e-01, val/iit_loss: 1.22e+00, val/IIA: 45.33, val/accuracy: 65.09, val/strict_accuracy: 65.09\n",
      "Epoch 4: lr: 9.60e-04, iit_weight: 1.00e+00, behavior_weight: 0.00e+00, strict_weight: 1.00e+00, train/iit_loss: 9.58e-01, train/behavior_loss: 0.00e+00, train/strict_loss: 7.70e-01, val/iit_loss: 1.19e+00, val/IIA: 45.59, val/accuracy: 72.83, val/strict_accuracy: 72.83\n",
      "Epoch 5: lr: 9.50e-04, iit_weight: 1.00e+00, behavior_weight: 0.00e+00, strict_weight: 1.00e+00, train/iit_loss: 6.99e-01, train/behavior_loss: 0.00e+00, train/strict_loss: 6.56e-01, val/iit_loss: 6.03e-01, val/IIA: 76.85, val/accuracy: 75.11, val/strict_accuracy: 75.11\n",
      "Epoch 6: lr: 9.40e-04, iit_weight: 1.00e+00, behavior_weight: 0.00e+00, strict_weight: 1.00e+00, train/iit_loss: 1.08e+00, train/behavior_loss: 0.00e+00, train/strict_loss: 5.94e-01, val/iit_loss: 8.80e-01, val/IIA: 58.29, val/accuracy: 75.61, val/strict_accuracy: 75.61\n",
      "Epoch 7: lr: 9.30e-04, iit_weight: 1.00e+00, behavior_weight: 0.00e+00, strict_weight: 1.00e+00, train/iit_loss: 8.05e-01, train/behavior_loss: 0.00e+00, train/strict_loss: 5.66e-01, val/iit_loss: 1.01e+00, val/IIA: 54.74, val/accuracy: 75.78, val/strict_accuracy: 75.78\n",
      "Epoch 8: lr: 9.20e-04, iit_weight: 1.00e+00, behavior_weight: 0.00e+00, strict_weight: 1.00e+00, train/iit_loss: 7.76e-01, train/behavior_loss: 0.00e+00, train/strict_loss: 5.32e-01, val/iit_loss: 6.31e-01, val/IIA: 70.25, val/accuracy: 77.72, val/strict_accuracy: 77.72\n",
      "Epoch 9: lr: 9.10e-04, iit_weight: 1.00e+00, behavior_weight: 0.00e+00, strict_weight: 1.00e+00, train/iit_loss: 7.10e-01, train/behavior_loss: 0.00e+00, train/strict_loss: 5.04e-01, val/iit_loss: 8.09e-01, val/IIA: 62.14, val/accuracy: 78.99, val/strict_accuracy: 78.99\n",
      "Epoch 10: lr: 9.00e-04, iit_weight: 1.00e+00, behavior_weight: 0.00e+00, strict_weight: 1.00e+00, train/iit_loss: 6.82e-01, train/behavior_loss: 0.00e+00, train/strict_loss: 4.79e-01, val/iit_loss: 6.00e-01, val/IIA: 72.70, val/accuracy: 79.83, val/strict_accuracy: 79.83\n",
      "Epoch 11: lr: 8.90e-04, iit_weight: 1.00e+00, behavior_weight: 0.00e+00, strict_weight: 1.00e+00, train/iit_loss: 5.78e-01, train/behavior_loss: 0.00e+00, train/strict_loss: 4.51e-01, val/iit_loss: 5.88e-01, val/IIA: 72.46, val/accuracy: 81.41, val/strict_accuracy: 81.41\n",
      "Epoch 12: lr: 8.80e-04, iit_weight: 1.00e+00, behavior_weight: 0.00e+00, strict_weight: 1.00e+00, train/iit_loss: 5.59e-01, train/behavior_loss: 0.00e+00, train/strict_loss: 4.18e-01, val/iit_loss: 4.06e-01, val/IIA: 83.05, val/accuracy: 83.45, val/strict_accuracy: 83.45\n",
      "Epoch 13: lr: 8.70e-04, iit_weight: 1.00e+00, behavior_weight: 0.00e+00, strict_weight: 1.00e+00, train/iit_loss: 5.52e-01, train/behavior_loss: 0.00e+00, train/strict_loss: 3.83e-01, val/iit_loss: 6.07e-01, val/IIA: 73.67, val/accuracy: 84.52, val/strict_accuracy: 84.52\n",
      "Epoch 14: lr: 8.60e-04, iit_weight: 1.00e+00, behavior_weight: 0.00e+00, strict_weight: 1.00e+00, train/iit_loss: 4.45e-01, train/behavior_loss: 0.00e+00, train/strict_loss: 3.38e-01, val/iit_loss: 3.39e-01, val/IIA: 86.50, val/accuracy: 85.36, val/strict_accuracy: 85.36\n",
      "Epoch 15: lr: 8.50e-04, iit_weight: 1.00e+00, behavior_weight: 0.00e+00, strict_weight: 1.00e+00, train/iit_loss: 4.56e-01, train/behavior_loss: 0.00e+00, train/strict_loss: 3.25e-01, val/iit_loss: 3.98e-01, val/IIA: 84.82, val/accuracy: 89.38, val/strict_accuracy: 89.38\n",
      "Epoch 16: lr: 8.40e-04, iit_weight: 1.00e+00, behavior_weight: 0.00e+00, strict_weight: 1.00e+00, train/iit_loss: 4.70e-01, train/behavior_loss: 0.00e+00, train/strict_loss: 2.87e-01, val/iit_loss: 3.51e-01, val/IIA: 86.83, val/accuracy: 89.65, val/strict_accuracy: 89.65\n",
      "Epoch 17: lr: 8.30e-04, iit_weight: 1.00e+00, behavior_weight: 0.00e+00, strict_weight: 1.00e+00, train/iit_loss: 4.59e-01, train/behavior_loss: 0.00e+00, train/strict_loss: 2.74e-01, val/iit_loss: 3.20e-01, val/IIA: 88.24, val/accuracy: 89.88, val/strict_accuracy: 89.88\n",
      "Epoch 18: lr: 8.20e-04, iit_weight: 1.00e+00, behavior_weight: 0.00e+00, strict_weight: 1.00e+00, train/iit_loss: 4.67e-01, train/behavior_loss: 0.00e+00, train/strict_loss: 2.48e-01, val/iit_loss: 3.53e-01, val/IIA: 86.33, val/accuracy: 91.73, val/strict_accuracy: 91.73\n",
      "Epoch 19: lr: 8.10e-04, iit_weight: 1.00e+00, behavior_weight: 0.00e+00, strict_weight: 1.00e+00, train/iit_loss: 4.36e-01, train/behavior_loss: 0.00e+00, train/strict_loss: 2.79e-01, val/iit_loss: 6.24e-01, val/IIA: 76.72, val/accuracy: 90.32, val/strict_accuracy: 90.32\n",
      "Epoch 20: lr: 8.00e-04, iit_weight: 1.00e+00, behavior_weight: 0.00e+00, strict_weight: 1.00e+00, train/iit_loss: 3.74e-01, train/behavior_loss: 0.00e+00, train/strict_loss: 2.12e-01, val/iit_loss: 4.65e-01, val/IIA: 79.33, val/accuracy: 93.23, val/strict_accuracy: 93.23\n",
      "Epoch 21: lr: 7.90e-04, iit_weight: 1.00e+00, behavior_weight: 0.00e+00, strict_weight: 1.00e+00, train/iit_loss: 2.95e-01, train/behavior_loss: 0.00e+00, train/strict_loss: 1.95e-01, val/iit_loss: 1.91e-01, val/IIA: 94.07, val/accuracy: 93.77, val/strict_accuracy: 93.77\n",
      "Epoch 22: lr: 7.80e-04, iit_weight: 1.00e+00, behavior_weight: 0.00e+00, strict_weight: 1.00e+00, train/iit_loss: 2.42e-01, train/behavior_loss: 0.00e+00, train/strict_loss: 1.84e-01, val/iit_loss: 2.59e-01, val/IIA: 91.39, val/accuracy: 94.41, val/strict_accuracy: 94.41\n",
      "Epoch 23: lr: 7.70e-04, iit_weight: 1.00e+00, behavior_weight: 0.00e+00, strict_weight: 1.00e+00, train/iit_loss: 4.53e-01, train/behavior_loss: 0.00e+00, train/strict_loss: 1.73e-01, val/iit_loss: 1.57e-01, val/IIA: 96.08, val/accuracy: 95.18, val/strict_accuracy: 95.18\n",
      "Epoch 24: lr: 7.60e-04, iit_weight: 1.00e+00, behavior_weight: 0.00e+00, strict_weight: 1.00e+00, train/iit_loss: 4.83e-01, train/behavior_loss: 0.00e+00, train/strict_loss: 1.47e-01, val/iit_loss: 2.15e-01, val/IIA: 94.04, val/accuracy: 95.78, val/strict_accuracy: 95.78\n",
      "Epoch 25: lr: 7.50e-04, iit_weight: 1.00e+00, behavior_weight: 0.00e+00, strict_weight: 1.00e+00, train/iit_loss: 2.88e-01, train/behavior_loss: 0.00e+00, train/strict_loss: 1.31e-01, val/iit_loss: 2.10e-01, val/IIA: 93.40, val/accuracy: 95.95, val/strict_accuracy: 95.95\n",
      "Epoch 26: lr: 7.40e-04, iit_weight: 1.00e+00, behavior_weight: 0.00e+00, strict_weight: 1.00e+00, train/iit_loss: 2.88e-01, train/behavior_loss: 0.00e+00, train/strict_loss: 1.19e-01, val/iit_loss: 1.76e-01, val/IIA: 95.31, val/accuracy: 96.82, val/strict_accuracy: 96.82\n",
      "Epoch 27: lr: 7.30e-04, iit_weight: 1.00e+00, behavior_weight: 0.00e+00, strict_weight: 1.00e+00, train/iit_loss: 4.80e-01, train/behavior_loss: 0.00e+00, train/strict_loss: 1.22e-01, val/iit_loss: 1.05e-01, val/IIA: 97.82, val/accuracy: 97.22, val/strict_accuracy: 97.22\n",
      "Epoch 28: lr: 7.20e-04, iit_weight: 1.00e+00, behavior_weight: 0.00e+00, strict_weight: 1.00e+00, train/iit_loss: 4.06e-01, train/behavior_loss: 0.00e+00, train/strict_loss: 1.06e-01, val/iit_loss: 9.37e-02, val/IIA: 98.56, val/accuracy: 98.26, val/strict_accuracy: 98.26\n",
      "Epoch 29: lr: 7.10e-04, iit_weight: 1.00e+00, behavior_weight: 0.00e+00, strict_weight: 1.00e+00, train/iit_loss: 9.12e-02, train/behavior_loss: 0.00e+00, train/strict_loss: 8.46e-02, val/iit_loss: 1.25e-01, val/IIA: 97.39, val/accuracy: 97.86, val/strict_accuracy: 97.86\n",
      "Epoch 30: lr: 7.00e-04, iit_weight: 1.00e+00, behavior_weight: 0.00e+00, strict_weight: 1.00e+00, train/iit_loss: 3.06e-01, train/behavior_loss: 0.00e+00, train/strict_loss: 8.33e-02, val/iit_loss: 6.57e-01, val/IIA: 80.50, val/accuracy: 98.59, val/strict_accuracy: 98.59\n",
      "Epoch 31: lr: 6.90e-04, iit_weight: 1.00e+00, behavior_weight: 0.00e+00, strict_weight: 1.00e+00, train/iit_loss: 4.13e-01, train/behavior_loss: 0.00e+00, train/strict_loss: 7.54e-02, val/iit_loss: 3.38e-01, val/IIA: 86.00, val/accuracy: 97.42, val/strict_accuracy: 97.42\n",
      "Epoch 32: lr: 6.80e-04, iit_weight: 1.00e+00, behavior_weight: 0.00e+00, strict_weight: 1.00e+00, train/iit_loss: 3.11e-01, train/behavior_loss: 0.00e+00, train/strict_loss: 6.43e-02, val/iit_loss: 5.95e-02, val/IIA: 98.89, val/accuracy: 99.10, val/strict_accuracy: 99.10\n",
      "Epoch 33: lr: 6.70e-04, iit_weight: 1.00e+00, behavior_weight: 0.00e+00, strict_weight: 1.00e+00, train/iit_loss: 1.25e-01, train/behavior_loss: 0.00e+00, train/strict_loss: 4.38e-02, val/iit_loss: 9.18e-02, val/IIA: 98.53, val/accuracy: 99.36, val/strict_accuracy: 99.36\n",
      "Epoch 34: lr: 6.60e-04, iit_weight: 1.00e+00, behavior_weight: 0.00e+00, strict_weight: 1.00e+00, train/iit_loss: 2.91e-01, train/behavior_loss: 0.00e+00, train/strict_loss: 3.79e-02, val/iit_loss: 4.71e-02, val/IIA: 99.30, val/accuracy: 99.23, val/strict_accuracy: 99.23\n",
      "Epoch 35: lr: 6.50e-04, iit_weight: 1.00e+00, behavior_weight: 0.00e+00, strict_weight: 1.00e+00, train/iit_loss: 2.81e-01, train/behavior_loss: 0.00e+00, train/strict_loss: 4.23e-02, val/iit_loss: 7.69e-02, val/IIA: 98.96, val/accuracy: 99.53, val/strict_accuracy: 99.53\n",
      "Epoch 36: lr: 6.40e-04, iit_weight: 1.00e+00, behavior_weight: 0.00e+00, strict_weight: 1.00e+00, train/iit_loss: 1.45e-01, train/behavior_loss: 0.00e+00, train/strict_loss: 2.86e-02, val/iit_loss: 4.64e-01, val/IIA: 86.43, val/accuracy: 99.77, val/strict_accuracy: 99.77\n",
      "Epoch 37: lr: 6.30e-04, iit_weight: 1.00e+00, behavior_weight: 0.00e+00, strict_weight: 1.00e+00, train/iit_loss: 2.92e-01, train/behavior_loss: 0.00e+00, train/strict_loss: 3.96e-02, val/iit_loss: 6.34e-02, val/IIA: 99.16, val/accuracy: 99.26, val/strict_accuracy: 99.26\n",
      "Epoch 38: lr: 6.20e-04, iit_weight: 1.00e+00, behavior_weight: 0.00e+00, strict_weight: 1.00e+00, train/iit_loss: 2.23e-01, train/behavior_loss: 0.00e+00, train/strict_loss: 2.75e-02, val/iit_loss: 4.66e-01, val/IIA: 86.77, val/accuracy: 99.70, val/strict_accuracy: 99.70\n",
      "Epoch 39: lr: 6.10e-04, iit_weight: 1.00e+00, behavior_weight: 0.00e+00, strict_weight: 1.00e+00, train/iit_loss: 2.05e-01, train/behavior_loss: 0.00e+00, train/strict_loss: 2.21e-02, val/iit_loss: 4.39e-01, val/IIA: 87.10, val/accuracy: 99.83, val/strict_accuracy: 99.83\n",
      "Epoch 40: lr: 6.00e-04, iit_weight: 1.00e+00, behavior_weight: 0.00e+00, strict_weight: 1.00e+00, train/iit_loss: 9.16e-02, train/behavior_loss: 0.00e+00, train/strict_loss: 2.01e-02, val/iit_loss: 2.03e-01, val/IIA: 92.46, val/accuracy: 99.97, val/strict_accuracy: 99.97\n",
      "Epoch 41: lr: 5.90e-04, iit_weight: 1.00e+00, behavior_weight: 0.00e+00, strict_weight: 1.00e+00, train/iit_loss: 1.16e-01, train/behavior_loss: 0.00e+00, train/strict_loss: 1.96e-02, val/iit_loss: 2.04e-02, val/IIA: 99.97, val/accuracy: 99.97, val/strict_accuracy: 99.97\n",
      "Epoch 42: lr: 5.80e-04, iit_weight: 1.00e+00, behavior_weight: 0.00e+00, strict_weight: 1.00e+00, train/iit_loss: 1.90e-01, train/behavior_loss: 0.00e+00, train/strict_loss: 1.82e-02, val/iit_loss: 1.72e-01, val/IIA: 93.97, val/accuracy: 99.97, val/strict_accuracy: 99.97\n",
      "Epoch 43: lr: 5.70e-04, iit_weight: 1.00e+00, behavior_weight: 0.00e+00, strict_weight: 1.00e+00, train/iit_loss: 1.06e-01, train/behavior_loss: 0.00e+00, train/strict_loss: 1.70e-02, val/iit_loss: 5.02e-01, val/IIA: 86.37, val/accuracy: 99.97, val/strict_accuracy: 99.97\n",
      "Epoch 44: lr: 5.60e-04, iit_weight: 1.00e+00, behavior_weight: 0.00e+00, strict_weight: 1.00e+00, train/iit_loss: 5.82e-02, train/behavior_loss: 0.00e+00, train/strict_loss: 1.63e-02, val/iit_loss: 4.29e-02, val/IIA: 99.77, val/accuracy: 99.97, val/strict_accuracy: 99.97\n",
      "Epoch 45: lr: 5.50e-04, iit_weight: 1.00e+00, behavior_weight: 0.00e+00, strict_weight: 1.00e+00, train/iit_loss: 9.74e-02, train/behavior_loss: 0.00e+00, train/strict_loss: 1.59e-02, val/iit_loss: 5.55e-01, val/IIA: 85.59, val/accuracy: 99.97, val/strict_accuracy: 99.97\n",
      "Epoch 46: lr: 5.40e-04, iit_weight: 1.00e+00, behavior_weight: 0.00e+00, strict_weight: 1.00e+00, train/iit_loss: 1.20e-01, train/behavior_loss: 0.00e+00, train/strict_loss: 1.63e-02, val/iit_loss: 5.15e-02, val/IIA: 99.53, val/accuracy: 99.73, val/strict_accuracy: 99.73\n",
      "Epoch 47: lr: 5.30e-04, iit_weight: 1.00e+00, behavior_weight: 0.00e+00, strict_weight: 1.00e+00, train/iit_loss: 2.17e-01, train/behavior_loss: 0.00e+00, train/strict_loss: 1.75e-02, val/iit_loss: 1.32e-01, val/IIA: 96.01, val/accuracy: 99.93, val/strict_accuracy: 99.93\n",
      "Epoch 48: lr: 5.20e-04, iit_weight: 1.00e+00, behavior_weight: 0.00e+00, strict_weight: 1.00e+00, train/iit_loss: 1.59e-01, train/behavior_loss: 0.00e+00, train/strict_loss: 1.65e-02, val/iit_loss: 5.11e-01, val/IIA: 86.90, val/accuracy: 99.80, val/strict_accuracy: 99.80\n",
      "Epoch 49: lr: 5.10e-04, iit_weight: 1.00e+00, behavior_weight: 0.00e+00, strict_weight: 1.00e+00, train/iit_loss: 4.91e-02, train/behavior_loss: 0.00e+00, train/strict_loss: 1.30e-02, val/iit_loss: 4.24e-02, val/IIA: 99.73, val/accuracy: 99.97, val/strict_accuracy: 99.97\n",
      "Epoch 50: lr: 5.00e-04, iit_weight: 1.00e+00, behavior_weight: 0.00e+00, strict_weight: 1.00e+00, train/iit_loss: 1.91e-02, train/behavior_loss: 0.00e+00, train/strict_loss: 1.14e-02, val/iit_loss: 3.43e-02, val/IIA: 99.90, val/accuracy: 99.93, val/strict_accuracy: 99.93\n",
      "Epoch 51: lr: 4.90e-04, iit_weight: 1.00e+00, behavior_weight: 0.00e+00, strict_weight: 1.00e+00, train/iit_loss: 1.68e-01, train/behavior_loss: 0.00e+00, train/strict_loss: 1.06e-02, val/iit_loss: 4.63e-01, val/IIA: 87.84, val/accuracy: 99.97, val/strict_accuracy: 99.97\n",
      "Epoch 52: lr: 4.80e-04, iit_weight: 1.00e+00, behavior_weight: 0.00e+00, strict_weight: 1.00e+00, train/iit_loss: 2.99e-01, train/behavior_loss: 0.00e+00, train/strict_loss: 1.29e-02, val/iit_loss: 3.15e-02, val/IIA: 99.97, val/accuracy: 99.97, val/strict_accuracy: 99.97\n",
      "Epoch 53: lr: 4.70e-04, iit_weight: 1.00e+00, behavior_weight: 0.00e+00, strict_weight: 1.00e+00, train/iit_loss: 1.51e-01, train/behavior_loss: 0.00e+00, train/strict_loss: 1.12e-02, val/iit_loss: 3.43e-02, val/IIA: 99.70, val/accuracy: 99.97, val/strict_accuracy: 99.97\n",
      "Epoch 54: lr: 4.60e-04, iit_weight: 1.00e+00, behavior_weight: 0.00e+00, strict_weight: 1.00e+00, train/iit_loss: 1.19e-01, train/behavior_loss: 0.00e+00, train/strict_loss: 9.93e-03, val/iit_loss: 2.93e-02, val/IIA: 99.93, val/accuracy: 99.97, val/strict_accuracy: 99.97\n",
      "Epoch 55: lr: 4.50e-04, iit_weight: 1.00e+00, behavior_weight: 0.00e+00, strict_weight: 1.00e+00, train/iit_loss: 1.51e-01, train/behavior_loss: 0.00e+00, train/strict_loss: 1.05e-02, val/iit_loss: 3.97e-01, val/IIA: 89.65, val/accuracy: 99.97, val/strict_accuracy: 99.97\n",
      "Epoch 56: lr: 4.40e-04, iit_weight: 1.00e+00, behavior_weight: 0.00e+00, strict_weight: 1.00e+00, train/iit_loss: 1.53e-01, train/behavior_loss: 0.00e+00, train/strict_loss: 9.34e-03, val/iit_loss: 3.85e-01, val/IIA: 89.78, val/accuracy: 99.93, val/strict_accuracy: 99.93\n",
      "Epoch 57: lr: 4.30e-04, iit_weight: 1.00e+00, behavior_weight: 0.00e+00, strict_weight: 1.00e+00, train/iit_loss: 1.31e-01, train/behavior_loss: 0.00e+00, train/strict_loss: 9.96e-03, val/iit_loss: 1.05e-02, val/IIA: 100.00, val/accuracy: 100.00, val/strict_accuracy: 100.00\n"
     ]
    }
   ],
   "source": [
    "ll_model = hl_model.get_ll_model()\n",
    "model_pair = StrictIITModelPair(hl_model=hl_model, ll_model=ll_model, corr=corr, training_args=training_args)\n",
    "model_pair.train(\n",
    "    train_set=train_set,\n",
    "    test_set=test_set,\n",
    "    optimizer_cls=torch.optim.AdamW,\n",
    "    epochs=n_epochs,\n",
    "    optimizer_kwargs=dict(weight_decay=1e-4),\n",
    ")"
   ]
  },
  {
   "cell_type": "markdown",
   "metadata": {},
   "source": [
    "# Unique token extraction\n",
    "case 21 in circuits-bench"
   ]
  },
  {
   "cell_type": "code",
   "execution_count": null,
   "metadata": {},
   "outputs": [],
   "source": []
  },
  {
   "cell_type": "code",
   "execution_count": 48,
   "metadata": {},
   "outputs": [
    {
     "name": "stdout",
     "output_type": "stream",
     "text": [
      "tensor([[2, 2],\n",
      "        [2, 1],\n",
      "        [0, 0],\n",
      "        [1, 2],\n",
      "        [0, 2],\n",
      "        [2, 0],\n",
      "        [2, 2],\n",
      "        [0, 2],\n",
      "        [1, 0],\n",
      "        [2, 0]])\n",
      "[1, 3]\n"
     ]
    }
   ],
   "source": [
    "import torch\n",
    "print(torch.randint(0, 3, (10, 2)))\n",
    "\n",
    "a = [1, 2, 3]\n",
    "a.remove(2)\n",
    "print(a)"
   ]
  },
  {
   "cell_type": "markdown",
   "metadata": {},
   "source": [
    "# Increasing / Decreasing detector\n",
    "case 13 in circuits-bench"
   ]
  },
  {
   "cell_type": "code",
   "execution_count": null,
   "metadata": {},
   "outputs": [],
   "source": []
  }
 ],
 "metadata": {
  "kernelspec": {
   "display_name": "circuits_bench",
   "language": "python",
   "name": "python3"
  },
  "language_info": {
   "codemirror_mode": {
    "name": "ipython",
    "version": 3
   },
   "file_extension": ".py",
   "mimetype": "text/x-python",
   "name": "python",
   "nbconvert_exporter": "python",
   "pygments_lexer": "ipython3",
   "version": "3.11.9"
  }
 },
 "nbformat": 4,
 "nbformat_minor": 2
}
