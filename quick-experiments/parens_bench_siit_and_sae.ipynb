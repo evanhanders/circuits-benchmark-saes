{
 "cells": [
  {
   "cell_type": "code",
   "execution_count": 1,
   "id": "aadb87f4-0900-402d-bcb9-80d8ab780d3e",
   "metadata": {},
   "outputs": [],
   "source": [
    "%load_ext autoreload\n",
    "%autoreload 2"
   ]
  },
  {
   "cell_type": "code",
   "execution_count": 2,
   "id": "08091f5a-0c98-4367-80e3-7611a4f5d626",
   "metadata": {},
   "outputs": [
    {
     "name": "stdout",
     "output_type": "stream",
     "text": [
      "All tests passed!\n",
      "['[BOS]', '(', '[PAD]', '[PAD]', '[PAD]']\n",
      "['[BOS]', ')', '[PAD]', '[PAD]', '[PAD]']\n",
      "['[BOS]', '(', '(', '[PAD]', '[PAD]']\n",
      "['[BOS]', '(', ')', '[PAD]', '[PAD]']\n",
      "['[BOS]', ')', '(', '[PAD]', '[PAD]']\n",
      "['[BOS]', ')', ')', '[PAD]', '[PAD]']\n",
      "['[BOS]', '(', '(', '(', '[PAD]']\n",
      "['[BOS]', '(', '(', ')', '[PAD]']\n",
      "['[BOS]', '(', ')', '(', '[PAD]']\n",
      "['[BOS]', '(', ')', ')', '[PAD]']\n"
     ]
    }
   ],
   "source": [
    "from paren_checker import HighLevelParensBalanceChecker, ParensBalanceDataset\n",
    "from paren_checker import test_HL_parens_components\n",
    "test_HL_parens_components()\n",
    "balance_checker = HighLevelParensBalanceChecker()\n",
    "sample_dataset = ParensBalanceDataset(N_samples=10, n_ctx=5).get_dataset()\n",
    "for toks in sample_dataset['str_tokens']:\n",
    "    print(toks)"
   ]
  },
  {
   "cell_type": "code",
   "execution_count": 3,
   "id": "a33c5b0b-abee-4cf4-a17f-73868919b479",
   "metadata": {},
   "outputs": [
    {
     "name": "stdout",
     "output_type": "stream",
     "text": [
      "Model:\n",
      "HookedTransformer(\n",
      "  (embed): Embed()\n",
      "  (hook_embed): HookPoint()\n",
      "  (pos_embed): PosEmbed()\n",
      "  (hook_pos_embed): HookPoint()\n",
      "  (blocks): ModuleList(\n",
      "    (0-1): 2 x TransformerBlock(\n",
      "      (ln1): LayerNorm(\n",
      "        (hook_scale): HookPoint()\n",
      "        (hook_normalized): HookPoint()\n",
      "      )\n",
      "      (ln2): LayerNorm(\n",
      "        (hook_scale): HookPoint()\n",
      "        (hook_normalized): HookPoint()\n",
      "      )\n",
      "      (attn): Attention(\n",
      "        (hook_k): HookPoint()\n",
      "        (hook_q): HookPoint()\n",
      "        (hook_v): HookPoint()\n",
      "        (hook_z): HookPoint()\n",
      "        (hook_attn_scores): HookPoint()\n",
      "        (hook_pattern): HookPoint()\n",
      "        (hook_result): HookPoint()\n",
      "      )\n",
      "      (mlp): MLP(\n",
      "        (hook_pre): HookPoint()\n",
      "        (hook_post): HookPoint()\n",
      "      )\n",
      "      (hook_attn_in): HookPoint()\n",
      "      (hook_q_input): HookPoint()\n",
      "      (hook_k_input): HookPoint()\n",
      "      (hook_v_input): HookPoint()\n",
      "      (hook_mlp_in): HookPoint()\n",
      "      (hook_attn_out): HookPoint()\n",
      "      (hook_mlp_out): HookPoint()\n",
      "      (hook_resid_pre): HookPoint()\n",
      "      (hook_resid_mid): HookPoint()\n",
      "      (hook_resid_post): HookPoint()\n",
      "    )\n",
      "  )\n",
      "  (ln_final): LayerNorm(\n",
      "    (hook_scale): HookPoint()\n",
      "    (hook_normalized): HookPoint()\n",
      "  )\n",
      "  (unembed): Unembed()\n",
      ")\n",
      "\n",
      "Correspondence:\n",
      "input_hook {LLNode(name='blocks.0.hook_resid_pre', index=[:], subspace=None)}\n",
      "elevation_hook {LLNode(name='blocks.0.attn.hook_z', index=[:, :, 0, :], subspace=None)}\n",
      "elevation_check_hook {LLNode(name='blocks.0.mlp.hook_post', index=[:], subspace=tensor([ 0,  1,  2,  3,  4,  5,  6,  7,  8,  9, 10, 11, 12, 13, 14, 15, 16, 17,\n",
      "        18, 19, 20, 21, 22, 23, 24, 25, 26, 27, 28, 29, 30, 31],\n",
      "       dtype=torch.int32))}\n",
      "horizon_check_hook {LLNode(name='blocks.0.mlp.hook_post', index=[:], subspace=tensor([32, 33, 34, 35, 36, 37, 38, 39, 40, 41, 42, 43, 44, 45, 46, 47, 48, 49,\n",
      "        50, 51, 52, 53, 54, 55, 56, 57, 58, 59, 60, 61, 62, 63],\n",
      "       dtype=torch.int32))}\n",
      "balance_check_hook {LLNode(name='blocks.1.attn.hook_z', index=[:, :, 1, :], subspace=None)}\n",
      "\n",
      "Unused:\n",
      "LLNode(name='blocks.0.attn.hook_z', index=[:, :, 1, :], subspace=None)\n",
      "LLNode(name='blocks.1.attn.hook_z', index=[:, :, 0, :], subspace=None)\n",
      "LLNode(name='blocks.1.mlp.hook_post', index=[:], subspace=None)\n"
     ]
    }
   ],
   "source": [
    "from paren_checker import get_LL_parens_model_and_correspondence\n",
    "ll_model, corr, unused_nodes = get_LL_parens_model_and_correspondence()\n",
    "print(\"Model:\")\n",
    "print(ll_model)\n",
    "print(\"\\nCorrespondence:\")\n",
    "for k, i in corr.items():\n",
    "    print(k, i)\n",
    "print(\"\\nUnused:\")\n",
    "for n in unused_nodes:\n",
    "    print(n)"
   ]
  },
  {
   "cell_type": "code",
   "execution_count": 55,
   "id": "f4ad087a-b145-48f4-ab2c-75ecc6f7b2c9",
   "metadata": {},
   "outputs": [
    {
     "name": "stdout",
     "output_type": "stream",
     "text": [
      "Moving model to device:  cuda\n",
      "Epoch 1/5\n"
     ]
    },
    {
     "name": "stderr",
     "output_type": "stream",
     "text": [
      "                                                   \r"
     ]
    },
    {
     "name": "stdout",
     "output_type": "stream",
     "text": [
      "Epoch 2/5\n"
     ]
    },
    {
     "name": "stderr",
     "output_type": "stream",
     "text": [
      "                                                   \r"
     ]
    },
    {
     "name": "stdout",
     "output_type": "stream",
     "text": [
      "Epoch 3/5\n"
     ]
    },
    {
     "name": "stderr",
     "output_type": "stream",
     "text": [
      "                                                  \r"
     ]
    },
    {
     "name": "stdout",
     "output_type": "stream",
     "text": [
      "Epoch 4/5\n"
     ]
    },
    {
     "name": "stderr",
     "output_type": "stream",
     "text": [
      "                                                   \r"
     ]
    },
    {
     "name": "stdout",
     "output_type": "stream",
     "text": [
      "Epoch 5/5\n"
     ]
    },
    {
     "name": "stderr",
     "output_type": "stream",
     "text": [
      "                                                  \r"
     ]
    }
   ],
   "source": [
    "import torch as t\n",
    "from siit_utils import ModelTrainerSIIT\n",
    "from paren_checker import paren_checker_loss_fn as loss_fn\n",
    "\n",
    "\n",
    "\n",
    "ll_model, corr, unused_nodes = get_LL_parens_model_and_correspondence()\n",
    "dataset = ParensBalanceDataset(N_samples=800_000, n_ctx=20).get_dataset()\n",
    "\n",
    "trainer = ModelTrainerSIIT(\n",
    "    ll_model=ll_model,\n",
    "    hl_model=balance_checker,\n",
    "    dataset=dataset,\n",
    "    corr=corr,\n",
    "    unused_nodes=unused_nodes,\n",
    "    loss_fn=loss_fn,\n",
    "    baseline_weight = 1,\n",
    "    iit_weight = 1,\n",
    "    siit_weight = 1,\n",
    "    batch_size = 256,\n",
    "    device = 'cuda'\n",
    ")\n",
    "\n",
    "results = trainer.train(epochs=5)"
   ]
  },
  {
   "cell_type": "code",
   "execution_count": 56,
   "id": "1a51fc16-d9fe-497b-bb03-88490768679b",
   "metadata": {},
   "outputs": [
    {
     "data": {
      "text/plain": [
       "[<matplotlib.lines.Line2D at 0x7fc912ad83d0>]"
      ]
     },
     "execution_count": 56,
     "metadata": {},
     "output_type": "execute_result"
    },
    {
     "data": {
      "image/png": "[encoded data removed]",
      "text/plain": [
       "<Figure size 640x480 with 1 Axes>"
      ]
     },
     "metadata": {},
     "output_type": "display_data"
    }
   ],
   "source": [
    "%matplotlib inline\n",
    "import matplotlib.pyplot as plt\n",
    "plt.semilogy(results['train_loss'])"
   ]
  },
  {
   "cell_type": "code",
   "execution_count": 57,
   "id": "77d0dac6-6c3e-4a0b-8716-42d5b01cb3c0",
   "metadata": {},
   "outputs": [
    {
     "data": {
      "text/plain": [
       "[<matplotlib.lines.Line2D at 0x7fc8b0614df0>]"
      ]
     },
     "execution_count": 57,
     "metadata": {},
     "output_type": "execute_result"
    },
    {
     "data": {
      "image/png": "[encoded data removed]",
      "text/plain": [
       "<Figure size 640x480 with 1 Axes>"
      ]
     },
     "metadata": {},
     "output_type": "display_data"
    }
   ],
   "source": [
    "import numpy as np\n",
    "plt.semilogy(1 - np.array(results['train_IIA']))"
   ]
  },
  {
   "cell_type": "code",
   "execution_count": 58,
   "id": "0f6f419e-938c-4f75-b9d7-f6cc712322b0",
   "metadata": {},
   "outputs": [
    {
     "data": {
      "text/plain": [
       "0.99999375"
      ]
     },
     "execution_count": 58,
     "metadata": {},
     "output_type": "execute_result"
    }
   ],
   "source": [
    "results['test_IIA']"
   ]
  },
  {
   "cell_type": "code",
   "execution_count": 79,
   "id": "61f9b230-1fc9-47d9-b7dc-70aea22b25db",
   "metadata": {},
   "outputs": [
    {
     "name": "stdout",
     "output_type": "stream",
     "text": [
      "Errors: 1/160000, Ablated Err: 16/160000\n"
     ]
    }
   ],
   "source": [
    "from functools import partial\n",
    "from siit_utils import make_post_ablation_hook\n",
    "tot = 0\n",
    "errors = 0\n",
    "ablated_errors = 0\n",
    "for b in trainer.test_dataloaders[0]:\n",
    "    tokens, labels = b\n",
    "    logits, cache = ll_model.run_with_cache(tokens)\n",
    "    output_labels = t.round(t.sigmoid(logits)[:,-1,-1])\n",
    "    sumdiff = (labels.cuda() != output_labels.float()).sum().item()\n",
    "\n",
    "    hooks = []\n",
    "    for node in unused_nodes:\n",
    "        hooks.append((node.name, make_post_ablation_hook(ll_node=node, ll_cache=cache, method='mean')))\n",
    "    ablated_logits = ll_model.run_with_hooks(tokens, fwd_hooks=hooks)\n",
    "    \n",
    "    ablated_labels = t.round(t.sigmoid(ablated_logits)[:,-1,-1])\n",
    "    ablated_sumdiff = (labels.cuda() != ablated_labels.float()).sum().item()\n",
    "\n",
    "    errors += sumdiff\n",
    "    ablated_errors += ablated_sumdiff\n",
    "    tot += labels.numel()\n",
    "print(f'Errors: {errors}/{tot}, Ablated Err: {ablated_errors}/{tot}')\n",
    "    "
   ]
  },
  {
   "cell_type": "code",
   "execution_count": null,
   "id": "44f88fa4-448f-4f24-b9c7-6f6715ce17a6",
   "metadata": {},
   "outputs": [],
   "source": [
    "    \n",
    "for idx in range(100):\n",
    "    tokens, label = test_t_dataset[idx]\n",
    "    output_label = t.sigmoid(ll_model(tokens))\n",
    "    output, cache = ll_model.run_with_cache(tokens)\n",
    "    ablated_output = t.sigmoid(ll_model.run_with_hooks(tokens, fwd_hooks=[\n",
    "        (node.name, make_post_ablation_hook(node, cache, method='mean')) for node in unused_hook_nodes\n",
    "    ]))\n",
    "    if label.item() == 1:\n",
    "        print(label.item(), f'{output_label[0,-1].item():.2e}, {ablated_output[0,-1].item():.2e}', tokens)\n",
    "    elif idx % 10 == 0:\n",
    "        print(label.item(), f'{output_label[0,-1].item():.2e}, {ablated_output[0,-1].item():.2e}',)"
   ]
  },
  {
   "cell_type": "code",
   "execution_count": 7,
   "id": "b4175b6e-6308-455d-bff9-5cece1ab0b73",
   "metadata": {},
   "outputs": [],
   "source": [
    "#TODO: Add lines to save model to huggingface."
   ]
  },
  {
   "cell_type": "markdown",
   "id": "c580dbba-f101-4bf4-a1ea-15f9a50b801d",
   "metadata": {},
   "source": [
    "# SAE"
   ]
  },
  {
   "cell_type": "code",
   "execution_count": 8,
   "id": "51bb0308-b17b-405a-95fb-d7d0895b5197",
   "metadata": {},
   "outputs": [
    {
     "name": "stdout",
     "output_type": "stream",
     "text": [
      "Encoded: [0, 1, 2, 1, 2, 3, 3, 3]\n",
      "Decoded: BOS ( ) ( ) [PAD] [PAD] [PAD]\n"
     ]
    }
   ],
   "source": [
    "from paren_checker import create_paren_checker_tokenizer\n",
    "tokenizer = create_paren_checker_tokenizer()\n",
    "ll_model.tokenizer = tokenizer #attach to model."
   ]
  },
  {
   "cell_type": "code",
   "execution_count": 37,
   "id": "dc6b5b5f-8485-4cc6-8f0b-0f2f3c1a72cd",
   "metadata": {},
   "outputs": [
    {
     "name": "stdout",
     "output_type": "stream",
     "text": [
      "context_size 20\n",
      "d_in 64\n",
      "wandb_project benchmark_saes\n",
      "Run name: 256-L1-0.4-LR-0.0003-Tokens-2.000e+08\n",
      "n_tokens_per_buffer (millions): 0.0016\n",
      "Lower bound: n_contexts_per_buffer (millions): 8e-05\n",
      "Total training steps: 2500000\n",
      "Total wandb updates: 250000\n",
      "n_tokens_per_feature_sampling_window (millions): 3.2\n",
      "n_tokens_per_dead_feature_window (millions): 1.6\n",
      "We will reset the sparsity calculation 1250 times.\n",
      "Number tokens in sparsity calculation window: 1.60e+05\n",
      "Using Ghost Grads.\n"
     ]
    }
   ],
   "source": [
    "from sae_utils import make_sae_lens_config\n",
    "sae_lens_cfg = make_sae_lens_config(\n",
    "    model=ll_model, \n",
    "    hook_name=\"blocks.0.mlp.hook_post\", \n",
    "    hook_layer=0, \n",
    "    l1_coeff=0.4,\n",
    "    # hook_head_index=0, \n",
    "    context_size=ll_model.cfg.n_ctx,\n",
    "    d_in=ll_model.cfg.d_mlp,\n",
    "    device = 'cuda',\n",
    "    checkpoint_path = f\"$HOME/persistent-storage/tracr_saes/parens_sae_checkpoints\",\n",
    "    wandb_project =  \"benchmark_saes\",\n",
    "    training_tokens = 200_000_000\n",
    ")"
   ]
  },
  {
   "cell_type": "code",
   "execution_count": 38,
   "id": "eacc2c33-2a8d-446b-8fb3-8e5e7cc1f3c8",
   "metadata": {},
   "outputs": [
    {
     "data": {
      "text/html": [
       "wandb version 0.17.4 is available!  To upgrade, please run:\n",
       " $ pip install wandb --upgrade"
      ],
      "text/plain": [
       "<IPython.core.display.HTML object>"
      ]
     },
     "metadata": {},
     "output_type": "display_data"
    },
    {
     "data": {
      "text/html": [
       "Tracking run with wandb version 0.16.6"
      ],
      "text/plain": [
       "<IPython.core.display.HTML object>"
      ]
     },
     "metadata": {},
     "output_type": "display_data"
    },
    {
     "data": {
      "text/html": [
       "Run data is saved locally in <code>/workspace/quick-experiments/wandb/run-20240709_193047-thksa6ao</code>"
      ],
      "text/plain": [
       "<IPython.core.display.HTML object>"
      ]
     },
     "metadata": {},
     "output_type": "display_data"
    },
    {
     "data": {
      "text/html": [
       "Syncing run <strong><a href='https://wandb.ai/evanhanders/benchmark_saes/runs/thksa6ao' target=\"_blank\">256-L1-0.4-LR-0.0003-Tokens-2.000e+08</a></strong> to <a href='https://wandb.ai/evanhanders/benchmark_saes' target=\"_blank\">Weights & Biases</a> (<a href='https://wandb.me/run' target=\"_blank\">docs</a>)<br/>"
      ],
      "text/plain": [
       "<IPython.core.display.HTML object>"
      ]
     },
     "metadata": {},
     "output_type": "display_data"
    },
    {
     "data": {
      "text/html": [
       " View project at <a href='https://wandb.ai/evanhanders/benchmark_saes' target=\"_blank\">https://wandb.ai/evanhanders/benchmark_saes</a>"
      ],
      "text/plain": [
       "<IPython.core.display.HTML object>"
      ]
     },
     "metadata": {},
     "output_type": "display_data"
    },
    {
     "data": {
      "text/html": [
       " View run at <a href='https://wandb.ai/evanhanders/benchmark_saes/runs/thksa6ao' target=\"_blank\">https://wandb.ai/evanhanders/benchmark_saes/runs/thksa6ao</a>"
      ],
      "text/plain": [
       "<IPython.core.display.HTML object>"
      ]
     },
     "metadata": {},
     "output_type": "display_data"
    },
    {
     "name": "stderr",
     "output_type": "stream",
     "text": [
      "Training SAE:   0%|                                                                         | 0/200000000 [00:00<?, ?it/s]/workspace/quick-experiments/sae_utils.py:316: UserWarning: To copy construct from a tensor, it is recommended to use sourceTensor.clone().detach() or sourceTensor.clone().detach().requires_grad_(True), rather than torch.tensor(sourceTensor).\n",
      "  t.tensor(dataset['tokens']).int(),\n",
      "8800| MSE Loss 0.155 | L1 1.740:  20%|██████▉                            | 39849676/200000000 [01:56<07:27, 357848.64it/s]"
     ]
    },
    {
     "name": "stdout",
     "output_type": "stream",
     "text": [
      "saving $HOME/persistent-storage/tracr_saes/parens_sae_checkpoints/h8wmxbl2/40003721\n"
     ]
    },
    {
     "name": "stderr",
     "output_type": "stream",
     "text": [
      "17600| MSE Loss 0.140 | L1 1.700:  40%|█████████████▌                    | 79701938/200000000 [03:56<06:02, 331966.91it/s]"
     ]
    },
    {
     "name": "stdout",
     "output_type": "stream",
     "text": [
      "saving $HOME/persistent-storage/tracr_saes/parens_sae_checkpoints/h8wmxbl2/80000727\n"
     ]
    },
    {
     "name": "stderr",
     "output_type": "stream",
     "text": [
      "26400| MSE Loss 0.135 | L1 1.682:  60%|███████████████████▋             | 119551404/200000000 [05:51<03:45, 357448.92it/s]"
     ]
    },
    {
     "name": "stdout",
     "output_type": "stream",
     "text": [
      "saving $HOME/persistent-storage/tracr_saes/parens_sae_checkpoints/h8wmxbl2/120004194\n"
     ]
    },
    {
     "name": "stderr",
     "output_type": "stream",
     "text": [
      "35300| MSE Loss 0.127 | L1 1.655:  80%|██████████████████████████▍      | 159855130/200000000 [07:52<01:58, 340018.63it/s]"
     ]
    },
    {
     "name": "stdout",
     "output_type": "stream",
     "text": [
      "saving $HOME/persistent-storage/tracr_saes/parens_sae_checkpoints/h8wmxbl2/160000025\n"
     ]
    },
    {
     "name": "stderr",
     "output_type": "stream",
     "text": [
      "44100| MSE Loss 0.126 | L1 1.663: 100%|████████████████████████████████▉| 199706082/200000000 [09:46<00:00, 356473.37it/s]"
     ]
    },
    {
     "name": "stdout",
     "output_type": "stream",
     "text": [
      "saving $HOME/persistent-storage/tracr_saes/parens_sae_checkpoints/h8wmxbl2/final_200000495\n"
     ]
    },
    {
     "name": "stderr",
     "output_type": "stream",
     "text": [
      "44100| MSE Loss 0.126 | L1 1.663: 100%|████████████████████████████████▉| 199706082/200000000 [09:47<00:00, 339824.59it/s]\n"
     ]
    },
    {
     "data": {
      "application/vnd.jupyter.widget-view+json": {
       "model_id": "",
       "version_major": 2,
       "version_minor": 0
      },
      "text/plain": [
       "VBox(children=(Label(value='0.662 MB of 0.662 MB uploaded (0.009 MB deduped)\\r'), FloatProgress(value=1.0, max…"
      ]
     },
     "metadata": {},
     "output_type": "display_data"
    },
    {
     "data": {
      "text/html": [
       "W&B sync reduced upload amount by 1.3%             "
      ],
      "text/plain": [
       "<IPython.core.display.HTML object>"
      ]
     },
     "metadata": {},
     "output_type": "display_data"
    },
    {
     "data": {
      "text/html": [
       "<style>\n",
       "    table.wandb td:nth-child(1) { padding: 0 10px; text-align: left ; width: auto;} td:nth-child(2) {text-align: left ; width: 100%}\n",
       "    .wandb-row { display: flex; flex-direction: row; flex-wrap: wrap; justify-content: flex-start; width: 100% }\n",
       "    .wandb-col { display: flex; flex-direction: column; flex-basis: 100%; flex: 1; padding: 10px; }\n",
       "    </style>\n",
       "<div class=\"wandb-row\"><div class=\"wandb-col\"><h3>Run history:</h3><br/><table class=\"wandb\"><tr><td>details/current_l1_coefficient</td><td>▁▁▁▁▁▁▁▁▁▁▁▁▁▁▁▁▁▁▁▁▁▁▁▁▁▁▁▁▁▁▁▁▁▁▁▁▁▁▁▁</td></tr><tr><td>details/current_learning_rate</td><td>▁▁▁▁▁▁▁▁▁▁▁▁▁▁▁▁▁▁▁▁▁▁▁▁▁▁▁▁▁▁▁▁▁▁▁▁▁▁▁▁</td></tr><tr><td>details/n_training_tokens</td><td>▁▁▁▂▂▂▂▂▂▃▃▃▃▃▃▄▄▄▄▄▄▅▅▅▅▅▆▆▆▆▆▇▇▇▇▇▇███</td></tr><tr><td>losses/auxiliary_reconstruction_loss</td><td>▁▁▁▁▁▁▁▁▁▁▁▁▁▁▁▁▁▁▁▁▁▁▁▁▁▁▁▁▁▁▁▁▁▁▁▁▁▁▁▁</td></tr><tr><td>losses/ghost_grad_loss</td><td>█▅▃▂▂▂▂▂▂▂▂▁▁▁▁▁▁▁▁▁▁▁▁▁▁▁▁▁▁▁▁▁▁▁▁▁▁▁▁▁</td></tr><tr><td>losses/l1_loss</td><td>█▅▃▂▂▂▂▂▂▁▂▁▁▁▁▁▂▂▁▁▁▁▂▁▁▁▁▁▁▁▁▁▁▁▁▁▁▁▁▁</td></tr><tr><td>losses/mse_loss</td><td>█▅▃▂▂▂▂▂▂▂▂▁▁▁▁▁▁▁▁▁▁▁▁▁▁▁▁▁▁▁▁▁▁▁▁▁▁▁▁▁</td></tr><tr><td>losses/overall_loss</td><td>█▅▃▂▂▂▂▂▂▁▂▁▁▁▁▁▁▂▁▁▁▁▁▁▁▁▁▁▁▁▁▁▁▁▁▁▁▁▁▁</td></tr><tr><td>metrics/explained_variance</td><td>▁▅▆▇▇▇▇▇█▇█▇▇▇██████▇███████████████████</td></tr><tr><td>metrics/explained_variance_std</td><td>█▄▃▂▂▂▂▂▂▂▂▂▂▂▁▂▁▁▂▂▂▂▁▁▂▁▁▁▁▁▁▁▁▁▁▁▁▁▁▁</td></tr><tr><td>metrics/l0</td><td>█▆▄▄▃▃▂▂▂▂▂▂▂▂▂▂▂▂▁▁▁▁▁▁▁▁▁▁▁▁▁▁▁▁▁▁▁▁▁▁</td></tr><tr><td>metrics/mean_log10_feature_sparsity</td><td>█▁▁▁▁▁▁▁▁▁▁▁▁▁▂▂▂▂▂▂▂▂</td></tr><tr><td>sparsity/below_1e-5</td><td>▁▁▁▁▁▁▁▁▁▁▁▁▁▁▁▁▁▁▁▁▁▁</td></tr><tr><td>sparsity/below_1e-6</td><td>▁▁▁▁▁▁▁▁▁▁▁▁▁▁▁▁▁▁▁▁▁▁</td></tr><tr><td>sparsity/dead_features</td><td>▁█▃▃▁▂▃▂▁▃▂▁▂▁▁▃▂▁▃▃▂▁▂▃▁▂▂▂▁▁▄▂▃▂▂▁▁▃▃▂</td></tr><tr><td>sparsity/mean_passes_since_fired</td><td>▁▂▃▆▅▆█▆▆▆▅▄▆▅▆▇▄▆▅▆▆▅▅▆▆▅▆▅▆▅▆▅▅▅▆▆▅▆▅▅</td></tr></table><br/></div><div class=\"wandb-col\"><h3>Run summary:</h3><br/><table class=\"wandb\"><tr><td>details/current_l1_coefficient</td><td>0.4</td></tr><tr><td>details/current_learning_rate</td><td>0.0003</td></tr><tr><td>details/n_training_tokens</td><td>199977838</td></tr><tr><td>losses/auxiliary_reconstruction_loss</td><td>0.0</td></tr><tr><td>losses/ghost_grad_loss</td><td>0.00205</td></tr><tr><td>losses/l1_loss</td><td>4.14967</td></tr><tr><td>losses/mse_loss</td><td>0.13163</td></tr><tr><td>losses/overall_loss</td><td>1.79355</td></tr><tr><td>metrics/explained_variance</td><td>0.99013</td></tr><tr><td>metrics/explained_variance_std</td><td>0.00965</td></tr><tr><td>metrics/l0</td><td>5.65653</td></tr><tr><td>metrics/mean_log10_feature_sparsity</td><td>-1.63854</td></tr><tr><td>sparsity/below_1e-5</td><td>0</td></tr><tr><td>sparsity/below_1e-6</td><td>0</td></tr><tr><td>sparsity/dead_features</td><td>1</td></tr><tr><td>sparsity/mean_passes_since_fired</td><td>265.92969</td></tr></table><br/></div></div>"
      ],
      "text/plain": [
       "<IPython.core.display.HTML object>"
      ]
     },
     "metadata": {},
     "output_type": "display_data"
    },
    {
     "data": {
      "text/html": [
       " View run <strong style=\"color:#cdcd00\">256-L1-0.4-LR-0.0003-Tokens-2.000e+08</strong> at: <a href='https://wandb.ai/evanhanders/benchmark_saes/runs/thksa6ao' target=\"_blank\">https://wandb.ai/evanhanders/benchmark_saes/runs/thksa6ao</a><br/> View project at: <a href='https://wandb.ai/evanhanders/benchmark_saes' target=\"_blank\">https://wandb.ai/evanhanders/benchmark_saes</a><br/>Synced 5 W&B file(s), 0 media file(s), 15 artifact file(s) and 0 other file(s)"
      ],
      "text/plain": [
       "<IPython.core.display.HTML object>"
      ]
     },
     "metadata": {},
     "output_type": "display_data"
    },
    {
     "data": {
      "text/html": [
       "Find logs at: <code>./wandb/run-20240709_193047-thksa6ao/logs</code>"
      ],
      "text/plain": [
       "<IPython.core.display.HTML object>"
      ]
     },
     "metadata": {},
     "output_type": "display_data"
    }
   ],
   "source": [
    "from sae_utils import train_sae\n",
    "\n",
    "#I need to be able to tell the SAE to ignore certain tokens during training.\n",
    "sae, store = train_sae(ll_model, sae_lens_cfg, dataset, batch_size=256, ignore_tokens=[0, 3])"
   ]
  },
  {
   "cell_type": "code",
   "execution_count": 39,
   "id": "13048231-5087-43d3-928d-84b862df9e05",
   "metadata": {},
   "outputs": [
    {
     "name": "stdout",
     "output_type": "stream",
     "text": [
      "tokens torch.Size([10000, 20])\n"
     ]
    },
    {
     "data": {
      "text/plain": [
       "(200000, 8)"
      ]
     },
     "execution_count": 39,
     "metadata": {},
     "output_type": "execute_result"
    }
   ],
   "source": [
    "from sae_utils import make_token_df\n",
    "from torch.utils.data import DataLoader, TensorDataset\n",
    "\n",
    "n_activations_sum = t.zeros(sae.cfg.d_sae).to(sae.device)\n",
    "input_tokens_list = []\n",
    "learned_activations = []\n",
    "\n",
    "small_dataset = ParensBalanceDataset(N_samples=10_000, n_ctx=20).get_dataset()\n",
    "small_dataset = TensorDataset(\n",
    "    t.tensor(small_dataset['tokens']).int(), \n",
    "    t.tensor(small_dataset['labels']).float()\n",
    ")\n",
    "dataloader  = DataLoader(small_dataset, batch_size=256, shuffle = False)\n",
    "\n",
    "# small_trainer = ModelTrainerSIIT(\n",
    "#     ll_model=ll_model,\n",
    "#     hl_model=balance_checker,\n",
    "#     dataset=small_dataset,\n",
    "#     corr=corr,\n",
    "#     unused_nodes=unused_nodes,\n",
    "#     loss_fn=loss_fn,\n",
    "#     baseline_weight = 1,\n",
    "#     iit_weight = 1,\n",
    "#     siit_weight = 1,\n",
    "#     batch_size = 256,\n",
    "#     device = 'cuda'\n",
    "# )\n",
    "\n",
    "#go through the training dataset and get max activations for each feature\n",
    "total_inputs = 0\n",
    "for batch in dataloader:\n",
    "    tokens, labels = batch\n",
    "    total_inputs += tokens.numel()\n",
    "    logits, cache = ll_model.run_with_cache(tokens)\n",
    "    sae_in = cache[sae.cfg.hook_name]\n",
    "    if sae.cfg.hook_head_index is not None:\n",
    "        sae_in = sae_in[:,:,sae.cfg.hook_head_index,:] #I think this is how attn head indexing works...\n",
    "    activations = sae.encode(sae_in)\n",
    "    # print(activations.shape, labels.shape, tokens.shape, tokens.numel())\n",
    "    activations[t.isin(tokens.int(), t.Tensor([0, 3]).int())] = 0\n",
    "\n",
    "    # For sparsity calculation\n",
    "    n_new_activations = (activations > 0).sum(dim=(0,1)) #sum over batch and ctx\n",
    "    n_activations_sum = n_activations_sum + n_new_activations\n",
    "\n",
    "    # Save tokens and activations\n",
    "    input_tokens_list.append(tokens.cpu())\n",
    "    learned_activations.append(activations.to(t.float16).cpu().reshape(-1, sae.cfg.d_sae))\n",
    "\n",
    "    if total_inputs > 1_000_000:\n",
    "        break\n",
    "sparsity = n_activations_sum / total_inputs\n",
    "tokens = t.cat(input_tokens_list).to(int)\n",
    "token_df = make_token_df(ll_model, tokens, len_prefix=ll_model.cfg.n_ctx)\n",
    "learned_activations = t.cat(learned_activations).to(t.float16)\n",
    "token_df.shape"
   ]
  },
  {
   "cell_type": "code",
   "execution_count": 40,
   "id": "84e48445-0564-42ef-a7f3-d2244272e6ad",
   "metadata": {},
   "outputs": [
    {
     "name": "stdout",
     "output_type": "stream",
     "text": [
      "<class 'str'>\n",
      "<class 'str'>\n"
     ]
    }
   ],
   "source": [
    "print(type(token_df['prefix'][10]))\n",
    "print(type(token_df['str_tokens'][10]))"
   ]
  },
  {
   "cell_type": "code",
   "execution_count": 41,
   "id": "a00cb9d1-c7ed-41a9-ace9-ee83ce9661bd",
   "metadata": {},
   "outputs": [
    {
     "data": {
      "application/vnd.jupyter.widget-view+json": {
       "model_id": "de2fc57f645e40fc934e2e466ecb1b92",
       "version_major": 2,
       "version_minor": 0
      },
      "text/plain": [
       "Dropdown(description='Feature:', options=(0, 1, 2, 3, 4, 5, 6, 7, 8, 9, 10, 11, 12, 13, 14, 15, 16, 17, 18, 19…"
      ]
     },
     "metadata": {},
     "output_type": "display_data"
    },
    {
     "data": {
      "application/vnd.jupyter.widget-view+json": {
       "model_id": "b5de435b5a4144d4bfa7c513aa24e6f2",
       "version_major": 2,
       "version_minor": 0
      },
      "text/plain": [
       "Output()"
      ]
     },
     "metadata": {},
     "output_type": "display_data"
    }
   ],
   "source": [
    "from transformer_lens import utils\n",
    "import ipywidgets as widgets\n",
    "from IPython.display import display\n",
    "\n",
    "def update_dataframe(feature_id):\n",
    "    token_df[\"activation\"] = utils.to_numpy(learned_activations[:,feature_id])\n",
    "    df = token_df[['str_tokens','prefix', 'suffix',  'context', 'activation']]\n",
    "    df = df.sort_values(\"activation\", ascending=False).head(100)\n",
    "    unique = df[['str_tokens', 'prefix', 'activation']].drop_duplicates()\n",
    "    display(unique[unique['activation'] > 0].head(100).style.background_gradient(\"coolwarm\"))\n",
    "\n",
    "# Define the dropdown menu for 'feat'\n",
    "feat_dropdown = widgets.Dropdown(\n",
    "    options=range(sae.cfg.d_sae),\n",
    "    value=0,\n",
    "    description='Feature:',\n",
    ")\n",
    "\n",
    "# Create an interactive output widget\n",
    "output = widgets.interactive_output(\n",
    "    update_dataframe, \n",
    "    {\n",
    "        'feature_id': feat_dropdown,\n",
    "    }\n",
    ")\n",
    "\n",
    "# Display the dropdown menu and output\n",
    "display(feat_dropdown, output)\n",
    "\n"
   ]
  },
  {
   "cell_type": "markdown",
   "id": "86c383c1-d5a0-45a7-a328-83261f98f6db",
   "metadata": {},
   "source": [
    "sae for attn 0:\n",
    "\n",
    "0. Weak version of 3\n",
    "1. ) after BOS, ele = -1\n",
    "2. ( after BOS, ele = 2\n",
    "3. ) after BOS)))), ele = -5\n",
    "4. PAD\n",
    "5. PAD\n",
    "6. BOS\n",
    "7. ) on a long sequence like BOS))))))))))) (very negative elevation\n",
    "8. dead?\n",
    "9. Weak ) after BOS))))), ele=-6\n",
    "10. ) after BOS, ele = -1\n",
    "11. ( after BOS((((, ele=5\n",
    "12. same as 11\n",
    "13. same as 3\n",
    "14. ( after something like BOS))))))))))\n",
    "15. same as 3\n",
    "16. Weak ) after BOS)), ele=-3\n",
    "17. Same as 3\n",
    "18. Same as 7\n",
    "19. weak last-token-position feature\n",
    "20. ( after BOS (same as 2)\n",
    "21. Same as 7\n",
    "22. Same as 11\n",
    "23. Dead\n",
    "24. Same as 1\n",
    "25. PAD\n",
    "26. PAD\n",
    "27. weak polysemantic feature?\n",
    "28. ( after BOS(((((( (very positive elevation)\n",
    "29. PAD\n",
    "30. same as 3\n",
    "31. same as 3\n",
    "\n",
    "OK but none of these has any () () types of features which would be important for elevation..."
   ]
  },
  {
   "cell_type": "code",
   "execution_count": 70,
   "id": "0530b206-6806-4c03-9791-a1646b3b0774",
   "metadata": {},
   "outputs": [
    {
     "name": "stdout",
     "output_type": "stream",
     "text": [
      "tensor([8.1204e-03, 1.7862e-02, 1.0876e-01, 1.1166e-01, 1.6261e-01, 1.2456e-04,\n",
      "        2.0000e-01, 4.0609e-01, 0.0000e+00, 8.7565e-02, 2.8484e-02, 3.2870e-01,\n",
      "        1.0235e-01, 7.1886e-02, 1.1990e-02, 5.4087e-01, 1.6762e-02, 2.7499e-02,\n",
      "        1.0810e-01, 4.0856e-05, 1.5344e-01, 5.2172e-01, 2.8940e-01, 0.0000e+00,\n",
      "        4.0261e-02, 3.9381e-03, 7.3113e-03, 4.5251e-03, 2.3200e-01, 4.3447e-04,\n",
      "        3.5353e-02, 2.6965e-02], device='cuda:0')\n"
     ]
    }
   ],
   "source": [
    "print(sparsity)"
   ]
  },
  {
   "cell_type": "code",
   "execution_count": 59,
   "id": "61a4f23d-ad5f-4ca2-9490-e1081f35837c",
   "metadata": {},
   "outputs": [
    {
     "name": "stdout",
     "output_type": "stream",
     "text": [
      "torch.Size([1003520, 32])\n"
     ]
    }
   ],
   "source": []
  },
  {
   "cell_type": "code",
   "execution_count": null,
   "id": "cd119c30-1d22-47aa-a7db-2542091a8ab8",
   "metadata": {},
   "outputs": [],
   "source": []
  }
 ],
 "metadata": {
  "kernelspec": {
   "display_name": "Python 3 (ipykernel)",
   "language": "python",
   "name": "python3"
  },
  "language_info": {
   "codemirror_mode": {
    "name": "ipython",
    "version": 3
   },
   "file_extension": ".py",
   "mimetype": "text/x-python",
   "name": "python",
   "nbconvert_exporter": "python",
   "pygments_lexer": "ipython3",
   "version": "3.10.14"
  }
 },
 "nbformat": 4,
 "nbformat_minor": 5
}
