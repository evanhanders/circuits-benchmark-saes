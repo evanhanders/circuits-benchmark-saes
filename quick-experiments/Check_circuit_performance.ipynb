{
 "cells": [
  {
   "cell_type": "code",
   "execution_count": 40,
   "id": "10302616-2bd2-4f5d-9ff7-902151d03a32",
   "metadata": {},
   "outputs": [
    {
     "data": {
      "application/vnd.jupyter.widget-view+json": {
       "model_id": "216188af2e504e979b7daad0e5a0499f",
       "version_major": 2,
       "version_minor": 0
      },
      "text/plain": [
       "VBox(children=(config.json:   0%|          | 0.00/1.27k [00:00<?, ?B/s],))"
      ]
     },
     "metadata": {},
     "output_type": "display_data"
    },
    {
     "data": {
      "application/vnd.jupyter.widget-view+json": {
       "model_id": "3b34dd63c9fd4853a73493cef12aaa1a",
       "version_major": 2,
       "version_minor": 0
      },
      "text/plain": [
       "VBox(children=(model_final.pth:   0%|          | 0.00/213M [00:00<?, ?B/s],))"
      ]
     },
     "metadata": {},
     "output_type": "display_data"
    },
    {
     "name": "stdout",
     "output_type": "stream",
     "text": [
      "Loaded pretrained model solu-1l into HookedTransformer\n"
     ]
    }
   ],
   "source": [
    "from transformer_lens import HookedTransformer\n",
    "\n",
    "model = HookedTransformer.from_pretrained('solu-1l')"
   ]
  },
  {
   "cell_type": "code",
   "execution_count": 41,
   "id": "1630b609-b01b-4bdb-aef8-7eb1b659b437",
   "metadata": {},
   "outputs": [
    {
     "name": "stdout",
     "output_type": "stream",
     "text": [
      "Tokenized prompt: ['<|BOS|>', 'When', ' John', ' and', ' Mary', ' went', ' to', ' the', ' store', ',', ' John', ' gave', ' a', ' drink', ' to']\n",
      "Tokenized answer: [' Mary']\n"
     ]
    },
    {
     "data": {
      "text/html": [
       "<pre style=\"white-space:pre;overflow-x:auto;line-height:normal;font-family:Menlo,'DejaVu Sans Mono',consolas,'Courier New',monospace\">Performance on answer token:\n",
       "<span style=\"font-weight: bold\">Rank: </span><span style=\"color: #008080; text-decoration-color: #008080; font-weight: bold\">21</span><span style=\"font-weight: bold\">       Logit: </span><span style=\"color: #008080; text-decoration-color: #008080; font-weight: bold\">12.33</span><span style=\"font-weight: bold\"> Prob:  </span><span style=\"color: #008080; text-decoration-color: #008080; font-weight: bold\">0.57</span><span style=\"font-weight: bold\">% Token: | Mary|</span>\n",
       "</pre>\n"
      ],
      "text/plain": [
       "Performance on answer token:\n",
       "\u001b[1mRank: \u001b[0m\u001b[1;36m21\u001b[0m\u001b[1m       Logit: \u001b[0m\u001b[1;36m12.33\u001b[0m\u001b[1m Prob:  \u001b[0m\u001b[1;36m0.57\u001b[0m\u001b[1m% Token: | Mary|\u001b[0m\n"
      ]
     },
     "metadata": {},
     "output_type": "display_data"
    },
    {
     "name": "stdout",
     "output_type": "stream",
     "text": [
      "Top 0th token. Logit: 15.62 Prob: 15.36% Token: | the|\n",
      "Top 1th token. Logit: 14.86 Prob:  7.15% Token: | a|\n",
      "Top 2th token. Logit: 14.82 Prob:  6.87% Token: | his|\n",
      "Top 3th token. Logit: 14.57 Prob:  5.36% Token: | her|\n",
      "Top 4th token. Logit: 14.04 Prob:  3.16% Token: | him|\n"
     ]
    },
    {
     "data": {
      "text/html": [
       "<pre style=\"white-space:pre;overflow-x:auto;line-height:normal;font-family:Menlo,'DejaVu Sans Mono',consolas,'Courier New',monospace\"><span style=\"font-weight: bold\">Ranks of the answer tokens:</span> <span style=\"font-weight: bold\">[(</span><span style=\"color: #008000; text-decoration-color: #008000\">' Mary'</span>, <span style=\"color: #008080; text-decoration-color: #008080; font-weight: bold\">21</span><span style=\"font-weight: bold\">)]</span>\n",
       "</pre>\n"
      ],
      "text/plain": [
       "\u001b[1mRanks of the answer tokens:\u001b[0m \u001b[1m[\u001b[0m\u001b[1m(\u001b[0m\u001b[32m' Mary'\u001b[0m, \u001b[1;36m21\u001b[0m\u001b[1m)\u001b[0m\u001b[1m]\u001b[0m\n"
      ]
     },
     "metadata": {},
     "output_type": "display_data"
    }
   ],
   "source": [
    "from transformer_lens import utils\n",
    "\n",
    "prompt = \"When John and Mary went to the store, John gave a drink to\"\n",
    "answer = \" Mary\"\n",
    "\n",
    "utils.test_prompt(prompt, answer, model, prepend_bos=True, top_k=5)"
   ]
  },
  {
   "cell_type": "code",
   "execution_count": 42,
   "id": "748151ae-722b-4838-ad6a-27ff9ed58d3a",
   "metadata": {},
   "outputs": [
    {
     "name": "stdout",
     "output_type": "stream",
     "text": [
      "Tokenized prompt: ['<|BOS|>', 'Paul', ' is', ' such', ' a', ' good', ' cook', ',', ' isn', \"'t\"]\n",
      "Tokenized answer: [' he']\n"
     ]
    },
    {
     "data": {
      "text/html": [
       "<pre style=\"white-space:pre;overflow-x:auto;line-height:normal;font-family:Menlo,'DejaVu Sans Mono',consolas,'Courier New',monospace\">Performance on answer token:\n",
       "<span style=\"font-weight: bold\">Rank: </span><span style=\"color: #008080; text-decoration-color: #008080; font-weight: bold\">1</span><span style=\"font-weight: bold\">        Logit: </span><span style=\"color: #008080; text-decoration-color: #008080; font-weight: bold\">14.29</span><span style=\"font-weight: bold\"> Prob:  </span><span style=\"color: #008080; text-decoration-color: #008080; font-weight: bold\">6.69</span><span style=\"font-weight: bold\">% Token: | he|</span>\n",
       "</pre>\n"
      ],
      "text/plain": [
       "Performance on answer token:\n",
       "\u001b[1mRank: \u001b[0m\u001b[1;36m1\u001b[0m\u001b[1m        Logit: \u001b[0m\u001b[1;36m14.29\u001b[0m\u001b[1m Prob:  \u001b[0m\u001b[1;36m6.69\u001b[0m\u001b[1m% Token: | he|\u001b[0m\n"
      ]
     },
     "metadata": {},
     "output_type": "display_data"
    },
    {
     "name": "stdout",
     "output_type": "stream",
     "text": [
      "Top 0th token. Logit: 15.92 Prob: 34.05% Token: | it|\n",
      "Top 1th token. Logit: 14.29 Prob:  6.69% Token: | he|\n",
      "Top 2th token. Logit: 13.97 Prob:  4.83% Token: | a|\n",
      "Top 3th token. Logit: 13.89 Prob:  4.48% Token: | that|\n",
      "Top 4th token. Logit: 13.79 Prob:  4.03% Token: | the|\n"
     ]
    },
    {
     "data": {
      "text/html": [
       "<pre style=\"white-space:pre;overflow-x:auto;line-height:normal;font-family:Menlo,'DejaVu Sans Mono',consolas,'Courier New',monospace\"><span style=\"font-weight: bold\">Ranks of the answer tokens:</span> <span style=\"font-weight: bold\">[(</span><span style=\"color: #008000; text-decoration-color: #008000\">' he'</span>, <span style=\"color: #008080; text-decoration-color: #008080; font-weight: bold\">1</span><span style=\"font-weight: bold\">)]</span>\n",
       "</pre>\n"
      ],
      "text/plain": [
       "\u001b[1mRanks of the answer tokens:\u001b[0m \u001b[1m[\u001b[0m\u001b[1m(\u001b[0m\u001b[32m' he'\u001b[0m, \u001b[1;36m1\u001b[0m\u001b[1m)\u001b[0m\u001b[1m]\u001b[0m\n"
      ]
     },
     "metadata": {},
     "output_type": "display_data"
    }
   ],
   "source": [
    "prompt = \"Paul is such a good cook, isn't\"\n",
    "answer = \" he\"\n",
    "\n",
    "utils.test_prompt(prompt, answer, model, prepend_bos=True, prepend_space_to_answer=False, top_k=5)"
   ]
  },
  {
   "cell_type": "code",
   "execution_count": 43,
   "id": "083ab388-aaad-4cb6-b897-ae2d19b37df2",
   "metadata": {},
   "outputs": [
    {
     "name": "stdout",
     "output_type": "stream",
     "text": [
      "Tokenized prompt: ['<|BOS|>', 'The', ' war', ' lasted', ' from', ' the', ' year', ' 1', '7', '3', '2', ' to', ' the', ' year', ' 1', '7']\n",
      "Tokenized answer: ['3', '3']\n"
     ]
    },
    {
     "data": {
      "text/html": [
       "<pre style=\"white-space:pre;overflow-x:auto;line-height:normal;font-family:Menlo,'DejaVu Sans Mono',consolas,'Courier New',monospace\">Performance on answer token:\n",
       "<span style=\"font-weight: bold\">Rank: </span><span style=\"color: #008080; text-decoration-color: #008080; font-weight: bold\">2</span><span style=\"font-weight: bold\">        Logit: </span><span style=\"color: #008080; text-decoration-color: #008080; font-weight: bold\">19.61</span><span style=\"font-weight: bold\"> Prob: </span><span style=\"color: #008080; text-decoration-color: #008080; font-weight: bold\">12.13</span><span style=\"font-weight: bold\">% Token: |</span><span style=\"color: #008080; text-decoration-color: #008080; font-weight: bold\">3</span><span style=\"font-weight: bold\">|</span>\n",
       "</pre>\n"
      ],
      "text/plain": [
       "Performance on answer token:\n",
       "\u001b[1mRank: \u001b[0m\u001b[1;36m2\u001b[0m\u001b[1m        Logit: \u001b[0m\u001b[1;36m19.61\u001b[0m\u001b[1m Prob: \u001b[0m\u001b[1;36m12.13\u001b[0m\u001b[1m% Token: |\u001b[0m\u001b[1;36m3\u001b[0m\u001b[1m|\u001b[0m\n"
      ]
     },
     "metadata": {},
     "output_type": "display_data"
    },
    {
     "name": "stdout",
     "output_type": "stream",
     "text": [
      "Top 0th token. Logit: 19.77 Prob: 14.30% Token: |5|\n",
      "Top 1th token. Logit: 19.61 Prob: 12.18% Token: |9|\n",
      "Top 2th token. Logit: 19.61 Prob: 12.13% Token: |3|\n",
      "Top 3th token. Logit: 19.48 Prob: 10.71% Token: |4|\n",
      "Top 4th token. Logit: 19.48 Prob: 10.66% Token: |2|\n",
      "Top 5th token. Logit: 19.39 Prob:  9.77% Token: |7|\n",
      "Top 6th token. Logit: 19.34 Prob:  9.30% Token: |8|\n",
      "Top 7th token. Logit: 19.34 Prob:  9.29% Token: |6|\n",
      "Top 8th token. Logit: 19.02 Prob:  6.76% Token: |0|\n",
      "Top 9th token. Logit: 18.56 Prob:  4.24% Token: |1|\n"
     ]
    },
    {
     "data": {
      "text/html": [
       "<pre style=\"white-space:pre;overflow-x:auto;line-height:normal;font-family:Menlo,'DejaVu Sans Mono',consolas,'Courier New',monospace\">Performance on answer token:\n",
       "<span style=\"font-weight: bold\">Rank: </span><span style=\"color: #008080; text-decoration-color: #008080; font-weight: bold\">2</span><span style=\"font-weight: bold\">        Logit: </span><span style=\"color: #008080; text-decoration-color: #008080; font-weight: bold\">18.13</span><span style=\"font-weight: bold\"> Prob: </span><span style=\"color: #008080; text-decoration-color: #008080; font-weight: bold\">11.45</span><span style=\"font-weight: bold\">% Token: |</span><span style=\"color: #008080; text-decoration-color: #008080; font-weight: bold\">3</span><span style=\"font-weight: bold\">|</span>\n",
       "</pre>\n"
      ],
      "text/plain": [
       "Performance on answer token:\n",
       "\u001b[1mRank: \u001b[0m\u001b[1;36m2\u001b[0m\u001b[1m        Logit: \u001b[0m\u001b[1;36m18.13\u001b[0m\u001b[1m Prob: \u001b[0m\u001b[1;36m11.45\u001b[0m\u001b[1m% Token: |\u001b[0m\u001b[1;36m3\u001b[0m\u001b[1m|\u001b[0m\n"
      ]
     },
     "metadata": {},
     "output_type": "display_data"
    },
    {
     "name": "stdout",
     "output_type": "stream",
     "text": [
      "Top 0th token. Logit: 18.16 Prob: 11.74% Token: |4|\n",
      "Top 1th token. Logit: 18.15 Prob: 11.67% Token: |7|\n",
      "Top 2th token. Logit: 18.13 Prob: 11.45% Token: |3|\n",
      "Top 3th token. Logit: 18.10 Prob: 11.10% Token: |0|\n",
      "Top 4th token. Logit: 18.08 Prob: 10.89% Token: |5|\n",
      "Top 5th token. Logit: 18.00 Prob: 10.00% Token: |2|\n",
      "Top 6th token. Logit: 17.82 Prob:  8.34% Token: |1|\n",
      "Top 7th token. Logit: 17.78 Prob:  8.01% Token: |8|\n",
      "Top 8th token. Logit: 17.63 Prob:  6.93% Token: |9|\n",
      "Top 9th token. Logit: 17.63 Prob:  6.89% Token: |6|\n"
     ]
    },
    {
     "data": {
      "text/html": [
       "<pre style=\"white-space:pre;overflow-x:auto;line-height:normal;font-family:Menlo,'DejaVu Sans Mono',consolas,'Courier New',monospace\"><span style=\"font-weight: bold\">Ranks of the answer tokens:</span> <span style=\"font-weight: bold\">[(</span><span style=\"color: #008000; text-decoration-color: #008000\">'3'</span>, <span style=\"color: #008080; text-decoration-color: #008080; font-weight: bold\">2</span><span style=\"font-weight: bold\">)</span>, <span style=\"font-weight: bold\">(</span><span style=\"color: #008000; text-decoration-color: #008000\">'3'</span>, <span style=\"color: #008080; text-decoration-color: #008080; font-weight: bold\">2</span><span style=\"font-weight: bold\">)]</span>\n",
       "</pre>\n"
      ],
      "text/plain": [
       "\u001b[1mRanks of the answer tokens:\u001b[0m \u001b[1m[\u001b[0m\u001b[1m(\u001b[0m\u001b[32m'3'\u001b[0m, \u001b[1;36m2\u001b[0m\u001b[1m)\u001b[0m, \u001b[1m(\u001b[0m\u001b[32m'3'\u001b[0m, \u001b[1;36m2\u001b[0m\u001b[1m)\u001b[0m\u001b[1m]\u001b[0m\n"
      ]
     },
     "metadata": {},
     "output_type": "display_data"
    }
   ],
   "source": [
    "prompt = \"The war lasted from the year 1732 to the year 17\"\n",
    "answer = \"33\"\n",
    "\n",
    "utils.test_prompt(prompt, answer, model, prepend_bos=True, prepend_space_to_answer=False, top_k=10)\n",
    "\n",
    "#basically to do this properly:\n",
    "#measure probability in two buckets:\n",
    "#probability of years >= 1733 (completion on next token of 4+, and completion of 3 with 3+ following)\n",
    "#probability of years < 1733 (completion on next token of 0-2, completion of 3 with 0-2 following)"
   ]
  },
  {
   "cell_type": "code",
   "execution_count": 44,
   "id": "a5af8658-0913-41de-95b4-3b86e764617b",
   "metadata": {},
   "outputs": [
    {
     "name": "stdout",
     "output_type": "stream",
     "text": [
      "Tokenized prompt: ['<|BOS|>', 'The', ' keys', ' on', ' the', ' cabinet']\n",
      "Tokenized answer: [' are']\n"
     ]
    },
    {
     "data": {
      "text/html": [
       "<pre style=\"white-space:pre;overflow-x:auto;line-height:normal;font-family:Menlo,'DejaVu Sans Mono',consolas,'Courier New',monospace\">Performance on answer token:\n",
       "<span style=\"font-weight: bold\">Rank: </span><span style=\"color: #008080; text-decoration-color: #008080; font-weight: bold\">2</span><span style=\"font-weight: bold\">        Logit: </span><span style=\"color: #008080; text-decoration-color: #008080; font-weight: bold\">14.97</span><span style=\"font-weight: bold\"> Prob:  </span><span style=\"color: #008080; text-decoration-color: #008080; font-weight: bold\">6.29</span><span style=\"font-weight: bold\">% Token: | are|</span>\n",
       "</pre>\n"
      ],
      "text/plain": [
       "Performance on answer token:\n",
       "\u001b[1mRank: \u001b[0m\u001b[1;36m2\u001b[0m\u001b[1m        Logit: \u001b[0m\u001b[1;36m14.97\u001b[0m\u001b[1m Prob:  \u001b[0m\u001b[1;36m6.29\u001b[0m\u001b[1m% Token: | are|\u001b[0m\n"
      ]
     },
     "metadata": {},
     "output_type": "display_data"
    },
    {
     "name": "stdout",
     "output_type": "stream",
     "text": [
      "Top 0th token. Logit: 15.41 Prob:  9.74% Token: | is|\n",
      "Top 1th token. Logit: 15.07 Prob:  6.91% Token: |,|\n",
      "Top 2th token. Logit: 14.97 Prob:  6.29% Token: | are|\n",
      "Top 3th token. Logit: 14.84 Prob:  5.50% Token: | and|\n",
      "Top 4th token. Logit: 14.81 Prob:  5.35% Token: | door|\n",
      "Top 5th token. Logit: 14.55 Prob:  4.10% Token: |.|\n",
      "Top 6th token. Logit: 14.23 Prob:  2.99% Token: | side|\n",
      "Top 7th token. Logit: 14.05 Prob:  2.51% Token: | keys|\n",
      "Top 8th token. Logit: 14.01 Prob:  2.41% Token: |’|\n",
      "Top 9th token. Logit: 14.01 Prob:  2.40% Token: | can|\n"
     ]
    },
    {
     "data": {
      "text/html": [
       "<pre style=\"white-space:pre;overflow-x:auto;line-height:normal;font-family:Menlo,'DejaVu Sans Mono',consolas,'Courier New',monospace\"><span style=\"font-weight: bold\">Ranks of the answer tokens:</span> <span style=\"font-weight: bold\">[(</span><span style=\"color: #008000; text-decoration-color: #008000\">' are'</span>, <span style=\"color: #008080; text-decoration-color: #008080; font-weight: bold\">2</span><span style=\"font-weight: bold\">)]</span>\n",
       "</pre>\n"
      ],
      "text/plain": [
       "\u001b[1mRanks of the answer tokens:\u001b[0m \u001b[1m[\u001b[0m\u001b[1m(\u001b[0m\u001b[32m' are'\u001b[0m, \u001b[1;36m2\u001b[0m\u001b[1m)\u001b[0m\u001b[1m]\u001b[0m\n"
      ]
     },
     "metadata": {},
     "output_type": "display_data"
    }
   ],
   "source": [
    "prompt = \"The keys on the cabinet\"\n",
    "answer = \" are\" #compared to 'is'\n",
    "\n",
    "utils.test_prompt(prompt, answer, model, prepend_bos=True, prepend_space_to_answer=False, top_k=10)\n"
   ]
  },
  {
   "cell_type": "code",
   "execution_count": null,
   "id": "076a64ca-2165-4a5c-82f5-2d85bdb77014",
   "metadata": {},
   "outputs": [],
   "source": []
  }
 ],
 "metadata": {
  "kernelspec": {
   "display_name": "Python 3 (ipykernel)",
   "language": "python",
   "name": "python3"
  },
  "language_info": {
   "codemirror_mode": {
    "name": "ipython",
    "version": 3
   },
   "file_extension": ".py",
   "mimetype": "text/x-python",
   "name": "python",
   "nbconvert_exporter": "python",
   "pygments_lexer": "ipython3",
   "version": "3.10.14"
  }
 },
 "nbformat": 4,
 "nbformat_minor": 5
}
