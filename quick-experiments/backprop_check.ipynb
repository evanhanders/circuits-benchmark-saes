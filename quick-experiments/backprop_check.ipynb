{
 "cells": [
  {
   "cell_type": "code",
   "execution_count": 1,
   "id": "a155023a-29d3-4e78-9b9c-386783810015",
   "metadata": {},
   "outputs": [],
   "source": [
    "from transformer_lens import HookedTransformer\n",
    "import torch as t"
   ]
  },
  {
   "cell_type": "code",
   "execution_count": 3,
   "id": "322b5a4e-4e9e-4eb5-a923-aca045158d52",
   "metadata": {},
   "outputs": [
    {
     "data": {
      "application/vnd.jupyter.widget-view+json": {
       "model_id": "4b886f69f04b4128b9409bf13d6c3f75",
       "version_major": 2,
       "version_minor": 0
      },
      "text/plain": [
       "VBox(children=(config.json:   0%|          | 0.00/665 [00:00<?, ?B/s],))"
      ]
     },
     "metadata": {},
     "output_type": "display_data"
    },
    {
     "data": {
      "application/vnd.jupyter.widget-view+json": {
       "model_id": "bcad47255b2b4d2095a5c760805ec9ec",
       "version_major": 2,
       "version_minor": 0
      },
      "text/plain": [
       "VBox(children=(model.safetensors:   0%|          | 0.00/548M [00:00<?, ?B/s],))"
      ]
     },
     "metadata": {},
     "output_type": "display_data"
    },
    {
     "data": {
      "application/vnd.jupyter.widget-view+json": {
       "model_id": "eb5d61ab30e143728ad2024db8a1309b",
       "version_major": 2,
       "version_minor": 0
      },
      "text/plain": [
       "VBox(children=(generation_config.json:   0%|          | 0.00/124 [00:00<?, ?B/s],))"
      ]
     },
     "metadata": {},
     "output_type": "display_data"
    },
    {
     "data": {
      "application/vnd.jupyter.widget-view+json": {
       "model_id": "9a3e3cbadcfd4fe583a45b23af5a9cdf",
       "version_major": 2,
       "version_minor": 0
      },
      "text/plain": [
       "VBox(children=(tokenizer_config.json:   0%|          | 0.00/26.0 [00:00<?, ?B/s],))"
      ]
     },
     "metadata": {},
     "output_type": "display_data"
    },
    {
     "data": {
      "application/vnd.jupyter.widget-view+json": {
       "model_id": "536de14de2114c5c959a15ba0c11d8e9",
       "version_major": 2,
       "version_minor": 0
      },
      "text/plain": [
       "VBox(children=(vocab.json:   0%|          | 0.00/1.04M [00:00<?, ?B/s],))"
      ]
     },
     "metadata": {},
     "output_type": "display_data"
    },
    {
     "data": {
      "application/vnd.jupyter.widget-view+json": {
       "model_id": "76485b74b4544ee8bcffec07d3a688d1",
       "version_major": 2,
       "version_minor": 0
      },
      "text/plain": [
       "VBox(children=(merges.txt:   0%|          | 0.00/456k [00:00<?, ?B/s],))"
      ]
     },
     "metadata": {},
     "output_type": "display_data"
    },
    {
     "data": {
      "application/vnd.jupyter.widget-view+json": {
       "model_id": "73ce9805f5fd48b7ade8caa7d93a0749",
       "version_major": 2,
       "version_minor": 0
      },
      "text/plain": [
       "VBox(children=(tokenizer.json:   0%|          | 0.00/1.36M [00:00<?, ?B/s],))"
      ]
     },
     "metadata": {},
     "output_type": "display_data"
    },
    {
     "name": "stdout",
     "output_type": "stream",
     "text": [
      "Loaded pretrained model gpt2-small into HookedTransformer\n"
     ]
    }
   ],
   "source": [
    "gpt2 = HookedTransformer.from_pretrained('gpt2-small')"
   ]
  },
  {
   "cell_type": "code",
   "execution_count": 8,
   "id": "dc661ce2-3a32-4f6e-9d56-a5d22a490055",
   "metadata": {},
   "outputs": [
    {
     "name": "stdout",
     "output_type": "stream",
     "text": [
      "[17250, 616, 1438, 318]\n",
      "[2061, 466, 345, 892]\n"
     ]
    }
   ],
   "source": []
  },
  {
   "cell_type": "code",
   "execution_count": 32,
   "id": "b62ffef8-daa6-4fcb-97e3-21854b4084e2",
   "metadata": {},
   "outputs": [
    {
     "name": "stdout",
     "output_type": "stream",
     "text": [
      "tensor([[[ 15.0523,  22.2428,  15.7838,  ...,  -6.2597,  -6.7747,  17.1868],\n",
      "         [ 25.3996,  10.7595,   3.9764,  ...,  -2.4713,  -2.2165,  11.1564],\n",
      "         [ 13.0060,   9.3690,   7.8577,  ...,   3.3197,  -4.1594,   6.5407],\n",
      "         [ 16.8229,  15.6519,   5.6569,  ...,  -3.0447, -10.3274,   9.1122],\n",
      "         [  9.9818,   9.3194,   2.3506,  ...,  -5.0371,  -4.7460,   9.1493]]],\n",
      "       device='cuda:0')\n",
      "tensor([[[15.0523, 22.2428, 15.7838,  ..., -6.2597, -6.7747, 17.1868],\n",
      "         [12.7488, 10.6369,  5.5582,  ...,  1.0105, -4.8911, 11.3958],\n",
      "         [ 7.4847,  6.7689,  2.5595,  ...,  3.4052, -4.3795,  9.4039],\n",
      "         [17.3336, 14.7194,  8.1185,  ...,  1.2838, -2.7686, 12.9945],\n",
      "         [20.0961, 14.0792,  6.6520,  ..., -0.8238, -1.4198, 16.7414]]],\n",
      "       device='cuda:0')\n",
      "tensor([[[15.0523, 22.2428, 15.7838,  ..., -6.2597, -6.7747, 17.1868],\n",
      "         [25.3996, 10.7595,  5.5582,  ...,  1.0105, -4.8911, 11.3958],\n",
      "         [13.0060,  9.3690,  2.5595,  ...,  3.4052, -4.3795,  9.4039],\n",
      "         [16.8229, 15.6519,  8.1185,  ...,  1.2838, -2.7686, 12.9945],\n",
      "         [ 9.9818,  9.3194,  6.6520,  ..., -0.8238, -1.4198, 16.7414]]],\n",
      "       device='cuda:0')\n"
     ]
    }
   ],
   "source": [
    "gpt2 = HookedTransformer.from_pretrained('gpt2-small')\n",
    "\n",
    "prompt1 = 'Hi my name is'\n",
    "prompt2 = 'What do you think'\n",
    "print(gpt2.tokenizer.encode(prompt1))\n",
    "print(gpt2.tokenizer.encode(prompt2))\n",
    "\n",
    "logits1 = gpt2(prompt1)\n",
    "logits2 = gpt2(prompt2)\n",
    "logits1.retain_grad()\n",
    "logits2.retain_grad()\n",
    "\n",
    "loss1 = (logits1**2).sum()\n",
    "loss2 = (logits2**2).sum()\n",
    "loss1.backward(retain_graph=True)\n",
    "loss2.backward(retain_graph=True)\n",
    "grad1 = logits1.grad.clone()\n",
    "grad2 = logits2.grad.clone()\n",
    "print(grad1)\n",
    "print(grad2)\n",
    "\n",
    "#now do the cloning thing\n",
    "out = logits1.clone()\n",
    "out.retain_grad()\n",
    "out[:,:,2:] = logits2[:,:,2:]\n",
    "loss = (out**2).sum()\n",
    "loss.backward()\n",
    "grad = out.grad\n",
    "print(grad)\n",
    "\n",
    "assert t.allclose(grad[:,:,:2], grad1[:,:,:2])\n",
    "assert t.allclose(grad[:,:,2:], grad2[:,:,2:])"
   ]
  },
  {
   "cell_type": "code",
   "execution_count": 12,
   "id": "3bdc857f-79fc-484d-ae76-2ec864efd7ef",
   "metadata": {},
   "outputs": [],
   "source": [
    "logits1[:,:,5:] = logits2[:,:,5:]"
   ]
  },
  {
   "cell_type": "code",
   "execution_count": null,
   "id": "e15332cc-08ad-4359-80f6-7dd1edb9edbc",
   "metadata": {},
   "outputs": [],
   "source": []
  }
 ],
 "metadata": {
  "kernelspec": {
   "display_name": "Python 3 (ipykernel)",
   "language": "python",
   "name": "python3"
  },
  "language_info": {
   "codemirror_mode": {
    "name": "ipython",
    "version": 3
   },
   "file_extension": ".py",
   "mimetype": "text/x-python",
   "name": "python",
   "nbconvert_exporter": "python",
   "pygments_lexer": "ipython3",
   "version": "3.10.14"
  }
 },
 "nbformat": 4,
 "nbformat_minor": 5
}
